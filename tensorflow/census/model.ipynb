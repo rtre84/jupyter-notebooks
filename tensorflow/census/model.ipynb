{
 "cells": [
  {
   "cell_type": "code",
   "execution_count": 32,
   "metadata": {},
   "outputs": [],
   "source": []
  },
  {
   "cell_type": "code",
   "execution_count": 3,
   "metadata": {},
   "outputs": [
    {
     "name": "stderr",
     "output_type": "stream",
     "text": [
      "Using TensorFlow backend.\n",
      "Traceback (most recent call last):\n",
      "  File \"task.py\", line 199, in <module>\n",
      "    dispatch(**parse_args.__dict__)\n",
      "  File \"task.py\", line 81, in dispatch\n",
      "    census_model = model.model_fn(INPUT_SIZE, CLASS_SIZE)\n",
      "AttributeError: module 'model' has no attribute 'model_fn'\n"
     ]
    }
   ],
   "source": [
    "%%bash\n",
    "\n",
    "export TRAIN_FILE=data/adult.data.csv\n",
    "export EVAL_FILE=data/adult.test.csv\n",
    "export JOB_DIR=census_keras\n",
    "export TRAIN_STEPS=200\n",
    "python task.py --train-files $TRAIN_FILE \\\n",
    "               --eval-files $EVAL_FILE \\\n",
    "               --job-dir $JOB_DIR \\\n",
    "               --train-steps $TRAIN_STEPS"
   ]
  },
  {
   "cell_type": "code",
   "execution_count": null,
   "metadata": {},
   "outputs": [],
   "source": []
  },
  {
   "cell_type": "code",
   "execution_count": null,
   "metadata": {},
   "outputs": [],
   "source": []
  }
 ],
 "metadata": {
  "kernelspec": {
   "display_name": "Python 3",
   "language": "python",
   "name": "python3"
  },
  "language_info": {
   "codemirror_mode": {
    "name": "ipython",
    "version": 3
   },
   "file_extension": ".py",
   "mimetype": "text/x-python",
   "name": "python",
   "nbconvert_exporter": "python",
   "pygments_lexer": "ipython3",
   "version": "3.5.4"
  }
 },
 "nbformat": 4,
 "nbformat_minor": 2
}
