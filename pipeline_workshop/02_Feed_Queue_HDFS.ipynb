{
 "cells": [
  {
   "cell_type": "markdown",
   "metadata": {},
   "source": [
    "# Feed Data with Queue from HDFS"
   ]
  },
  {
   "cell_type": "markdown",
   "metadata": {},
   "source": [
    "## Populate HDFS with Sample Dataset"
   ]
  },
  {
   "cell_type": "code",
   "execution_count": null,
   "metadata": {},
   "outputs": [],
   "source": [
    "%%bash\n",
    "\n",
    "hadoop fs -copyFromLocal /root/datasets/linear /"
   ]
  },
  {
   "cell_type": "code",
   "execution_count": null,
   "metadata": {},
   "outputs": [],
   "source": [
    "%%bash\n",
    "\n",
    "hadoop fs -ls /linear"
   ]
  },
  {
   "cell_type": "markdown",
   "metadata": {},
   "source": [
    "## Create TensorFlow Session"
   ]
  },
  {
   "cell_type": "code",
   "execution_count": null,
   "metadata": {},
   "outputs": [],
   "source": [
    "import tensorflow as tf\n",
    "\n",
    "tf.reset_default_graph()\n",
    "\n",
    "sess = tf.Session()\n",
    "print(sess)"
   ]
  },
  {
   "cell_type": "markdown",
   "metadata": {},
   "source": [
    "## Create Queue and Feed Tensorflow from HDFS\n",
    "The HDFS Namenode is running locally and listening on port 39000."
   ]
  },
  {
   "cell_type": "code",
   "execution_count": null,
   "metadata": {},
   "outputs": [],
   "source": [
    "filename_queue = tf.train.string_input_producer([\n",
    "  \"hdfs://127.0.0.1:39000/linear/training.csv\",\n",
    "  \"hdfs://127.0.0.1:39000/linear/validation.csv\",\n",
    "])"
   ]
  },
  {
   "cell_type": "markdown",
   "metadata": {},
   "source": [
    "## Parse HDFS File(s)"
   ]
  },
  {
   "cell_type": "code",
   "execution_count": null,
   "metadata": {},
   "outputs": [],
   "source": [
    "reader = tf.TextLineReader()\n",
    "filename, text = reader.read(filename_queue)\n",
    "x_observed, y_observed = tf.decode_csv(text, [[0.0],[0.0]])"
   ]
  },
  {
   "cell_type": "code",
   "execution_count": null,
   "metadata": {},
   "outputs": [],
   "source": [
    "coord = tf.train.Coordinator()\n",
    "threads = tf.train.start_queue_runners(sess=sess, \n",
    "                                       coord=coord)\n",
    "n = 20\n",
    "\n",
    "print('First %s Training Examples...' % n)\n",
    "print('')\n",
    "\n",
    "from tabulate import tabulate\n",
    "\n",
    "examples = []\n",
    "try:\n",
    "\n",
    "    for i in range(n):\n",
    "        features, label = sess.run([x_observed, y_observed])\n",
    "        examples.append([features, label])\n",
    "    print(tabulate(examples, headers=[\"x_observed\", \"y_observed\"]))\n",
    "\n",
    "finally:\n",
    "    coord.request_stop()\n",
    "    coord.join(threads) "
   ]
  },
  {
   "cell_type": "code",
   "execution_count": null,
   "metadata": {},
   "outputs": [],
   "source": []
  }
 ],
 "metadata": {
  "kernelspec": {
   "display_name": "Python 3",
   "language": "python",
   "name": "python3"
  },
  "language_info": {
   "codemirror_mode": {
    "name": "ipython",
    "version": 3
   },
   "file_extension": ".py",
   "mimetype": "text/x-python",
   "name": "python",
   "nbconvert_exporter": "python",
   "pygments_lexer": "ipython3",
   "version": "3.6.2"
  }
 },
 "nbformat": 4,
 "nbformat_minor": 2
}
