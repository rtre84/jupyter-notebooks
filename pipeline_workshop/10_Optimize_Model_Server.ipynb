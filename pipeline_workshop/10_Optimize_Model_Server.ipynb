{
 "cells": [
  {
   "cell_type": "markdown",
   "metadata": {},
   "source": [
    "# Tune TensorFlow Serving\n",
    "## Guidelines\n",
    "### CPU-only\n",
    "If your system is CPU-only (no GPU), then consider the following values: \n",
    "* `num_batch_threads` equal to the number of CPU cores\n",
    "* `max_batch_size` to infinity (ie. MAX_INT)\n",
    "* `batch_timeout_micros` to 0. \n",
    "\n",
    "Then experiment with batch_timeout_micros values in the 1-10 millisecond (1000-10000 microsecond) range, while keeping in mind that 0 may be the optimal value.\n",
    "\n",
    "### GPU\n",
    "\n",
    "If your model uses a GPU device for part or all of your its inference work, consider the following value:\n",
    "\n",
    "* `num_batch_threads` to the number of CPU cores.\n",
    "* `batch_timeout_micros` to infinity while tuning `max_batch_size` to achieve the desired balance between throughput and average latency. Consider values in the hundreds or thousands.\n",
    "\n",
    "For online serving, tune `batch_timeout_micros` to rein in tail latency. \n",
    "\n",
    "The idea is that batches normally get filled to max_batch_size, but occasionally when there is a lapse in incoming requests, to avoid introducing a latency spike it makes sense to process whatever's in the queue even if it represents an underfull batch. \n",
    "\n",
    "The best value for `batch_timeout_micros` is typically a few milliseconds, and depends on your context and goals. \n",
    "\n",
    "Zero is a value to consider as it works well for some workloads.  For bulk-processing batch jobs, choose a large value, perhaps a few seconds, to ensure good throughput but not wait too long for the final (and likely underfull) batch."
   ]
  },
  {
   "cell_type": "markdown",
   "metadata": {},
   "source": [
    "## Close TensorFlow Serving and Load Test Terminals"
   ]
  },
  {
   "cell_type": "markdown",
   "metadata": {},
   "source": [
    "## Open a Terminal through Jupyter Notebook \n",
    "### (Menu Bar -> File -> New...)\n",
    "![Jupyter Terminal](http://pipeline.io/img/jupyter-terminal.png)\n"
   ]
  },
  {
   "cell_type": "markdown",
   "metadata": {},
   "source": [
    "## Enable Request Batching"
   ]
  },
  {
   "cell_type": "markdown",
   "metadata": {},
   "source": [
    "## Start TensorFlow Serving in Separate Terminal\n",
    "The params are as follows:\n",
    "* `port` for TensorFlow Serving (int)\n",
    "* `model_name` (anything)\n",
    "* `model_base_path` (/path/to/model/ above all versioned sub-directories)\n",
    "* `enable_batching` (true|false)\n",
    "\n",
    "\n",
    "```\n",
    "tensorflow_model_server \\\n",
    "  --port=9000 \\\n",
    "  --model_name=linear \\\n",
    "  --model_base_path=/root/models/linear_fully_optimized/cpu \\\n",
    "  --batching_parameters_file=/root/config/tf_serving/batch_config.txt \\ \n",
    "  --enable_batching=true \\\n",
    "```\n",
    "\n",
    "### `batch_config.txt`\n",
    "* `num_batch_threads` (usually equal to the number of CPU cores or a multiple thereof)\n",
    "* `max_batch_size` (# of requests - start with infinity, tune down to find the right balance between latency and throughput)\n",
    "* `batch_timeout_micros` (minimum batch window duration)\n",
    "```\n",
    "num_batch_threads { value: 100 }\n",
    "max_batch_size { value: 99999999 }\n",
    "batch_timeout_micros { value: 100000 }\n",
    "```\n",
    "\n"
   ]
  },
  {
   "cell_type": "markdown",
   "metadata": {},
   "source": [
    "## Start Load Test in the Terminal\n",
    "```\n",
    "loadtest high\n",
    "```\n",
    "\n",
    "Notice the throughput and avg/min/max latencies:\n",
    "```\n",
    "summary ... =  301.1/s Avg:   227 Min:     3 Max:   456 Err:     0 (0.00%)\n",
    "```"
   ]
  },
  {
   "cell_type": "markdown",
   "metadata": {},
   "source": [
    "## Modify Request Batching Parameters, Repeat Load Test\n",
    "Gain intuition on the performance impact of changing the request batching parameters."
   ]
  }
 ],
 "metadata": {
  "kernelspec": {
   "display_name": "Python 3",
   "language": "python",
   "name": "python3"
  },
  "language_info": {
   "codemirror_mode": {
    "name": "ipython",
    "version": 3
   },
   "file_extension": ".py",
   "mimetype": "text/x-python",
   "name": "python",
   "nbconvert_exporter": "python",
   "pygments_lexer": "ipython3",
   "version": "3.6.2"
  }
 },
 "nbformat": 4,
 "nbformat_minor": 2
}
