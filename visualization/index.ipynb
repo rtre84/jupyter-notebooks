{
 "cells": [
  {
   "cell_type": "markdown",
   "metadata": {},
   "source": [
    "# The Jupyter Interactive Widget Ecosystem \n",
    "\n",
    "## JupyterCon 2017\n",
    "## Jason Grout and Sylvain Corlay\n",
    "\n",
    "This tutorial will introduce you to the widgets in the Jupyter notebook, walk through a few approaches to writing widgets, and introduce some relatively new widget packages.\n",
    "\n",
    "We are using ipywidgets 7.0, which was released last week."
   ]
  },
  {
   "cell_type": "markdown",
   "metadata": {},
   "source": [
    "[Introduction](00-introduction.ipynb)\n",
    "\n",
    "1. [Overview](01-overview.ipynb)\n",
    "1. [Widgets without writing widgets: interact](02-Using Interact.ipynb)\n",
    "1. [Widget basics](03-Widget_Basics.ipynb)\n",
    "1. [Building blocks I: list of widgets in ipywidgets](04-widget-list.ipynb)\n",
    "1. [interact and widget basics exercises](05-interact and widget basics exercises.ipynb), and then BREAK (10am, for **10 minutes**)\n",
    "1. [Widget layout and styling](06-Widget_Styling.ipynb)\n",
    "1. [Widget layout exercises](07-container-exercises.ipynb), and then \"Stand up and stretch\" BREAK, 10:40AM, only **5 minutes**.\n",
    "1. [Introduction to widget events](08-Widget_Events.ipynb)\n",
    "1. More widget events: A (bad) password generator, then BREAK, 11:30AM, **10 minutes**\n",
    "    1. [First pass: `observe`](09-A-Widget Events 2 -- bad password generator, version 1.ipynb)\n",
    "    1. [Second pass: Separating concerns](09-B-Widget Events 2 -- Separating Concerns.ipynb)\n",
    "1. Building blocks II: More widget libraries\n",
    "    1. [bqplot: graphs as widgets](10-A-bqplot.ipynb)\n",
    "    1. [pythreejs: 3D rendering in the browser](10-B-pythreejs.ipynb)\n",
    "    1. [Flight simulator](10-C-flight-sim.ipynb)\n",
    "    1. [ipyvolume: 3D plotting widget](10-D-ipyvolume.ipynb)\n",
    "    1. [ipyleaflet: convenient mapping](10-E-ipyleaflet.ipynb)\n",
    "    1. Embedding widgets in static pages or sphinx documentation: see documentation at [Embedding widgets in other contexts](http://ipywidgets.readthedocs.io/en/latest/embedding.html) after the tutorial.\n",
    "    1. [Exercise 1: Link some widgets up](10-H-widget-library-exercises.ipynb)\n",
    "    1. [Exercise 2: Using bqplot graph as a control in a widget](10-I-bqplot--A plot as a control in a widget.ipynb)\n",
    "    1. [Exercise 3: bqplot as control--penalized regression](10-J-bqplot--A--Penalized regression.ipynb)\n",
    "1. Flexible/Q&A time (12:10-12:30)"
   ]
  },
  {
   "cell_type": "markdown",
   "metadata": {},
   "source": [
    "## [Table of widget and style properties](Table of widget keys and style keys.ipynb)"
   ]
  },
  {
   "cell_type": "markdown",
   "metadata": {},
   "source": [
    "# Acknowledgements\n",
    "\n",
    "+ Special thanks to Matt Craig ([@mwcraig](https://github.com/mwcraig)), who authored a significant amount of an earlier version of this tutorial, given at Scipy 2017.\n",
    "+ Special thanks to the dozens of [ipywidgets developers](https://github.com/jupyter-widgets/ipywidgets/graphs/contributors), including Jonathan Frederic who wrote much of the code in the early years of ipywidgets.\n",
    "+ Several of the notebooks in this tutorial were originally developed as part of [ipywidgets](http://ipywidgets.readthedocs.io/en/latest/) by Brian E. Granger ([@ellisonbg](https://github.com/ellisonbg)) and Jonathan Frederic ([@jdfreder](https://github.com/jdfreder)).\n",
    "+ Project Jupyter core developer Carol Willing ([@willingc](https://github.com/willingc)) and [Minnesota State University Moorhead](http://physics.mnstate.edu) students Andrew Block ([@ACBlock](https://github.com/ACBlock)) and Jane Glanzer ([@janeglanzer](https://github.com/janeglanzer)) provided very useful feedback on early drafts of this tutorial.\n"
   ]
  },
  {
   "cell_type": "code",
   "execution_count": null,
   "metadata": {
    "collapsed": true
   },
   "outputs": [],
   "source": []
  }
 ],
 "metadata": {
  "kernelspec": {
   "display_name": "Python 3",
   "language": "python",
   "name": "python3"
  },
  "language_info": {
   "codemirror_mode": {
    "name": "ipython",
    "version": 3
   },
   "file_extension": ".py",
   "mimetype": "text/x-python",
   "name": "python",
   "nbconvert_exporter": "python",
   "pygments_lexer": "ipython3",
   "version": "3.5.4"
  }
 },
 "nbformat": 4,
 "nbformat_minor": 2
}
