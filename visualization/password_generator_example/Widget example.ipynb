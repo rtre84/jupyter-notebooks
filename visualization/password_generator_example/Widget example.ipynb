{
 "cells": [
  {
   "cell_type": "markdown",
   "metadata": {},
   "source": [
    "# Pure-python widget example\n",
    "\n",
    "This notebook demonstrates an example of a pure-python widget that is composed of several subwidgets. Most of the code is (deliberately) not in the notebook itself.\n",
    "\n",
    "The user interface is laid out in the file `gui.py`, and the model, which represents the state of the interface and which responds to changes in the interface made by the user, is in `model.py`.\n",
    "\n",
    "The widget is a simple password generator that allows you to change the length of the password, which group of special characters it includes, and whether it includes digits. \n",
    "\n",
    "The styling is deliberately simple, and little attempt has been made to make the widget look good.  "
   ]
  },
  {
   "cell_type": "code",
   "execution_count": null,
   "metadata": {
    "collapsed": true
   },
   "outputs": [],
   "source": [
    "from gui import PassGenGUI"
   ]
  },
  {
   "cell_type": "code",
   "execution_count": null,
   "metadata": {},
   "outputs": [],
   "source": [
    "g = PassGenGUI()\n",
    "g"
   ]
  }
 ],
 "metadata": {
  "anaconda-cloud": {},
"kernelspec": {
   "display_name": "widgets-2017",
   "language": "python",
   "name": "widgets-2017"
  },
  "language_info": {
   "codemirror_mode": {
    "name": "ipython",
    "version": 3
   },
   "file_extension": ".py",
   "mimetype": "text/x-python",
   "name": "python",
   "nbconvert_exporter": "python",
   "pygments_lexer": "ipython3",
   "version": "3.6.1"
  },
  "widgets": {
   "state": {
    "813b98e764ce4cae853f60dce54e9920": {
     "views": [
      {
       "cell_index": 2
      }
     ]
    }
   },
   "version": "1.2.0"
  }
 },
 "nbformat": 4,
 "nbformat_minor": 1
}
