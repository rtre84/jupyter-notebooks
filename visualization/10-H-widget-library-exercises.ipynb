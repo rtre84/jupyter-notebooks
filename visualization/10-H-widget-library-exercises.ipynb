{
 "cells": [
  {
   "cell_type": "markdown",
   "metadata": {},
   "source": [
    "# Do your thing...."
   ]
  },
  {
   "cell_type": "markdown",
   "metadata": {},
   "source": [
    "We have covered several widget libraries. The idea in this exercise is that you should one of the complex widgets (bqplot, iyvolume, ipyleaflet etc) and combine it with one or more controls from the core widgets in `ipywidgets`.\n",
    "\n",
    "Anything is fine, so take a few minutes to play around."
   ]
  },
  {
   "cell_type": "code",
   "execution_count": null,
   "metadata": {
    "collapsed": true
   },
   "outputs": [],
   "source": []
  }
 ],
 "metadata": {
"kernelspec": {
   "display_name": "widgets-2017",
   "language": "python",
   "name": "widgets-2017"
  },
  "language_info": {
   "codemirror_mode": {
    "name": "ipython",
    "version": 3
   },
   "file_extension": ".py",
   "mimetype": "text/x-python",
   "name": "python",
   "nbconvert_exporter": "python",
   "pygments_lexer": "ipython3",
   "version": "3.6.1"
  }
 },
 "nbformat": 4,
 "nbformat_minor": 2
}
