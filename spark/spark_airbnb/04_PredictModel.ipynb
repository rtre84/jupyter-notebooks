{
 "cells": [
  {
   "cell_type": "markdown",
   "metadata": {},
   "source": [
    "# Predict with Model"
   ]
  },
  {
   "cell_type": "markdown",
   "metadata": {},
   "source": [
    "## View Config"
   ]
  },
  {
   "cell_type": "code",
   "execution_count": 1,
   "metadata": {
    "collapsed": true
   },
   "outputs": [
    {
     "name": "stderr",
     "output_type": "stream",
     "text": [
      "Fire trace:\n",
      "1. Initial component\n",
      "2. Instantiated class \"PioCli\" (/opt/conda/lib/python3.5/site-packages/pio/__init__.py:28)\n",
      "3. ('Could not consume arg:', 'init-model')\n",
      "\n",
      "Type:        PioCli\n",
      "String form: <pio.__init__.PioCli object at 0x7f3d46da4588>\n",
      "File:        /opt/conda/lib/python3.5/site-packages/pio/__init__.py\n",
      "\n",
      "Usage:       pio \n",
      "             pio cluster-init\n",
      "             pio cluster-join\n",
      "             pio cluster-list\n",
      "             pio cluster-up\n",
      "             pio cluster-view\n",
      "             pio config\n",
      "             pio config-get\n",
      "             pio config-set\n",
      "             pio federation-list\n",
      "             pio init\n",
      "             pio instancegroup-list\n",
      "             pio job-flow\n",
      "             pio job-submit\n",
      "             pio kops-init\n",
      "             pio metrics-system\n",
      "             pio model-build\n",
      "             pio model-deploy\n",
      "             pio model-deploy-from-git\n",
      "             pio model-init\n",
      "             pio model-logs\n",
      "             pio model-package\n",
      "             pio model-predict\n",
      "             pio model-push\n",
      "             pio model-shell\n",
      "             pio model-start\n",
      "             pio model-stop\n",
      "             pio node-list\n",
      "             pio secret-list\n",
      "             pio service-connect\n",
      "             pio service-delete\n",
      "             pio service-kill\n",
      "             pio service-logs\n",
      "             pio service-proxy\n",
      "             pio service-rollback\n",
      "             pio service-scale\n",
      "             pio service-shell\n",
      "             pio service-start\n",
      "             pio service-stop\n",
      "             pio service-tunnel\n",
      "             pio service-upgrade\n",
      "             pio services\n",
      "             pio top\n",
      "             pio version\n",
      "             pio volume-list\n"
     ]
    }
   ],
   "source": [
    "%%bash \n",
    "\n",
    "pio init-model \\\n",
    "  --model-server-url http://prediction-spark.community.pipeline.io/ \\\n",
    "  --model-type spark \\\n",
    "  --model-namespace default \\\n",
    "  --model-name spark_airbnb \\\n",
    "  --model-version v1 \\\n",
    "  --model-path ."
   ]
  },
  {
   "cell_type": "markdown",
   "metadata": {},
   "source": [
    "## Predict with Model (CLI)"
   ]
  },
  {
   "cell_type": "code",
   "execution_count": 2,
   "metadata": {
    "collapsed": true,
    "scrolled": true
   },
   "outputs": [
    {
     "name": "stderr",
     "output_type": "stream",
     "text": [
      "Fire trace:\n",
      "1. Initial component\n",
      "2. Instantiated class \"PioCli\" (/opt/conda/lib/python3.5/site-packages/pio/__init__.py:28)\n",
      "3. ('Could not consume arg:', 'predict')\n",
      "\n",
      "Type:        PioCli\n",
      "String form: <pio.__init__.PioCli object at 0x7fbe5249c518>\n",
      "File:        /opt/conda/lib/python3.5/site-packages/pio/__init__.py\n",
      "\n",
      "Usage:       pio \n",
      "             pio cluster-init\n",
      "             pio cluster-join\n",
      "             pio cluster-list\n",
      "             pio cluster-up\n",
      "             pio cluster-view\n",
      "             pio config\n",
      "             pio config-get\n",
      "             pio config-set\n",
      "             pio federation-list\n",
      "             pio init\n",
      "             pio instancegroup-list\n",
      "             pio job-flow\n",
      "             pio job-submit\n",
      "             pio kops-init\n",
      "             pio metrics-system\n",
      "             pio model-build\n",
      "             pio model-deploy\n",
      "             pio model-deploy-from-git\n",
      "             pio model-init\n",
      "             pio model-logs\n",
      "             pio model-package\n",
      "             pio model-predict\n",
      "             pio model-push\n",
      "             pio model-shell\n",
      "             pio model-start\n",
      "             pio model-stop\n",
      "             pio node-list\n",
      "             pio secret-list\n",
      "             pio service-connect\n",
      "             pio service-delete\n",
      "             pio service-kill\n",
      "             pio service-logs\n",
      "             pio service-proxy\n",
      "             pio service-rollback\n",
      "             pio service-scale\n",
      "             pio service-shell\n",
      "             pio service-start\n",
      "             pio service-stop\n",
      "             pio service-tunnel\n",
      "             pio service-upgrade\n",
      "             pio services\n",
      "             pio top\n",
      "             pio version\n",
      "             pio volume-list\n"
     ]
    }
   ],
   "source": [
    "%%bash\n",
    "\n",
    "pio predict \\\n",
    "  --model-test-request-path ./data/test_request.json"
   ]
  },
  {
   "cell_type": "markdown",
   "metadata": {},
   "source": [
    "### Predict with Model under Mini-Load (CLI)\n",
    "This is a mini load test to provide instant feedback on relative performance. "
   ]
  },
  {
   "cell_type": "code",
   "execution_count": 3,
   "metadata": {
    "collapsed": true
   },
   "outputs": [
    {
     "name": "stderr",
     "output_type": "stream",
     "text": [
      "Fire trace:\n",
      "1. Initial component\n",
      "2. Instantiated class \"PioCli\" (/opt/conda/lib/python3.5/site-packages/pio/__init__.py:28)\n",
      "3. ('Could not consume arg:', 'predict_many')\n",
      "\n",
      "Type:        PioCli\n",
      "String form: <pio.__init__.PioCli object at 0x7fecb32fe828>\n",
      "File:        /opt/conda/lib/python3.5/site-packages/pio/__init__.py\n",
      "\n",
      "Usage:       pio \n",
      "             pio cluster-init\n",
      "             pio cluster-join\n",
      "             pio cluster-list\n",
      "             pio cluster-up\n",
      "             pio cluster-view\n",
      "             pio config\n",
      "             pio config-get\n",
      "             pio config-set\n",
      "             pio federation-list\n",
      "             pio init\n",
      "             pio instancegroup-list\n",
      "             pio job-flow\n",
      "             pio job-submit\n",
      "             pio kops-init\n",
      "             pio metrics-system\n",
      "             pio model-build\n",
      "             pio model-deploy\n",
      "             pio model-deploy-from-git\n",
      "             pio model-init\n",
      "             pio model-logs\n",
      "             pio model-package\n",
      "             pio model-predict\n",
      "             pio model-push\n",
      "             pio model-shell\n",
      "             pio model-start\n",
      "             pio model-stop\n",
      "             pio node-list\n",
      "             pio secret-list\n",
      "             pio service-connect\n",
      "             pio service-delete\n",
      "             pio service-kill\n",
      "             pio service-logs\n",
      "             pio service-proxy\n",
      "             pio service-rollback\n",
      "             pio service-scale\n",
      "             pio service-shell\n",
      "             pio service-start\n",
      "             pio service-stop\n",
      "             pio service-tunnel\n",
      "             pio service-upgrade\n",
      "             pio services\n",
      "             pio top\n",
      "             pio version\n",
      "             pio volume-list\n"
     ]
    }
   ],
   "source": [
    "%%bash\n",
    "\n",
    "pio predict_many \\\n",
    "  --model-test-request-path ./data/test_request.json \\\n",
    "  --num-iterations 5"
   ]
  },
  {
   "cell_type": "markdown",
   "metadata": {},
   "source": [
    "## Model [Dashboards](http://hystrix.community.pipeline.io/hystrix-dashboard/monitor/monitor.html?streams=%5B%7B%22name%22%3A%22Model%20Servers%22%2C%22stream%22%3A%22http%3A%2F%2Fturbine.community.pipeline.io%2Fturbine.stream%22%2C%22auth%22%3A%22%22%2C%22delay%22%3A%22%22%7D%5D)"
   ]
  },
  {
   "cell_type": "code",
   "execution_count": 4,
   "metadata": {},
   "outputs": [
    {
     "data": {
      "text/html": [
       "\n",
       "<iframe width=800 height=600 src=\"http://hystrix.community.pipeline.io/hystrix-dashboard/monitor/monitor.html?streams=%5B%7B%22name%22%3A%22Model%20Servers%22%2C%22stream%22%3A%22http%3A%2F%2Fturbine.community.pipeline.io%2Fturbine.stream%22%2C%22auth%22%3A%22%22%2C%22delay%22%3A%22%22%7D%5D\"></iframe>"
      ],
      "text/plain": [
       "<IPython.core.display.HTML object>"
      ]
     },
     "metadata": {},
     "output_type": "display_data"
    }
   ],
   "source": [
    "%%html\n",
    "\n",
    "<iframe width=800 height=600 src=\"http://hystrix.community.pipeline.io/hystrix-dashboard/monitor/monitor.html?streams=%5B%7B%22name%22%3A%22Model%20Servers%22%2C%22stream%22%3A%22http%3A%2F%2Fturbine.community.pipeline.io%2Fturbine.stream%22%2C%22auth%22%3A%22%22%2C%22delay%22%3A%22%22%7D%5D\"></iframe>"
   ]
  },
  {
   "cell_type": "markdown",
   "metadata": {},
   "source": [
    "## Predict with Model (REST)"
   ]
  },
  {
   "cell_type": "code",
   "execution_count": null,
   "metadata": {
    "collapsed": true
   },
   "outputs": [],
   "source": [
    "import requests\n",
    "\n",
    "model_type = 'spark'\n",
    "model_namespace = 'default'\n",
    "model_name = 'spark_airbnb'\n",
    "model_version = 'v1'\n",
    "\n",
    "deploy_url = 'http://prediction-%s.community.pipeline.io/api/v1/model/predict/%s/%s/%s/%s' % (model_type, model_type, model_namespace, model_name, model_version)\n",
    "\n",
    "with open('./data/test_request.json', 'rb') as fh:\n",
    "    model_input_binary = fh.read()\n",
    "\n",
    "response = requests.post(url=deploy_url,\n",
    "                         data=model_input_binary,\n",
    "                         timeout=30)\n",
    "        \n",
    "print(\"Success!\\n\\n%s\" % response.text)"
   ]
  },
  {
   "cell_type": "code",
   "execution_count": null,
   "metadata": {
    "collapsed": true
   },
   "outputs": [],
   "source": []
  }
 ],
 "metadata": {
  "anaconda-cloud": {},
  "kernelspec": {
   "display_name": "Python 3",
   "language": "python",
   "name": "python3"
  },
  "language_info": {
   "codemirror_mode": {
    "name": "ipython",
    "version": 3
   },
   "file_extension": ".py",
   "mimetype": "text/x-python",
   "name": "python",
   "nbconvert_exporter": "python",
   "pygments_lexer": "ipython3",
   "version": "3.5.4"
  }
 },
 "nbformat": 4,
 "nbformat_minor": 2
}
