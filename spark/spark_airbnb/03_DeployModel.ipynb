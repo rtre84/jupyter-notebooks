{
 "cells": [
  {
   "cell_type": "markdown",
   "metadata": {},
   "source": [
    "# Deploy Model"
   ]
  },
  {
   "cell_type": "markdown",
   "metadata": {},
   "source": [
    "## Initialize CLI "
   ]
  },
  {
   "cell_type": "code",
   "execution_count": 1,
   "metadata": {},
   "outputs": [
    {
     "name": "stderr",
     "output_type": "stream",
     "text": [
      "Fire trace:\n",
      "1. Initial component\n",
      "2. Instantiated class \"PioCli\" (/opt/conda/lib/python3.5/site-packages/pio/__init__.py:28)\n",
      "3. ('Could not consume arg:', 'init-model')\n",
      "\n",
      "Type:        PioCli\n",
      "String form: <pio.__init__.PioCli object at 0x7f8992c3a8d0>\n",
      "File:        /opt/conda/lib/python3.5/site-packages/pio/__init__.py\n",
      "\n",
      "Usage:       pio \n",
      "             pio cluster-init\n",
      "             pio cluster-join\n",
      "             pio cluster-list\n",
      "             pio cluster-up\n",
      "             pio cluster-view\n",
      "             pio config\n",
      "             pio config-get\n",
      "             pio config-set\n",
      "             pio federation-list\n",
      "             pio init\n",
      "             pio instancegroup-list\n",
      "             pio job-flow\n",
      "             pio job-submit\n",
      "             pio kops-init\n",
      "             pio metrics-system\n",
      "             pio model-build\n",
      "             pio model-deploy\n",
      "             pio model-deploy-from-git\n",
      "             pio model-init\n",
      "             pio model-logs\n",
      "             pio model-package\n",
      "             pio model-predict\n",
      "             pio model-push\n",
      "             pio model-shell\n",
      "             pio model-start\n",
      "             pio model-stop\n",
      "             pio node-list\n",
      "             pio secret-list\n",
      "             pio service-connect\n",
      "             pio service-delete\n",
      "             pio service-kill\n",
      "             pio service-logs\n",
      "             pio service-proxy\n",
      "             pio service-rollback\n",
      "             pio service-scale\n",
      "             pio service-shell\n",
      "             pio service-start\n",
      "             pio service-stop\n",
      "             pio service-tunnel\n",
      "             pio service-upgrade\n",
      "             pio services\n",
      "             pio top\n",
      "             pio version\n",
      "             pio volume-list\n"
     ]
    }
   ],
   "source": [
    "%%bash \n",
    "\n",
    "pio init-model \\\n",
    "  --model-server-url http://prediction-spark.community.pipeline.io/ \\\n",
    "  --model-type spark \\\n",
    "  --model-namespace default \\\n",
    "  --model-name spark_airbnb \\\n",
    "  --model-version v1 \\\n",
    "  --model-path ."
   ]
  },
  {
   "cell_type": "code",
   "execution_count": 2,
   "metadata": {},
   "outputs": [
    {
     "name": "stderr",
     "output_type": "stream",
     "text": [
      "Fire trace:\n",
      "1. Initial component\n",
      "2. Instantiated class \"PioCli\" (/opt/conda/lib/python3.5/site-packages/pio/__init__.py:28)\n",
      "3. ('Could not consume arg:', 'deploy')\n",
      "\n",
      "Type:        PioCli\n",
      "String form: <pio.__init__.PioCli object at 0x7fd2b157e518>\n",
      "File:        /opt/conda/lib/python3.5/site-packages/pio/__init__.py\n",
      "\n",
      "Usage:       pio \n",
      "             pio cluster-init\n",
      "             pio cluster-join\n",
      "             pio cluster-list\n",
      "             pio cluster-up\n",
      "             pio cluster-view\n",
      "             pio config\n",
      "             pio config-get\n",
      "             pio config-set\n",
      "             pio federation-list\n",
      "             pio init\n",
      "             pio instancegroup-list\n",
      "             pio job-flow\n",
      "             pio job-submit\n",
      "             pio kops-init\n",
      "             pio metrics-system\n",
      "             pio model-build\n",
      "             pio model-deploy\n",
      "             pio model-deploy-from-git\n",
      "             pio model-init\n",
      "             pio model-logs\n",
      "             pio model-package\n",
      "             pio model-predict\n",
      "             pio model-push\n",
      "             pio model-shell\n",
      "             pio model-start\n",
      "             pio model-stop\n",
      "             pio node-list\n",
      "             pio secret-list\n",
      "             pio service-connect\n",
      "             pio service-delete\n",
      "             pio service-kill\n",
      "             pio service-logs\n",
      "             pio service-proxy\n",
      "             pio service-rollback\n",
      "             pio service-scale\n",
      "             pio service-shell\n",
      "             pio service-start\n",
      "             pio service-stop\n",
      "             pio service-tunnel\n",
      "             pio service-upgrade\n",
      "             pio services\n",
      "             pio top\n",
      "             pio version\n",
      "             pio volume-list\n"
     ]
    }
   ],
   "source": [
    "%%bash\n",
    "\n",
    "pio deploy"
   ]
  },
  {
   "cell_type": "markdown",
   "metadata": {},
   "source": [
    "## TODO:  Deploy Model (REST)"
   ]
  },
  {
   "cell_type": "code",
   "execution_count": null,
   "metadata": {
    "collapsed": true
   },
   "outputs": [],
   "source": []
  }
 ],
 "metadata": {
  "anaconda-cloud": {},
  "kernelspec": {
   "display_name": "Python 3",
   "language": "python",
   "name": "python3"
  },
  "language_info": {
   "codemirror_mode": {
    "name": "ipython",
    "version": 3
   },
   "file_extension": ".py",
   "mimetype": "text/x-python",
   "name": "python",
   "nbconvert_exporter": "python",
   "pygments_lexer": "ipython3",
   "version": "3.5.4"
  }
 },
 "nbformat": 4,
 "nbformat_minor": 2
}
