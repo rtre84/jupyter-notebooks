{
 "cells": [
  {
   "cell_type": "markdown",
   "metadata": {},
   "source": [
    "# Deploy Model"
   ]
  },
  {
   "cell_type": "markdown",
   "metadata": {},
   "source": [
    "## Initialize CLI "
   ]
  },
  {
   "cell_type": "code",
   "execution_count": 3,
   "metadata": {},
   "outputs": [
    {
     "name": "stdout",
     "output_type": "stream",
     "text": [
      "\n",
      "{'model_name': 'spark_census',\n",
      " 'model_path': '/root/notebooks/spark/spark_census',\n",
      " 'model_request_mime_type': 'default',\n",
      " 'model_response_mime_type': '--model-version',\n",
      " 'model_server_url': 'http://prediction-spark.community.pipeline.io',\n",
      " 'model_test_request_path': '/root/notebooks/spark/spark_census/--model-namespace',\n",
      " 'model_type': 'spark',\n",
      " 'pio_api_version': 'v1',\n",
      " 'pio_git_home': 'https://github.com/fluxcapacitor/source.ml/',\n",
      " 'pio_git_version': 'master'}\n",
      "\n"
     ]
    },
    {
     "name": "stderr",
     "output_type": "stream",
     "text": [
      "Fire trace:\n",
      "1. Initial component\n",
      "2. Instantiated class \"PioCli\" (/opt/conda/lib/python3.5/site-packages/pio/__init__.py:28)\n",
      "3. Accessed property \"model-init\" (/opt/conda/lib/python3.5/site-packages/pio/__init__.py:498)\n",
      "4. Called routine \"model_init\" (/opt/conda/lib/python3.5/site-packages/pio/__init__.py:498)\n",
      "5. ('Could not consume arg:', 'v1')\n",
      "\n",
      "Type:        NoneType\n",
      "String form: None\n",
      "\n",
      "Usage:       pio model-init --model-server-url http://prediction-spark.community.pipeline.io/ --model-type spark --model-namespace default --model-name spark_census --model-version v1 --model-path \n"
     ]
    }
   ],
   "source": [
    "%%bash \n",
    "\n",
    "# pio init-model \\\n",
    "#   --model-server-url http://prediction-spark.community.pipeline.io/ \\\n",
    "#   --model-type spark \\\n",
    "#   --model-namespace default \\\n",
    "#   --model-name spark_census \\\n",
    "#   --model-version v1 \\\n",
    "#   --model-path .\n",
    "\n",
    "pio model-init \\\n",
    "  --model-server-url http://prediction-spark.community.pipeline.io/ \\\n",
    "  --model-type spark \\\n",
    "  --model-namespace default \\\n",
    "  --model-name spark_census \\\n",
    "  --model-version v1 \\\n",
    "  --model-path ."
   ]
  },
  {
   "cell_type": "code",
   "execution_count": 5,
   "metadata": {},
   "outputs": [
    {
     "name": "stdout",
     "output_type": "stream",
     "text": [
      "model_server_url: http://prediction-spark.community.pipeline.io\n",
      "model_type: spark\n",
      "model_name: spark_census\n",
      "model_path: /root/notebooks/spark/spark_census\n",
      "\n",
      "Compressing model package '/root/notebooks/spark/spark_census' into 'pio_model.tar.gz'.\n"
     ]
    },
    {
     "name": "stderr",
     "output_type": "stream",
     "text": [
      "Traceback (most recent call last):\n",
      "  File \"/opt/conda/bin/pio\", line 11, in <module>\n",
      "    sys.exit(main())\n",
      "  File \"/opt/conda/lib/python3.5/site-packages/pio/__init__.py\", line 1730, in main\n",
      "    fire.Fire(PioCli)\n",
      "  File \"/opt/conda/lib/python3.5/site-packages/fire/core.py\", line 120, in Fire\n",
      "    component_trace = _Fire(component, args, context, name)\n",
      "  File \"/opt/conda/lib/python3.5/site-packages/fire/core.py\", line 358, in _Fire\n",
      "    component, remaining_args)\n",
      "  File \"/opt/conda/lib/python3.5/site-packages/fire/core.py\", line 561, in _CallCallable\n",
      "    result = fn(*varargs, **kwargs)\n",
      "  File \"/opt/conda/lib/python3.5/site-packages/pio/__init__.py\", line 934, in model_deploy\n",
      "    compression='gz')\n",
      "TypeError: model_package() got an unexpected keyword argument 'path_to_package'\n"
     ]
    }
   ],
   "source": [
    "%%bash\n",
    "\n",
    "# pio deploy\n",
    "pio model-deploy"
   ]
  },
  {
   "cell_type": "markdown",
   "metadata": {},
   "source": [
    "## TODO:  Deploy Model (REST)"
   ]
  },
  {
   "cell_type": "code",
   "execution_count": null,
   "metadata": {
    "collapsed": true
   },
   "outputs": [],
   "source": []
  }
 ],
 "metadata": {
  "anaconda-cloud": {},
  "kernelspec": {
   "display_name": "Python 3",
   "language": "python",
   "name": "python3"
  },
  "language_info": {
   "codemirror_mode": {
    "name": "ipython",
    "version": 3
   },
   "file_extension": ".py",
   "mimetype": "text/x-python",
   "name": "python",
   "nbconvert_exporter": "python",
   "pygments_lexer": "ipython3",
   "version": "3.5.4"
  }
 },
 "nbformat": 4,
 "nbformat_minor": 2
}
