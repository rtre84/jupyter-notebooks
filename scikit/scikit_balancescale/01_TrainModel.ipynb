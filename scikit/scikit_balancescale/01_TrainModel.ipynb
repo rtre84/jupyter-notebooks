{
 "cells": [
  {
   "cell_type": "markdown",
   "metadata": {},
   "source": [
    "# Train the Model"
   ]
  },
  {
   "cell_type": "code",
   "execution_count": null,
   "metadata": {},
   "outputs": [],
   "source": [
    "import sys\n",
    "import pandas as pd\n",
    "from sklearn.tree import DecisionTreeClassifier\n",
    "\n",
    "training_data = pd.read_csv('data/model_training.csv', sep=',', header=None)\n",
    "\n",
    "X_train = training_data.values[:, 1:5]\n",
    "y_train = training_data.values[:, 0]\n",
    "\n",
    "model = DecisionTreeClassifier(criterion=\"gini\", random_state=100, max_depth=3, min_samples_leaf=5)\n",
    "model.fit(X_train, y_train)"
   ]
  },
  {
   "cell_type": "code",
   "execution_count": null,
   "metadata": {
    "collapsed": true
   },
   "outputs": [],
   "source": [
    "class PioBundle(object):\n",
    "\n",
    "    def __init__(self,\n",
    "                 model):\n",
    "\n",
    "        self.model = model\n",
    "\n",
    "        \n",
    "    def predict(self,\n",
    "                request):\n",
    "\n",
    "        return self.model.predict_proba(request)\n",
    "\n",
    "\n",
    "    def transform_request(self, \n",
    "                          request):\n",
    "\n",
    "        import ujson\n",
    "        import numpy as np    \n",
    "        request_str = request.decode('utf-8')\n",
    "        request_str = request_str.strip().replace('\\n', ',')\n",
    "        # surround the json with '[' ']' to prepare for conversion\n",
    "        request_str = '[%s]' % request_str\n",
    "        request_json = ujson.loads(request_str)\n",
    "\n",
    "        request_transformed = ([(json_line['feature0'], json_line['feature1'], json_line['feature2'], json_line['feature3']) for json_line in request_json])\n",
    "        return np.array(request_transformed) \n",
    "\n",
    "    \n",
    "    def transform_response(self,\n",
    "                           response):\n",
    "\n",
    "        import ujson\n",
    "        return ujson.dumps(response.tolist())\n"
   ]
  },
  {
   "cell_type": "markdown",
   "metadata": {},
   "source": [
    "## Pickle `pio_bundle`"
   ]
  },
  {
   "cell_type": "code",
   "execution_count": null,
   "metadata": {
    "collapsed": true
   },
   "outputs": [],
   "source": [
    "import dill as pickle\n",
    "\n",
    "pio_bundle = PioBundle(model)\n",
    "\n",
    "pio_bundle_pkl_path = 'pio_bundle.pkl'\n",
    "\n",
    "with open(pio_bundle_pkl_path, 'wb') as fh:\n",
    "    pickle.dump(pio_bundle, fh)"
   ]
  },
  {
   "cell_type": "code",
   "execution_count": null,
   "metadata": {},
   "outputs": [],
   "source": [
    "%%bash \n",
    "\n",
    "ls -l pio_bundle.pkl"
   ]
  },
  {
   "cell_type": "code",
   "execution_count": null,
   "metadata": {
    "collapsed": true
   },
   "outputs": [],
   "source": []
  }
 ],
 "metadata": {
  "anaconda-cloud": {},
  "kernelspec": {
   "display_name": "Python [default]",
   "language": "python",
   "name": "python3"
  },
  "language_info": {
   "codemirror_mode": {
    "name": "ipython",
    "version": 3
   },
   "file_extension": ".py",
   "mimetype": "text/x-python",
   "name": "python",
   "nbconvert_exporter": "python",
   "pygments_lexer": "ipython3",
   "version": "3.5.3"
  }
 },
 "nbformat": 4,
 "nbformat_minor": 2
}
