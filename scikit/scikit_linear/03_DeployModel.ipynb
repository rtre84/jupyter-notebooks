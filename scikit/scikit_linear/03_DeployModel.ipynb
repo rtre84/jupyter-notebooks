{
 "cells": [
  {
   "cell_type": "markdown",
   "metadata": {},
   "source": [
    "# Deploy Model"
   ]
  },
  {
   "cell_type": "markdown",
   "metadata": {},
   "source": [
    "## Init Model"
   ]
  },
  {
   "cell_type": "code",
   "execution_count": 9,
   "metadata": {},
   "outputs": [
    {
     "name": "stdout",
     "output_type": "stream",
     "text": [
      "\n",
      "{'model_name': 'scikit_linear',\n",
      " 'model_path': '/root/notebooks/scikit/scikit_linear',\n",
      " 'model_request_mime_type': 'default',\n",
      " 'model_response_mime_type': 'application/json',\n",
      " 'model_server_url': 'http://prediction-scikit.community.pipeline.io',\n",
      " 'model_test_request_path': '/root/notebooks/scikit/scikit_linear/--model-namespace',\n",
      " 'model_type': 'scikit',\n",
      " 'pio_api_version': 'v1',\n",
      " 'pio_git_home': 'https://github.com/fluxcapacitor/source.ml/',\n",
      " 'pio_git_version': 'master'}\n",
      "\n"
     ]
    }
   ],
   "source": [
    "%%bash \n",
    "  \n",
    "# pio init-model \\\n",
    "#   --model-server-url=http://prediction-scikit-example.community.pipeline.io \\\n",
    "#   --model-type scikit \\\n",
    "#   --model-namespace default \\\n",
    "#   --model-name scikit_linear \\\n",
    "#   --model-version v1 \\\n",
    "#   --model-path .\n",
    "\n",
    "pio model-init \\\n",
    "  --model-server-url=http://prediction-scikit.community.pipeline.io \\\n",
    "  --model-type scikit \\\n",
    "  --model-namespace default \\\n",
    "  --model-name scikit_linear \\\n",
    "  --model-path ."
   ]
  },
  {
   "cell_type": "markdown",
   "metadata": {},
   "source": [
    "## Deploy Model (CLI)"
   ]
  },
  {
   "cell_type": "code",
   "execution_count": 10,
   "metadata": {},
   "outputs": [
    {
     "name": "stdout",
     "output_type": "stream",
     "text": [
      "model_server_url: http://prediction-scikit.community.pipeline.io\n",
      "model_type: scikit\n",
      "model_name: scikit_linear\n",
      "model_path: /root/notebooks/scikit/scikit_linear\n",
      "\n",
      "Compressing model package '/root/notebooks/scikit/scikit_linear' into 'pio_model.tar.gz'.\n"
     ]
    },
    {
     "name": "stderr",
     "output_type": "stream",
     "text": [
      "Traceback (most recent call last):\n",
      "  File \"/opt/conda/bin/pio\", line 11, in <module>\n",
      "    sys.exit(main())\n",
      "  File \"/opt/conda/lib/python3.5/site-packages/pio/__init__.py\", line 1730, in main\n",
      "    fire.Fire(PioCli)\n",
      "  File \"/opt/conda/lib/python3.5/site-packages/fire/core.py\", line 120, in Fire\n",
      "    component_trace = _Fire(component, args, context, name)\n",
      "  File \"/opt/conda/lib/python3.5/site-packages/fire/core.py\", line 358, in _Fire\n",
      "    component, remaining_args)\n",
      "  File \"/opt/conda/lib/python3.5/site-packages/fire/core.py\", line 561, in _CallCallable\n",
      "    result = fn(*varargs, **kwargs)\n",
      "  File \"/opt/conda/lib/python3.5/site-packages/pio/__init__.py\", line 934, in model_deploy\n",
      "    compression='gz')\n",
      "TypeError: model_package() got an unexpected keyword argument 'path_to_package'\n"
     ]
    }
   ],
   "source": [
    "%%bash\n",
    "\n",
    "# pio deploy\n",
    "pio model-deploy"
   ]
  },
  {
   "cell_type": "markdown",
   "metadata": {},
   "source": [
    "## TODO: Deploy Model (REST)"
   ]
  },
  {
   "cell_type": "code",
   "execution_count": null,
   "metadata": {
    "collapsed": true
   },
   "outputs": [],
   "source": []
  }
 ],
 "metadata": {
  "anaconda-cloud": {},
  "kernelspec": {
   "display_name": "Python 3",
   "language": "python",
   "name": "python3"
  },
  "language_info": {
   "codemirror_mode": {
    "name": "ipython",
    "version": 3
   },
   "file_extension": ".py",
   "mimetype": "text/x-python",
   "name": "python",
   "nbconvert_exporter": "python",
   "pygments_lexer": "ipython3",
   "version": "3.5.4"
  }
 },
 "nbformat": 4,
 "nbformat_minor": 2
}
