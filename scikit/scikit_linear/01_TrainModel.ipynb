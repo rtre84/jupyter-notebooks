{
 "cells": [
  {
   "cell_type": "markdown",
   "metadata": {},
   "source": [
    "# Train the Model"
   ]
  },
  {
   "cell_type": "code",
   "execution_count": 2,
   "metadata": {
    "collapsed": true
   },
   "outputs": [
    {
     "data": {
      "text/plain": [
       "LinearRegression(copy_X=True, fit_intercept=True, n_jobs=1, normalize=False)"
      ]
     },
     "execution_count": 2,
     "metadata": {},
     "output_type": "execute_result"
    }
   ],
   "source": [
    "import numpy as np\n",
    "from sklearn import linear_model\n",
    "from sklearn import datasets\n",
    "\n",
    "# Load the diabetes dataset\n",
    "diabetes = datasets.load_diabetes()\n",
    "\n",
    "# ONLY USING 1 FEATURE FOR THIS EXAMPLE!\n",
    "# Use only one feature\n",
    "diabetes_X = diabetes.data[:, np.newaxis, 2]\n",
    "\n",
    "# Split the data into training/testing sets\n",
    "diabetes_X_train = diabetes_X[:-20]\n",
    "diabetes_X_test = diabetes_X[-20:]\n",
    "\n",
    "# Split the targets into training/testing sets\n",
    "diabetes_y_train = diabetes.target[:-20]\n",
    "diabetes_y_test = diabetes.target[-20:]\n",
    "\n",
    "# Create linear regression model\n",
    "model = linear_model.LinearRegression()\n",
    "\n",
    "# Train the model using the training sets\n",
    "model.fit(diabetes_X_train, diabetes_y_train)"
   ]
  },
  {
   "cell_type": "code",
   "execution_count": 3,
   "metadata": {
    "collapsed": true
   },
   "outputs": [],
   "source": [
    "class PioBundle(object):\n",
    "\n",
    "    def __init__(self,\n",
    "                 model):\n",
    "        self.model = model\n",
    "\n",
    "        \n",
    "    def predict(self,\n",
    "                request):\n",
    "\n",
    "        return self.model.predict(request)\n",
    "\n",
    "\n",
    "    def transform_request(self,\n",
    "                          request):\n",
    "        import ujson\n",
    "        import numpy as np\n",
    "        request_str = request.decode('utf-8')\n",
    "        request_str = request_str.strip().replace('\\n', ',')\n",
    "        # surround the json with '[' ']' to prepare for conversion\n",
    "        request_str = '[%s]' % request_str\n",
    "        request_json = ujson.loads(request_str)\n",
    "        request_transformed = ([json_line['feature0'] for json_line in request_json])\n",
    "        return np.array(request_transformed)   \n",
    "\n",
    "    \n",
    "    def transform_response(self,\n",
    "                           response):\n",
    "        import ujson\n",
    "        return ujson.dumps(response.tolist())\n"
   ]
  },
  {
   "cell_type": "markdown",
   "metadata": {},
   "source": [
    "## Pickle `PioBundle`"
   ]
  },
  {
   "cell_type": "code",
   "execution_count": 4,
   "metadata": {
    "collapsed": true
   },
   "outputs": [],
   "source": [
    "import dill as pickle\n",
    "\n",
    "pio_bundle = PioBundle(model)\n",
    "\n",
    "pio_bundle_pkl_path = 'pio_bundle.pkl'\n",
    "\n",
    "with open(pio_bundle_pkl_path, 'wb') as fh:\n",
    "    pickle.dump(pio_bundle, fh)"
   ]
  },
  {
   "cell_type": "code",
   "execution_count": 5,
   "metadata": {
    "collapsed": true
   },
   "outputs": [
    {
     "name": "stdout",
     "output_type": "stream",
     "text": [
      "-rw-rw-r-- 1 root root 1957 Sep 18 18:40 pio_bundle.pkl\n"
     ]
    }
   ],
   "source": [
    "%%bash\n",
    "\n",
    "ls -l pio_bundle.pkl"
   ]
  },
  {
   "cell_type": "code",
   "execution_count": null,
   "metadata": {
    "collapsed": true
   },
   "outputs": [],
   "source": []
  }
 ],
 "metadata": {
  "anaconda-cloud": {},
  "kernelspec": {
   "display_name": "Python 3",
   "language": "python",
   "name": "python3"
  },
  "language_info": {
   "codemirror_mode": {
    "name": "ipython",
    "version": 3
   },
   "file_extension": ".py",
   "mimetype": "text/x-python",
   "name": "python",
   "nbconvert_exporter": "python",
   "pygments_lexer": "ipython3",
   "version": "3.5.4"
  }
 },
 "nbformat": 4,
 "nbformat_minor": 2
}
