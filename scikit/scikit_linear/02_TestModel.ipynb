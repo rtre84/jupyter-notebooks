{
 "cells": [
  {
   "cell_type": "markdown",
   "metadata": {},
   "source": [
    "# Test Model (Locally)"
   ]
  },
  {
   "cell_type": "code",
   "execution_count": null,
   "metadata": {
    "collapsed": true
   },
   "outputs": [],
   "source": [
    "pio_bundle_pkl_path='pio_bundle.pkl'\n",
    "test_request_path='data/test_request.json'\n",
    "test_response_path='data/test_response.json'"
   ]
  },
  {
   "cell_type": "code",
   "execution_count": null,
   "metadata": {
    "collapsed": true
   },
   "outputs": [],
   "source": [
    "from __future__ import print_function, absolute_import, division\n",
    "\n",
    "import json\n",
    "import importlib\n",
    "import dill as pickle\n",
    "\n",
    "def test(pio_bundle_pkl_path, \n",
    "         test_request_path, \n",
    "         test_response_path):\n",
    "\n",
    "    with open(pio_bundle_pkl_path, 'rb') as fh:\n",
    "        pio_bundle = pickle.load(fh)\n",
    "    with open(test_request_path, 'rb') as fh:\n",
    "        actual_request = fh.read() \n",
    "    with open(test_response_path, 'rb') as fh:\n",
    "        expected_response = fh.read()\n",
    "    print('Expected Response:')\n",
    "    print(expected_response)\n",
    "    \n",
    "    actual_transformed_request = pio_bundle.transform_request(actual_request)\n",
    "    actual_response = pio_bundle.predict(actual_transformed_request)\n",
    "    actual_transformed_response = pio_bundle.transform_response(actual_response)\n",
    "\n",
    "    print('')\n",
    "    print('Actual Response:')\n",
    "    print(actual_transformed_response)\n",
    "\n",
    "    return (json.loads(expected_response.decode('utf-8').strip()) \\\n",
    "            == json.loads(actual_transformed_response.strip()))"
   ]
  },
  {
   "cell_type": "code",
   "execution_count": null,
   "metadata": {},
   "outputs": [],
   "source": [
    "test_success = test(pio_bundle_pkl_path, \n",
    "                    test_request_path,\n",
    "                    test_response_path)\n",
    "\n",
    "print('')\n",
    "print('Test Success: %s' % test_success)"
   ]
  },
  {
   "cell_type": "code",
   "execution_count": null,
   "metadata": {
    "collapsed": true
   },
   "outputs": [],
   "source": []
  }
 ],
 "metadata": {
  "anaconda-cloud": {},
  "kernelspec": {
   "display_name": "Python [conda root]",
   "language": "python",
   "name": "conda-root-py"
  },
  "language_info": {
   "codemirror_mode": {
    "name": "ipython",
    "version": 3
   },
   "file_extension": ".py",
   "mimetype": "text/x-python",
   "name": "python",
   "nbconvert_exporter": "python",
   "pygments_lexer": "ipython3",
   "version": "3.5.3"
  }
 },
 "nbformat": 4,
 "nbformat_minor": 2
}
