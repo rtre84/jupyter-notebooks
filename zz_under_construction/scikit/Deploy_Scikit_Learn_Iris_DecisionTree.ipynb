{
 "cells": [
  {
   "cell_type": "code",
   "execution_count": 1,
   "metadata": {
    "collapsed": false
   },
   "outputs": [
    {
     "name": "stdout",
     "output_type": "stream",
     "text": [
      "Collecting sklearn_pandas\r\n",
      "  Downloading sklearn_pandas-1.4.0-py2.py3-none-any.whl\r\n",
      "Requirement already satisfied: pandas>=0.11.0 in /opt/conda/lib/python3.5/site-packages (from sklearn_pandas)\r\n",
      "Requirement already satisfied: numpy>=1.6.1 in /opt/conda/lib/python3.5/site-packages (from sklearn_pandas)\r\n",
      "Requirement already satisfied: scipy>=0.14 in /opt/conda/lib/python3.5/site-packages (from sklearn_pandas)\r\n",
      "Requirement already satisfied: scikit-learn>=0.15.0 in /opt/conda/lib/python3.5/site-packages (from sklearn_pandas)\r\n",
      "Requirement already satisfied: python-dateutil>=2 in /opt/conda/lib/python3.5/site-packages (from pandas>=0.11.0->sklearn_pandas)\r\n",
      "Requirement already satisfied: pytz>=2011k in /opt/conda/lib/python3.5/site-packages (from pandas>=0.11.0->sklearn_pandas)\r\n",
      "Requirement already satisfied: six>=1.5 in /opt/conda/lib/python3.5/site-packages (from python-dateutil>=2->pandas>=0.11.0->sklearn_pandas)\r\n",
      "Installing collected packages: sklearn-pandas\r\n",
      "Successfully installed sklearn-pandas-1.4.0\r\n",
      "Collecting git+https://github.com/jpmml/sklearn2pmml.git\r\n",
      "  Cloning https://github.com/jpmml/sklearn2pmml.git to /tmp/pip-ionbry2c-build\r\n",
      "Requirement already satisfied: scikit-learn>=0.16.0 in /opt/conda/lib/python3.5/site-packages (from sklearn2pmml==0.20.3)\r\n",
      "Requirement already satisfied: sklearn_pandas>=0.0.10 in /opt/conda/lib/python3.5/site-packages (from sklearn2pmml==0.20.3)\r\n",
      "Requirement already satisfied: pandas>=0.11.0 in /opt/conda/lib/python3.5/site-packages (from sklearn_pandas>=0.0.10->sklearn2pmml==0.20.3)\r\n",
      "Requirement already satisfied: numpy>=1.6.1 in /opt/conda/lib/python3.5/site-packages (from sklearn_pandas>=0.0.10->sklearn2pmml==0.20.3)\r\n",
      "Requirement already satisfied: scipy>=0.14 in /opt/conda/lib/python3.5/site-packages (from sklearn_pandas>=0.0.10->sklearn2pmml==0.20.3)\r\n",
      "Requirement already satisfied: python-dateutil>=2 in /opt/conda/lib/python3.5/site-packages (from pandas>=0.11.0->sklearn_pandas>=0.0.10->sklearn2pmml==0.20.3)\r\n",
      "Requirement already satisfied: pytz>=2011k in /opt/conda/lib/python3.5/site-packages (from pandas>=0.11.0->sklearn_pandas>=0.0.10->sklearn2pmml==0.20.3)\r\n",
      "Requirement already satisfied: six>=1.5 in /opt/conda/lib/python3.5/site-packages (from python-dateutil>=2->pandas>=0.11.0->sklearn_pandas>=0.0.10->sklearn2pmml==0.20.3)\r\n",
      "Installing collected packages: sklearn2pmml\r\n",
      "  Running setup.py install for sklearn2pmml ... \u001b[?25l-\b \b\\\b \bdone\r\n",
      "\u001b[?25hSuccessfully installed sklearn2pmml-0.20.3\r\n"
     ]
    }
   ],
   "source": [
    "!pip install sklearn_pandas\n",
    "!pip install git+https://github.com/jpmml/sklearn2pmml.git"
   ]
  },
  {
   "cell_type": "markdown",
   "metadata": {},
   "source": [
    "# Scikit-learn demo"
   ]
  },
  {
   "cell_type": "markdown",
   "metadata": {},
   "source": [
    "## Build pipeline"
   ]
  },
  {
   "cell_type": "code",
   "execution_count": 2,
   "metadata": {
    "collapsed": false,
    "scrolled": true
   },
   "outputs": [
    {
     "name": "stdout",
     "output_type": "stream",
     "text": [
      "Mean Squared Error: 2859.690\n",
      "Coefficient of Determination: 0.518\n"
     ]
    },
    {
     "data": {
      "text/plain": [
       "PMMLPipeline(steps=[('classifier', DecisionTreeClassifier(class_weight=None, criterion='gini', max_depth=None,\n",
       "            max_features=None, max_leaf_nodes=None,\n",
       "            min_impurity_split=1e-07, min_samples_leaf=1,\n",
       "            min_samples_split=2, min_weight_fraction_leaf=0.0,\n",
       "            presort=False, random_state=None, splitter='best'))])"
      ]
     },
     "execution_count": 2,
     "metadata": {},
     "output_type": "execute_result"
    }
   ],
   "source": [
    "import pandas as pd\n",
    "import numpy as np\n",
    "import urllib.request\n",
    "import urllib.parse\n",
    "import json\n",
    "\n",
    "from sklearn.datasets import load_diabetes,load_iris\n",
    "from sklearn.linear_model import LinearRegression\n",
    "from sklearn.metrics import mean_squared_error as mse, r2_score\n",
    "from sklearn2pmml import PMMLPipeline\n",
    "from sklearn.tree import DecisionTreeClassifier\n",
    "from sklearn2pmml import sklearn2pmml\n",
    "\n",
    "diabetes = load_diabetes()\n",
    "model = LinearRegression()\n",
    "model.fit(diabetes.data, diabetes.target)\n",
    "expected  = diabetes.target\n",
    "predicted = model.predict(diabetes.data)\n",
    "print(\"Mean Squared Error: %0.3f\" % mse(expected, predicted))\n",
    "print(\"Coefficient of Determination: %0.3f\" % r2_score(expected, predicted))\n",
    "\n",
    "iris = load_iris()\n",
    "iris_df = pd.DataFrame(iris.data,columns=iris.feature_names)\n",
    "iris_df['Species'] = iris.target\n",
    "iris_pipeline = PMMLPipeline([\n",
    "    (\"classifier\", DecisionTreeClassifier())\n",
    "])\n",
    "iris_pipeline.fit(iris_df[iris_df.columns.difference([\"Species\"])], iris_df[\"Species\"])"
   ]
  },
  {
   "cell_type": "markdown",
   "metadata": {},
   "source": [
    "### Convert to PMML"
   ]
  },
  {
   "cell_type": "code",
   "execution_count": 3,
   "metadata": {
    "collapsed": true
   },
   "outputs": [],
   "source": [
    "sklearn2pmml(iris_pipeline, \"DecisionTreeIris.pmml\", with_repr = True)\n",
    "pmmlBytes = bytearray(open('DecisionTreeIris.pmml', 'rb').read())"
   ]
  },
  {
   "cell_type": "markdown",
   "metadata": {},
   "source": [
    "### Serve"
   ]
  },
  {
   "cell_type": "code",
   "execution_count": null,
   "metadata": {},
   "outputs": [],
   "source": [
    "import urllib.request\n",
    "\n",
    "namespace = 'default'\n",
    "model_name = 'iris'\n",
    "version = '1'\n",
    "\"\"\"\n",
    "prediction-pmml IP address can be found via: kubectl describe svc prediction-pmml\n",
    "\"\"\"\n",
    "update_url = 'http://<prediction-pmml service IP>/update-pmml/%s/%s/%s' % (namespace, model_name, version)\n",
    "\n",
    "update_headers = {}\n",
    "update_headers['Content-type'] = 'application/xml'\n",
    "\n",
    "req = urllib.request.Request(update_url, \\\n",
    "                             headers=update_headers, \\\n",
    "                             data=pmmlBytes)\n",
    "\n",
    "resp = urllib.request.urlopen(req, timeout=5)\n",
    "\n",
    "print(resp.status) # Should return Http Status 200"
   ]
  },
  {
   "cell_type": "code",
   "execution_count": 8,
   "metadata": {},
   "outputs": [
    {
     "name": "stdout",
     "output_type": "stream",
     "text": [
      "kubectl controls the Kubernetes cluster manager. \r\n",
      "\r\n",
      "Find more information at https://github.com/kubernetes/kubernetes.\r\n",
      "\r\n",
      "Basic Commands (Beginner):\r\n",
      "  create         Create a resource by filename or stdin\r\n",
      "  expose         Take a replication controller, service, deployment or pod and\r\n",
      "expose it as a new Kubernetes Service\r\n",
      "  run            Run a particular image on the cluster\r\n",
      "  set            Set specific features on objects\r\n",
      "\r\n",
      "Basic Commands (Intermediate):\r\n",
      "  get            Display one or many resources\r\n",
      "  explain        Documentation of resources\r\n",
      "  edit           Edit a resource on the server\r\n",
      "  delete         Delete resources by filenames, stdin, resources and names, or\r\n",
      "by resources and label selector\r\n",
      "\r\n",
      "Deploy Commands:\r\n",
      "  rollout        Manage a deployment rollout\r\n",
      "  rolling-update Perform a rolling update of the given ReplicationController\r\n",
      "  scale          Set a new size for a Deployment, ReplicaSet, Replication\r\n",
      "Controller, or Job\r\n",
      "  autoscale      Auto-scale a Deployment, ReplicaSet, or ReplicationController\r\n",
      "\r\n",
      "Cluster Management Commands:\r\n",
      "  certificate    Modify certificate resources.\r\n",
      "  cluster-info   Display cluster info\r\n",
      "  top            Display Resource (CPU/Memory/Storage) usage.\r\n",
      "  cordon         Mark node as unschedulable\r\n",
      "  uncordon       Mark node as schedulable\r\n",
      "  drain          Drain node in preparation for maintenance\r\n",
      "  taint          Update the taints on one or more nodes\r\n",
      "\r\n",
      "Troubleshooting and Debugging Commands:\r\n",
      "  describe       Show details of a specific resource or group of resources\r\n",
      "  logs           Print the logs for a container in a pod\r\n",
      "  attach         Attach to a running container\r\n",
      "  exec           Execute a command in a container\r\n",
      "  port-forward   Forward one or more local ports to a pod\r\n",
      "  proxy          Run a proxy to the Kubernetes API server\r\n",
      "  cp             Copy files and directories to and from containers.\r\n",
      "  auth           Inspect authorization\r\n",
      "\r\n",
      "Advanced Commands:\r\n",
      "  apply          Apply a configuration to a resource by filename or stdin\r\n",
      "  patch          Update field(s) of a resource using strategic merge patch\r\n",
      "  replace        Replace a resource by filename or stdin\r\n",
      "  convert        Convert config files between different API versions\r\n",
      "\r\n",
      "Settings Commands:\r\n",
      "  label          Update the labels on a resource\r\n",
      "  annotate       Update the annotations on a resourcewatch is only supported on\r\n",
      "individual resources and resource collections - %d resources were found\r\n",
      "  completion     Output shell completion code for the specified shell (bash or\r\n",
      "zsh)\r\n",
      "\r\n",
      "Other Commands:\r\n",
      "  api-versions   Print the supported API versions on the server, in the form of\r\n",
      "\"group/version\"\r\n",
      "  config         Modify kubeconfig files\r\n",
      "  help           Help about any command\r\n",
      "  version        Print the client and server version information\r\n",
      "\r\n",
      "Use \"kubectl <command> --help\" for more information about a given command.\r\n",
      "Use \"kubectl options\" for a list of global command-line options (applies to all\r\n",
      "commands).\r\n"
     ]
    }
   ],
   "source": [
    "!"
   ]
  },
  {
   "cell_type": "markdown",
   "metadata": {},
   "source": [
    "### Evaluate"
   ]
  },
  {
   "cell_type": "code",
   "execution_count": null,
   "metadata": {
    "collapsed": true
   },
   "outputs": [],
   "source": [
    "import urllib.parse\n",
    "import json\n",
    "\n",
    "namespace = 'default'\n",
    "model_name = 'iris'\n",
    "version = '1'\n",
    "evaluate_url = 'http://prediction-pmml service IP/evaluate-pmml/%s/%s/%s' % (namespace, model_name, version)\n",
    "\n",
    "evaluate_headers = {}\n",
    "evaluate_headers['Content-type'] = 'application/json'\n",
    "\n",
    "test = iris_df\n",
    "input_params = test.ix[0,:-1].to_json()\n",
    "encoded_input_params = input_params.encode('utf-8')\n",
    "req = urllib.request.Request(evaluate_url, headers=evaluate_headers,data=encoded_input_params)\n",
    "resp = urllib.request.urlopen(req, timeout=3)\n",
    "print(resp.read().decode())"
   ]
  }
 ],
 "metadata": {
  "anaconda-cloud": {},
  "kernelspec": {
   "display_name": "Python [default]",
   "language": "python",
   "name": "python3"
  },
  "language_info": {
   "codemirror_mode": {
    "name": "ipython",
    "version": 3
   },
   "file_extension": ".py",
   "mimetype": "text/x-python",
   "name": "python",
   "nbconvert_exporter": "python",
   "pygments_lexer": "ipython3",
   "version": "3.5.3"
  }
 },
 "nbformat": 4,
 "nbformat_minor": 2
}
