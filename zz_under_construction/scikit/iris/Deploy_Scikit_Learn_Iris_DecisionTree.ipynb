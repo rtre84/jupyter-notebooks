{
 "cells": [
  {
   "cell_type": "code",
   "execution_count": 4,
   "metadata": {
    "collapsed": false
   },
   "outputs": [
    {
     "name": "stdout",
     "output_type": "stream",
     "text": [
      "Requirement already satisfied: sklearn_pandas in /opt/conda/lib/python3.5/site-packages\r\n",
      "Requirement already satisfied: numpy>=1.6.1 in /opt/conda/lib/python3.5/site-packages (from sklearn_pandas)\r\n",
      "Requirement already satisfied: scikit-learn>=0.15.0 in /opt/conda/lib/python3.5/site-packages (from sklearn_pandas)\r\n",
      "Requirement already satisfied: scipy>=0.14 in /opt/conda/lib/python3.5/site-packages (from sklearn_pandas)\r\n",
      "Requirement already satisfied: pandas>=0.11.0 in /opt/conda/lib/python3.5/site-packages (from sklearn_pandas)\r\n",
      "Requirement already satisfied: python-dateutil>=2 in /opt/conda/lib/python3.5/site-packages (from pandas>=0.11.0->sklearn_pandas)\r\n",
      "Requirement already satisfied: pytz>=2011k in /opt/conda/lib/python3.5/site-packages (from pandas>=0.11.0->sklearn_pandas)\r\n",
      "Requirement already satisfied: six>=1.5 in /opt/conda/lib/python3.5/site-packages (from python-dateutil>=2->pandas>=0.11.0->sklearn_pandas)\r\n",
      "Collecting git+https://github.com/jpmml/sklearn2pmml.git\r\n",
      "  Cloning https://github.com/jpmml/sklearn2pmml.git to /tmp/pip-kv7b1tw2-build\r\n",
      "  Requirement already satisfied (use --upgrade to upgrade): sklearn2pmml==0.19.0 from git+https://github.com/jpmml/sklearn2pmml.git in /opt/conda/lib/python3.5/site-packages\r\n",
      "Requirement already satisfied: scikit-learn>=0.16.0 in /opt/conda/lib/python3.5/site-packages (from sklearn2pmml==0.19.0)\r\n",
      "Requirement already satisfied: sklearn_pandas>=0.0.10 in /opt/conda/lib/python3.5/site-packages (from sklearn2pmml==0.19.0)\r\n",
      "Requirement already satisfied: scipy>=0.14 in /opt/conda/lib/python3.5/site-packages (from sklearn_pandas>=0.0.10->sklearn2pmml==0.19.0)\r\n",
      "Requirement already satisfied: numpy>=1.6.1 in /opt/conda/lib/python3.5/site-packages (from sklearn_pandas>=0.0.10->sklearn2pmml==0.19.0)\r\n",
      "Requirement already satisfied: pandas>=0.11.0 in /opt/conda/lib/python3.5/site-packages (from sklearn_pandas>=0.0.10->sklearn2pmml==0.19.0)\r\n",
      "Requirement already satisfied: python-dateutil>=2 in /opt/conda/lib/python3.5/site-packages (from pandas>=0.11.0->sklearn_pandas>=0.0.10->sklearn2pmml==0.19.0)\r\n",
      "Requirement already satisfied: pytz>=2011k in /opt/conda/lib/python3.5/site-packages (from pandas>=0.11.0->sklearn_pandas>=0.0.10->sklearn2pmml==0.19.0)\r\n",
      "Requirement already satisfied: six>=1.5 in /opt/conda/lib/python3.5/site-packages (from python-dateutil>=2->pandas>=0.11.0->sklearn_pandas>=0.0.10->sklearn2pmml==0.19.0)\r\n"
     ]
    }
   ],
   "source": [
    "!pip install sklearn_pandas\n",
    "!pip install git+https://github.com/jpmml/sklearn2pmml.git"
   ]
  },
  {
   "cell_type": "markdown",
   "metadata": {},
   "source": [
    "# Scikit-learn demo"
   ]
  },
  {
   "cell_type": "markdown",
   "metadata": {},
   "source": [
    "## Build pipeline"
   ]
  },
  {
   "cell_type": "code",
   "execution_count": null,
   "metadata": {
    "collapsed": false,
    "scrolled": true
   },
   "outputs": [],
   "source": [
    "import pandas as pd\n",
    "import numpy as np\n",
    "import urllib.request\n",
    "import urllib.parse\n",
    "import json\n",
    "\n",
    "from sklearn.datasets import load_diabetes,load_iris\n",
    "from sklearn.linear_model import LinearRegression\n",
    "from sklearn.metrics import mean_squared_error as mse, r2_score\n",
    "from sklearn2pmml import PMMLPipeline\n",
    "from sklearn.tree import DecisionTreeClassifier\n",
    "from sklearn2pmml import sklearn2pmml\n",
    "\n",
    "diabetes = load_diabetes()\n",
    "model = LinearRegression()\n",
    "model.fit(diabetes.data, diabetes.target)\n",
    "expected  = diabetes.target\n",
    "predicted = model.predict(diabetes.data)\n",
    "print(\"Mean Squared Error: %0.3f\" % mse(expected, predicted))\n",
    "print(\"Coefficient of Determination: %0.3f\" % r2_score(expected, predicted))\n",
    "\n",
    "iris = load_iris()\n",
    "iris_df = pd.DataFrame(iris.data,columns=iris.feature_names)\n",
    "iris_df['Species'] = iris.target\n",
    "iris_pipeline = PMMLPipeline([\n",
    "    (\"classifier\", DecisionTreeClassifier())\n",
    "])\n",
    "iris_pipeline.fit(iris_df[iris_df.columns.difference([\"Species\"])], iris_df[\"Species\"])"
   ]
  },
  {
   "cell_type": "markdown",
   "metadata": {},
   "source": [
    "### Convert to PMML"
   ]
  },
  {
   "cell_type": "code",
   "execution_count": null,
   "metadata": {
    "collapsed": true
   },
   "outputs": [],
   "source": [
    "sklearn2pmml(iris_pipeline, \"pipeline.pmml\", with_repr = True)\n",
    "pmmlBytes = bytearray(open('pipeline.pmml', 'rb').read())"
   ]
  },
  {
   "cell_type": "markdown",
   "metadata": {},
   "source": [
    "### Serve"
   ]
  },
  {
   "cell_type": "code",
   "execution_count": null,
   "metadata": {
    "collapsed": false
   },
   "outputs": [],
   "source": [
    "update_url = \"http://<your-ip>:39040/update-pmml/pmml_iris\"\n",
    "update_headers = {}\n",
    "update_headers[\"Content-type\"] = \"application/xml\"\n",
    "req = urllib.request.Request(update_url,headers=update_headers,data=pmmlBytes)\n",
    "resp = urllib.request.urlopen(req)\n",
    "print(resp.status)"
   ]
  },
  {
   "cell_type": "markdown",
   "metadata": {},
   "source": [
    "### Evaluate"
   ]
  },
  {
   "cell_type": "code",
   "execution_count": null,
   "metadata": {
    "collapsed": false
   },
   "outputs": [],
   "source": [
    "evaluate_url = 'http://<your-ip>:39040/evaluate-pmml/pmml_iris'\n",
    "evaluate_headers = {}\n",
    "evaluate_headers['Content-type'] = 'application/json'\n",
    "test = iris_df\n",
    "input_params = test.ix[0,:-1].to_json()\n",
    "encoded_input_params = input_params.encode('utf-8')\n",
    "req = urllib.request.Request(evaluate_url, headers=evaluate_headers,data=encoded_input_params)\n",
    "resp = urllib.request.urlopen(req)\n",
    "print(resp.read())"
   ]
  },
  {
   "cell_type": "code",
   "execution_count": null,
   "metadata": {
    "collapsed": true
   },
   "outputs": [],
   "source": []
  }
 ],
 "metadata": {
  "anaconda-cloud": {},
  "kernelspec": {
   "display_name": "Python [default]",
   "language": "python",
   "name": "python3"
  },
  "language_info": {
   "codemirror_mode": {
    "name": "ipython",
    "version": 3
   },
   "file_extension": ".py",
   "mimetype": "text/x-python",
   "name": "python",
   "nbconvert_exporter": "python",
   "pygments_lexer": "ipython3",
   "version": "3.5.3"
  }
 },
 "nbformat": 4,
 "nbformat_minor": 2
}
