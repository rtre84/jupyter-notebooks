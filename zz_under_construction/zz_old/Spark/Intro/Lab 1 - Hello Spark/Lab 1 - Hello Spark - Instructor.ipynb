{
 "cells": [
  {
   "cell_type": "markdown",
   "metadata": {},
   "source": [
    "## Lab 1 - Hello Spark\n",
    "This Lab will show you how to work with Apache Spark using Python"
   ]
  },
  {
   "cell_type": "code",
   "execution_count": null,
   "metadata": {
    "collapsed": true
   },
   "outputs": [],
   "source": []
  },
  {
   "cell_type": "markdown",
   "metadata": {},
   "source": [
    "###Step 1 - Working with Spark Context\n",
    "###Check what version of Apache Spark is setup within this lab notebook.\n",
    "Apache Spark has a driver application that launches various parrallel applications on a cluster. The drier application uses a spark context allow a programming interface to interact with the driver application. This is know as a Spark Context which supports multiple Python, Scala and Java programming languages.\n",
    "\n",
    "In step 1 - Invoke the spark context and extract what version of the spark driver application is running.\n",
    "\n",
    "Note: In the cloud based notebook enviornment used for this lab, the spark context is predefined"
   ]
  },
  {
   "cell_type": "code",
   "execution_count": 3,
   "metadata": {
    "collapsed": false
   },
   "outputs": [
    {
     "data": {
      "text/plain": [
       "<pyspark.context.SparkContext at 0x7fd500879b10>"
      ]
     },
     "execution_count": 3,
     "metadata": {},
     "output_type": "execute_result"
    }
   ],
   "source": [
    "#Step 1 - sc is Spark Context, Execute Spark Context to see if its active in cluster\n",
    "\n",
    "#Note: Notice the programming language used\n",
    "sc"
   ]
  },
  {
   "cell_type": "code",
   "execution_count": 4,
   "metadata": {
    "collapsed": false
   },
   "outputs": [
    {
     "data": {
      "text/plain": [
       "u'1.6.1'"
      ]
     },
     "execution_count": 4,
     "metadata": {},
     "output_type": "execute_result"
    }
   ],
   "source": [
    "#Step 1 - The spark context has a .version available to return the version of the spark driver application\n",
    "\n",
    "#Note: Different versions of spark application support additional functionality such as DataFrames, Streaming and Machine Learning.\n",
    "\n",
    "#Invoke the spark context version command\n",
    "sc.version"
   ]
  },
  {
   "cell_type": "markdown",
   "metadata": {},
   "source": [
    "###Step 2 - Working with Resilient Distributed Datasets\n",
    "###Create multiple RDDs and return results\n",
    "Apache Spark uses an abstration for working with data called RDDs - Resilient Distributed Datasets. An RDD is simply an immutable distributed collection of objects. In Apache Spark all work is expressed by either creating new RDDs, tranforming existing RDDs or using RDDs to compute results. When working with RDDs, the Spark Driver application automatically distributes the work accross your cluster.\n",
    "\n",
    "In Step 2 - Create RDD with numbers 1 to 10,\n",
    "Extract first line,\n",
    "Extract first 5 lines,\n",
    "Create RDD with string \"Hello Spark\",\n",
    "Extract first line.\n",
    "\n",
    "Invoke an Action to return data from your RDDs.\n",
    "\n",
    "Note: RDD commands are either transformations or actions. Transformations are commands that do not initiate a computation requiring parrallel application execution on a spark cluster."
   ]
  },
  {
   "cell_type": "code",
   "execution_count": 19,
   "metadata": {
    "collapsed": true
   },
   "outputs": [],
   "source": [
    "#Step 2 - Create RDD Numbers\n",
    "\n",
    "#Create numbers 1 to 10 into a variable\n",
    "x = [1, 2, 3, 4, 5, 6, 7, 8, 9, 10]\n",
    "\n",
    "#Place the numbers into an rdd called x_nbr_rdd\n",
    "#Note: the spark context has a parallelize command to create RDD from data\n",
    "#Hint... sc.parallelize(Data here, pass in variable)\n",
    "x_nbr_rdd = sc.parallelize(x)"
   ]
  },
  {
   "cell_type": "code",
   "execution_count": 15,
   "metadata": {
    "collapsed": false
   },
   "outputs": [
    {
     "data": {
      "text/plain": [
       "1"
      ]
     },
     "execution_count": 15,
     "metadata": {},
     "output_type": "execute_result"
    }
   ],
   "source": [
    "#Step 2 - Extract first line\n",
    "\n",
    "#Notice: after running the code you did not recieve a result.\n",
    "#This is because you haven't yet invoked an Action command.\n",
    "\n",
    "#Note: RDDs support first() command which returns the first object and is also an action command\n",
    "\n",
    "#Invoke first on your RDD - Action\n",
    "x_nbr_rdd.first()"
   ]
  },
  {
   "cell_type": "code",
   "execution_count": 5,
   "metadata": {
    "collapsed": false
   },
   "outputs": [
    {
     "data": {
      "text/plain": [
       "[1, 2, 3, 4, 5]"
      ]
     },
     "execution_count": 5,
     "metadata": {},
     "output_type": "execute_result"
    }
   ],
   "source": [
    "#Step 2 - Extract first 5 lines\n",
    "\n",
    "#Note: RDDs support take() command which returns x number of objects that you pass into the command\n",
    "#Invoke take() and extract first 5 lines\n",
    "x_nbr_rdd.take(5)"
   ]
  },
  {
   "cell_type": "code",
   "execution_count": 16,
   "metadata": {
    "collapsed": false
   },
   "outputs": [
    {
     "data": {
      "text/plain": [
       "'Hello Spark!'"
      ]
     },
     "execution_count": 16,
     "metadata": {},
     "output_type": "execute_result"
    }
   ],
   "source": [
    "#Step 2 - Create RDD String, Extract first line\n",
    "\n",
    "#Create a string \"Hello Spark!\"\n",
    "y = [\"Hello Spark!\"]\n",
    "\n",
    "#Place the string value into an rdd called y_str_rdd\n",
    "y_str_rdd = sc.parallelize(y)\n",
    "\n",
    "#Return the first value in yoru RDD - Action\n",
    "y_str_rdd.first()"
   ]
  },
  {
   "cell_type": "markdown",
   "metadata": {},
   "source": [
    "###Step 3 - Working with Strings\n",
    "As you can see, you created a single string \"Hello Spark!\" and you returned value of one object is \"Hello Spark!\" What if we wanted to work with a string corpus of words and run analysis on each of the works, then you would need to map each word into many objects (or lines) in an RDD. \n",
    "\n",
    "In Step 3 - Create a larger string of words that include \"Hello\" and \"Spark\",\n",
    "Map the string into an RDD as a collection of words,\n",
    "extract the count of words \"Hello\" and \"Spark\" found in your RDD. "
   ]
  },
  {
   "cell_type": "code",
   "execution_count": 7,
   "metadata": {
    "collapsed": false
   },
   "outputs": [
    {
     "data": {
      "text/plain": [
       "'Hello World!, Hello Universe!, I love Spark'"
      ]
     },
     "execution_count": 7,
     "metadata": {},
     "output_type": "execute_result"
    }
   ],
   "source": [
    "#Step 3 - Create RDD String, Extract first line\n",
    "\n",
    "#Create a string with many words including \"Hello\" and \"Spark\"\n",
    "z = [\"Hello World!, Hello Universe!, I love Spark\"]\n",
    "\n",
    "#Place the string value into an rdd called z_str_rdd\n",
    "z_str_rdd = sc.parallelize(z)\n",
    "\n",
    "#Extract first line\n",
    "z_str_rdd.first()"
   ]
  },
  {
   "cell_type": "code",
   "execution_count": 8,
   "metadata": {
    "collapsed": false
   },
   "outputs": [
    {
     "data": {
      "text/plain": [
       "['Hello', 'World!,', 'Hello', 'Universe!,', 'I', 'love', 'Spark']"
      ]
     },
     "execution_count": 8,
     "metadata": {},
     "output_type": "execute_result"
    }
   ],
   "source": [
    "#Step 3 - Create RDD with object for each word, Extract first 7 words\n",
    "\n",
    "#Note: To analys your string you have to break down your string in to multiple objects.\n",
    "#One way to do that is to map each word into elements/lines in your RDD\n",
    "\n",
    "#A RDD transformation called map, takes in an RDD and runs command on it. For Example a split command to split elements by a value \n",
    "#A RDD tranformation called flatmap, does the same as map but returns a list of elements (0 or more) as an iterator\n",
    "#Hint... flatMap(lambda line: line.split(\" \"))\n",
    "\n",
    "#Create a new RDD z_str2_rdd using this transformation\n",
    "#z_str2_rdd = z_str_rdd.flatMap(lambda line: line.split(\" \"))\n",
    "z_str2_rdd = z_str_rdd.flatMap(lambda line: line.split(\" \"))\n",
    "\n",
    "#Extract first 7 words - Action\n",
    "z_str2_rdd.take(7)"
   ]
  },
  {
   "cell_type": "code",
   "execution_count": 9,
   "metadata": {
    "collapsed": false
   },
   "outputs": [
    {
     "name": "stdout",
     "output_type": "stream",
     "text": [
      "The count of words 'Hello' in: 'Hello World!, Hello Universe!, I love Spark'\n",
      "Is: 2\n"
     ]
    }
   ],
   "source": [
    "#Step 3 - Count of \"Hello\" words\n",
    "\n",
    "#Note: You can use filter command to create a new RDD from another RDD on a filter criteria\n",
    "#Hint... filter syntax is .filter(lambda line: \"Filter Criteria Value\" in line) \n",
    "\n",
    "#Create a new RDD z_str3_rdd for all \"Hello\" words in corpus of words \n",
    "z_str3_rdd = z_str2_rdd.filter(lambda line: \"Hello\" in line) \n",
    "\n",
    "#Note: Use a simple python print command to add string to your spark results\n",
    "#Hint... repr() will represent a number as string\n",
    "#Hint... Syntax: print \"Text:\" + repr(Spark commands)\n",
    "\n",
    "#Extract count of values in the new RDD which represents number of \"Hello\" words in corpus\n",
    "print \"The count of words 'Hello' in: \" + repr(z_str_rdd.first())\n",
    "print \"Is: \" + repr(z_str3_rdd.count())"
   ]
  },
  {
   "cell_type": "code",
   "execution_count": 11,
   "metadata": {
    "collapsed": false,
    "scrolled": true
   },
   "outputs": [
    {
     "name": "stdout",
     "output_type": "stream",
     "text": [
      "The count of words 'Spark' in: 'Hello World!, Hello Universe!, I love Spark'\n",
      "Is: 1\n"
     ]
    }
   ],
   "source": [
    "#Step 3 - Count of \"Spark\" words\n",
    "#Create a new RDD z_str4_rdd for all \"Hello\" words in corpus of words \n",
    "z_str4_rdd = z_str2_rdd.filter(lambda line: \"Spark\" in line) \n",
    "\n",
    "#Extract count of values in the new RDD which represents number of \"Spark\" words in corpus\n",
    "print \"The count of words 'Spark' in: \" + repr(z_str_rdd.first())\n",
    "print \"Is: \" + repr(z_str4_rdd.count())"
   ]
  },
  {
   "cell_type": "code",
   "execution_count": null,
   "metadata": {
    "collapsed": true
   },
   "outputs": [],
   "source": []
  }
 ],
 "metadata": {
  "kernelspec": {
   "display_name": "Python 2",
   "language": "python",
   "name": "python2"
  },
  "language_info": {
   "codemirror_mode": {
    "name": "ipython",
    "version": 2
   },
   "file_extension": ".py",
   "mimetype": "text/x-python",
   "name": "python",
   "nbconvert_exporter": "python",
   "pygments_lexer": "ipython2",
   "version": "2.7.6"
  }
 },
 "nbformat": 4,
 "nbformat_minor": 0
}
