{
 "cells": [
  {
   "cell_type": "markdown",
   "metadata": {},
   "source": [
    "## Basic Data Ingestion, Aggregations, and Linear Models"
   ]
  },
  {
   "cell_type": "code",
   "execution_count": 1,
   "metadata": {
    "collapsed": false
   },
   "outputs": [
    {
     "name": "stderr",
     "output_type": "stream",
     "text": [
      "\n",
      "Attaching package: 'SparkR'\n",
      "\n",
      "The following objects are masked from 'package:stats':\n",
      "\n",
      "    cov, filter, lag, na.omit, predict, sd, var\n",
      "\n",
      "The following objects are masked from 'package:base':\n",
      "\n",
      "    colnames, colnames<-, intersect, rank, rbind, sample, subset,\n",
      "    summary, table, transform\n",
      "\n"
     ]
    }
   ],
   "source": [
    "library(SparkR, lib.loc = c(file.path(Sys.getenv(\"SPARK_HOME\"), \"R\", \"lib\")))"
   ]
  },
  {
   "cell_type": "markdown",
   "metadata": {},
   "source": [
    "### Initialize SparkContext, SQLContext, and HiveContext"
   ]
  },
  {
   "cell_type": "code",
   "execution_count": 2,
   "metadata": {
    "collapsed": false
   },
   "outputs": [
    {
     "name": "stdout",
     "output_type": "stream",
     "text": [
      "Launching java with spark-submit command /root/spark-1.6.1-bin-fluxcapacitor/bin/spark-submit --jars /usr/share/java/mysql-connector-java-5.1.28.jar --packages com.databricks:spark-csv_2.10:1.4.0 sparkr-shell /tmp/RtmpScARtp/backend_port4b7c16ad5660 \n"
     ]
    }
   ],
   "source": [
    "sc <- sparkR.init(sparkJars=\"/usr/share/java/mysql-connector-java.jar\", \n",
    "  sparkPackages=\"com.databricks:spark-csv_2.10:1.4.0\")\n",
    "sqlContext <- sparkRSQL.init(sc)\n",
    "hiveContext <- sparkRHive.init(sc)"
   ]
  },
  {
   "cell_type": "markdown",
   "metadata": {},
   "source": [
    "### Read Movie Ratings CSV"
   ]
  },
  {
   "cell_type": "code",
   "execution_count": 3,
   "metadata": {
    "collapsed": false
   },
   "outputs": [
    {
     "data": {
      "text/html": [
       "<table>\n",
       "<thead><tr><th></th><th scope=col>userId</th><th scope=col>movieId</th><th scope=col>rating</th><th scope=col>timestamp</th></tr></thead>\n",
       "<tbody>\n",
       "\t<tr><th scope=row>1</th><td>1</td><td>50</td><td>4.0</td><td>1329753504</td></tr>\n",
       "\t<tr><th scope=row>2</th><td>1</td><td>296</td><td>4.0</td><td>1329753602</td></tr>\n",
       "\t<tr><th scope=row>3</th><td>1</td><td>318</td><td>4.5</td><td>1329753494</td></tr>\n",
       "\t<tr><th scope=row>4</th><td>1</td><td>527</td><td>4.5</td><td>1329753507</td></tr>\n",
       "\t<tr><th scope=row>5</th><td>1</td><td>541</td><td>3.0</td><td>1329753607</td></tr>\n",
       "\t<tr><th scope=row>6</th><td>1</td><td>608</td><td>4.0</td><td>1329753638</td></tr>\n",
       "</tbody>\n",
       "</table>\n"
      ],
      "text/latex": [
       "\\begin{tabular}{r|llll}\n",
       "  & userId & movieId & rating & timestamp\\\\\n",
       "\\hline\n",
       "\t1 & 1 & 50 & 4.0 & 1329753504\\\\\n",
       "\t2 & 1 & 296 & 4.0 & 1329753602\\\\\n",
       "\t3 & 1 & 318 & 4.5 & 1329753494\\\\\n",
       "\t4 & 1 & 527 & 4.5 & 1329753507\\\\\n",
       "\t5 & 1 & 541 & 3.0 & 1329753607\\\\\n",
       "\t6 & 1 & 608 & 4.0 & 1329753638\\\\\n",
       "\\end{tabular}\n"
      ],
      "text/plain": [
       "  userId movieId rating  timestamp\n",
       "1      1      50    4.0 1329753504\n",
       "2      1     296    4.0 1329753602\n",
       "3      1     318    4.5 1329753494\n",
       "4      1     527    4.5 1329753507\n",
       "5      1     541    3.0 1329753607\n",
       "6      1     608    4.0 1329753638"
      ]
     },
     "execution_count": 3,
     "metadata": {},
     "output_type": "execute_result"
    }
   ],
   "source": [
    "movieRatingsCsvDF <- read.df(sqlContext, \n",
    "  \"/root/pipeline/datasets/movielens/ml-latest/ratings.csv\", \n",
    "  \"com.databricks.spark.csv\", header=\"true\") \n",
    "head(movieRatingsCsvDF)"
   ]
  },
  {
   "cell_type": "markdown",
   "metadata": {},
   "source": [
    "### Read Movie Ratings From Hive"
   ]
  },
  {
   "cell_type": "code",
   "execution_count": 4,
   "metadata": {
    "collapsed": false
   },
   "outputs": [
    {
     "ename": "ERROR",
     "evalue": "Error in head(results): object 'results' not found\n",
     "output_type": "error",
     "traceback": [
      "Error in head(results): object 'results' not found\n"
     ]
    }
   ],
   "source": [
    "movieRatingsHiveDF <- sql(hiveContext, \"SELECT * FROM movie_ratings\")\n",
    "head(results)"
   ]
  },
  {
   "cell_type": "markdown",
   "metadata": {},
   "source": [
    "### Show Only Ratings == 5"
   ]
  },
  {
   "cell_type": "code",
   "execution_count": 5,
   "metadata": {
    "collapsed": false,
    "scrolled": true
   },
   "outputs": [
    {
     "data": {
      "text/html": [
       "<table>\n",
       "<thead><tr><th></th><th scope=col>userId</th><th scope=col>movieId</th><th scope=col>rating</th><th scope=col>timestamp</th></tr></thead>\n",
       "<tbody>\n",
       "\t<tr><th scope=row>1</th><td>1</td><td>3897</td><td>5</td><td>1329753716</td></tr>\n",
       "\t<tr><th scope=row>2</th><td>1</td><td>4783</td><td>5</td><td>1329754027</td></tr>\n",
       "\t<tr><th scope=row>3</th><td>1</td><td>4979</td><td>5</td><td>1329753751</td></tr>\n",
       "\t<tr><th scope=row>4</th><td>1</td><td>4995</td><td>5</td><td>1329753888</td></tr>\n",
       "\t<tr><th scope=row>5</th><td>1</td><td>6380</td><td>5</td><td>1329753988</td></tr>\n",
       "\t<tr><th scope=row>6</th><td>1</td><td>7361</td><td>5</td><td>1329753448</td></tr>\n",
       "</tbody>\n",
       "</table>\n"
      ],
      "text/latex": [
       "\\begin{tabular}{r|llll}\n",
       "  & userId & movieId & rating & timestamp\\\\\n",
       "\\hline\n",
       "\t1 & 1 & 3897 & 5 & 1329753716\\\\\n",
       "\t2 & 1 & 4783 & 5 & 1329754027\\\\\n",
       "\t3 & 1 & 4979 & 5 & 1329753751\\\\\n",
       "\t4 & 1 & 4995 & 5 & 1329753888\\\\\n",
       "\t5 & 1 & 6380 & 5 & 1329753988\\\\\n",
       "\t6 & 1 & 7361 & 5 & 1329753448\\\\\n",
       "\\end{tabular}\n"
      ],
      "text/plain": [
       "  userId movieId rating  timestamp\n",
       "1      1    3897      5 1329753716\n",
       "2      1    4783      5 1329754027\n",
       "3      1    4979      5 1329753751\n",
       "4      1    4995      5 1329753888\n",
       "5      1    6380      5 1329753988\n",
       "6      1    7361      5 1329753448"
      ]
     },
     "execution_count": 5,
     "metadata": {},
     "output_type": "execute_result"
    }
   ],
   "source": [
    "head(filter(movieRatingsHiveDF, movieRatingsHiveDF$rating == 5))"
   ]
  },
  {
   "cell_type": "markdown",
   "metadata": {},
   "source": [
    "### Aggregate and Count By UserId"
   ]
  },
  {
   "cell_type": "code",
   "execution_count": 6,
   "metadata": {
    "collapsed": false
   },
   "outputs": [
    {
     "data": {
      "text/html": [
       "<table>\n",
       "<thead><tr><th></th><th scope=col>userId</th><th scope=col>count</th></tr></thead>\n",
       "<tbody>\n",
       "\t<tr><th scope=row>1</th><td>92302</td><td>9269</td></tr>\n",
       "\t<tr><th scope=row>2</th><td>142788</td><td>7515</td></tr>\n",
       "\t<tr><th scope=row>3</th><td>8452</td><td>6779</td></tr>\n",
       "\t<tr><th scope=row>4</th><td>165005</td><td>5679</td></tr>\n",
       "\t<tr><th scope=row>5</th><td>221498</td><td>5644</td></tr>\n",
       "\t<tr><th scope=row>6</th><td>216632</td><td>5601</td></tr>\n",
       "</tbody>\n",
       "</table>\n"
      ],
      "text/latex": [
       "\\begin{tabular}{r|ll}\n",
       "  & userId & count\\\\\n",
       "\\hline\n",
       "\t1 & 92302 & 9269\\\\\n",
       "\t2 & 142788 & 7515\\\\\n",
       "\t3 & 8452 & 6779\\\\\n",
       "\t4 & 165005 & 5679\\\\\n",
       "\t5 & 221498 & 5644\\\\\n",
       "\t6 & 216632 & 5601\\\\\n",
       "\\end{tabular}\n"
      ],
      "text/plain": [
       "  userId count\n",
       "1  92302  9269\n",
       "2 142788  7515\n",
       "3   8452  6779\n",
       "4 165005  5679\n",
       "5 221498  5644\n",
       "6 216632  5601"
      ]
     },
     "execution_count": 6,
     "metadata": {},
     "output_type": "execute_result"
    }
   ],
   "source": [
    "userIdCounts <- \n",
    "  summarize(groupBy(movieRatingsHiveDF, movieRatingsHiveDF$userId), \n",
    "  count = n(movieRatingsHiveDF$userId))\n",
    "head(arrange(userIdCounts, desc(userIdCounts$count)))"
   ]
  },
  {
   "cell_type": "markdown",
   "metadata": {},
   "source": [
    "### Train Linear Regression Model"
   ]
  },
  {
   "cell_type": "code",
   "execution_count": 7,
   "metadata": {
    "collapsed": true
   },
   "outputs": [],
   "source": [
    "linearRegressionModel <- glm(rating ~ userId + movieId, \n",
    "  data = movieRatingsHiveDF, family = \"gaussian\")"
   ]
  },
  {
   "cell_type": "markdown",
   "metadata": {},
   "source": [
    "### Predict Using Trained Linear Regression Model"
   ]
  },
  {
   "cell_type": "code",
   "execution_count": 8,
   "metadata": {
    "collapsed": true
   },
   "outputs": [],
   "source": [
    "predictionsDF <- predict(linearRegressionModel, movieRatingsHiveDF)"
   ]
  },
  {
   "cell_type": "markdown",
   "metadata": {},
   "source": [
    "### Calculate Errors"
   ]
  },
  {
   "cell_type": "code",
   "execution_count": 9,
   "metadata": {
    "collapsed": false
   },
   "outputs": [
    {
     "data": {
      "text/html": [
       "<table>\n",
       "<thead><tr><th></th><th scope=col>label</th><th scope=col>prediction</th><th scope=col>userId</th><th scope=col>movieId</th><th scope=col>error</th></tr></thead>\n",
       "<tbody>\n",
       "\t<tr><th scope=row>1</th><td>4</td><td>3.522174</td><td>1</td><td>50</td><td>0.4778256</td></tr>\n",
       "\t<tr><th scope=row>2</th><td>4</td><td>3.522209</td><td>1</td><td>296</td><td>0.4777909</td></tr>\n",
       "\t<tr><th scope=row>3</th><td>4.5</td><td>3.522212</td><td>1</td><td>318</td><td>0.9777878</td></tr>\n",
       "\t<tr><th scope=row>4</th><td>4.5</td><td>3.522242</td><td>1</td><td>527</td><td>0.9777584</td></tr>\n",
       "\t<tr><th scope=row>5</th><td>3</td><td>3.522244</td><td>1</td><td>541</td><td>-0.5222436</td></tr>\n",
       "\t<tr><th scope=row>6</th><td>4</td><td>3.522253</td><td>1</td><td>608</td><td>0.4777469</td></tr>\n",
       "</tbody>\n",
       "</table>\n"
      ],
      "text/latex": [
       "\\begin{tabular}{r|lllll}\n",
       "  & label & prediction & userId & movieId & error\\\\\n",
       "\\hline\n",
       "\t1 & 4 & 3.522174 & 1 & 50 & 0.4778256\\\\\n",
       "\t2 & 4 & 3.522209 & 1 & 296 & 0.4777909\\\\\n",
       "\t3 & 4.5 & 3.522212 & 1 & 318 & 0.9777878\\\\\n",
       "\t4 & 4.5 & 3.522242 & 1 & 527 & 0.9777584\\\\\n",
       "\t5 & 3 & 3.522244 & 1 & 541 & -0.5222436\\\\\n",
       "\t6 & 4 & 3.522253 & 1 & 608 & 0.4777469\\\\\n",
       "\\end{tabular}\n"
      ],
      "text/plain": [
       "  label prediction userId movieId      error\n",
       "1   4.0   3.522174      1      50  0.4778256\n",
       "2   4.0   3.522209      1     296  0.4777909\n",
       "3   4.5   3.522212      1     318  0.9777878\n",
       "4   4.5   3.522242      1     527  0.9777584\n",
       "5   3.0   3.522244      1     541 -0.5222436\n",
       "6   4.0   3.522253      1     608  0.4777469"
      ]
     },
     "execution_count": 9,
     "metadata": {},
     "output_type": "execute_result"
    }
   ],
   "source": [
    "errorsDF <- select(\n",
    "    predictionsDF, predictionsDF$label, predictionsDF$prediction, \n",
    "    predictionsDF$userId, predictionsDF$movieId, \n",
    "    alias(predictionsDF$label - predictionsDF$prediction, \"error\"))\n",
    "head(errorsDF)"
   ]
  }
 ],
 "metadata": {
  "kernelspec": {
   "display_name": "R",
   "language": "R",
   "name": "ir"
  },
  "language_info": {
   "codemirror_mode": "r",
   "file_extension": ".r",
   "mimetype": "text/x-r-source",
   "name": "R",
   "pygments_lexer": "r",
   "version": "3.3.0"
  }
 },
 "nbformat": 4,
 "nbformat_minor": 0
}
