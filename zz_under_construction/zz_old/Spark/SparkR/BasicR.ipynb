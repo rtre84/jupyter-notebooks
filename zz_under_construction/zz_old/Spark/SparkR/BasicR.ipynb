{
 "cells": [
  {
   "cell_type": "code",
   "execution_count": 3,
   "metadata": {
    "collapsed": false
   },
   "outputs": [
    {
     "data": {
      "text/html": [
       "5"
      ],
      "text/latex": [
       "5"
      ],
      "text/markdown": [
       "5"
      ],
      "text/plain": [
       "[1] 5"
      ]
     },
     "execution_count": 3,
     "metadata": {},
     "output_type": "execute_result"
    }
   ],
   "source": [
    "5"
   ]
  },
  {
   "cell_type": "code",
   "execution_count": 5,
   "metadata": {
    "collapsed": true
   },
   "outputs": [],
   "source": [
    "y <- matrix(c(1,2,3,4,3,4),2,3)"
   ]
  },
  {
   "cell_type": "code",
   "execution_count": 6,
   "metadata": {
    "collapsed": false
   },
   "outputs": [
    {
     "data": {
      "text/html": [
       "<table>\n",
       "<tbody>\n",
       "\t<tr><td>1</td><td>3</td><td>3</td></tr>\n",
       "\t<tr><td>2</td><td>4</td><td>4</td></tr>\n",
       "</tbody>\n",
       "</table>\n"
      ],
      "text/latex": [
       "\\begin{tabular}{lll}\n",
       "\t 1 & 3 & 3\\\\\n",
       "\t 2 & 4 & 4\\\\\n",
       "\\end{tabular}\n"
      ],
      "text/markdown": [
       "1. 1\n",
       "2. 2\n",
       "3. 3\n",
       "4. 4\n",
       "5. 3\n",
       "6. 4\n",
       "\n",
       "\n"
      ],
      "text/plain": [
       "     [,1] [,2] [,3]\n",
       "[1,]    1    3    3\n",
       "[2,]    2    4    4"
      ]
     },
     "execution_count": 6,
     "metadata": {},
     "output_type": "execute_result"
    }
   ],
   "source": [
    "y"
   ]
  },
  {
   "cell_type": "code",
   "execution_count": 14,
   "metadata": {
    "collapsed": true
   },
   "outputs": [],
   "source": [
    "x <- c(1:6)"
   ]
  },
  {
   "cell_type": "code",
   "execution_count": 13,
   "metadata": {
    "collapsed": false
   },
   "outputs": [
    {
     "data": {
      "text/html": [
       "<ol class=list-inline>\n",
       "\t<li>1</li>\n",
       "\t<li>2</li>\n",
       "\t<li>3</li>\n",
       "\t<li>4</li>\n",
       "\t<li>5</li>\n",
       "\t<li>6</li>\n",
       "</ol>\n"
      ],
      "text/latex": [
       "\\begin{enumerate*}\n",
       "\\item 1\n",
       "\\item 2\n",
       "\\item 3\n",
       "\\item 4\n",
       "\\item 5\n",
       "\\item 6\n",
       "\\end{enumerate*}\n"
      ],
      "text/markdown": [
       "1. 1\n",
       "2. 2\n",
       "3. 3\n",
       "4. 4\n",
       "5. 5\n",
       "6. 6\n",
       "\n",
       "\n"
      ],
      "text/plain": [
       "[1] 1 2 3 4 5 6"
      ]
     },
     "execution_count": 13,
     "metadata": {},
     "output_type": "execute_result"
    }
   ],
   "source": [
    "x"
   ]
  },
  {
   "cell_type": "code",
   "execution_count": 16,
   "metadata": {
    "collapsed": false
   },
   "outputs": [],
   "source": [
    "f <- function(x)\n",
    "{\n",
    "  x^3 + x^2 + x + 10\n",
    "}"
   ]
  },
  {
   "cell_type": "code",
   "execution_count": 17,
   "metadata": {
    "collapsed": false
   },
   "outputs": [
    {
     "data": {
      "text/html": [
       "<ol class=list-inline>\n",
       "\t<li>13</li>\n",
       "\t<li>24</li>\n",
       "\t<li>49</li>\n",
       "\t<li>94</li>\n",
       "\t<li>165</li>\n",
       "\t<li>268</li>\n",
       "</ol>\n"
      ],
      "text/latex": [
       "\\begin{enumerate*}\n",
       "\\item 13\n",
       "\\item 24\n",
       "\\item 49\n",
       "\\item 94\n",
       "\\item 165\n",
       "\\item 268\n",
       "\\end{enumerate*}\n"
      ],
      "text/markdown": [
       "1. 13\n",
       "2. 24\n",
       "3. 49\n",
       "4. 94\n",
       "5. 165\n",
       "6. 268\n",
       "\n",
       "\n"
      ],
      "text/plain": [
       "[1]  13  24  49  94 165 268"
      ]
     },
     "execution_count": 17,
     "metadata": {},
     "output_type": "execute_result"
    }
   ],
   "source": [
    "f(x)"
   ]
  },
  {
   "cell_type": "code",
   "execution_count": 54,
   "metadata": {
    "collapsed": false
   },
   "outputs": [
    {
     "data": {
      "text/html": [
       "<ol class=list-inline>\n",
       "\t<li>4</li>\n",
       "\t<li>3</li>\n",
       "\t<li>2</li>\n",
       "\t<li>1</li>\n",
       "</ol>\n"
      ],
      "text/latex": [
       "\\begin{enumerate*}\n",
       "\\item 4\n",
       "\\item 3\n",
       "\\item 2\n",
       "\\item 1\n",
       "\\end{enumerate*}\n"
      ],
      "text/markdown": [
       "1. 4\n",
       "2. 3\n",
       "3. 2\n",
       "4. 1\n",
       "\n",
       "\n"
      ],
      "text/plain": [
       "[1] 4 3 2 1"
      ]
     },
     "execution_count": 54,
     "metadata": {},
     "output_type": "execute_result"
    }
   ],
   "source": [
    "u <- c(4,3,2,1)\n",
    "u"
   ]
  },
  {
   "cell_type": "code",
   "execution_count": 55,
   "metadata": {
    "collapsed": false
   },
   "outputs": [
    {
     "data": {
      "text/html": [
       "<ol class=list-inline>\n",
       "\t<li>1</li>\n",
       "\t<li>2</li>\n",
       "\t<li>3</li>\n",
       "\t<li>4</li>\n",
       "</ol>\n"
      ],
      "text/latex": [
       "\\begin{enumerate*}\n",
       "\\item 1\n",
       "\\item 2\n",
       "\\item 3\n",
       "\\item 4\n",
       "\\end{enumerate*}\n"
      ],
      "text/markdown": [
       "1. 1\n",
       "2. 2\n",
       "3. 3\n",
       "4. 4\n",
       "\n",
       "\n"
      ],
      "text/plain": [
       "[1] 1 2 3 4"
      ]
     },
     "execution_count": 55,
     "metadata": {},
     "output_type": "execute_result"
    }
   ],
   "source": [
    "v <- c(1,2,3,4)\n",
    "v"
   ]
  },
  {
   "cell_type": "code",
   "execution_count": 52,
   "metadata": {
    "collapsed": false
   },
   "outputs": [
    {
     "data": {
      "text/html": [
       "<ol class=list-inline>\n",
       "\t<li>4</li>\n",
       "\t<li>6</li>\n",
       "\t<li>6</li>\n",
       "\t<li>4</li>\n",
       "</ol>\n"
      ],
      "text/latex": [
       "\\begin{enumerate*}\n",
       "\\item 4\n",
       "\\item 6\n",
       "\\item 6\n",
       "\\item 4\n",
       "\\end{enumerate*}\n"
      ],
      "text/markdown": [
       "1. 4\n",
       "2. 6\n",
       "3. 6\n",
       "4. 4\n",
       "\n",
       "\n"
      ],
      "text/plain": [
       "[1] 4 6 6 4"
      ]
     },
     "execution_count": 52,
     "metadata": {},
     "output_type": "execute_result"
    }
   ],
   "source": [
    "u*v"
   ]
  },
  {
   "cell_type": "code",
   "execution_count": 53,
   "metadata": {
    "collapsed": false
   },
   "outputs": [
    {
     "data": {
      "text/html": [
       "<table>\n",
       "<tbody>\n",
       "\t<tr><td>20</td></tr>\n",
       "</tbody>\n",
       "</table>\n"
      ],
      "text/latex": [
       "\\begin{tabular}{l}\n",
       "\t 20\\\\\n",
       "\\end{tabular}\n"
      ],
      "text/markdown": [
       "20"
      ],
      "text/plain": [
       "     [,1]\n",
       "[1,]   20"
      ]
     },
     "execution_count": 53,
     "metadata": {},
     "output_type": "execute_result"
    }
   ],
   "source": [
    "u%*%v"
   ]
  },
  {
   "cell_type": "code",
   "execution_count": 38,
   "metadata": {
    "collapsed": false
   },
   "outputs": [
    {
     "data": {
      "text/html": [
       "\n",
       "<table width=\"100%\" summary=\"page for matmult {base}\"><tr><td>matmult {base}</td><td style=\"text-align: right;\">R Documentation</td></tr></table>\n",
       "\n",
       "<h2>Matrix Multiplication</h2>\n",
       "\n",
       "<h3>Description</h3>\n",
       "\n",
       "<p>Multiplies two matrices, if they are conformable.  If one argument is\n",
       "a vector, it will be promoted to either a row or column matrix to make\n",
       "the two arguments conformable.  If both are vectors of the same\n",
       "length, it will return the inner product (as a matrix).\n",
       "</p>\n",
       "\n",
       "\n",
       "<h3>Usage</h3>\n",
       "\n",
       "<pre>\n",
       "x %*% y\n",
       "</pre>\n",
       "\n",
       "\n",
       "<h3>Arguments</h3>\n",
       "\n",
       "<table summary=\"R argblock\">\n",
       "<tr valign=\"top\"><td><code>x, y</code></td>\n",
       "<td>\n",
       "<p>numeric or complex matrices or vectors.</p>\n",
       "</td></tr>\n",
       "</table>\n",
       "\n",
       "\n",
       "<h3>Details</h3>\n",
       "\n",
       "<p>When a vector is promoted to a matrix, its names are not\n",
       "promoted to row or column names, unlike <code>as.matrix</code>.\n",
       "</p>\n",
       "<p>This operator is S4 generic but not S3 generic.  S4 methods need to be\n",
       "written for a function of two arguments named <code>x</code> and <code>y</code>.\n",
       "</p>\n",
       "\n",
       "\n",
       "<h3>Value</h3>\n",
       "\n",
       "<p>A double or complex matrix product.  Use <code>drop</code> to remove\n",
       "dimensions which have only one level.\n",
       "</p>\n",
       "\n",
       "\n",
       "<h3>Note</h3>\n",
       "\n",
       "<p>Since <span style=\"font-family: Courier New, Courier; color: #666666;\"><b>R</b></span> 3.2.0, promotion of a vector to a 1-row or 1-column matrix\n",
       "happens in even more cases, when one of the two choices allows\n",
       "<code>x</code> and <code>y</code> to get conformable dimensions.\n",
       "</p>\n",
       "\n",
       "\n",
       "<h3>References</h3>\n",
       "\n",
       "<p>Becker, R. A., Chambers, J. M. and Wilks, A. R. (1988)\n",
       "<em>The New S Language</em>.\n",
       "Wadsworth &amp; Brooks/Cole.\n",
       "</p>\n",
       "\n",
       "\n",
       "<h3>See Also</h3>\n",
       "\n",
       "<p>For matrix <em>cross</em>products, <code>crossprod()</code> and\n",
       "<code>tcrossprod()</code> are typically preferable.\n",
       "<code>matrix</code>, <code>Arithmetic</code>, <code>diag</code>.\n",
       "</p>\n",
       "\n",
       "\n",
       "<h3>Examples</h3>\n",
       "\n",
       "<pre>\n",
       "x &lt;- 1:4\n",
       "(z &lt;- x %*% x)    # scalar (\"inner\") product (1 x 1 matrix)\n",
       "drop(z)             # as scalar\n",
       "\n",
       "y &lt;- diag(x)\n",
       "z &lt;- matrix(1:12, ncol = 3, nrow = 4)\n",
       "y %*% z\n",
       "y %*% x\n",
       "x %*% z\n",
       "</pre>\n",
       "\n",
       "<hr /><div style=\"text-align: center;\">[Package <em>base</em> version 3.2.4 ]</div>"
      ],
      "text/latex": [
       "\\inputencoding{utf8}\n",
       "\\HeaderA{matmult}{Matrix Multiplication}{matmult}\n",
       "\\aliasA{\\%*\\%}{matmult}{.Rpcent.*.Rpcent.}\n",
       "\\keyword{array}{matmult}\n",
       "\\keyword{arith}{matmult}\n",
       "%\n",
       "\\begin{Description}\\relax\n",
       "Multiplies two matrices, if they are conformable.  If one argument is\n",
       "a vector, it will be promoted to either a row or column matrix to make\n",
       "the two arguments conformable.  If both are vectors of the same\n",
       "length, it will return the inner product (as a matrix).\n",
       "\\end{Description}\n",
       "%\n",
       "\\begin{Usage}\n",
       "\\begin{verbatim}\n",
       "x %*% y\n",
       "\\end{verbatim}\n",
       "\\end{Usage}\n",
       "%\n",
       "\\begin{Arguments}\n",
       "\\begin{ldescription}\n",
       "\\item[\\code{x, y}] numeric or complex matrices or vectors.\n",
       "\\end{ldescription}\n",
       "\\end{Arguments}\n",
       "%\n",
       "\\begin{Details}\\relax\n",
       "When a vector is promoted to a matrix, its names are not\n",
       "promoted to row or column names, unlike \\code{\\LinkA{as.matrix}{as.matrix}}.\n",
       "\n",
       "This operator is S4 generic but not S3 generic.  S4 methods need to be\n",
       "written for a function of two arguments named \\code{x} and \\code{y}.\n",
       "\\end{Details}\n",
       "%\n",
       "\\begin{Value}\n",
       "A double or complex matrix product.  Use \\code{\\LinkA{drop}{drop}} to remove\n",
       "dimensions which have only one level.\n",
       "\\end{Value}\n",
       "%\n",
       "\\begin{Note}\\relax\n",
       "Since \\R{} 3.2.0, promotion of a vector to a 1-row or 1-column matrix\n",
       "happens in even more cases, when one of the two choices allows\n",
       "\\code{x} and \\code{y} to get conformable dimensions.\n",
       "\\end{Note}\n",
       "%\n",
       "\\begin{References}\\relax\n",
       "Becker, R. A., Chambers, J. M. and Wilks, A. R. (1988)\n",
       "\\emph{The New S Language}.\n",
       "Wadsworth \\& Brooks/Cole.\n",
       "\\end{References}\n",
       "%\n",
       "\\begin{SeeAlso}\\relax\n",
       "For matrix \\emph{cross}products, \\code{\\LinkA{crossprod}{crossprod}()} and\n",
       "\\code{tcrossprod()} are typically preferable.\n",
       "\\code{\\LinkA{matrix}{matrix}}, \\code{\\LinkA{Arithmetic}{Arithmetic}}, \\code{\\LinkA{diag}{diag}}.\n",
       "\\end{SeeAlso}\n",
       "%\n",
       "\\begin{Examples}\n",
       "\\begin{ExampleCode}\n",
       "x <- 1:4\n",
       "(z <- x %*% x)    # scalar (\"inner\") product (1 x 1 matrix)\n",
       "drop(z)             # as scalar\n",
       "\n",
       "y <- diag(x)\n",
       "z <- matrix(1:12, ncol = 3, nrow = 4)\n",
       "y %*% z\n",
       "y %*% x\n",
       "x %*% z\n",
       "\\end{ExampleCode}\n",
       "\\end{Examples}"
      ],
      "text/plain": [
       "matmult                  package:base                  R Documentation\n",
       "\n",
       "_\bM_\ba_\bt_\br_\bi_\bx _\bM_\bu_\bl_\bt_\bi_\bp_\bl_\bi_\bc_\ba_\bt_\bi_\bo_\bn\n",
       "\n",
       "_\bD_\be_\bs_\bc_\br_\bi_\bp_\bt_\bi_\bo_\bn:\n",
       "\n",
       "     Multiplies two matrices, if they are conformable.  If one argument\n",
       "     is a vector, it will be promoted to either a row or column matrix\n",
       "     to make the two arguments conformable.  If both are vectors of the\n",
       "     same length, it will return the inner product (as a matrix).\n",
       "\n",
       "_\bU_\bs_\ba_\bg_\be:\n",
       "\n",
       "     x %*% y\n",
       "     \n",
       "_\bA_\br_\bg_\bu_\bm_\be_\bn_\bt_\bs:\n",
       "\n",
       "    x, y: numeric or complex matrices or vectors.\n",
       "\n",
       "_\bD_\be_\bt_\ba_\bi_\bl_\bs:\n",
       "\n",
       "     When a vector is promoted to a matrix, its names are not promoted\n",
       "     to row or column names, unlike 'as.matrix'.\n",
       "\n",
       "     This operator is S4 generic but not S3 generic.  S4 methods need\n",
       "     to be written for a function of two arguments named 'x' and 'y'.\n",
       "\n",
       "_\bV_\ba_\bl_\bu_\be:\n",
       "\n",
       "     A double or complex matrix product.  Use 'drop' to remove\n",
       "     dimensions which have only one level.\n",
       "\n",
       "_\bN_\bo_\bt_\be:\n",
       "\n",
       "     Since R 3.2.0, promotion of a vector to a 1-row or 1-column matrix\n",
       "     happens in even more cases, when one of the two choices allows 'x'\n",
       "     and 'y' to get conformable dimensions.\n",
       "\n",
       "_\bR_\be_\bf_\be_\br_\be_\bn_\bc_\be_\bs:\n",
       "\n",
       "     Becker, R. A., Chambers, J. M. and Wilks, A. R. (1988) _The New S\n",
       "     Language_.  Wadsworth & Brooks/Cole.\n",
       "\n",
       "_\bS_\be_\be _\bA_\bl_\bs_\bo:\n",
       "\n",
       "     For matrix _cross_products, 'crossprod()' and 'tcrossprod()' are\n",
       "     typically preferable.  'matrix', 'Arithmetic', 'diag'.\n",
       "\n",
       "_\bE_\bx_\ba_\bm_\bp_\bl_\be_\bs:\n",
       "\n",
       "     x <- 1:4\n",
       "     (z <- x %*% x)    # scalar (\"inner\") product (1 x 1 matrix)\n",
       "     drop(z)             # as scalar\n",
       "     \n",
       "     y <- diag(x)\n",
       "     z <- matrix(1:12, ncol = 3, nrow = 4)\n",
       "     y %*% z\n",
       "     y %*% x\n",
       "     x %*% z\n",
       "     "
      ]
     },
     "execution_count": 38,
     "metadata": {},
     "output_type": "execute_result"
    }
   ],
   "source": [
    "?\"%*%\""
   ]
  },
  {
   "cell_type": "code",
   "execution_count": 57,
   "metadata": {
    "collapsed": false
   },
   "outputs": [
    {
     "ename": "ERROR",
     "evalue": "Error in eval(expr, envir, enclos): could not find function \"sparkR.init\"\n",
     "output_type": "error",
     "traceback": [
      "Error in eval(expr, envir, enclos): could not find function \"sparkR.init\"\n"
     ]
    },
    {
     "ename": "ERROR",
     "evalue": "Error in eval(expr, envir, enclos): could not find function \"sparkRSQL.init\"\n",
     "output_type": "error",
     "traceback": [
      "Error in eval(expr, envir, enclos): could not find function \"sparkRSQL.init\"\n"
     ]
    }
   ],
   "source": [
    "sc <- sparkR.init()\n",
    "sqlContext <- sparkRSQL.init(sc)\n"
   ]
  },
  {
   "cell_type": "code",
   "execution_count": 58,
   "metadata": {
    "collapsed": false
   },
   "outputs": [
    {
     "name": "stderr",
     "output_type": "stream",
     "text": [
      "\n",
      "Attaching package: 'SparkR'\n",
      "\n",
      "The following objects are masked from 'package:stats':\n",
      "\n",
      "    cov, filter, lag, na.omit, predict, sd, var\n",
      "\n",
      "The following objects are masked from 'package:base':\n",
      "\n",
      "    colnames, colnames<-, intersect, rank, rbind, sample, subset,\n",
      "    summary, table, transform\n",
      "\n"
     ]
    }
   ],
   "source": [
    "library(SparkR, lib.loc = c(file.path(Sys.getenv(\"SPARK_HOME\"), \"R\", \"lib\")))"
   ]
  },
  {
   "cell_type": "code",
   "execution_count": null,
   "metadata": {
    "collapsed": true
   },
   "outputs": [],
   "source": []
  }
 ],
 "metadata": {
  "kernelspec": {
   "display_name": "R",
   "language": "R",
   "name": "ir"
  },
  "language_info": {
   "codemirror_mode": "r",
   "file_extension": ".r",
   "mimetype": "text/x-r-source",
   "name": "R",
   "pygments_lexer": "r",
   "version": "3.3.0"
  }
 },
 "nbformat": 4,
 "nbformat_minor": 0
}
