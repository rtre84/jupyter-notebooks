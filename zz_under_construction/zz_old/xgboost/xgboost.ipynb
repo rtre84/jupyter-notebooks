{
 "cells": [
  {
   "cell_type": "markdown",
   "metadata": {},
   "source": [
    "https://docs.databricks.com/user-guide/faq/xgboost.html#xgboost"
   ]
  },
  {
   "cell_type": "code",
   "execution_count": 2,
   "metadata": {},
   "outputs": [
    {
     "name": "stdout",
     "output_type": "stream",
     "text": [
      "Collecting xgboost\n",
      "  Downloading xgboost-0.6a2.tar.gz (1.2MB)\n",
      "Requirement already satisfied: numpy in /opt/conda/lib/python3.5/site-packages (from xgboost)\n",
      "Requirement already satisfied: scipy in /opt/conda/lib/python3.5/site-packages (from xgboost)\n",
      "Requirement already satisfied: scikit-learn in /opt/conda/lib/python3.5/site-packages (from xgboost)\n",
      "Building wheels for collected packages: xgboost\n",
      "  Running setup.py bdist_wheel for xgboost: started\n",
      "  Running setup.py bdist_wheel for xgboost: finished with status 'done'\n",
      "  Stored in directory: /root/.cache/pip/wheels/5e/c1/d6/522af54e5cc001fad4dd855117f8bf61b11d56443e06672e26\n",
      "Successfully built xgboost\n",
      "Installing collected packages: xgboost\n",
      "Successfully installed xgboost-0.6a2\n",
      "Requirement already satisfied: xgboost in /opt/conda/lib/python3.5/site-packages\n",
      "Requirement already satisfied: scikit-learn in /opt/conda/lib/python3.5/site-packages (from xgboost)\n",
      "Requirement already satisfied: numpy in /opt/conda/lib/python3.5/site-packages (from xgboost)\n",
      "Requirement already satisfied: scipy in /opt/conda/lib/python3.5/site-packages (from xgboost)\n"
     ]
    }
   ],
   "source": [
    "%%bash \n",
    "\n",
    "pip install xgboost --pre\n"
   ]
  },
  {
   "cell_type": "code",
   "execution_count": null,
   "metadata": {},
   "outputs": [],
   "source": [
    "sudo apt-get update\n",
    "sudo apt-get install -y maven\n",
    "sudo git clone --recursive https://github.com/dmlc/xgboost\n",
    "\n",
    "cd xgboost\n",
    "sudo make -j4\n",
    "\n",
    "export JAVA_HOME=/usr/lib/jvm/java-1.8.0-openjdk-amd64/\n",
    "\n",
    "cd jvm-packages\n",
    "sudo mvn package"
   ]
  },
  {
   "cell_type": "code",
   "execution_count": 3,
   "metadata": {},
   "outputs": [
    {
     "ename": "SyntaxError",
     "evalue": "invalid syntax (<ipython-input-3-2f7b9aa862a6>, line 1)",
     "output_type": "error",
     "traceback": [
      "\u001b[0;36m  File \u001b[0;32m\"<ipython-input-3-2f7b9aa862a6>\"\u001b[0;36m, line \u001b[0;32m1\u001b[0m\n\u001b[0;31m    import ml.dmlc.xgboost4j.scala.{Booster, DMatrix}\u001b[0m\n\u001b[0m                                   ^\u001b[0m\n\u001b[0;31mSyntaxError\u001b[0m\u001b[0;31m:\u001b[0m invalid syntax\n"
     ]
    }
   ],
   "source": [
    "import ml.dmlc.xgboost4j.scala.{Booster, DMatrix}\n",
    "import ml.dmlc.xgboost4j.scala.spark.{DataUtils, XGBoost}\n",
    "import org.apache.spark.mllib.util.MLUtils\n"
   ]
  },
  {
   "cell_type": "code",
   "execution_count": null,
   "metadata": {},
   "outputs": [],
   "source": [
    "sc.parallelize(Seq(\"\")).map(x => {\n",
    "  import ml.dmlc.xgboost4j.scala.{Booster, DMatrix}\n",
    "}).collect()\n"
   ]
  },
  {
   "cell_type": "code",
   "execution_count": null,
   "metadata": {},
   "outputs": [],
   "source": [
    "import org.apache.spark.ml.feature.LabeledPoint\n",
    "import org.apache.spark.ml.linalg.DenseVector\n"
   ]
  },
  {
   "cell_type": "code",
   "execution_count": null,
   "metadata": {},
   "outputs": [],
   "source": [
    "val paramMap = List(\n",
    "  \"eta\" -> 0.1f,\n",
    "  \"max_depth\" -> 2,\n",
    "  \"objective\" -> \"binary:logistic\").toMap"
   ]
  },
  {
   "cell_type": "code",
   "execution_count": null,
   "metadata": {},
   "outputs": [],
   "source": [
    "val trainRDD = sc.parallelize(Seq(\n",
    "  LabeledPoint(1.0, new DenseVector(Array(2.0, 3.0, 4.0))), \n",
    "  LabeledPoint(0.0, new DenseVector(Array(5.0, 5.0, 5.0))), \n",
    "  LabeledPoint(1.0, new DenseVector(Array(2.0, 3.0, 4.0))), \n",
    "  LabeledPoint(0.0, new DenseVector(Array(5.0, 5.0, 5.0))), \n",
    "  LabeledPoint(1.0, new DenseVector(Array(2.0, 3.0, 4.0))), \n",
    "  LabeledPoint(0.0, new DenseVector(Array(5.0, 5.0, 5.0))), \n",
    "  LabeledPoint(1.0, new DenseVector(Array(2.0, 3.0, 4.0))), \n",
    "  LabeledPoint(0.0, new DenseVector(Array(5.0, 5.0, 5.0))), \n",
    "  LabeledPoint(1.0, new DenseVector(Array(2.0, 3.0, 4.0))), \n",
    "  LabeledPoint(0.0, new DenseVector(Array(5.0, 5.0, 5.0))), \n",
    "  LabeledPoint(1.0, new DenseVector(Array(2.0, 3.0, 4.0))), \n",
    "  LabeledPoint(1.0, new DenseVector(Array(2.0, 3.0, 4.0))), \n",
    "  LabeledPoint(0.0, new DenseVector(Array(5.0, 5.0, 5.0)))\n",
    "), 4)"
   ]
  },
  {
   "cell_type": "code",
   "execution_count": null,
   "metadata": {},
   "outputs": [],
   "source": [
    "trainRDD.take(1)\n"
   ]
  },
  {
   "cell_type": "code",
   "execution_count": null,
   "metadata": {},
   "outputs": [],
   "source": [
    "//val xgboostModel = XGBoost.train()\n",
    "/*  def train(\n",
    "      trainingData: RDD[MLLabeledPoint], params: Map[String, Any], round: Int,\n",
    "      nWorkers: Int, obj: ObjectiveTrait = null, eval: EvalTrait = null,\n",
    "      useExternalMemory: Boolean = false, missing: Float = Float.NaN): XGBoostModel = {\n",
    "    require(nWorkers > 0, \"you must specify more than 0 workers\")\n",
    "    trainWithRDD(trainingData, params, round, nWorkers, obj, eval, useExternalMemory, missing)\n",
    "  }\n",
    "*/\n",
    "val xgboostModel = XGBoost.train(trainRDD, paramMap, 1, 4, useExternalMemory=true)"
   ]
  },
  {
   "cell_type": "code",
   "execution_count": null,
   "metadata": {},
   "outputs": [],
   "source": [
    "xgboostModel\n"
   ]
  },
  {
   "cell_type": "code",
   "execution_count": null,
   "metadata": {},
   "outputs": [],
   "source": [
    "val xgboostPrediction = xgboostModel.predict(trainRDD.map{x => x.features})\n"
   ]
  },
  {
   "cell_type": "code",
   "execution_count": null,
   "metadata": {},
   "outputs": [],
   "source": [
    "xgboostPrediction.collect()\n"
   ]
  }
 ],
 "metadata": {
  "kernelspec": {
   "display_name": "Python [default]",
   "language": "python",
   "name": "python3"
  },
  "language_info": {
   "codemirror_mode": {
    "name": "ipython",
    "version": 3
   },
   "file_extension": ".py",
   "mimetype": "text/x-python",
   "name": "python",
   "nbconvert_exporter": "python",
   "pygments_lexer": "ipython3",
   "version": "3.5.3"
  }
 },
 "nbformat": 4,
 "nbformat_minor": 2
}
