{
 "cells": [
  {
   "cell_type": "code",
   "execution_count": 1,
   "metadata": {
    "collapsed": false
   },
   "outputs": [],
   "source": [
    "'''\n",
    "Welcome to your first lab! Each lab starts with a multiline\n",
    "string, like this.  (That's what the triple quotes delineate.)\n",
    "\n",
    "Embedded in this multiline string will be what looks like copy-pastes\n",
    "from interactive Python prompts:\n",
    "\n",
    "\n",
    ">>> hello(\"world\")\n",
    "'Hello, world!'\n",
    "\n",
    "That is actually an automated test. Your job is to write code to make\n",
    "it pass. In other words, you must define a function named \"hello\" that\n",
    "takes one argument, and prints out the greeting. You do that below,\n",
    "where it says \"Write your code here\".\n",
    "\n",
    "Here's another test, which gives an important distinction:\n",
    ">>> print_hello(\"world\")\n",
    "Hello, world!\n",
    "\n",
    "Notice the output has no quotes around it? That means the function\n",
    "printed, rather than returning a string.\n",
    "\n",
    "Pro tips:\n",
    "\n",
    " * ONLY write code in the area below. Don't modify this multiline\n",
    "   string!\n",
    "\n",
    " * When you run the script and see multiple failures, focus on fixing\n",
    "  the first failure. Often later failures will then go away.\n",
    "\n",
    "'''\n",
    "\n",
    "# Write your code here:\n",
    "def hello(str):\n",
    "    return 'Hello, %s!' % str\n",
    "\n",
    "def print_hello(str):\n",
    "    print 'Hello, %s!' % str\n",
    "\n",
    "\n",
    "# Do not edit any code below this line!\n",
    "\n",
    "if __name__ == '__main__':\n",
    "    import doctest\n",
    "    doctest.testmod()\n"
   ]
  },
  {
   "cell_type": "code",
   "execution_count": 2,
   "metadata": {
    "collapsed": false
   },
   "outputs": [
    {
     "name": "stdout",
     "output_type": "stream",
     "text": [
      "Hello, world!\n"
     ]
    }
   ],
   "source": [
    "print_hello(\"world\")"
   ]
  },
  {
   "cell_type": "code",
   "execution_count": 3,
   "metadata": {
    "collapsed": false
   },
   "outputs": [
    {
     "data": {
      "text/plain": [
       "'Hello, world!'"
      ]
     },
     "execution_count": 3,
     "metadata": {},
     "output_type": "execute_result"
    }
   ],
   "source": [
    "hello(\"world\")"
   ]
  },
  {
   "cell_type": "code",
   "execution_count": null,
   "metadata": {
    "collapsed": true
   },
   "outputs": [],
   "source": []
  },
  {
   "cell_type": "code",
   "execution_count": null,
   "metadata": {
    "collapsed": true
   },
   "outputs": [],
   "source": []
  }
 ],
 "metadata": {
  "kernelspec": {
   "display_name": "Python 2",
   "language": "python",
   "name": "python2"
  },
  "language_info": {
   "codemirror_mode": {
    "name": "ipython",
    "version": 2
   },
   "file_extension": ".py",
   "mimetype": "text/x-python",
   "name": "python",
   "nbconvert_exporter": "python",
   "pygments_lexer": "ipython2",
   "version": "2.7.6"
  }
 },
 "nbformat": 4,
 "nbformat_minor": 0
}
