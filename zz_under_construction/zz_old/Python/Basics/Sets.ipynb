{
 "cells": [
  {
   "cell_type": "markdown",
   "metadata": {},
   "source": [
    "## Read Contents from URL"
   ]
  },
  {
   "cell_type": "code",
   "execution_count": 43,
   "metadata": {
    "collapsed": false
   },
   "outputs": [
    {
     "name": "stdout",
     "output_type": "stream",
     "text": [
      "b'But soft what light through yonder window breaks\\nIt is the east and Juliet is the sun\\nArise fair sun and kill the envious moon\\nWho is already sick and pale with grief\\n'\n"
     ]
    }
   ],
   "source": [
    "from urllib.request import urlopen\n",
    "\n",
    "url_response = urlopen('http://www.py4inf.com/code/romeo.txt')\n",
    "\n",
    "contents = str(url_response.read())\n",
    "\n",
    "print(contents)"
   ]
  },
  {
   "cell_type": "markdown",
   "metadata": {
    "collapsed": true
   },
   "source": [
    "## Split Contents Into Lines Using New-line ('\\n')"
   ]
  },
  {
   "cell_type": "code",
   "execution_count": 44,
   "metadata": {
    "collapsed": false
   },
   "outputs": [
    {
     "name": "stdout",
     "output_type": "stream",
     "text": [
      "[\"b'But soft what light through yonder window breaks\", 'It is the east and Juliet is the sun', 'Arise fair sun and kill the envious moon', 'Who is already sick and pale with grief', \"'\"]\n"
     ]
    }
   ],
   "source": [
    "lines = contents.split('\\\\n')\n",
    "\n",
    "print(lines)"
   ]
  },
  {
   "cell_type": "markdown",
   "metadata": {},
   "source": [
    "## Extract Words from Each Line\n",
    "Note:  You might have to strip out the `'` character that seems to be slipping through.  My guess is that you'll have to specify a RegEx expression to only accept."
   ]
  },
  {
   "cell_type": "code",
   "execution_count": 47,
   "metadata": {
    "collapsed": false
   },
   "outputs": [
    {
     "name": "stdout",
     "output_type": "stream",
     "text": [
      "{'moon', 'what', 'with', 'the', 'it', 'pale', 'window', 'grief', 'arise', 'fair', 'and', 'soft', 'sun', \"b'but\", 'envious', 'kill', 'who', 'light', 'through', 'juliet', 'yonder', 'is', 'sick', 'breaks', 'east', 'already', \"'\"}\n"
     ]
    }
   ],
   "source": [
    "Jword_set = set()\n",
    "\n",
    "for line in lines:\n",
    "    # Passing no args to split() will do what you want in this case:\n",
    "    #   split on all weird characters (aka whitespace characters)\n",
    "    words = line.split()\n",
    "    for word in words:\n",
    "        # Lowercase the word or else alphabetical sort puts capitals ahead\n",
    "        word = word.lower()\n",
    "        # Adding to a set (vs list) will automatically de-duplicate\n",
    "        word_set.add(word)\n",
    "\n",
    "print(word_set)"
   ]
  },
  {
   "cell_type": "code",
   "execution_count": 49,
   "metadata": {
    "collapsed": false
   },
   "outputs": [
    {
     "name": "stdout",
     "output_type": "stream",
     "text": [
      "[\"'\", 'already', 'and', 'arise', \"b'but\", 'breaks', 'east', 'envious', 'fair', 'grief', 'is', 'it', 'juliet', 'kill', 'light', 'moon', 'pale', 'sick', 'soft', 'sun', 'the', 'through', 'what', 'who', 'window', 'with', 'yonder']\n"
     ]
    }
   ],
   "source": [
    "sorted_word_set = sorted(word_set)\n",
    "\n",
    "print(sorted_word_set)"
   ]
  },
  {
   "cell_type": "code",
   "execution_count": null,
   "metadata": {
    "collapsed": true
   },
   "outputs": [],
   "source": []
  },
  {
   "cell_type": "code",
   "execution_count": null,
   "metadata": {
    "collapsed": true
   },
   "outputs": [],
   "source": []
  }
 ],
 "metadata": {
  "kernelspec": {
   "display_name": "Python 3",
   "language": "python",
   "name": "python3"
  },
  "language_info": {
   "codemirror_mode": {
    "name": "ipython",
    "version": 3
   },
   "file_extension": ".py",
   "mimetype": "text/x-python",
   "name": "python",
   "nbconvert_exporter": "python",
   "pygments_lexer": "ipython3",
   "version": "3.4.3"
  }
 },
 "nbformat": 4,
 "nbformat_minor": 1
}
