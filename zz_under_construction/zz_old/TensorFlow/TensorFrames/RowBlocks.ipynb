{
 "cells": [
  {
   "cell_type": "markdown",
   "metadata": {},
   "source": [
    "### Row Block-wise Reduce Operations\n",
    "Working with blocks of rows, we compute sum of fields containing vectors\n"
   ]
  },
  {
   "cell_type": "code",
   "execution_count": 2,
   "metadata": {
    "collapsed": false
   },
   "outputs": [
    {
     "ename": "ImportError",
     "evalue": "No module named tensorframes",
     "output_type": "error",
     "traceback": [
      "\u001b[1;31m\u001b[0m",
      "\u001b[1;31mImportError\u001b[0mTraceback (most recent call last)",
      "\u001b[1;32m<ipython-input-2-a0642817aac3>\u001b[0m in \u001b[0;36m<module>\u001b[1;34m()\u001b[0m\n\u001b[0;32m      1\u001b[0m \u001b[1;32mimport\u001b[0m \u001b[0mtensorflow\u001b[0m \u001b[1;32mas\u001b[0m \u001b[0mtf\u001b[0m\u001b[1;33m\u001b[0m\u001b[0m\n\u001b[1;32m----> 2\u001b[1;33m \u001b[1;32mimport\u001b[0m \u001b[0mtensorframes\u001b[0m \u001b[1;32mas\u001b[0m \u001b[0mtfs\u001b[0m\u001b[1;33m\u001b[0m\u001b[0m\n\u001b[0m\u001b[0;32m      3\u001b[0m \u001b[1;32mfrom\u001b[0m \u001b[0mpyspark\u001b[0m\u001b[1;33m.\u001b[0m\u001b[0msql\u001b[0m \u001b[1;32mimport\u001b[0m \u001b[0mRow\u001b[0m\u001b[1;33m\u001b[0m\u001b[0m\n",
      "\u001b[1;31mImportError\u001b[0m: No module named tensorframes"
     ]
    }
   ],
   "source": [
    "import tensorflow as tf\n",
    "import tensorframes as tfs\n",
    "from pyspark.sql import Row"
   ]
  },
  {
   "cell_type": "code",
   "execution_count": null,
   "metadata": {
    "collapsed": false
   },
   "outputs": [],
   "source": [
    "# Build a DataFrame of vectors\n",
    "data = [Row(y=[float(y), float(-y)]) for y in range(10)]\n",
    "df = sqlContext.createDataFrame(data)\n",
    "# Because the dataframe contains vectors, we need to analyze it first to find the\n",
    "# dimensions of the vectors.\n",
    "df2 = tfs.analyze(df)\n",
    "\n",
    "# The information gathered by TF can be printed to check the content:\n",
    "tfs.print_schema(df2)\n",
    "# TF has inferred that y contains vectors of size 2\n",
    "# root\n",
    "#  |-- y: array (nullable = false) DoubleType[?,2]\n",
    "\n",
    "# Let's use the analyzed dataframe to compute the sum and the elementwise minimum \n",
    "# of all the vectors:\n",
    "# First, let's make a copy of the 'y' column. This will be very cheap in Spark 2.0+\n",
    "df3 = df2.select(df2.y, df2.y.alias(\"z\"))\n",
    "with tf.Graph().as_default() as g:\n",
    "    # The placeholders. Note the special name that end with '_input':\n",
    "    y_input = tfs.block(df3, 'y', tf_name=\"y_input\")\n",
    "    z_input = tfs.block(df3, 'z', tf_name=\"z_input\")\n",
    "    y = tf.reduce_sum(y_input, [0], name='y')\n",
    "    z = tf.reduce_min(z_input, [0], name='z')\n",
    "    # The resulting dataframe\n",
    "    (data_sum, data_min) = tfs.reduce_blocks([y, z], df3)\n",
    "\n",
    "# The final results are numpy arrays:\n",
    "print data_sum\n",
    "# [45.0, -45.0]\n",
    "print data_min\n",
    "# [0.0, -9.0]"
   ]
  },
  {
   "cell_type": "code",
   "execution_count": null,
   "metadata": {
    "collapsed": true
   },
   "outputs": [],
   "source": []
  }
 ],
 "metadata": {
  "kernelspec": {
   "display_name": "Python 2",
   "language": "python",
   "name": "python2"
  },
  "language_info": {
   "codemirror_mode": {
    "name": "ipython",
    "version": 2
   },
   "file_extension": ".py",
   "mimetype": "text/x-python",
   "name": "python",
   "nbconvert_exporter": "python",
   "pygments_lexer": "ipython2",
   "version": "2.7.6"
  }
 },
 "nbformat": 4,
 "nbformat_minor": 0
}
