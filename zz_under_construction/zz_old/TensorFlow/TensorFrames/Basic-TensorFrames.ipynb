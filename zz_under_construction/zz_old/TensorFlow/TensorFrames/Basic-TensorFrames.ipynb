{
 "cells": [
  {
   "cell_type": "code",
   "execution_count": 1,
   "metadata": {
    "collapsed": false
   },
   "outputs": [],
   "source": [
    "from pyspark.sql import Row\n",
    "\n",
    "import tensorflow as tf\n",
    "import tensorframes as tfs"
   ]
  },
  {
   "cell_type": "code",
   "execution_count": 2,
   "metadata": {
    "collapsed": false
   },
   "outputs": [
    {
     "data": {
      "text/plain": [
       "[Row(z=3.0, x=0.0),\n",
       " Row(z=4.0, x=1.0),\n",
       " Row(z=5.0, x=2.0),\n",
       " Row(z=6.0, x=3.0),\n",
       " Row(z=7.0, x=4.0),\n",
       " Row(z=8.0, x=5.0),\n",
       " Row(z=9.0, x=6.0),\n",
       " Row(z=10.0, x=7.0),\n",
       " Row(z=11.0, x=8.0),\n",
       " Row(z=12.0, x=9.0)]"
      ]
     },
     "execution_count": 2,
     "metadata": {},
     "output_type": "execute_result"
    }
   ],
   "source": [
    "data = [Row(x=float(x)) for x in range(10)]\n",
    "df = sqlContext.createDataFrame(data)\n",
    "with tf.Graph().as_default() as g:\n",
    "    # The TensorFlow placeholder that corresponds to column 'x'.\n",
    "    # The shape of the placeholder is automatically inferred from the DataFrame.\n",
    "    x = tfs.block(df, \"x\")\n",
    "    # The output that adds 3 to x\n",
    "    z = tf.add(x, 3, name='z')\n",
    "    # The resulting dataframe\n",
    "    df2 = tfs.map_blocks(z, df)\n",
    "\n",
    "# The transform is lazy as for most DataFrame operations. This will trigger it:\n",
    "df2.collect()"
   ]
  },
  {
   "cell_type": "code",
   "execution_count": null,
   "metadata": {
    "collapsed": true
   },
   "outputs": [],
   "source": []
  }
 ],
 "metadata": {
  "kernelspec": {
   "display_name": "Python 2",
   "language": "python",
   "name": "python2"
  },
  "language_info": {
   "codemirror_mode": {
    "name": "ipython",
    "version": 2
   },
   "file_extension": ".py",
   "mimetype": "text/x-python",
   "name": "python",
   "nbconvert_exporter": "python",
   "pygments_lexer": "ipython2",
   "version": "2.7.6"
  }
 },
 "nbformat": 4,
 "nbformat_minor": 0
}
