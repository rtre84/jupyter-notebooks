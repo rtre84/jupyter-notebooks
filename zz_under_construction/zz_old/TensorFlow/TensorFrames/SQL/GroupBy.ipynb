{
 "cells": [
  {
   "cell_type": "code",
   "execution_count": 1,
   "metadata": {
    "collapsed": false
   },
   "outputs": [
    {
     "ename": "ImportError",
     "evalue": "No module named tensorframes",
     "output_type": "error",
     "traceback": [
      "\u001b[1;31m\u001b[0m",
      "\u001b[1;31mImportError\u001b[0mTraceback (most recent call last)",
      "\u001b[1;32m<ipython-input-1-11e0e65f34a0>\u001b[0m in \u001b[0;36m<module>\u001b[1;34m()\u001b[0m\n\u001b[1;32m----> 1\u001b[1;33m \u001b[1;32mimport\u001b[0m \u001b[0mtensorframes\u001b[0m \u001b[1;32mas\u001b[0m \u001b[0mtfs\u001b[0m\u001b[1;33m\u001b[0m\u001b[0m\n\u001b[0m\u001b[0;32m      2\u001b[0m \u001b[1;32mimport\u001b[0m \u001b[0mtensorflow\u001b[0m \u001b[1;32mas\u001b[0m \u001b[0mtf\u001b[0m\u001b[1;33m\u001b[0m\u001b[0m\n\u001b[0;32m      3\u001b[0m \u001b[1;32mfrom\u001b[0m \u001b[0mpyspark\u001b[0m\u001b[1;33m.\u001b[0m\u001b[0msql\u001b[0m \u001b[1;32mimport\u001b[0m \u001b[0mRow\u001b[0m\u001b[1;33m\u001b[0m\u001b[0m\n\u001b[0;32m      4\u001b[0m \u001b[1;32mfrom\u001b[0m \u001b[0mpyspark\u001b[0m\u001b[1;33m.\u001b[0m\u001b[0msql\u001b[0m\u001b[1;33m.\u001b[0m\u001b[0mfunctions\u001b[0m \u001b[1;32mimport\u001b[0m \u001b[1;33m*\u001b[0m\u001b[1;33m\u001b[0m\u001b[0m\n\u001b[0;32m      5\u001b[0m \u001b[1;32mfrom\u001b[0m \u001b[0mpyspark\u001b[0m\u001b[1;33m.\u001b[0m\u001b[0msql\u001b[0m\u001b[1;33m.\u001b[0m\u001b[0mtypes\u001b[0m \u001b[1;32mimport\u001b[0m \u001b[0mDoubleType\u001b[0m\u001b[1;33m,\u001b[0m \u001b[0mIntegerType\u001b[0m\u001b[1;33m,\u001b[0m \u001b[0mLongType\u001b[0m\u001b[1;33m,\u001b[0m \u001b[0mFloatType\u001b[0m\u001b[1;33m\u001b[0m\u001b[0m\n",
      "\u001b[1;31mImportError\u001b[0m: No module named tensorframes"
     ]
    }
   ],
   "source": [
    "import tensorframes as tfs\n",
    "import tensorflow as tf\n",
    "from pyspark.sql import Row\n",
    "from pyspark.sql.functions import *\n",
    "from pyspark.sql.types import DoubleType, IntegerType, LongType, FloatType\n",
    "\n",
    "from tensorframes.core import _java_api\n",
    "japi = _java_api()\n",
    "_java_api().initialize_logging()\n",
    "\n",
    "data = [Row(x=float(x), key=str(x / 3)) for x in range(1, 6)]\n",
    "df = sqlContext.createDataFrame(data)\n",
    "tfs.block(df, \"x\")\n",
    "\n",
    "data = [Row(x=float(x), key=str(x / 3)) for x in range(1, 6)]\n",
    "df = sqlContext.createDataFrame(data)\n",
    "gb = df.groupBy(\"key\")\n",
    "with tf.Graph().as_default() as g:\n",
    "    x_input = tfs.block(df, \"x\", tf_name=\"x_input\")\n",
    "    x = tf.reduce_sum(x_input, [0], name='x')\n",
    "    df2 = tfs.aggregate(x, gb)\n",
    "\n",
    "\n",
    "data = [Row(x=float(x)) for x in range(5)]\n",
    "df = sqlContext.createDataFrame(data)\n",
    "with tf.Graph().as_default() as g:\n",
    "    # The placeholder that corresponds to column 'x'\n",
    "    x = tf.placeholder(tf.double, shape=[None], name=\"x\")\n",
    "    # The output that adds 3 to x\n",
    "    z = tf.add(x, 3, name='z')\n",
    "    # The resulting dataframe\n",
    "    df2 = tfs.map_blocks(z, df)\n",
    "\n",
    "df2.show()\n"
   ]
  },
  {
   "cell_type": "code",
   "execution_count": null,
   "metadata": {
    "collapsed": true
   },
   "outputs": [],
   "source": []
  }
 ],
 "metadata": {
  "kernelspec": {
   "display_name": "Python 2",
   "language": "python",
   "name": "python2"
  }
 },
 "nbformat": 4,
 "nbformat_minor": 0
}
