{
 "cells": [
  {
   "cell_type": "markdown",
   "metadata": {
    "slideshow": {
     "slide_type": "slide"
    }
   },
   "source": [
    "---\n",
    "word2vec\n",
    "===\n",
    "\n",
    "<img src=\"http://billsdata.net/wordpress/wp-content/uploads/2015/11/wikimap2.jpg\" style=\"width: 400px;\"/>"
   ]
  },
  {
   "cell_type": "markdown",
   "metadata": {
    "slideshow": {
     "slide_type": "slide"
    }
   },
   "source": [
    "---\n",
    "Pop Quiz\n",
    "---\n",
    "<br>\n",
    "<details><summary>\n",
    "Do computers prefer numbers or words?\n",
    "</summary>\n",
    "<br>\n",
    "<br>\n",
    "__Numbers__\n",
    "<br>\n",
    "<br>\n",
    "word2vec is currently the best algorithm to map words (strings) to numbers (vectors of floats).\n",
    "</details>"
   ]
  },
  {
   "cell_type": "markdown",
   "metadata": {
    "slideshow": {
     "slide_type": "slide"
    }
   },
   "source": [
    "---\n",
    "By The End Of This Notebook You Should Be Able To:\n",
    "---\n",
    "\n",
    "- Describe why word2vec is popular and powerful\n",
    "- Explain how word2vec is a neural network\n",
    "- Understand the common architectures of word2vec\n",
    "- Apply word vectors to \"do math\" on words"
   ]
  },
  {
   "cell_type": "markdown",
   "metadata": {
    "slideshow": {
     "slide_type": "slide"
    }
   },
   "source": [
    "----\n",
    "Why is word2vec so popular?\n",
    "----\n",
    "\n",
    "1. Organizes word by semantic meaning.\n",
    "\n",
    "2. Turns text into a numerical form that Deep Learning Nets and machine learning algorithms can in-turn use."
   ]
  },
  {
   "cell_type": "markdown",
   "metadata": {
    "slideshow": {
     "slide_type": "slide"
    }
   },
   "source": [
    "----\n",
    "How does word2vec work?\n",
    "----"
   ]
  },
  {
   "cell_type": "markdown",
   "metadata": {
    "slideshow": {
     "slide_type": "subslide"
    }
   },
   "source": [
    "<img src=\"https://upload.wikimedia.org/wikipedia/commons/thumb/c/c3/John_Rupert_Firth.png/220px-John_Rupert_Firth.png\" style=\"width: 400px;\"/>\n",
    "\n",
    ">“You shall know a word\n",
    ">by the company it keeps”\n",
    "\n",
    "> \\- J. R. Firth 1957"
   ]
  },
  {
   "cell_type": "markdown",
   "metadata": {
    "slideshow": {
     "slide_type": "subslide"
    }
   },
   "source": [
    "---\n",
    "Distributional Hypothesis\n",
    "---\n",
    "\n",
    "> Words that are used and occur in the same contexts tend to have similar meanings"
   ]
  },
  {
   "cell_type": "markdown",
   "metadata": {
    "slideshow": {
     "slide_type": "fragment"
    }
   },
   "source": [
    "\n",
    "### Example:\n",
    "\n",
    "\n",
    "> ... government debt problems are turning into __banking__ crises...  \n",
    "\n",
    "> ... Europe governments needs unified __banking__ regulation to replace the hodgepodge of debt regulations...\n",
    "\n",
    "The words: _government_, _regulation_ and _debt_ probably represent some aspect of _banking_ since they frequently appear near by.\n",
    "\n",
    "The words: _Pokeman_ and _tublar_ probably don't represent some aspect of _banking_ since they don't frequently appear near by.\n",
    "\n"
   ]
  },
  {
   "cell_type": "markdown",
   "metadata": {
    "slideshow": {
     "slide_type": "subslide"
    }
   },
   "source": [
    "----\n",
    "How does word2vec model the Distributional Hypothesis?\n",
    "---\n",
    "\n",
    "word2Vec is a very simple neural network:\n",
    "<img src=\"images/w2v_neural_net.png\" style=\"width: 400px;\"/>\n",
    "\n",
    "Input = text corpus  \n",
    "Output = vector for each word"
   ]
  },
  {
   "cell_type": "markdown",
   "metadata": {
    "slideshow": {
     "slide_type": "slide"
    }
   },
   "source": [
    "----\n",
    "word2vec as a compression algorithm\n",
    "-----\n",
    "\n",
    "<img src=\"images/w2v_neural_net.png\" style=\"width: 400px;\"/>\n",
    "\n",
    "Note the bow-tie shape. That is is an __autoencoder__. \n",
    "\n",
    "Autoencoders compress sparse representations into dense representation. \n",
    "\n",
    "Learns the mapping that best preserves the structure of the original space."
   ]
  },
  {
   "cell_type": "markdown",
   "metadata": {
    "slideshow": {
     "slide_type": "slide"
    }
   },
   "source": [
    "---\n",
    "Story time...\n",
    "---"
   ]
  },
  {
   "cell_type": "markdown",
   "metadata": {
    "slideshow": {
     "slide_type": "subslide"
    }
   },
   "source": [
    "The man and woman meet each other ...\n",
    "\n",
    "They become king and queen ...\n",
    "\n",
    "They got old and stop talking to each other. Instead, they read books and magazines ..."
   ]
  },
  {
   "cell_type": "code",
   "execution_count": 7,
   "metadata": {
    "collapsed": true,
    "slideshow": {
     "slide_type": "subslide"
    }
   },
   "outputs": [],
   "source": [
    "corpus = \"\"\"The man and woman meet each other ...\n",
    "         They become king and queen ...\n",
    "         They got old and stop talking to each other. Instead, they read books and magazines ...\n",
    "         \"\"\""
   ]
  },
  {
   "cell_type": "code",
   "execution_count": 8,
   "metadata": {
    "collapsed": false,
    "slideshow": {
     "slide_type": "skip"
    }
   },
   "outputs": [],
   "source": [
    "import matplotlib.pyplot as plt\n",
    "import numpy as np\n",
    "\n",
    "%matplotlib inline"
   ]
  },
  {
   "cell_type": "code",
   "execution_count": 9,
   "metadata": {
    "collapsed": false,
    "slideshow": {
     "slide_type": "subslide"
    }
   },
   "outputs": [],
   "source": [
    "# Let's hand assign the words to vectors\n",
    "important_words = ['queen', 'book', 'king', 'magazine', 'woman', 'man']\n",
    "\n",
    "vectors = np.array([[0.1,   0.3],  # queen\n",
    "                    [-0.5, -0.1],  # book\n",
    "                    [0.2,   0.2],  # king\n",
    "                    [-0.3, -0.2],  # magazine\n",
    "                    [-0.5,  0.4],  # car\n",
    "                    [-0.45, 0.3]]) # bike"
   ]
  },
  {
   "cell_type": "code",
   "execution_count": 10,
   "metadata": {
    "collapsed": false,
    "slideshow": {
     "slide_type": "subslide"
    }
   },
   "outputs": [
    {
     "data": {
      "image/png": "[encoded data removed]",
      "text/plain": [
       "<matplotlib.figure.Figure at 0x1109430b8>"
      ]
     },
     "metadata": {},
     "output_type": "display_data"
    }
   ],
   "source": [
    "plt.plot(vectors[:,0], vectors[:,1], 'o')\n",
    "plt.xlim(-0.6, 0.3)\n",
    "plt.ylim(-0.3, 0.5)\n",
    "for word, x, y in zip(important_words, vectors[:,0], vectors[:,1]):\n",
    "    plt.annotate(word, (x, y), size=12)"
   ]
  },
  {
   "cell_type": "markdown",
   "metadata": {
    "slideshow": {
     "slide_type": "subslide"
    }
   },
   "source": [
    "---\n",
    "Check for understanding\n",
    "---\n",
    "<br>\n",
    "<details><summary>\n",
    "How many dimensions are data represented in? \n",
    "</summary>\n",
    "<br>\n",
    "There are 2 dimensions. \n",
    "</details>"
   ]
  },
  {
   "cell_type": "markdown",
   "metadata": {
    "collapsed": false,
    "slideshow": {
     "slide_type": "slide"
    }
   },
   "source": [
    "<br>\n",
    "<details><summary>\n",
    "How many dimensions would we need to represent for typical word vectors? \n",
    "</summary>\n",
    "<br>\n",
    "<br>\n",
    "5\n",
    "<br>\n",
    "<br>\n",
    "Typically you would use n-1 word vectors, a baseline word would be coded as all zeros.\n",
    "</details>"
   ]
  },
  {
   "cell_type": "code",
   "execution_count": 11,
   "metadata": {
    "collapsed": false,
    "slideshow": {
     "slide_type": "fragment"
    }
   },
   "outputs": [
    {
     "data": {
      "text/plain": [
       "{'book': [0, 0, 0, 0, 1],\n",
       " 'king': [0, 0, 0, 1, 0],\n",
       " 'magazine': [0, 0, 1, 0, 0],\n",
       " 'man': [1, 0, 0, 0, 0],\n",
       " 'queen': [0, 0, 0, 0, 0],\n",
       " 'woman': [0, 1, 0, 0, 0]}"
      ]
     },
     "execution_count": 11,
     "metadata": {},
     "output_type": "execute_result"
    }
   ],
   "source": [
    "# Encode each word using 1-hot encoding\n",
    "{'queen': [0, 0, 0, 0, 0],\n",
    " 'book': [0, 0, 0, 0, 1],\n",
    " 'king': [0, 0, 0, 1, 0],\n",
    " 'magazine': [0, 0, 1, 0, 0],\n",
    " 'woman': [0, 1, 0, 0, 0],\n",
    " 'man': [1, 0, 0, 0, 0],\n",
    "}"
   ]
  },
  {
   "cell_type": "markdown",
   "metadata": {
    "slideshow": {
     "slide_type": "slide"
    }
   },
   "source": [
    "The 2 architectures of word2vec\n",
    "----\n",
    "\n",
    "1) “Continuous bag of words”: Predict a missing word in a sentence based on the surrounding context"
   ]
  },
  {
   "cell_type": "markdown",
   "metadata": {
    "slideshow": {
     "slide_type": "fragment"
    }
   },
   "source": [
    "2) “Skip-gram”: Each current word as an input to a log-linear classifier to predict words within a certain range before and after that current word"
   ]
  },
  {
   "cell_type": "markdown",
   "metadata": {
    "slideshow": {
     "slide_type": "subslide"
    }
   },
   "source": [
    "## Continuous bag of words (CBOW) architecture\n",
    "\n",
    "<img src=\"images/cbow.png\" style=\"width: 400px;\"/>\n",
    "Given the context (surronding words), predict the current word.\n",
    "\n",
    "[Detailed explanation](http://alexminnaar.com/word2vec-tutorial-part-ii-the-continuous-bag-of-words-model.html)"
   ]
  },
  {
   "cell_type": "markdown",
   "metadata": {
    "slideshow": {
     "slide_type": "subslide"
    }
   },
   "source": [
    "\n",
    "\n",
    "## Skip-gram architecture (the inverse of CBOW)\n",
    "\n",
    "<img src=\"images/skip-gram.png\" style=\"width: 400px;\"/>\n",
    "Given the current word, predict the context (surrounding words)."
   ]
  },
  {
   "cell_type": "markdown",
   "metadata": {
    "slideshow": {
     "slide_type": "fragment"
    }
   },
   "source": [
    "---\n",
    "Skip-gram example\n",
    "---\n",
    "\n",
    ">“Insurgents killed in ongoing fighting.”\n",
    "\n",
    "Bi-grams = {insurgents killed, killed in, in ongoing, ongoing fighting}.  \n",
    "\n",
    "2-skip-bi-grams = {insurgents killed, insurgents in, insurgents ongoing, killed in, killed ongoing, killed fighting, in ongoing, in fighting, ongoing fighting}.  \n",
    "\n",
    "Tri-grams = {insurgents killed in, killed in ongoing, in ongoing fighting}.  \n",
    "\n",
    "2-skip-tri-grams = {insurgents killed in, insurgents killed ongoing, insurgents killed fighting, insurgents in ongoing, insurgents in fighting, insurgents ongoing fighting, killed in ongoing, killed in fighting, killed ongoing fighting, in ongoing fighting}. \n"
   ]
  },
  {
   "cell_type": "markdown",
   "metadata": {
    "slideshow": {
     "slide_type": "subslide"
    }
   },
   "source": [
    "----\n",
    "CBOW vs. Skip-gram\n",
    "----"
   ]
  },
  {
   "cell_type": "markdown",
   "metadata": {
    "slideshow": {
     "slide_type": "fragment"
    }
   },
   "source": [
    "CBOW is several times faster to train than the skip-gram and has slightly better accuracy for  frequent words.  "
   ]
  },
  {
   "cell_type": "markdown",
   "metadata": {
    "slideshow": {
     "slide_type": "fragment"
    }
   },
   "source": [
    "Skip-gram works well with a small amount of the training data and well represents rare words."
   ]
  },
  {
   "cell_type": "markdown",
   "metadata": {
    "slideshow": {
     "slide_type": "fragment"
    }
   },
   "source": [
    "__Skip-gram tends to be the most common architecture.__"
   ]
  },
  {
   "cell_type": "markdown",
   "metadata": {
    "collapsed": true,
    "slideshow": {
     "slide_type": "slide"
    }
   },
   "source": [
    "<br>\n",
    "<br>\n",
    "<br>\n",
    "\n",
    "----"
   ]
  }
 ],
 "metadata": {
  "celltoolbar": "Slideshow",
  "kernelspec": {
   "display_name": "Python 3",
   "language": "python",
   "name": "python3"
  },
  "language_info": {
   "codemirror_mode": {
    "name": "ipython",
    "version": 3
   },
   "file_extension": ".py",
   "mimetype": "text/x-python",
   "name": "python",
   "nbconvert_exporter": "python",
   "pygments_lexer": "ipython3",
   "version": "3.5.2"
  }
 },
 "nbformat": 4,
 "nbformat_minor": 0
}
