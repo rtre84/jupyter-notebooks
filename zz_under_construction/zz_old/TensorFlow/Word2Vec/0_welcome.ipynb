{
 "cells": [
  {
   "cell_type": "markdown",
   "metadata": {
    "slideshow": {
     "slide_type": "slide"
    }
   },
   "source": [
    "---\n",
    "word2vec\n",
    "===\n",
    "\n",
    "<img src=\"images/book.png\" style=\"width: 400px;\"/>"
   ]
  },
  {
   "cell_type": "markdown",
   "metadata": {
    "slideshow": {
     "slide_type": "slide"
    }
   },
   "source": [
    "----\n",
    "Agenda\n",
    "----\n",
    "\n",
    "0. Welcome & Overview\n",
    "1. word2vec introduction\n",
    "2. word2vec application\n",
    "2. word2vec activity\n",
    "3. everything2vec"
   ]
  },
  {
   "cell_type": "markdown",
   "metadata": {
    "slideshow": {
     "slide_type": "slide"
    }
   },
   "source": [
    "<img src=\"images/me.png\" style=\"width: 400px;\"/>\n",
    "\n",
    "hi, brian.  \n",
    "[@BrianSpiering](https://twitter.com/brianspiering)\n",
    "\n",
    "Data Science Faculty @[GalvanizeU](http://www.galvanizeu.com/)\n",
    "\n",
    "(these materials are adapted from my Natural Language Processing (NLP) course)"
   ]
  },
  {
   "cell_type": "markdown",
   "metadata": {
    "slideshow": {
     "slide_type": "slide"
    }
   },
   "source": [
    "----\n",
    "Setup for Workshop\n",
    "----\n",
    "\n",
    "[http://bit.ly/word2vec_workshop](http://bit.ly/word2vec_workshop)\n",
    "\n"
   ]
  },
  {
   "cell_type": "markdown",
   "metadata": {
    "slideshow": {
     "slide_type": "slide"
    }
   },
   "source": [
    "<br>\n",
    "<br> \n",
    "<br>\n",
    "\n",
    "----"
   ]
  }
 ],
 "metadata": {
  "celltoolbar": "Slideshow",
  "kernelspec": {
   "display_name": "Python 3",
   "language": "python",
   "name": "python3"
  },
  "language_info": {
   "codemirror_mode": {
    "name": "ipython",
    "version": 3
   },
   "file_extension": ".py",
   "mimetype": "text/x-python",
   "name": "python",
   "nbconvert_exporter": "python",
   "pygments_lexer": "ipython3",
   "version": "3.5.2"
  }
 },
 "nbformat": 4,
 "nbformat_minor": 1
}
