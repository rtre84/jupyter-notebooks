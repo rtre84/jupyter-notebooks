{
 "cells": [
  {
   "cell_type": "markdown",
   "metadata": {},
   "source": [
    "# TensorFlow queues and input pipelines"
   ]
  },
  {
   "cell_type": "markdown",
   "metadata": {},
   "source": [
    "## Initialization"
   ]
  },
  {
   "cell_type": "code",
   "execution_count": 24,
   "metadata": {
    "collapsed": false
   },
   "outputs": [],
   "source": [
    "import numpy as np\n",
    "import tensorflow as tf\n",
    "import threading\n",
    "import time\n",
    "\n",
    "import os\n",
    "from cStringIO import StringIO\n",
    "import numpy as np\n",
    "from functools import partial\n",
    "\n",
    "from IPython.display import clear_output, Image, display, HTML\n",
    "\n",
    "import tensorflow as tf\n",
    "\n",
    "def strip_consts(graph_def, max_const_size=32):\n",
    "    \"\"\"Strip large constant values from graph_def.\"\"\"\n",
    "    strip_def = tf.GraphDef()\n",
    "    for n0 in graph_def.node:\n",
    "        n = strip_def.node.add() \n",
    "        n.MergeFrom(n0)\n",
    "        if n.op == 'Const':\n",
    "            tensor = n.attr['value'].tensor\n",
    "            size = len(tensor.tensor_content)\n",
    "            if size > max_const_size:\n",
    "                tensor.tensor_content = \"<stripped %d bytes>\"%size\n",
    "    return strip_def\n",
    "  \n",
    "def rename_nodes(graph_def, rename_func):\n",
    "    res_def = tf.GraphDef()\n",
    "    for n0 in graph_def.node:\n",
    "        n = res_def.node.add() \n",
    "        n.MergeFrom(n0)\n",
    "        n.name = rename_func(n.name)\n",
    "        for i, s in enumerate(n.input):\n",
    "            n.input[i] = rename_func(s) if s[0]!='^' else '^'+rename_func(s[1:])\n",
    "    return res_def\n",
    "def show_graph(graph_def, max_const_size=32):\n",
    "    \"\"\"Visualize TensorFlow graph.\"\"\"\n",
    "    if hasattr(graph_def, 'as_graph_def'):\n",
    "        graph_def = graph_def.as_graph_def()\n",
    "    strip_def = strip_consts(graph_def, max_const_size=max_const_size)\n",
    "    code = \"\"\"\n",
    "        <script>\n",
    "          function load() {{\n",
    "            document.getElementById(\"{id}\").pbtxt = {data};\n",
    "          }}\n",
    "        </script>\n",
    "        <link rel=\"import\" href=\"https://tensorboard.appspot.com/tf-graph-basic.build.html\" onload=load()>\n",
    "        <div style=\"height:600px\">\n",
    "          <tf-graph-basic id=\"{id}\"></tf-graph-basic>\n",
    "        </div>\n",
    "    \"\"\".format(data=repr(str(strip_def)), id='graph'+str(np.random.rand()))\n",
    "  \n",
    "    iframe = \"\"\"\n",
    "        <iframe seamless style=\"width:1200px;height:620px;border:0\" srcdoc=\"{}\"></iframe>\n",
    "    \"\"\".format(code.replace('\"', '&quot;'))\n",
    "    display(HTML(iframe))\n",
    "    \n",
    "def create_session():\n",
    "    sess = tf.InteractiveSession(config=tf.ConfigProto(operation_timeout_in_ms=3000))\n",
    "    return sess\n"
   ]
  },
  {
   "cell_type": "code",
   "execution_count": 25,
   "metadata": {
    "collapsed": true
   },
   "outputs": [],
   "source": [
    "tf.reset_default_graph()\n",
    "a = tf.constant(1)\n",
    "b = tf.constant(2)\n",
    "c = a+b\n",
    "d = c*a\n",
    "e = d-c"
   ]
  },
  {
   "cell_type": "code",
   "execution_count": 26,
   "metadata": {
    "collapsed": false,
    "scrolled": true
   },
   "outputs": [
    {
     "data": {
      "text/html": [
       "\n",
       "        <iframe seamless style=\"width:1200px;height:620px;border:0\" srcdoc=\"\n",
       "        <script>\n",
       "          function load() {\n",
       "            document.getElementById(&quot;graph0.309833841233&quot;).pbtxt = 'node {\\n  name: &quot;Const&quot;\\n  op: &quot;Const&quot;\\n  attr {\\n    key: &quot;dtype&quot;\\n    value {\\n      type: DT_INT32\\n    }\\n  }\\n  attr {\\n    key: &quot;value&quot;\\n    value {\\n      tensor {\\n        dtype: DT_INT32\\n        tensor_shape {\\n        }\\n        int_val: 1\\n      }\\n    }\\n  }\\n}\\nnode {\\n  name: &quot;Const_1&quot;\\n  op: &quot;Const&quot;\\n  attr {\\n    key: &quot;dtype&quot;\\n    value {\\n      type: DT_INT32\\n    }\\n  }\\n  attr {\\n    key: &quot;value&quot;\\n    value {\\n      tensor {\\n        dtype: DT_INT32\\n        tensor_shape {\\n        }\\n        int_val: 2\\n      }\\n    }\\n  }\\n}\\nnode {\\n  name: &quot;add&quot;\\n  op: &quot;Add&quot;\\n  input: &quot;Const&quot;\\n  input: &quot;Const_1&quot;\\n  attr {\\n    key: &quot;T&quot;\\n    value {\\n      type: DT_INT32\\n    }\\n  }\\n}\\nnode {\\n  name: &quot;mul&quot;\\n  op: &quot;Mul&quot;\\n  input: &quot;add&quot;\\n  input: &quot;Const&quot;\\n  attr {\\n    key: &quot;T&quot;\\n    value {\\n      type: DT_INT32\\n    }\\n  }\\n}\\nnode {\\n  name: &quot;sub&quot;\\n  op: &quot;Sub&quot;\\n  input: &quot;mul&quot;\\n  input: &quot;add&quot;\\n  attr {\\n    key: &quot;T&quot;\\n    value {\\n      type: DT_INT32\\n    }\\n  }\\n}\\n';\n",
       "          }\n",
       "        </script>\n",
       "        <link rel=&quot;import&quot; href=&quot;https://tensorboard.appspot.com/tf-graph-basic.build.html&quot; onload=load()>\n",
       "        <div style=&quot;height:600px&quot;>\n",
       "          <tf-graph-basic id=&quot;graph0.309833841233&quot;></tf-graph-basic>\n",
       "        </div>\n",
       "    \"></iframe>\n",
       "    "
      ],
      "text/plain": [
       "<IPython.core.display.HTML object>"
      ]
     },
     "metadata": {},
     "output_type": "display_data"
    }
   ],
   "source": [
    "show_graph(tf.get_default_graph().as_graph_def())"
   ]
  },
  {
   "cell_type": "markdown",
   "metadata": {},
   "source": [
    "# Simple queue"
   ]
  },
  {
   "cell_type": "code",
   "execution_count": 27,
   "metadata": {
    "collapsed": false
   },
   "outputs": [
    {
     "name": "stdout",
     "output_type": "stream",
     "text": [
      "Queue size is now: 1\n",
      "Queue size is now: 2\n",
      "Queue size is now: 3\n",
      "Queue size is now: 4\n",
      "Queue size is now: 5\n",
      "Queue size is now: 6\n",
      "Queue size is now: 7\n",
      "Queue size is now: 8\n",
      "Queue size is now: 9\n",
      "Queue size is now: 10\n"
     ]
    }
   ],
   "source": [
    "tf.reset_default_graph()\n",
    "q = tf.FIFOQueue(capacity=20, dtypes=[tf.int32])\n",
    "enqueue_placeholder = tf.placeholder(tf.int32)\n",
    "enqueue_op = q.enqueue(enqueue_placeholder)\n",
    "sess = create_session()\n",
    "for i in range(10):\n",
    "    sess.run(enqueue_op, feed_dict={enqueue_placeholder:i})\n",
    "    print \"Queue size is now: \"+str(sess.run(q.size()))\n",
    "sess.run(q.close())"
   ]
  },
  {
   "cell_type": "code",
   "execution_count": 5,
   "metadata": {
    "collapsed": false
   },
   "outputs": [
    {
     "name": "stdout",
     "output_type": "stream",
     "text": [
      "0\n",
      "1\n",
      "2\n",
      "3\n",
      "4\n",
      "5\n",
      "6\n",
      "7\n",
      "8\n",
      "9\n",
      "Done\n"
     ]
    }
   ],
   "source": [
    "try:\n",
    "    for i in range(20):\n",
    "        print sess.run(q.dequeue())\n",
    "except tf.errors.OutOfRangeError:\n",
    "    print \"Done\""
   ]
  },
  {
   "cell_type": "markdown",
   "metadata": {},
   "source": [
    "# Simple queue with multiple enqueues in parallel"
   ]
  },
  {
   "cell_type": "code",
   "execution_count": 6,
   "metadata": {
    "collapsed": false
   },
   "outputs": [
    {
     "name": "stdout",
     "output_type": "stream",
     "text": [
      "0\n",
      "0\n"
     ]
    },
    {
     "name": "stderr",
     "output_type": "stream",
     "text": [
      "Exception AssertionError: AssertionError() in <bound method InteractiveSession.__del__ of <tensorflow.python.client.session.InteractiveSession object at 0x7fadf8bb7a10>> ignored\n"
     ]
    },
    {
     "name": "stdout",
     "output_type": "stream",
     "text": [
      "10\n"
     ]
    }
   ],
   "source": [
    "tf.reset_default_graph()\n",
    "random_number = tf.random_uniform(shape=())\n",
    "q = tf.FIFOQueue(capacity=20, dtypes=[tf.float32])\n",
    "enqueue_op = q.enqueue(random_number)\n",
    "\n",
    "sess = create_session()\n",
    "print sess.run(q.size())\n",
    "def run():\n",
    "  for i in range(5):\n",
    "    sess.run(enqueue_op)\n",
    "\n",
    "threads = [threading.Thread(target=run, args=()) for i in range(2)]\n",
    "[t.start() for t in threads]\n",
    "print sess.run(q.size())\n",
    "time.sleep(0.5)\n",
    "print sess.run(q.size())\n"
   ]
  },
  {
   "cell_type": "markdown",
   "metadata": {},
   "source": [
    "# Setting up range_input_producer"
   ]
  },
  {
   "cell_type": "code",
   "execution_count": 7,
   "metadata": {
    "collapsed": true
   },
   "outputs": [],
   "source": [
    "inn = tf.train.range_input_producer(limit=10, num_epochs=1, shuffle=False)"
   ]
  },
  {
   "cell_type": "code",
   "execution_count": 8,
   "metadata": {
    "collapsed": false
   },
   "outputs": [
    {
     "data": {
      "text/html": [
       "\n",
       "        <iframe seamless style=\"width:1200px;height:620px;border:0\" srcdoc=\"\n",
       "        <script>\n",
       "          function load() {\n",
       "            document.getElementById(&quot;graph0.249725112117&quot;).pbtxt = 'node {\\n  name: &quot;random_uniform/shape&quot;\\n  op: &quot;Const&quot;\\n  attr {\\n    key: &quot;dtype&quot;\\n    value {\\n      type: DT_INT32\\n    }\\n  }\\n  attr {\\n    key: &quot;value&quot;\\n    value {\\n      tensor {\\n        dtype: DT_INT32\\n        tensor_shape {\\n          dim {\\n          }\\n        }\\n      }\\n    }\\n  }\\n}\\nnode {\\n  name: &quot;random_uniform/min&quot;\\n  op: &quot;Const&quot;\\n  attr {\\n    key: &quot;dtype&quot;\\n    value {\\n      type: DT_FLOAT\\n    }\\n  }\\n  attr {\\n    key: &quot;value&quot;\\n    value {\\n      tensor {\\n        dtype: DT_FLOAT\\n        tensor_shape {\\n        }\\n        float_val: 0.0\\n      }\\n    }\\n  }\\n}\\nnode {\\n  name: &quot;random_uniform/max&quot;\\n  op: &quot;Const&quot;\\n  attr {\\n    key: &quot;dtype&quot;\\n    value {\\n      type: DT_FLOAT\\n    }\\n  }\\n  attr {\\n    key: &quot;value&quot;\\n    value {\\n      tensor {\\n        dtype: DT_FLOAT\\n        tensor_shape {\\n        }\\n        float_val: 1.0\\n      }\\n    }\\n  }\\n}\\nnode {\\n  name: &quot;random_uniform/RandomUniform&quot;\\n  op: &quot;RandomUniform&quot;\\n  input: &quot;random_uniform/shape&quot;\\n  attr {\\n    key: &quot;T&quot;\\n    value {\\n      type: DT_INT32\\n    }\\n  }\\n  attr {\\n    key: &quot;dtype&quot;\\n    value {\\n      type: DT_FLOAT\\n    }\\n  }\\n  attr {\\n    key: &quot;seed&quot;\\n    value {\\n      i: 0\\n    }\\n  }\\n  attr {\\n    key: &quot;seed2&quot;\\n    value {\\n      i: 0\\n    }\\n  }\\n}\\nnode {\\n  name: &quot;random_uniform/sub&quot;\\n  op: &quot;Sub&quot;\\n  input: &quot;random_uniform/max&quot;\\n  input: &quot;random_uniform/min&quot;\\n  attr {\\n    key: &quot;T&quot;\\n    value {\\n      type: DT_FLOAT\\n    }\\n  }\\n}\\nnode {\\n  name: &quot;random_uniform/mul&quot;\\n  op: &quot;Mul&quot;\\n  input: &quot;random_uniform/RandomUniform&quot;\\n  input: &quot;random_uniform/sub&quot;\\n  attr {\\n    key: &quot;T&quot;\\n    value {\\n      type: DT_FLOAT\\n    }\\n  }\\n}\\nnode {\\n  name: &quot;random_uniform&quot;\\n  op: &quot;Add&quot;\\n  input: &quot;random_uniform/mul&quot;\\n  input: &quot;random_uniform/min&quot;\\n  attr {\\n    key: &quot;T&quot;\\n    value {\\n      type: DT_FLOAT\\n    }\\n  }\\n}\\nnode {\\n  name: &quot;fifo_queue&quot;\\n  op: &quot;FIFOQueue&quot;\\n  attr {\\n    key: &quot;capacity&quot;\\n    value {\\n      i: 20\\n    }\\n  }\\n  attr {\\n    key: &quot;component_types&quot;\\n    value {\\n      list {\\n        type: DT_FLOAT\\n      }\\n    }\\n  }\\n  attr {\\n    key: &quot;container&quot;\\n    value {\\n      s: &quot;&quot;\\n    }\\n  }\\n  attr {\\n    key: &quot;shapes&quot;\\n    value {\\n      list {\\n      }\\n    }\\n  }\\n  attr {\\n    key: &quot;shared_name&quot;\\n    value {\\n      s: &quot;&quot;\\n    }\\n  }\\n}\\nnode {\\n  name: &quot;fifo_queue_enqueue&quot;\\n  op: &quot;QueueEnqueue&quot;\\n  input: &quot;fifo_queue&quot;\\n  input: &quot;random_uniform&quot;\\n  attr {\\n    key: &quot;Tcomponents&quot;\\n    value {\\n      list {\\n        type: DT_FLOAT\\n      }\\n    }\\n  }\\n  attr {\\n    key: &quot;timeout_ms&quot;\\n    value {\\n      i: -1\\n    }\\n  }\\n}\\nnode {\\n  name: &quot;fifo_queue_Size&quot;\\n  op: &quot;QueueSize&quot;\\n  input: &quot;fifo_queue&quot;\\n}\\nnode {\\n  name: &quot;fifo_queue_Size_1&quot;\\n  op: &quot;QueueSize&quot;\\n  input: &quot;fifo_queue&quot;\\n}\\nnode {\\n  name: &quot;fifo_queue_Size_2&quot;\\n  op: &quot;QueueSize&quot;\\n  input: &quot;fifo_queue&quot;\\n}\\nnode {\\n  name: &quot;input_producer/range/start&quot;\\n  op: &quot;Const&quot;\\n  attr {\\n    key: &quot;dtype&quot;\\n    value {\\n      type: DT_INT32\\n    }\\n  }\\n  attr {\\n    key: &quot;value&quot;\\n    value {\\n      tensor {\\n        dtype: DT_INT32\\n        tensor_shape {\\n        }\\n        int_val: 0\\n      }\\n    }\\n  }\\n}\\nnode {\\n  name: &quot;input_producer/range/limit&quot;\\n  op: &quot;Const&quot;\\n  attr {\\n    key: &quot;dtype&quot;\\n    value {\\n      type: DT_INT32\\n    }\\n  }\\n  attr {\\n    key: &quot;value&quot;\\n    value {\\n      tensor {\\n        dtype: DT_INT32\\n        tensor_shape {\\n        }\\n        int_val: 10\\n      }\\n    }\\n  }\\n}\\nnode {\\n  name: &quot;input_producer/range/delta&quot;\\n  op: &quot;Const&quot;\\n  attr {\\n    key: &quot;dtype&quot;\\n    value {\\n      type: DT_INT32\\n    }\\n  }\\n  attr {\\n    key: &quot;value&quot;\\n    value {\\n      tensor {\\n        dtype: DT_INT32\\n        tensor_shape {\\n        }\\n        int_val: 1\\n      }\\n    }\\n  }\\n}\\nnode {\\n  name: &quot;input_producer/range&quot;\\n  op: &quot;Range&quot;\\n  input: &quot;input_producer/range/start&quot;\\n  input: &quot;input_producer/range/limit&quot;\\n  input: &quot;input_producer/range/delta&quot;\\n}\\nnode {\\n  name: &quot;input_producer/fraction_of_32_full/limit_epochs/Const&quot;\\n  op: &quot;Const&quot;\\n  attr {\\n    key: &quot;dtype&quot;\\n    value {\\n      type: DT_INT64\\n    }\\n  }\\n  attr {\\n    key: &quot;value&quot;\\n    value {\\n      tensor {\\n        dtype: DT_INT64\\n        tensor_shape {\\n        }\\n        int64_val: 0\\n      }\\n    }\\n  }\\n}\\nnode {\\n  name: &quot;input_producer/fraction_of_32_full/limit_epochs/epochs&quot;\\n  op: &quot;Variable&quot;\\n  attr {\\n    key: &quot;container&quot;\\n    value {\\n      s: &quot;&quot;\\n    }\\n  }\\n  attr {\\n    key: &quot;dtype&quot;\\n    value {\\n      type: DT_INT64\\n    }\\n  }\\n  attr {\\n    key: &quot;shape&quot;\\n    value {\\n      shape {\\n      }\\n    }\\n  }\\n  attr {\\n    key: &quot;shared_name&quot;\\n    value {\\n      s: &quot;&quot;\\n    }\\n  }\\n}\\nnode {\\n  name: &quot;input_producer/fraction_of_32_full/limit_epochs/epochs/Assign&quot;\\n  op: &quot;Assign&quot;\\n  input: &quot;input_producer/fraction_of_32_full/limit_epochs/epochs&quot;\\n  input: &quot;input_producer/fraction_of_32_full/limit_epochs/Const&quot;\\n  attr {\\n    key: &quot;T&quot;\\n    value {\\n      type: DT_INT64\\n    }\\n  }\\n  attr {\\n    key: &quot;_class&quot;\\n    value {\\n      list {\\n        s: &quot;loc:@input_producer/fraction_of_32_full/limit_epochs/epochs&quot;\\n      }\\n    }\\n  }\\n  attr {\\n    key: &quot;use_locking&quot;\\n    value {\\n      b: true\\n    }\\n  }\\n  attr {\\n    key: &quot;validate_shape&quot;\\n    value {\\n      b: true\\n    }\\n  }\\n}\\nnode {\\n  name: &quot;input_producer/fraction_of_32_full/limit_epochs/epochs/read&quot;\\n  op: &quot;Identity&quot;\\n  input: &quot;input_producer/fraction_of_32_full/limit_epochs/epochs&quot;\\n  attr {\\n    key: &quot;T&quot;\\n    value {\\n      type: DT_INT64\\n    }\\n  }\\n  attr {\\n    key: &quot;_class&quot;\\n    value {\\n      list {\\n        s: &quot;loc:@input_producer/fraction_of_32_full/limit_epochs/epochs&quot;\\n      }\\n    }\\n  }\\n}\\nnode {\\n  name: &quot;input_producer/fraction_of_32_full/limit_epochs/CountUpTo&quot;\\n  op: &quot;CountUpTo&quot;\\n  input: &quot;input_producer/fraction_of_32_full/limit_epochs/epochs&quot;\\n  attr {\\n    key: &quot;T&quot;\\n    value {\\n      type: DT_INT64\\n    }\\n  }\\n  attr {\\n    key: &quot;limit&quot;\\n    value {\\n      i: 1\\n    }\\n  }\\n}\\nnode {\\n  name: &quot;input_producer/fraction_of_32_full/limit_epochs&quot;\\n  op: &quot;Identity&quot;\\n  input: &quot;input_producer/range&quot;\\n  input: &quot;^input_producer/fraction_of_32_full/limit_epochs/CountUpTo&quot;\\n  attr {\\n    key: &quot;T&quot;\\n    value {\\n      type: DT_INT32\\n    }\\n  }\\n}\\nnode {\\n  name: &quot;input_producer/fraction_of_32_full/fraction_of_32_full&quot;\\n  op: &quot;FIFOQueue&quot;\\n  attr {\\n    key: &quot;capacity&quot;\\n    value {\\n      i: 32\\n    }\\n  }\\n  attr {\\n    key: &quot;component_types&quot;\\n    value {\\n      list {\\n        type: DT_INT32\\n      }\\n    }\\n  }\\n  attr {\\n    key: &quot;container&quot;\\n    value {\\n      s: &quot;&quot;\\n    }\\n  }\\n  attr {\\n    key: &quot;shapes&quot;\\n    value {\\n      list {\\n        shape {\\n        }\\n      }\\n    }\\n  }\\n  attr {\\n    key: &quot;shared_name&quot;\\n    value {\\n      s: &quot;&quot;\\n    }\\n  }\\n}\\nnode {\\n  name: &quot;input_producer/fraction_of_32_full/fraction_of_32_full_EnqueueMany&quot;\\n  op: &quot;QueueEnqueueMany&quot;\\n  input: &quot;input_producer/fraction_of_32_full/fraction_of_32_full&quot;\\n  input: &quot;input_producer/fraction_of_32_full/limit_epochs&quot;\\n  attr {\\n    key: &quot;Tcomponents&quot;\\n    value {\\n      list {\\n        type: DT_INT32\\n      }\\n    }\\n  }\\n  attr {\\n    key: &quot;timeout_ms&quot;\\n    value {\\n      i: -1\\n    }\\n  }\\n}\\nnode {\\n  name: &quot;input_producer/fraction_of_32_full/fraction_of_32_full_Close&quot;\\n  op: &quot;QueueClose&quot;\\n  input: &quot;input_producer/fraction_of_32_full/fraction_of_32_full&quot;\\n  attr {\\n    key: &quot;cancel_pending_enqueues&quot;\\n    value {\\n      b: false\\n    }\\n  }\\n}\\nnode {\\n  name: &quot;input_producer/fraction_of_32_full/fraction_of_32_full_Close_1&quot;\\n  op: &quot;QueueClose&quot;\\n  input: &quot;input_producer/fraction_of_32_full/fraction_of_32_full&quot;\\n  attr {\\n    key: &quot;cancel_pending_enqueues&quot;\\n    value {\\n      b: true\\n    }\\n  }\\n}\\nnode {\\n  name: &quot;input_producer/fraction_of_32_full/fraction_of_32_full_Size&quot;\\n  op: &quot;QueueSize&quot;\\n  input: &quot;input_producer/fraction_of_32_full/fraction_of_32_full&quot;\\n}\\nnode {\\n  name: &quot;input_producer/fraction_of_32_full/Cast&quot;\\n  op: &quot;Cast&quot;\\n  input: &quot;input_producer/fraction_of_32_full/fraction_of_32_full_Size&quot;\\n  attr {\\n    key: &quot;DstT&quot;\\n    value {\\n      type: DT_FLOAT\\n    }\\n  }\\n  attr {\\n    key: &quot;SrcT&quot;\\n    value {\\n      type: DT_INT32\\n    }\\n  }\\n}\\nnode {\\n  name: &quot;input_producer/fraction_of_32_full/mul/y&quot;\\n  op: &quot;Const&quot;\\n  attr {\\n    key: &quot;dtype&quot;\\n    value {\\n      type: DT_FLOAT\\n    }\\n  }\\n  attr {\\n    key: &quot;value&quot;\\n    value {\\n      tensor {\\n        dtype: DT_FLOAT\\n        tensor_shape {\\n        }\\n        float_val: 0.03125\\n      }\\n    }\\n  }\\n}\\nnode {\\n  name: &quot;input_producer/fraction_of_32_full/mul&quot;\\n  op: &quot;Mul&quot;\\n  input: &quot;input_producer/fraction_of_32_full/Cast&quot;\\n  input: &quot;input_producer/fraction_of_32_full/mul/y&quot;\\n  attr {\\n    key: &quot;T&quot;\\n    value {\\n      type: DT_FLOAT\\n    }\\n  }\\n}\\nnode {\\n  name: &quot;input_producer/fraction_of_32_full/ScalarSummary/tags&quot;\\n  op: &quot;Const&quot;\\n  attr {\\n    key: &quot;dtype&quot;\\n    value {\\n      type: DT_STRING\\n    }\\n  }\\n  attr {\\n    key: &quot;value&quot;\\n    value {\\n      tensor {\\n        dtype: DT_STRING\\n        tensor_shape {\\n        }\\n        string_val: &quot;queue/input_producer/fraction_of_32_full/fraction_of_32_full/input_producer/&quot;\\n      }\\n    }\\n  }\\n}\\nnode {\\n  name: &quot;input_producer/fraction_of_32_full/ScalarSummary&quot;\\n  op: &quot;ScalarSummary&quot;\\n  input: &quot;input_producer/fraction_of_32_full/ScalarSummary/tags&quot;\\n  input: &quot;input_producer/fraction_of_32_full/mul&quot;\\n  attr {\\n    key: &quot;T&quot;\\n    value {\\n      type: DT_FLOAT\\n    }\\n  }\\n}\\n';\n",
       "          }\n",
       "        </script>\n",
       "        <link rel=&quot;import&quot; href=&quot;https://tensorboard.appspot.com/tf-graph-basic.build.html&quot; onload=load()>\n",
       "        <div style=&quot;height:600px&quot;>\n",
       "          <tf-graph-basic id=&quot;graph0.249725112117&quot;></tf-graph-basic>\n",
       "        </div>\n",
       "    \"></iframe>\n",
       "    "
      ],
      "text/plain": [
       "<IPython.core.display.HTML object>"
      ]
     },
     "metadata": {},
     "output_type": "display_data"
    }
   ],
   "source": [
    "show_graph(tf.get_default_graph().as_graph_def())"
   ]
  },
  {
   "cell_type": "markdown",
   "metadata": {},
   "source": [
    "## Lookup name of size operation in GraphDef"
   ]
  },
  {
   "cell_type": "markdown",
   "metadata": {},
   "source": [
    "If you don't want to create new Node with \"op.size\", you can find name of exiting node by looking for with op=\"QueueSize\" in the graph definition, and fetching it directly. In this case, proper run call will look like this -- sess.run(\"input_producer/fraction_of_32_full/fraction_of_32_full_Size:0\")"
   ]
  },
  {
   "cell_type": "code",
   "execution_count": 9,
   "metadata": {
    "collapsed": false
   },
   "outputs": [
    {
     "data": {
      "text/plain": [
       "node {\n",
       "  name: \"random_uniform/shape\"\n",
       "  op: \"Const\"\n",
       "  attr {\n",
       "    key: \"dtype\"\n",
       "    value {\n",
       "      type: DT_INT32\n",
       "    }\n",
       "  }\n",
       "  attr {\n",
       "    key: \"value\"\n",
       "    value {\n",
       "      tensor {\n",
       "        dtype: DT_INT32\n",
       "        tensor_shape {\n",
       "          dim {\n",
       "          }\n",
       "        }\n",
       "      }\n",
       "    }\n",
       "  }\n",
       "}\n",
       "node {\n",
       "  name: \"random_uniform/min\"\n",
       "  op: \"Const\"\n",
       "  attr {\n",
       "    key: \"dtype\"\n",
       "    value {\n",
       "      type: DT_FLOAT\n",
       "    }\n",
       "  }\n",
       "  attr {\n",
       "    key: \"value\"\n",
       "    value {\n",
       "      tensor {\n",
       "        dtype: DT_FLOAT\n",
       "        tensor_shape {\n",
       "        }\n",
       "        float_val: 0.0\n",
       "      }\n",
       "    }\n",
       "  }\n",
       "}\n",
       "node {\n",
       "  name: \"random_uniform/max\"\n",
       "  op: \"Const\"\n",
       "  attr {\n",
       "    key: \"dtype\"\n",
       "    value {\n",
       "      type: DT_FLOAT\n",
       "    }\n",
       "  }\n",
       "  attr {\n",
       "    key: \"value\"\n",
       "    value {\n",
       "      tensor {\n",
       "        dtype: DT_FLOAT\n",
       "        tensor_shape {\n",
       "        }\n",
       "        float_val: 1.0\n",
       "      }\n",
       "    }\n",
       "  }\n",
       "}\n",
       "node {\n",
       "  name: \"random_uniform/RandomUniform\"\n",
       "  op: \"RandomUniform\"\n",
       "  input: \"random_uniform/shape\"\n",
       "  attr {\n",
       "    key: \"T\"\n",
       "    value {\n",
       "      type: DT_INT32\n",
       "    }\n",
       "  }\n",
       "  attr {\n",
       "    key: \"dtype\"\n",
       "    value {\n",
       "      type: DT_FLOAT\n",
       "    }\n",
       "  }\n",
       "  attr {\n",
       "    key: \"seed\"\n",
       "    value {\n",
       "      i: 0\n",
       "    }\n",
       "  }\n",
       "  attr {\n",
       "    key: \"seed2\"\n",
       "    value {\n",
       "      i: 0\n",
       "    }\n",
       "  }\n",
       "}\n",
       "node {\n",
       "  name: \"random_uniform/sub\"\n",
       "  op: \"Sub\"\n",
       "  input: \"random_uniform/max\"\n",
       "  input: \"random_uniform/min\"\n",
       "  attr {\n",
       "    key: \"T\"\n",
       "    value {\n",
       "      type: DT_FLOAT\n",
       "    }\n",
       "  }\n",
       "}\n",
       "node {\n",
       "  name: \"random_uniform/mul\"\n",
       "  op: \"Mul\"\n",
       "  input: \"random_uniform/RandomUniform\"\n",
       "  input: \"random_uniform/sub\"\n",
       "  attr {\n",
       "    key: \"T\"\n",
       "    value {\n",
       "      type: DT_FLOAT\n",
       "    }\n",
       "  }\n",
       "}\n",
       "node {\n",
       "  name: \"random_uniform\"\n",
       "  op: \"Add\"\n",
       "  input: \"random_uniform/mul\"\n",
       "  input: \"random_uniform/min\"\n",
       "  attr {\n",
       "    key: \"T\"\n",
       "    value {\n",
       "      type: DT_FLOAT\n",
       "    }\n",
       "  }\n",
       "}\n",
       "node {\n",
       "  name: \"fifo_queue\"\n",
       "  op: \"FIFOQueue\"\n",
       "  attr {\n",
       "    key: \"capacity\"\n",
       "    value {\n",
       "      i: 20\n",
       "    }\n",
       "  }\n",
       "  attr {\n",
       "    key: \"component_types\"\n",
       "    value {\n",
       "      list {\n",
       "        type: DT_FLOAT\n",
       "      }\n",
       "    }\n",
       "  }\n",
       "  attr {\n",
       "    key: \"container\"\n",
       "    value {\n",
       "      s: \"\"\n",
       "    }\n",
       "  }\n",
       "  attr {\n",
       "    key: \"shapes\"\n",
       "    value {\n",
       "      list {\n",
       "      }\n",
       "    }\n",
       "  }\n",
       "  attr {\n",
       "    key: \"shared_name\"\n",
       "    value {\n",
       "      s: \"\"\n",
       "    }\n",
       "  }\n",
       "}\n",
       "node {\n",
       "  name: \"fifo_queue_enqueue\"\n",
       "  op: \"QueueEnqueue\"\n",
       "  input: \"fifo_queue\"\n",
       "  input: \"random_uniform\"\n",
       "  attr {\n",
       "    key: \"Tcomponents\"\n",
       "    value {\n",
       "      list {\n",
       "        type: DT_FLOAT\n",
       "      }\n",
       "    }\n",
       "  }\n",
       "  attr {\n",
       "    key: \"timeout_ms\"\n",
       "    value {\n",
       "      i: -1\n",
       "    }\n",
       "  }\n",
       "}\n",
       "node {\n",
       "  name: \"fifo_queue_Size\"\n",
       "  op: \"QueueSize\"\n",
       "  input: \"fifo_queue\"\n",
       "}\n",
       "node {\n",
       "  name: \"fifo_queue_Size_1\"\n",
       "  op: \"QueueSize\"\n",
       "  input: \"fifo_queue\"\n",
       "}\n",
       "node {\n",
       "  name: \"fifo_queue_Size_2\"\n",
       "  op: \"QueueSize\"\n",
       "  input: \"fifo_queue\"\n",
       "}\n",
       "node {\n",
       "  name: \"input_producer/range/start\"\n",
       "  op: \"Const\"\n",
       "  attr {\n",
       "    key: \"dtype\"\n",
       "    value {\n",
       "      type: DT_INT32\n",
       "    }\n",
       "  }\n",
       "  attr {\n",
       "    key: \"value\"\n",
       "    value {\n",
       "      tensor {\n",
       "        dtype: DT_INT32\n",
       "        tensor_shape {\n",
       "        }\n",
       "        int_val: 0\n",
       "      }\n",
       "    }\n",
       "  }\n",
       "}\n",
       "node {\n",
       "  name: \"input_producer/range/limit\"\n",
       "  op: \"Const\"\n",
       "  attr {\n",
       "    key: \"dtype\"\n",
       "    value {\n",
       "      type: DT_INT32\n",
       "    }\n",
       "  }\n",
       "  attr {\n",
       "    key: \"value\"\n",
       "    value {\n",
       "      tensor {\n",
       "        dtype: DT_INT32\n",
       "        tensor_shape {\n",
       "        }\n",
       "        int_val: 10\n",
       "      }\n",
       "    }\n",
       "  }\n",
       "}\n",
       "node {\n",
       "  name: \"input_producer/range/delta\"\n",
       "  op: \"Const\"\n",
       "  attr {\n",
       "    key: \"dtype\"\n",
       "    value {\n",
       "      type: DT_INT32\n",
       "    }\n",
       "  }\n",
       "  attr {\n",
       "    key: \"value\"\n",
       "    value {\n",
       "      tensor {\n",
       "        dtype: DT_INT32\n",
       "        tensor_shape {\n",
       "        }\n",
       "        int_val: 1\n",
       "      }\n",
       "    }\n",
       "  }\n",
       "}\n",
       "node {\n",
       "  name: \"input_producer/range\"\n",
       "  op: \"Range\"\n",
       "  input: \"input_producer/range/start\"\n",
       "  input: \"input_producer/range/limit\"\n",
       "  input: \"input_producer/range/delta\"\n",
       "}\n",
       "node {\n",
       "  name: \"input_producer/fraction_of_32_full/limit_epochs/Const\"\n",
       "  op: \"Const\"\n",
       "  attr {\n",
       "    key: \"dtype\"\n",
       "    value {\n",
       "      type: DT_INT64\n",
       "    }\n",
       "  }\n",
       "  attr {\n",
       "    key: \"value\"\n",
       "    value {\n",
       "      tensor {\n",
       "        dtype: DT_INT64\n",
       "        tensor_shape {\n",
       "        }\n",
       "        int64_val: 0\n",
       "      }\n",
       "    }\n",
       "  }\n",
       "}\n",
       "node {\n",
       "  name: \"input_producer/fraction_of_32_full/limit_epochs/epochs\"\n",
       "  op: \"Variable\"\n",
       "  attr {\n",
       "    key: \"container\"\n",
       "    value {\n",
       "      s: \"\"\n",
       "    }\n",
       "  }\n",
       "  attr {\n",
       "    key: \"dtype\"\n",
       "    value {\n",
       "      type: DT_INT64\n",
       "    }\n",
       "  }\n",
       "  attr {\n",
       "    key: \"shape\"\n",
       "    value {\n",
       "      shape {\n",
       "      }\n",
       "    }\n",
       "  }\n",
       "  attr {\n",
       "    key: \"shared_name\"\n",
       "    value {\n",
       "      s: \"\"\n",
       "    }\n",
       "  }\n",
       "}\n",
       "node {\n",
       "  name: \"input_producer/fraction_of_32_full/limit_epochs/epochs/Assign\"\n",
       "  op: \"Assign\"\n",
       "  input: \"input_producer/fraction_of_32_full/limit_epochs/epochs\"\n",
       "  input: \"input_producer/fraction_of_32_full/limit_epochs/Const\"\n",
       "  attr {\n",
       "    key: \"T\"\n",
       "    value {\n",
       "      type: DT_INT64\n",
       "    }\n",
       "  }\n",
       "  attr {\n",
       "    key: \"_class\"\n",
       "    value {\n",
       "      list {\n",
       "        s: \"loc:@input_producer/fraction_of_32_full/limit_epochs/epochs\"\n",
       "      }\n",
       "    }\n",
       "  }\n",
       "  attr {\n",
       "    key: \"use_locking\"\n",
       "    value {\n",
       "      b: true\n",
       "    }\n",
       "  }\n",
       "  attr {\n",
       "    key: \"validate_shape\"\n",
       "    value {\n",
       "      b: true\n",
       "    }\n",
       "  }\n",
       "}\n",
       "node {\n",
       "  name: \"input_producer/fraction_of_32_full/limit_epochs/epochs/read\"\n",
       "  op: \"Identity\"\n",
       "  input: \"input_producer/fraction_of_32_full/limit_epochs/epochs\"\n",
       "  attr {\n",
       "    key: \"T\"\n",
       "    value {\n",
       "      type: DT_INT64\n",
       "    }\n",
       "  }\n",
       "  attr {\n",
       "    key: \"_class\"\n",
       "    value {\n",
       "      list {\n",
       "        s: \"loc:@input_producer/fraction_of_32_full/limit_epochs/epochs\"\n",
       "      }\n",
       "    }\n",
       "  }\n",
       "}\n",
       "node {\n",
       "  name: \"input_producer/fraction_of_32_full/limit_epochs/CountUpTo\"\n",
       "  op: \"CountUpTo\"\n",
       "  input: \"input_producer/fraction_of_32_full/limit_epochs/epochs\"\n",
       "  attr {\n",
       "    key: \"T\"\n",
       "    value {\n",
       "      type: DT_INT64\n",
       "    }\n",
       "  }\n",
       "  attr {\n",
       "    key: \"limit\"\n",
       "    value {\n",
       "      i: 1\n",
       "    }\n",
       "  }\n",
       "}\n",
       "node {\n",
       "  name: \"input_producer/fraction_of_32_full/limit_epochs\"\n",
       "  op: \"Identity\"\n",
       "  input: \"input_producer/range\"\n",
       "  input: \"^input_producer/fraction_of_32_full/limit_epochs/CountUpTo\"\n",
       "  attr {\n",
       "    key: \"T\"\n",
       "    value {\n",
       "      type: DT_INT32\n",
       "    }\n",
       "  }\n",
       "}\n",
       "node {\n",
       "  name: \"input_producer/fraction_of_32_full/fraction_of_32_full\"\n",
       "  op: \"FIFOQueue\"\n",
       "  attr {\n",
       "    key: \"capacity\"\n",
       "    value {\n",
       "      i: 32\n",
       "    }\n",
       "  }\n",
       "  attr {\n",
       "    key: \"component_types\"\n",
       "    value {\n",
       "      list {\n",
       "        type: DT_INT32\n",
       "      }\n",
       "    }\n",
       "  }\n",
       "  attr {\n",
       "    key: \"container\"\n",
       "    value {\n",
       "      s: \"\"\n",
       "    }\n",
       "  }\n",
       "  attr {\n",
       "    key: \"shapes\"\n",
       "    value {\n",
       "      list {\n",
       "        shape {\n",
       "        }\n",
       "      }\n",
       "    }\n",
       "  }\n",
       "  attr {\n",
       "    key: \"shared_name\"\n",
       "    value {\n",
       "      s: \"\"\n",
       "    }\n",
       "  }\n",
       "}\n",
       "node {\n",
       "  name: \"input_producer/fraction_of_32_full/fraction_of_32_full_EnqueueMany\"\n",
       "  op: \"QueueEnqueueMany\"\n",
       "  input: \"input_producer/fraction_of_32_full/fraction_of_32_full\"\n",
       "  input: \"input_producer/fraction_of_32_full/limit_epochs\"\n",
       "  attr {\n",
       "    key: \"Tcomponents\"\n",
       "    value {\n",
       "      list {\n",
       "        type: DT_INT32\n",
       "      }\n",
       "    }\n",
       "  }\n",
       "  attr {\n",
       "    key: \"timeout_ms\"\n",
       "    value {\n",
       "      i: -1\n",
       "    }\n",
       "  }\n",
       "}\n",
       "node {\n",
       "  name: \"input_producer/fraction_of_32_full/fraction_of_32_full_Close\"\n",
       "  op: \"QueueClose\"\n",
       "  input: \"input_producer/fraction_of_32_full/fraction_of_32_full\"\n",
       "  attr {\n",
       "    key: \"cancel_pending_enqueues\"\n",
       "    value {\n",
       "      b: false\n",
       "    }\n",
       "  }\n",
       "}\n",
       "node {\n",
       "  name: \"input_producer/fraction_of_32_full/fraction_of_32_full_Close_1\"\n",
       "  op: \"QueueClose\"\n",
       "  input: \"input_producer/fraction_of_32_full/fraction_of_32_full\"\n",
       "  attr {\n",
       "    key: \"cancel_pending_enqueues\"\n",
       "    value {\n",
       "      b: true\n",
       "    }\n",
       "  }\n",
       "}\n",
       "node {\n",
       "  name: \"input_producer/fraction_of_32_full/fraction_of_32_full_Size\"\n",
       "  op: \"QueueSize\"\n",
       "  input: \"input_producer/fraction_of_32_full/fraction_of_32_full\"\n",
       "}\n",
       "node {\n",
       "  name: \"input_producer/fraction_of_32_full/Cast\"\n",
       "  op: \"Cast\"\n",
       "  input: \"input_producer/fraction_of_32_full/fraction_of_32_full_Size\"\n",
       "  attr {\n",
       "    key: \"DstT\"\n",
       "    value {\n",
       "      type: DT_FLOAT\n",
       "    }\n",
       "  }\n",
       "  attr {\n",
       "    key: \"SrcT\"\n",
       "    value {\n",
       "      type: DT_INT32\n",
       "    }\n",
       "  }\n",
       "}\n",
       "node {\n",
       "  name: \"input_producer/fraction_of_32_full/mul/y\"\n",
       "  op: \"Const\"\n",
       "  attr {\n",
       "    key: \"dtype\"\n",
       "    value {\n",
       "      type: DT_FLOAT\n",
       "    }\n",
       "  }\n",
       "  attr {\n",
       "    key: \"value\"\n",
       "    value {\n",
       "      tensor {\n",
       "        dtype: DT_FLOAT\n",
       "        tensor_shape {\n",
       "        }\n",
       "        float_val: 0.03125\n",
       "      }\n",
       "    }\n",
       "  }\n",
       "}\n",
       "node {\n",
       "  name: \"input_producer/fraction_of_32_full/mul\"\n",
       "  op: \"Mul\"\n",
       "  input: \"input_producer/fraction_of_32_full/Cast\"\n",
       "  input: \"input_producer/fraction_of_32_full/mul/y\"\n",
       "  attr {\n",
       "    key: \"T\"\n",
       "    value {\n",
       "      type: DT_FLOAT\n",
       "    }\n",
       "  }\n",
       "}\n",
       "node {\n",
       "  name: \"input_producer/fraction_of_32_full/ScalarSummary/tags\"\n",
       "  op: \"Const\"\n",
       "  attr {\n",
       "    key: \"dtype\"\n",
       "    value {\n",
       "      type: DT_STRING\n",
       "    }\n",
       "  }\n",
       "  attr {\n",
       "    key: \"value\"\n",
       "    value {\n",
       "      tensor {\n",
       "        dtype: DT_STRING\n",
       "        tensor_shape {\n",
       "        }\n",
       "        string_val: \"queue/input_producer/fraction_of_32_full/fraction_of_32_full/input_producer/\"\n",
       "      }\n",
       "    }\n",
       "  }\n",
       "}\n",
       "node {\n",
       "  name: \"input_producer/fraction_of_32_full/ScalarSummary\"\n",
       "  op: \"ScalarSummary\"\n",
       "  input: \"input_producer/fraction_of_32_full/ScalarSummary/tags\"\n",
       "  input: \"input_producer/fraction_of_32_full/mul\"\n",
       "  attr {\n",
       "    key: \"T\"\n",
       "    value {\n",
       "      type: DT_FLOAT\n",
       "    }\n",
       "  }\n",
       "}\n",
       "versions {\n",
       "  producer: 9\n",
       "}"
      ]
     },
     "execution_count": 9,
     "metadata": {},
     "output_type": "execute_result"
    }
   ],
   "source": [
    "tf.get_default_graph().as_graph_def()"
   ]
  },
  {
   "cell_type": "code",
   "execution_count": 10,
   "metadata": {
    "collapsed": false
   },
   "outputs": [
    {
     "data": {
      "text/plain": [
       "[<tensorflow.python.training.queue_runner.QueueRunner at 0x7fadf8b8c090>]"
      ]
     },
     "execution_count": 10,
     "metadata": {},
     "output_type": "execute_result"
    }
   ],
   "source": [
    "tf.get_collection(tf.GraphKeys.QUEUE_RUNNERS)"
   ]
  },
  {
   "cell_type": "code",
   "execution_count": 11,
   "metadata": {
    "collapsed": false
   },
   "outputs": [],
   "source": [
    "threads = tf.train.start_queue_runners()"
   ]
  },
  {
   "cell_type": "code",
   "execution_count": 12,
   "metadata": {
    "collapsed": false
   },
   "outputs": [
    {
     "data": {
      "text/plain": [
       "32"
      ]
     },
     "execution_count": 12,
     "metadata": {},
     "output_type": "execute_result"
    }
   ],
   "source": [
    "sess.graph.version"
   ]
  },
  {
   "cell_type": "code",
   "execution_count": 13,
   "metadata": {
    "collapsed": false
   },
   "outputs": [
    {
     "name": "stderr",
     "output_type": "stream",
     "text": [
      "ERROR:tensorflow:Exception in QueueRunner: Attempting to use uninitialized value input_producer/fraction_of_32_full/limit_epochs/epochs\n",
      "\t [[Node: input_producer/fraction_of_32_full/limit_epochs/CountUpTo = CountUpTo[T=DT_INT64, limit=1, _device=\"/job:localhost/replica:0/task:0/cpu:0\"](input_producer/fraction_of_32_full/limit_epochs/epochs)]]\n",
      "Caused by op u'input_producer/fraction_of_32_full/limit_epochs/CountUpTo', defined at:\n",
      "  File \"/usr/lib/python2.7/runpy.py\", line 162, in _run_module_as_main\n",
      "    \"__main__\", fname, loader, pkg_name)\n",
      "  File \"/usr/lib/python2.7/runpy.py\", line 72, in _run_code\n",
      "    exec code in run_globals\n",
      "  File \"/usr/local/lib/python2.7/dist-packages/ipykernel/__main__.py\", line 3, in <module>\n",
      "    app.launch_new_instance()\n",
      "  File \"/usr/local/lib/python2.7/dist-packages/traitlets/config/application.py\", line 596, in launch_instance\n",
      "    app.start()\n",
      "  File \"/usr/local/lib/python2.7/dist-packages/ipykernel/kernelapp.py\", line 442, in start\n",
      "    ioloop.IOLoop.instance().start()\n",
      "  File \"/usr/local/lib/python2.7/dist-packages/zmq/eventloop/ioloop.py\", line 162, in start\n",
      "    super(ZMQIOLoop, self).start()\n",
      "  File \"/usr/local/lib/python2.7/dist-packages/tornado/ioloop.py\", line 883, in start\n",
      "    handler_func(fd_obj, events)\n",
      "  File \"/usr/local/lib/python2.7/dist-packages/tornado/stack_context.py\", line 275, in null_wrapper\n",
      "    return fn(*args, **kwargs)\n",
      "  File \"/usr/local/lib/python2.7/dist-packages/zmq/eventloop/zmqstream.py\", line 440, in _handle_events\n",
      "    self._handle_recv()\n",
      "  File \"/usr/local/lib/python2.7/dist-packages/zmq/eventloop/zmqstream.py\", line 472, in _handle_recv\n",
      "    self._run_callback(callback, msg)\n",
      "  File \"/usr/local/lib/python2.7/dist-packages/zmq/eventloop/zmqstream.py\", line 414, in _run_callback\n",
      "    callback(*args, **kwargs)\n",
      "  File \"/usr/local/lib/python2.7/dist-packages/tornado/stack_context.py\", line 275, in null_wrapper\n",
      "    return fn(*args, **kwargs)\n",
      "  File \"/usr/local/lib/python2.7/dist-packages/ipykernel/kernelbase.py\", line 276, in dispatcher\n",
      "    return self.dispatch_shell(stream, msg)\n",
      "  File \"/usr/local/lib/python2.7/dist-packages/ipykernel/kernelbase.py\", line 228, in dispatch_shell\n",
      "    handler(stream, idents, msg)\n",
      "  File \"/usr/local/lib/python2.7/dist-packages/ipykernel/kernelbase.py\", line 391, in execute_request\n",
      "    user_expressions, allow_stdin)\n",
      "  File \"/usr/local/lib/python2.7/dist-packages/ipykernel/ipkernel.py\", line 199, in do_execute\n",
      "    shell.run_cell(code, store_history=store_history, silent=silent)\n",
      "  File \"/usr/local/lib/python2.7/dist-packages/IPython/core/interactiveshell.py\", line 2723, in run_cell\n",
      "    interactivity=interactivity, compiler=compiler, result=result)\n",
      "  File \"/usr/local/lib/python2.7/dist-packages/IPython/core/interactiveshell.py\", line 2825, in run_ast_nodes\n",
      "    if self.run_code(code, result):\n",
      "  File \"/usr/local/lib/python2.7/dist-packages/IPython/core/interactiveshell.py\", line 2885, in run_code\n",
      "    exec(code_obj, self.user_global_ns, self.user_ns)\n",
      "  File \"<ipython-input-7-80576f99bb36>\", line 1, in <module>\n",
      "    inn = tf.train.range_input_producer(limit=10, num_epochs=1, shuffle=False)\n",
      "  File \"/usr/local/lib/python2.7/dist-packages/tensorflow/python/training/input.py\", line 221, in range_input_producer\n",
      "    shared_name, name, \"fraction_of_%d_full\" % capacity)\n",
      "  File \"/usr/local/lib/python2.7/dist-packages/tensorflow/python/training/input.py\", line 131, in input_producer\n",
      "    input_tensor = limit_epochs(input_tensor, num_epochs)\n",
      "  File \"/usr/local/lib/python2.7/dist-packages/tensorflow/python/training/input.py\", line 82, in limit_epochs\n",
      "    counter = epochs.count_up_to(num_epochs)\n",
      "  File \"/usr/local/lib/python2.7/dist-packages/tensorflow/python/ops/variables.py\", line 572, in count_up_to\n",
      "    return state_ops.count_up_to(self._variable, limit=limit)\n",
      "  File \"/usr/local/lib/python2.7/dist-packages/tensorflow/python/ops/gen_state_ops.py\", line 110, in count_up_to\n",
      "    return _op_def_lib.apply_op(\"CountUpTo\", ref=ref, limit=limit, name=name)\n",
      "  File \"/usr/local/lib/python2.7/dist-packages/tensorflow/python/ops/op_def_library.py\", line 655, in apply_op\n",
      "    op_def=op_def)\n",
      "  File \"/usr/local/lib/python2.7/dist-packages/tensorflow/python/framework/ops.py\", line 2154, in create_op\n",
      "    original_op=self._default_original_op, op_def=op_def)\n",
      "  File \"/usr/local/lib/python2.7/dist-packages/tensorflow/python/framework/ops.py\", line 1154, in __init__\n",
      "    self._traceback = _extract_stack()\n",
      "\n"
     ]
    },
    {
     "data": {
      "text/plain": [
       "0"
      ]
     },
     "execution_count": 13,
     "metadata": {},
     "output_type": "execute_result"
    }
   ],
   "source": [
    "sess.run(inn.size())"
   ]
  },
  {
   "cell_type": "code",
   "execution_count": 14,
   "metadata": {
    "collapsed": false
   },
   "outputs": [
    {
     "data": {
      "text/plain": [
       "33"
      ]
     },
     "execution_count": 14,
     "metadata": {},
     "output_type": "execute_result"
    },
    {
     "name": "stderr",
     "output_type": "stream",
     "text": [
      "Exception in thread Thread-7:\n",
      "Traceback (most recent call last):\n",
      "  File \"/usr/lib/python2.7/threading.py\", line 810, in __bootstrap_inner\n",
      "    self.run()\n",
      "  File \"/usr/lib/python2.7/threading.py\", line 763, in run\n",
      "    self.__target(*self.__args, **self.__kwargs)\n",
      "  File \"/usr/local/lib/python2.7/dist-packages/tensorflow/python/training/queue_runner.py\", line 185, in _run\n",
      "    sess.run(enqueue_op)\n",
      "  File \"/usr/local/lib/python2.7/dist-packages/tensorflow/python/client/session.py\", line 340, in run\n",
      "    run_metadata_ptr)\n",
      "  File \"/usr/local/lib/python2.7/dist-packages/tensorflow/python/client/session.py\", line 564, in _run\n",
      "    feed_dict_string, options, run_metadata)\n",
      "  File \"/usr/local/lib/python2.7/dist-packages/tensorflow/python/client/session.py\", line 637, in _do_run\n",
      "    target_list, options, run_metadata)\n",
      "  File \"/usr/local/lib/python2.7/dist-packages/tensorflow/python/client/session.py\", line 659, in _do_call\n",
      "    e.code)\n",
      "FailedPreconditionError: Attempting to use uninitialized value input_producer/fraction_of_32_full/limit_epochs/epochs\n",
      "\t [[Node: input_producer/fraction_of_32_full/limit_epochs/CountUpTo = CountUpTo[T=DT_INT64, limit=1, _device=\"/job:localhost/replica:0/task:0/cpu:0\"](input_producer/fraction_of_32_full/limit_epochs/epochs)]]\n",
      "Caused by op u'input_producer/fraction_of_32_full/limit_epochs/CountUpTo', defined at:\n",
      "  File \"/usr/lib/python2.7/runpy.py\", line 162, in _run_module_as_main\n",
      "    \"__main__\", fname, loader, pkg_name)\n",
      "  File \"/usr/lib/python2.7/runpy.py\", line 72, in _run_code\n",
      "    exec code in run_globals\n",
      "  File \"/usr/local/lib/python2.7/dist-packages/ipykernel/__main__.py\", line 3, in <module>\n",
      "    app.launch_new_instance()\n",
      "  File \"/usr/local/lib/python2.7/dist-packages/traitlets/config/application.py\", line 596, in launch_instance\n",
      "    app.start()\n",
      "  File \"/usr/local/lib/python2.7/dist-packages/ipykernel/kernelapp.py\", line 442, in start\n",
      "    ioloop.IOLoop.instance().start()\n",
      "  File \"/usr/local/lib/python2.7/dist-packages/zmq/eventloop/ioloop.py\", line 162, in start\n",
      "    super(ZMQIOLoop, self).start()\n",
      "  File \"/usr/local/lib/python2.7/dist-packages/tornado/ioloop.py\", line 883, in start\n",
      "    handler_func(fd_obj, events)\n",
      "  File \"/usr/local/lib/python2.7/dist-packages/tornado/stack_context.py\", line 275, in null_wrapper\n",
      "    return fn(*args, **kwargs)\n",
      "  File \"/usr/local/lib/python2.7/dist-packages/zmq/eventloop/zmqstream.py\", line 440, in _handle_events\n",
      "    self._handle_recv()\n",
      "  File \"/usr/local/lib/python2.7/dist-packages/zmq/eventloop/zmqstream.py\", line 472, in _handle_recv\n",
      "    self._run_callback(callback, msg)\n",
      "  File \"/usr/local/lib/python2.7/dist-packages/zmq/eventloop/zmqstream.py\", line 414, in _run_callback\n",
      "    callback(*args, **kwargs)\n",
      "  File \"/usr/local/lib/python2.7/dist-packages/tornado/stack_context.py\", line 275, in null_wrapper\n",
      "    return fn(*args, **kwargs)\n",
      "  File \"/usr/local/lib/python2.7/dist-packages/ipykernel/kernelbase.py\", line 276, in dispatcher\n",
      "    return self.dispatch_shell(stream, msg)\n",
      "  File \"/usr/local/lib/python2.7/dist-packages/ipykernel/kernelbase.py\", line 228, in dispatch_shell\n",
      "    handler(stream, idents, msg)\n",
      "  File \"/usr/local/lib/python2.7/dist-packages/ipykernel/kernelbase.py\", line 391, in execute_request\n",
      "    user_expressions, allow_stdin)\n",
      "  File \"/usr/local/lib/python2.7/dist-packages/ipykernel/ipkernel.py\", line 199, in do_execute\n",
      "    shell.run_cell(code, store_history=store_history, silent=silent)\n",
      "  File \"/usr/local/lib/python2.7/dist-packages/IPython/core/interactiveshell.py\", line 2723, in run_cell\n",
      "    interactivity=interactivity, compiler=compiler, result=result)\n",
      "  File \"/usr/local/lib/python2.7/dist-packages/IPython/core/interactiveshell.py\", line 2825, in run_ast_nodes\n",
      "    if self.run_code(code, result):\n",
      "  File \"/usr/local/lib/python2.7/dist-packages/IPython/core/interactiveshell.py\", line 2885, in run_code\n",
      "    exec(code_obj, self.user_global_ns, self.user_ns)\n",
      "  File \"<ipython-input-7-80576f99bb36>\", line 1, in <module>\n",
      "    inn = tf.train.range_input_producer(limit=10, num_epochs=1, shuffle=False)\n",
      "  File \"/usr/local/lib/python2.7/dist-packages/tensorflow/python/training/input.py\", line 221, in range_input_producer\n",
      "    shared_name, name, \"fraction_of_%d_full\" % capacity)\n",
      "  File \"/usr/local/lib/python2.7/dist-packages/tensorflow/python/training/input.py\", line 131, in input_producer\n",
      "    input_tensor = limit_epochs(input_tensor, num_epochs)\n",
      "  File \"/usr/local/lib/python2.7/dist-packages/tensorflow/python/training/input.py\", line 82, in limit_epochs\n",
      "    counter = epochs.count_up_to(num_epochs)\n",
      "  File \"/usr/local/lib/python2.7/dist-packages/tensorflow/python/ops/variables.py\", line 572, in count_up_to\n",
      "    return state_ops.count_up_to(self._variable, limit=limit)\n",
      "  File \"/usr/local/lib/python2.7/dist-packages/tensorflow/python/ops/gen_state_ops.py\", line 110, in count_up_to\n",
      "    return _op_def_lib.apply_op(\"CountUpTo\", ref=ref, limit=limit, name=name)\n",
      "  File \"/usr/local/lib/python2.7/dist-packages/tensorflow/python/ops/op_def_library.py\", line 655, in apply_op\n",
      "    op_def=op_def)\n",
      "  File \"/usr/local/lib/python2.7/dist-packages/tensorflow/python/framework/ops.py\", line 2154, in create_op\n",
      "    original_op=self._default_original_op, op_def=op_def)\n",
      "  File \"/usr/local/lib/python2.7/dist-packages/tensorflow/python/framework/ops.py\", line 1154, in __init__\n",
      "    self._traceback = _extract_stack()\n",
      "\n",
      "\n"
     ]
    }
   ],
   "source": [
    "sess.graph.version"
   ]
  },
  {
   "cell_type": "code",
   "execution_count": 15,
   "metadata": {
    "collapsed": false
   },
   "outputs": [
    {
     "data": {
      "text/plain": [
       "'input_producer/fraction_of_32_full/fraction_of_32_full_Size:0'"
      ]
     },
     "execution_count": 15,
     "metadata": {},
     "output_type": "execute_result"
    }
   ],
   "source": [
    "\"input_producer/fraction_of_32_full/fraction_of_32_full_Size:0\""
   ]
  },
  {
   "cell_type": "markdown",
   "metadata": {},
   "source": [
    "# Alternatives to \"wait forever\""
   ]
  },
  {
   "cell_type": "markdown",
   "metadata": {},
   "source": [
    "## Set session timeout"
   ]
  },
  {
   "cell_type": "code",
   "execution_count": 16,
   "metadata": {
    "collapsed": false
   },
   "outputs": [
    {
     "name": "stderr",
     "output_type": "stream",
     "text": [
      "Exception AssertionError: AssertionError() in <bound method InteractiveSession.__del__ of <tensorflow.python.client.session.InteractiveSession object at 0x7fadf8b95390>> ignored\n"
     ]
    },
    {
     "name": "stdout",
     "output_type": "stream",
     "text": [
      "DeadlineExceededError\n"
     ]
    }
   ],
   "source": [
    "tf.reset_default_graph()\n",
    "queue = tf.FIFOQueue(capacity=5, dtypes=[tf.int32])\n",
    "config = tf.ConfigProto()\n",
    "config.operation_timeout_in_ms=2000\n",
    "sess = tf.InteractiveSession(\"\", config=config)\n",
    "try:\n",
    "    sess.run(queue.dequeue())\n",
    "except tf.errors.DeadlineExceededError:\n",
    "    print \"DeadlineExceededError\""
   ]
  },
  {
   "cell_type": "markdown",
   "metadata": {},
   "source": [
    "## Close the queue before reading"
   ]
  },
  {
   "cell_type": "code",
   "execution_count": 17,
   "metadata": {
    "collapsed": false,
    "scrolled": true
   },
   "outputs": [
    {
     "name": "stdout",
     "output_type": "stream",
     "text": [
      "OutOfRangeError\n"
     ]
    },
    {
     "name": "stderr",
     "output_type": "stream",
     "text": [
      "Exception AssertionError: AssertionError() in <bound method InteractiveSession.__del__ of <tensorflow.python.client.session.InteractiveSession object at 0x7fadf4259b90>> ignored\n"
     ]
    }
   ],
   "source": [
    "tf.reset_default_graph()\n",
    "queue = tf.FIFOQueue(capacity=5, dtypes=[tf.int32])\n",
    "config = tf.ConfigProto()\n",
    "config.operation_timeout_in_ms=2000\n",
    "sess = tf.InteractiveSession(\"\", config=config)\n",
    "sess.run(queue.close())\n",
    "try: \n",
    "    sess.run(queue.dequeue())\n",
    "except tf.errors.OutOfRangeError as e:\n",
    "    print \"OutOfRangeError\""
   ]
  },
  {
   "cell_type": "markdown",
   "metadata": {},
   "source": [
    "## Close the queue before writing"
   ]
  },
  {
   "cell_type": "code",
   "execution_count": 18,
   "metadata": {
    "collapsed": false
   },
   "outputs": [
    {
     "name": "stdout",
     "output_type": "stream",
     "text": [
      "AbortedError\n"
     ]
    },
    {
     "name": "stderr",
     "output_type": "stream",
     "text": [
      "Exception AssertionError: AssertionError() in <bound method InteractiveSession.__del__ of <tensorflow.python.client.session.InteractiveSession object at 0x7fadf4259ad0>> ignored\n"
     ]
    }
   ],
   "source": [
    "tf.reset_default_graph()\n",
    "queue = tf.FIFOQueue(capacity=5, dtypes=[tf.int32])\n",
    "config = tf.ConfigProto()\n",
    "config.operation_timeout_in_ms=2000\n",
    "sess = tf.InteractiveSession(\"\", config=config)\n",
    "sess.run(queue.close())\n",
    "try:\n",
    "    sess.run(queue.enqueue(5))\n",
    "except tf.errors.AbortedError:\n",
    "    print \"AbortedError\""
   ]
  },
  {
   "cell_type": "markdown",
   "metadata": {},
   "source": [
    "# Simple batching example"
   ]
  },
  {
   "cell_type": "code",
   "execution_count": 19,
   "metadata": {
    "collapsed": false
   },
   "outputs": [
    {
     "name": "stderr",
     "output_type": "stream",
     "text": [
      "Exception AssertionError: AssertionError() in <bound method InteractiveSession.__del__ of <tensorflow.python.client.session.InteractiveSession object at 0x7fadf4259c50>> ignored\n"
     ]
    },
    {
     "data": {
      "text/plain": [
       "[<Thread(Thread-8, started daemon 140384554444544)>,\n",
       " <Thread(Thread-9, started daemon 140384546051840)>,\n",
       " <Thread(Thread-10, started daemon 140384537659136)>,\n",
       " <Thread(Thread-11, started daemon 140384529266432)>]"
      ]
     },
     "execution_count": 19,
     "metadata": {},
     "output_type": "execute_result"
    }
   ],
   "source": [
    "tf.reset_default_graph()\n",
    "ranges = tf.train.range_input_producer(limit=10, num_epochs=1, shuffle=False)\n",
    "number = ranges.dequeue()\n",
    "numeric_batch = tf.train.batch_join([[number]]*3, batch_size=2)\n",
    "batch_number = numeric_batch\n",
    "\n",
    "sess = tf.InteractiveSession(config=tf.ConfigProto(operation_timeout_in_ms=6000))\n",
    "sess.run(tf.initialize_all_variables())\n",
    "tf.train.start_queue_runners()"
   ]
  },
  {
   "cell_type": "code",
   "execution_count": 20,
   "metadata": {
    "collapsed": false
   },
   "outputs": [
    {
     "data": {
      "text/plain": [
       "[<tensorflow.python.training.queue_runner.QueueRunner at 0x7fadf426eed0>,\n",
       " <tensorflow.python.training.queue_runner.QueueRunner at 0x7fadf4259e10>]"
      ]
     },
     "execution_count": 20,
     "metadata": {},
     "output_type": "execute_result"
    }
   ],
   "source": [
    "tf.get_collection(tf.GraphKeys.QUEUE_RUNNERS)"
   ]
  },
  {
   "cell_type": "markdown",
   "metadata": {},
   "source": [
    "### Python/TensorFlow gotcha"
   ]
  },
  {
   "cell_type": "code",
   "execution_count": 21,
   "metadata": {
    "collapsed": false
   },
   "outputs": [
    {
     "name": "stdout",
     "output_type": "stream",
     "text": [
      "[0, 0, 0]\n"
     ]
    },
    {
     "name": "stderr",
     "output_type": "stream",
     "text": [
      "Exception AssertionError: AssertionError() in <bound method InteractiveSession.__del__ of <tensorflow.python.client.session.InteractiveSession object at 0x7fadf4259ad0>> ignored\n"
     ]
    }
   ],
   "source": [
    "tf.reset_default_graph()\n",
    "ranges = tf.train.range_input_producer(limit=10, num_epochs=1, shuffle=False)\n",
    "number = ranges.dequeue()\n",
    "sess = tf.InteractiveSession(config=tf.ConfigProto(operation_timeout_in_ms=6000))\n",
    "sess.run(tf.initialize_all_variables())\n",
    "tf.train.start_queue_runners()\n",
    "\n",
    "print sess.run([number]*3)"
   ]
  },
  {
   "cell_type": "markdown",
   "metadata": {},
   "source": [
    "### Solution 1"
   ]
  },
  {
   "cell_type": "code",
   "execution_count": 22,
   "metadata": {
    "collapsed": false
   },
   "outputs": [
    {
     "name": "stderr",
     "output_type": "stream",
     "text": [
      "Exception AssertionError: AssertionError() in <bound method InteractiveSession.__del__ of <tensorflow.python.client.session.InteractiveSession object at 0x7fadf42529d0>> ignored\n"
     ]
    },
    {
     "name": "stdout",
     "output_type": "stream",
     "text": [
      "[0, 0, 0]\n"
     ]
    }
   ],
   "source": [
    "tf.reset_default_graph()\n",
    "ranges = tf.train.range_input_producer(limit=10, num_epochs=1, shuffle=False)\n",
    "number = ranges.dequeue()\n",
    "sess = tf.InteractiveSession(config=tf.ConfigProto(operation_timeout_in_ms=6000))\n",
    "sess.run(tf.initialize_all_variables())\n",
    "tf.train.start_queue_runners()\n",
    "\n",
    "print sess.run([ranges.dequeue()]*3)"
   ]
  },
  {
   "cell_type": "markdown",
   "metadata": {},
   "source": [
    "### Solution 2"
   ]
  },
  {
   "cell_type": "code",
   "execution_count": 23,
   "metadata": {
    "collapsed": false
   },
   "outputs": [
    {
     "name": "stderr",
     "output_type": "stream",
     "text": [
      "Exception AssertionError: AssertionError() in <bound method InteractiveSession.__del__ of <tensorflow.python.client.session.InteractiveSession object at 0x7fadf4205790>> ignored\n"
     ]
    },
    {
     "ename": "NotFoundError",
     "evalue": "FetchOutputs node fraction_of_32_full_Dequeue_3:0: not found",
     "output_type": "error",
     "traceback": [
      "\u001b[1;31m\u001b[0m",
      "\u001b[1;31mNotFoundError\u001b[0mTraceback (most recent call last)",
      "\u001b[1;32m<ipython-input-23-61885746734a>\u001b[0m in \u001b[0;36m<module>\u001b[1;34m()\u001b[0m\n\u001b[0;32m      6\u001b[0m \u001b[0mtf\u001b[0m\u001b[1;33m.\u001b[0m\u001b[0mtrain\u001b[0m\u001b[1;33m.\u001b[0m\u001b[0mstart_queue_runners\u001b[0m\u001b[1;33m(\u001b[0m\u001b[1;33m)\u001b[0m\u001b[1;33m\u001b[0m\u001b[0m\n\u001b[0;32m      7\u001b[0m \u001b[1;33m\u001b[0m\u001b[0m\n\u001b[1;32m----> 8\u001b[1;33m \u001b[1;32mprint\u001b[0m \u001b[0msess\u001b[0m\u001b[1;33m.\u001b[0m\u001b[0mrun\u001b[0m\u001b[1;33m(\u001b[0m\u001b[1;33m[\u001b[0m\u001b[0mranges\u001b[0m\u001b[1;33m.\u001b[0m\u001b[0mdequeue\u001b[0m\u001b[1;33m(\u001b[0m\u001b[1;33m)\u001b[0m\u001b[1;33m,\u001b[0m \u001b[0mranges\u001b[0m\u001b[1;33m.\u001b[0m\u001b[0mdequeue\u001b[0m\u001b[1;33m(\u001b[0m\u001b[1;33m)\u001b[0m\u001b[1;33m,\u001b[0m \u001b[0mranges\u001b[0m\u001b[1;33m.\u001b[0m\u001b[0mdequeue\u001b[0m\u001b[1;33m(\u001b[0m\u001b[1;33m)\u001b[0m\u001b[1;33m]\u001b[0m\u001b[1;33m)\u001b[0m\u001b[1;33m\u001b[0m\u001b[0m\n\u001b[0m",
      "\u001b[1;32m/usr/local/lib/python2.7/dist-packages/tensorflow/python/client/session.pyc\u001b[0m in \u001b[0;36mrun\u001b[1;34m(self, fetches, feed_dict, options, run_metadata)\u001b[0m\n\u001b[0;32m    338\u001b[0m     \u001b[1;32mtry\u001b[0m\u001b[1;33m:\u001b[0m\u001b[1;33m\u001b[0m\u001b[0m\n\u001b[0;32m    339\u001b[0m       result = self._run(None, fetches, feed_dict, options_ptr,\n\u001b[1;32m--> 340\u001b[1;33m                          run_metadata_ptr)\n\u001b[0m\u001b[0;32m    341\u001b[0m       \u001b[1;32mif\u001b[0m \u001b[0mrun_metadata\u001b[0m\u001b[1;33m:\u001b[0m\u001b[1;33m\u001b[0m\u001b[0m\n\u001b[0;32m    342\u001b[0m         \u001b[0mproto_data\u001b[0m \u001b[1;33m=\u001b[0m \u001b[0mtf_session\u001b[0m\u001b[1;33m.\u001b[0m\u001b[0mTF_GetBuffer\u001b[0m\u001b[1;33m(\u001b[0m\u001b[0mrun_metadata_ptr\u001b[0m\u001b[1;33m)\u001b[0m\u001b[1;33m\u001b[0m\u001b[0m\n",
      "\u001b[1;32m/usr/local/lib/python2.7/dist-packages/tensorflow/python/client/session.pyc\u001b[0m in \u001b[0;36m_run\u001b[1;34m(self, handle, fetches, feed_dict, options, run_metadata)\u001b[0m\n\u001b[0;32m    562\u001b[0m     \u001b[1;32mtry\u001b[0m\u001b[1;33m:\u001b[0m\u001b[1;33m\u001b[0m\u001b[0m\n\u001b[0;32m    563\u001b[0m       results = self._do_run(handle, target_list, unique_fetches,\n\u001b[1;32m--> 564\u001b[1;33m                              feed_dict_string, options, run_metadata)\n\u001b[0m\u001b[0;32m    565\u001b[0m     \u001b[1;32mfinally\u001b[0m\u001b[1;33m:\u001b[0m\u001b[1;33m\u001b[0m\u001b[0m\n\u001b[0;32m    566\u001b[0m       \u001b[1;31m# The movers are no longer used. Delete them.\u001b[0m\u001b[1;33m\u001b[0m\u001b[1;33m\u001b[0m\u001b[0m\n",
      "\u001b[1;32m/usr/local/lib/python2.7/dist-packages/tensorflow/python/client/session.pyc\u001b[0m in \u001b[0;36m_do_run\u001b[1;34m(self, handle, target_list, fetch_list, feed_dict, options, run_metadata)\u001b[0m\n\u001b[0;32m    635\u001b[0m     \u001b[1;32mif\u001b[0m \u001b[0mhandle\u001b[0m \u001b[1;32mis\u001b[0m \u001b[0mNone\u001b[0m\u001b[1;33m:\u001b[0m\u001b[1;33m\u001b[0m\u001b[0m\n\u001b[0;32m    636\u001b[0m       return self._do_call(_run_fn, self._session, feed_dict, fetch_list,\n\u001b[1;32m--> 637\u001b[1;33m                            target_list, options, run_metadata)\n\u001b[0m\u001b[0;32m    638\u001b[0m     \u001b[1;32melse\u001b[0m\u001b[1;33m:\u001b[0m\u001b[1;33m\u001b[0m\u001b[0m\n\u001b[0;32m    639\u001b[0m       return self._do_call(_prun_fn, self._session, handle, feed_dict,\n",
      "\u001b[1;32m/usr/local/lib/python2.7/dist-packages/tensorflow/python/client/session.pyc\u001b[0m in \u001b[0;36m_do_call\u001b[1;34m(self, fn, *args)\u001b[0m\n\u001b[0;32m    657\u001b[0m       \u001b[1;31m# pylint: disable=protected-access\u001b[0m\u001b[1;33m\u001b[0m\u001b[1;33m\u001b[0m\u001b[0m\n\u001b[0;32m    658\u001b[0m       raise errors._make_specific_exception(node_def, op, error_message,\n\u001b[1;32m--> 659\u001b[1;33m                                             e.code)\n\u001b[0m\u001b[0;32m    660\u001b[0m       \u001b[1;31m# pylint: enable=protected-access\u001b[0m\u001b[1;33m\u001b[0m\u001b[1;33m\u001b[0m\u001b[0m\n\u001b[0;32m    661\u001b[0m \u001b[1;33m\u001b[0m\u001b[0m\n",
      "\u001b[1;31mNotFoundError\u001b[0m: FetchOutputs node fraction_of_32_full_Dequeue_3:0: not found"
     ]
    }
   ],
   "source": [
    "tf.reset_default_graph()\n",
    "ranges = tf.train.range_input_producer(limit=10, num_epochs=1, shuffle=False)\n",
    "number = ranges.dequeue()\n",
    "sess = tf.InteractiveSession(config=tf.ConfigProto(operation_timeout_in_ms=6000))\n",
    "sess.run(tf.initialize_all_variables())\n",
    "tf.train.start_queue_runners()\n",
    "\n",
    "print sess.run([ranges.dequeue(), ranges.dequeue(), ranges.dequeue()])"
   ]
  }
 ],
 "metadata": {
  "kernelspec": {
   "display_name": "Python 2",
   "language": "python",
   "name": "python2"
  }
 },
 "nbformat": 4,
 "nbformat_minor": 0
}
