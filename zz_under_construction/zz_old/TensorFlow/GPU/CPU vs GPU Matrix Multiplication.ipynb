{
 "cells": [
  {
   "cell_type": "markdown",
   "metadata": {},
   "source": [
    "### CPU"
   ]
  },
  {
   "cell_type": "code",
   "execution_count": null,
   "metadata": {
    "collapsed": false
   },
   "outputs": [],
   "source": [
    "import numpy as np\n",
    "import tensorflow as tf\n",
    "import time\n",
    "\n",
    "with tf.device('/cpu:0'):\n",
    "  X = tf.constant(np.array(np.random.randn(10000,10000), dtype = np.float32), dtype = tf.float32)\n",
    "  Y = tf.matmul(X, tf.transpose(X))\n",
    "\n",
    "  init = tf.initialize_all_variables()\n",
    "  sess = tf.Session(config=tf.ConfigProto(log_device_placement=True))\n",
    "  sess.run(init)\n",
    "\n",
    "  a = time.time()\n",
    "  sess.run(Y)\n",
    "  print \"Runtime: %s\" % (time.time() - a)"
   ]
  },
  {
   "cell_type": "markdown",
   "metadata": {},
   "source": [
    "### Single GPU"
   ]
  },
  {
   "cell_type": "code",
   "execution_count": null,
   "metadata": {
    "collapsed": false
   },
   "outputs": [],
   "source": [
    "import tensorflow as tf\n",
    "import time\n",
    "import numpy as np\n",
    "\n",
    "# Creates a graph.\n",
    "c = []\n",
    "for d in ['/gpu:0', '/gpu:1', '/gpu:2', '/gpu:3']:\n",
    "#for d in ['/gpu:0']:\n",
    "  with tf.device(d):\n",
    "    a = tf.constant(np.array(np.random.randn(500,500), dtype = np.float32), dtype = tf.float32)\n",
    "    b = tf.constant(np.array(np.random.randn(500,500), dtype = np.float32), dtype = tf.float32)\n",
    "    c = tf.constant(np.array(np.random.randn(500,500), dtype = np.float32), dtype = tf.float32)\n",
    "    d = tf.constant(np.array(np.random.randn(500,500), dtype = np.float32), dtype = tf.float32)\n",
    "    c.append(tf.matmul(a, b))\n",
    "    c.append(tf.matmul(c, d))\n",
    "\n",
    "with tf.device('/cpu:0'):\n",
    "  sum = tf.add_n(c)\n",
    "\n",
    "# Creates a session with log_device_placement set to True.\n",
    "sess = tf.Session(config=tf.ConfigProto(log_device_placement=True))\n",
    "# Runs the op.\n",
    "\n",
    "a = time.time()\n",
    "print sess.run(sum)\n",
    "print \"Runtime: %s\" % (time.time() - a)\n",
    "\n",
    "sess.close()"
   ]
  },
  {
   "cell_type": "markdown",
   "metadata": {
    "collapsed": true
   },
   "source": [
    "### Multiple GPUs"
   ]
  },
  {
   "cell_type": "code",
   "execution_count": null,
   "metadata": {
    "collapsed": false
   },
   "outputs": [],
   "source": [
    "import tensorflow as tf\n",
    "import time\n",
    "import numpy as np\n",
    "\n",
    "# Creates a graph.\n",
    "c = []\n",
    "for d in ['/gpu:0', '/gpu:1', '/gpu:2', '/gpu:3']:\n",
    "#for d in ['/gpu:0']:\n",
    "  with tf.device(d):\n",
    "    a = tf.constant(np.array(np.random.randn(500,500), dtype = np.float32), dtype = tf.float32)\n",
    "    b = tf.constant(np.array(np.random.randn(500,500), dtype = np.float32), dtype = tf.float32)\n",
    "    c = tf.constant(np.array(np.random.randn(500,500), dtype = np.float32), dtype = tf.float32)\n",
    "    d = tf.constant(np.array(np.random.randn(500,500), dtype = np.float32), dtype = tf.float32)\n",
    "    c.append(tf.matmul(a, b))\n",
    "    c.append(tf.matmul(c, d))\n",
    "\n",
    "with tf.device('/cpu:0'):\n",
    "  sum = tf.add_n(c)\n",
    "\n",
    "# Creates a session with log_device_placement set to True.\n",
    "sess = tf.Session(config=tf.ConfigProto(log_device_placement=True))\n",
    "# Runs the op.\n",
    "\n",
    "a = time.time()\n",
    "print sess.run(sum)\n",
    "print \"Runtime: %s\" % (time.time() - a)\n",
    "\n",
    "sess.close()"
   ]
  },
  {
   "cell_type": "code",
   "execution_count": null,
   "metadata": {
    "collapsed": true
   },
   "outputs": [],
   "source": []
  }
 ],
 "metadata": {
  "kernelspec": {
   "display_name": "Python 2",
   "language": "python",
   "name": "python2"
  },
  "language_info": {
   "codemirror_mode": {
    "name": "ipython",
    "version": 2
   },
   "file_extension": ".py",
   "mimetype": "text/x-python",
   "name": "python",
   "nbconvert_exporter": "python",
   "pygments_lexer": "ipython2",
   "version": "2.7.6"
  }
 },
 "nbformat": 4,
 "nbformat_minor": 0
}
