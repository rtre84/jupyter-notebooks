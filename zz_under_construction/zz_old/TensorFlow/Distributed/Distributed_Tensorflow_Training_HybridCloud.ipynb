{
 "cells": [
  {
   "cell_type": "markdown",
   "metadata": {},
   "source": [
    "# Distributed Tensorflow\n",
    "\n",
    "\n",
    "![TensorFlowing](./files/tensors_flowing.gif)\n"
   ]
  },
  {
   "cell_type": "code",
   "execution_count": 1,
   "metadata": {
    "collapsed": true
   },
   "outputs": [],
   "source": [
    "import tensorflow as tf"
   ]
  },
  {
   "cell_type": "code",
   "execution_count": 2,
   "metadata": {
    "collapsed": false
   },
   "outputs": [
    {
     "name": "stdout",
     "output_type": "stream",
     "text": [
      "Requirement already satisfied: version_information in /opt/conda/lib/python3.5/site-packages\n",
      "\u001b[33mYou are using pip version 9.0.0, however version 9.0.1 is available.\n",
      "You should consider upgrading via the 'pip install --upgrade pip' command.\u001b[0m\n"
     ]
    },
    {
     "data": {
      "application/json": {
       "Software versions": [
        {
         "module": "Python",
         "version": "3.5.2 64bit [GCC 4.4.7 20120313 (Red Hat 4.4.7-1)]"
        },
        {
         "module": "IPython",
         "version": "5.1.0"
        },
        {
         "module": "OS",
         "version": "Linux 3.16.0 4 amd64 x86_64 with debian jessie sid"
        },
        {
         "module": "numpy",
         "version": "1.11.2"
        },
        {
         "module": "scipy",
         "version": "0.18.1"
        },
        {
         "module": "matplotlib",
         "version": "1.5.3"
        },
        {
         "module": "pandas",
         "version": "0.19.1"
        },
        {
         "module": "tensorflow",
         "version": "0.11.0"
        },
        {
         "module": "sklearn",
         "version": "0.18.1"
        },
        {
         "module": "skflow",
         "version": "The 'skflow' distribution was not found and is required by the application"
        }
       ]
      },
      "text/html": [
       "<table><tr><th>Software</th><th>Version</th></tr><tr><td>Python</td><td>3.5.2 64bit [GCC 4.4.7 20120313 (Red Hat 4.4.7-1)]</td></tr><tr><td>IPython</td><td>5.1.0</td></tr><tr><td>OS</td><td>Linux 3.16.0 4 amd64 x86_64 with debian jessie sid</td></tr><tr><td>numpy</td><td>1.11.2</td></tr><tr><td>scipy</td><td>0.18.1</td></tr><tr><td>matplotlib</td><td>1.5.3</td></tr><tr><td>pandas</td><td>0.19.1</td></tr><tr><td>tensorflow</td><td>0.11.0</td></tr><tr><td>sklearn</td><td>0.18.1</td></tr><tr><td>skflow</td><td>The 'skflow' distribution was not found and is required by the application</td></tr><tr><td colspan='2'>Wed Dec 07 11:18:12 2016 UTC</td></tr></table>"
      ],
      "text/latex": [
       "\\begin{tabular}{|l|l|}\\hline\n",
       "{\\bf Software} & {\\bf Version} \\\\ \\hline\\hline\n",
       "Python & 3.5.2 64bit [GCC 4.4.7 20120313 (Red Hat 4.4.7-1)] \\\\ \\hline\n",
       "IPython & 5.1.0 \\\\ \\hline\n",
       "OS & Linux 3.16.0 4 amd64 x86\\_64 with debian jessie sid \\\\ \\hline\n",
       "numpy & 1.11.2 \\\\ \\hline\n",
       "scipy & 0.18.1 \\\\ \\hline\n",
       "matplotlib & 1.5.3 \\\\ \\hline\n",
       "pandas & 0.19.1 \\\\ \\hline\n",
       "tensorflow & 0.11.0 \\\\ \\hline\n",
       "sklearn & 0.18.1 \\\\ \\hline\n",
       "skflow & The 'skflow' distribution was not found and is required by the application \\\\ \\hline\n",
       "\\hline \\multicolumn{2}{|l|}{Wed Dec 07 11:18:12 2016 UTC} \\\\ \\hline\n",
       "\\end{tabular}\n"
      ],
      "text/plain": [
       "Software versions\n",
       "Python 3.5.2 64bit [GCC 4.4.7 20120313 (Red Hat 4.4.7-1)]\n",
       "IPython 5.1.0\n",
       "OS Linux 3.16.0 4 amd64 x86_64 with debian jessie sid\n",
       "numpy 1.11.2\n",
       "scipy 0.18.1\n",
       "matplotlib 1.5.3\n",
       "pandas 0.19.1\n",
       "tensorflow 0.11.0\n",
       "sklearn 0.18.1\n",
       "skflow The 'skflow' distribution was not found and is required by the application\n",
       "Wed Dec 07 11:18:12 2016 UTC"
      ]
     },
     "execution_count": 2,
     "metadata": {},
     "output_type": "execute_result"
    }
   ],
   "source": [
    "!pip install version_information\n",
    "\n",
    "%load_ext version_information\n",
    "%version_information numpy, scipy, matplotlib, pandas, tensorflow, sklearn, skflow"
   ]
  },
  {
   "cell_type": "markdown",
   "metadata": {
    "slideshow": {
     "slide_type": "slide"
    }
   },
   "source": [
    "## Overview of Components"
   ]
  },
  {
   "cell_type": "markdown",
   "metadata": {},
   "source": [
    "### Cluster\n",
    "\n",
    "To define a distributed computation in tensorflow we need to specify two kinds of jobs:\n",
    "\n",
    "- worker jobs\n",
    "- parameter server (ps) jobs\n",
    "\n",
    "Each **job** is defined by one ore more **tasks**. Each task is usually specified with a simple numerical index, i.e. `0,1,2,3, ..`."
   ]
  },
  {
   "cell_type": "code",
   "execution_count": 3,
   "metadata": {
    "collapsed": false
   },
   "outputs": [
    {
     "name": "stdout",
     "output_type": "stream",
     "text": [
      "NAME                       READY     STATUS    RESTARTS   AGE\r\n",
      "prediction-codegen-k114g   1/1       Running   0          6d\r\n",
      "prediction-pmml-uafkm      1/1       Running   0          7d\r\n",
      "turbine-u6588              1/1       Running   0          12d\r\n",
      "weavescope-app-nrc6o       1/1       Running   0          12d\r\n",
      "weavescope-probe-5rogi     1/1       Running   0          12d\r\n"
     ]
    }
   ],
   "source": [
    "!kubectl get pod"
   ]
  },
  {
   "cell_type": "code",
   "execution_count": 4,
   "metadata": {
    "collapsed": true
   },
   "outputs": [],
   "source": [
    "CLUSTER_SPEC= \"\"\"\n",
    "{\n",
    "    'ps' : ['clustered-tensorflow-ps0:2222', 'clustered-tensorflow-ps1:2222'],\n",
    "    'worker' : [ 'clustered-tensorflow-worker0','clustered-tensorflow-worker1:2222']\n",
    "}\n",
    "\"\"\""
   ]
  },
  {
   "cell_type": "code",
   "execution_count": 5,
   "metadata": {
    "collapsed": false
   },
   "outputs": [],
   "source": [
    "import ast\n",
    "\n",
    "cluster_def = ast.literal_eval(CLUSTER_SPEC)"
   ]
  },
  {
   "cell_type": "code",
   "execution_count": 6,
   "metadata": {
    "collapsed": false
   },
   "outputs": [
    {
     "data": {
      "text/plain": [
       "{'ps': ['clustered-tensorflow-ps0:2222', 'clustered-tensorflow-ps1:2222'],\n",
       " 'worker': ['clustered-tensorflow-worker0',\n",
       "  'clustered-tensorflow-worker1:2222']}"
      ]
     },
     "execution_count": 6,
     "metadata": {},
     "output_type": "execute_result"
    }
   ],
   "source": [
    "cluster_def"
   ]
  },
  {
   "cell_type": "code",
   "execution_count": 7,
   "metadata": {
    "collapsed": false
   },
   "outputs": [],
   "source": [
    "clusterSpec = tf.train.ClusterSpec(cluster_def)"
   ]
  },
  {
   "cell_type": "code",
   "execution_count": 8,
   "metadata": {
    "collapsed": false
   },
   "outputs": [
    {
     "data": {
      "text/plain": [
       "['worker', 'ps']"
      ]
     },
     "execution_count": 8,
     "metadata": {},
     "output_type": "execute_result"
    }
   ],
   "source": [
    "clusterSpec.jobs"
   ]
  },
  {
   "cell_type": "code",
   "execution_count": 9,
   "metadata": {
    "collapsed": false
   },
   "outputs": [
    {
     "name": "stdout",
     "output_type": "stream",
     "text": [
      "worker ['clustered-tensorflow-worker0', 'clustered-tensorflow-worker1:2222']\n",
      "ps ['clustered-tensorflow-ps0:2222', 'clustered-tensorflow-ps1:2222']\n"
     ]
    }
   ],
   "source": [
    "for job in clusterSpec.jobs:\n",
    "    print(job, clusterSpec.job_tasks(job))    "
   ]
  },
  {
   "cell_type": "code",
   "execution_count": 10,
   "metadata": {
    "collapsed": false
   },
   "outputs": [],
   "source": [
    "workers = ['/job:worker/task:{}'.format(i) for i in range(len(cluster_def['worker']))]\n",
    "param_servers = ['/job:ps/task:{}'.format(i) for i in range(len(cluster_def['ps']))]"
   ]
  },
  {
   "cell_type": "code",
   "execution_count": 11,
   "metadata": {
    "collapsed": false
   },
   "outputs": [
    {
     "data": {
      "text/plain": [
       "['/job:worker/task:0', '/job:worker/task:1']"
      ]
     },
     "execution_count": 11,
     "metadata": {},
     "output_type": "execute_result"
    }
   ],
   "source": [
    "workers"
   ]
  },
  {
   "cell_type": "code",
   "execution_count": 12,
   "metadata": {
    "collapsed": false
   },
   "outputs": [
    {
     "data": {
      "text/plain": [
       "['/job:ps/task:0', '/job:ps/task:1']"
      ]
     },
     "execution_count": 12,
     "metadata": {},
     "output_type": "execute_result"
    }
   ],
   "source": [
    "param_servers"
   ]
  },
  {
   "cell_type": "markdown",
   "metadata": {},
   "source": [
    "### Pinning of Variables\n",
    "Each Variable is assigned to a specific device."
   ]
  },
  {
   "cell_type": "code",
   "execution_count": 13,
   "metadata": {
    "collapsed": false
   },
   "outputs": [
    {
     "data": {
      "text/plain": [
       "''"
      ]
     },
     "execution_count": 13,
     "metadata": {},
     "output_type": "execute_result"
    }
   ],
   "source": [
    "l = tf.Variable(\"local_cpu\")\n",
    "l.device"
   ]
  },
  {
   "cell_type": "markdown",
   "metadata": {},
   "source": [
    "We can enforce the assigned device using the `tf.device` context."
   ]
  },
  {
   "cell_type": "code",
   "execution_count": 14,
   "metadata": {
    "collapsed": false
   },
   "outputs": [
    {
     "data": {
      "text/plain": [
       "'/job:ps/task:1'"
      ]
     },
     "execution_count": 14,
     "metadata": {},
     "output_type": "execute_result"
    }
   ],
   "source": [
    "for ps in param_servers:\n",
    "    with tf.device(ps):\n",
    "        v = tf.Variable(\"my_var\")\n",
    "v.device"
   ]
  },
  {
   "cell_type": "markdown",
   "metadata": {
    "slideshow": {
     "slide_type": "slide"
    }
   },
   "source": [
    "## Tensorflow Server\n",
    "\n",
    "The server is responsible to handle the actual communication. On each of the cluster's node we will spawn a simple gRPC Server. "
   ]
  },
  {
   "cell_type": "markdown",
   "metadata": {
    "collapsed": true,
    "slideshow": {
     "slide_type": "subslide"
    }
   },
   "source": [
    "```python\n",
    "def launch_worker(job_name, task_id, cluster_def):\n",
    "    server = tf.train.Server(\n",
    "        cluster_def,\n",
    "        job_name=job_name,\n",
    "        task_index=task_id\n",
    "    )\n",
    "    server.join()\n",
    "```"
   ]
  },
  {
   "cell_type": "markdown",
   "metadata": {},
   "source": [
    "### Connecting to a Server\n",
    "\n",
    "to connect to _any_ server you can specify the 'target' of the session,direct ip:port of the server when creating a [Session](https://www.tensorflow.org/versions/r0.8/api_docs/python/client.html#Session) object."
   ]
  },
  {
   "cell_type": "markdown",
   "metadata": {
    "slideshow": {
     "slide_type": "fragment"
    }
   },
   "source": [
    "Note that the server is generic and can assume either the role of parameter server or of worker.The Cluster configuration decides the role.\n",
    "\n",
    "![ps workers](./ps_workers.png)\n",
    "\n",
    "The best practice is to create a single Image launching the tensorflow worker. \n",
    "\n",
    "Environment variables then specify the exact role for the worker at run time."
   ]
  },
  {
   "cell_type": "markdown",
   "metadata": {
    "slideshow": {
     "slide_type": "slide"
    }
   },
   "source": [
    "### gRPC\n",
    "\n",
    "[gRPC](http://www.grpc.io) Is a Remote Procedure Call protocol based on [Protocol Buffers](https://developers.google.com/protocol-buffers/).\n",
    "\n",
    "\n",
    "Each object in tensorflow that has to be sent over the wire has a gRPC definition. \n",
    "\n",
    "1. Client figures out what variables need to be serialized to gRPC.\n",
    "1. Client makes the gRPC remote call to the Server and sends the values.\n",
    "1. If the Server accepts the call, the serialized tensors are de-serialized\n",
    "1. The Server runs the requested operation on the graph and all its dependencies\n",
    "1. The Server serializes the result and sends it back on the same connection to the Client\n",
    "1. The Client receives the results and deserializes.\n",
    "\n",
    "![gRPC Communicaton](./grpc_communication.png)"
   ]
  },
  {
   "cell_type": "markdown",
   "metadata": {
    "slideshow": {
     "slide_type": "slide"
    }
   },
   "source": [
    "Example of a gRPC declaration for the [Variable ](https://github.com/tensorflow/tensorflow/blob/master/tensorflow/core/framework/variable.proto)\n",
    "\n",
    "\n",
    "```javascript\n",
    "syntax = \"proto3\";\n",
    "\n",
    "package tensorflow;\n",
    "\n",
    "// Protocol buffer representing a Variable.\n",
    "message VariableDef {\n",
    "  // Name of the variable tensor.\n",
    "  string variable_name = 1;\n",
    "\n",
    "  // Name of the initializer op.\n",
    "  string initializer_name = 2;\n",
    "\n",
    "  // Name of the snapshot tensor.\n",
    "  string snapshot_name = 3;\n",
    "\n",
    "}\n",
    "```\n",
    "\n",
    "Each variable can then be serialized using the `to_proto` method:"
   ]
  },
  {
   "cell_type": "code",
   "execution_count": 15,
   "metadata": {
    "collapsed": false,
    "slideshow": {
     "slide_type": "slide"
    }
   },
   "outputs": [
    {
     "data": {
      "text/plain": [
       "variable_name: \"Variable_2:0\"\n",
       "initializer_name: \"Variable_2/Assign\"\n",
       "snapshot_name: \"Variable_2/read:0\""
      ]
     },
     "execution_count": 15,
     "metadata": {},
     "output_type": "execute_result"
    }
   ],
   "source": [
    "v.to_proto()"
   ]
  },
  {
   "cell_type": "markdown",
   "metadata": {},
   "source": [
    "## Simple reduce sum Example"
   ]
  },
  {
   "cell_type": "code",
   "execution_count": 16,
   "metadata": {
    "collapsed": false
   },
   "outputs": [],
   "source": [
    "batch_size = 1000\n",
    "\n",
    "#graph = tf.Graph()\n",
    "#with graph.as_default():        \n",
    "#    with tf.device('/job:ps/task:0'):\n",
    "#        input_array = tf.placeholder(tf.int32, shape=[None])\n",
    "#        final_result = tf.Variable(0)\n",
    "        \n",
    "    # divide the input across the cluster:\n",
    "#    all_reduce = []\n",
    "#    splitted = tf.split(0, len(workers), input_array)\n",
    "#    for idx, (portion, worker) in enumerate(zip(splitted,workers)):\n",
    "#        with tf.device(worker):\n",
    "#           print(worker)\n",
    "#           local_reduce = tf.reduce_sum(portion)\n",
    "#           local_reduce = tf.Print(portion, [local_reduce], message=\"portion is\")\n",
    "#           all_reduce.append(local_reduce)\n",
    "    \n",
    "#    final_result = tf.reduce_sum(tf.pack(all_reduce))\n",
    "\n",
    "#    print(final_result)"
   ]
  },
  {
   "cell_type": "code",
   "execution_count": 17,
   "metadata": {
    "collapsed": false
   },
   "outputs": [
    {
     "name": "stdout",
     "output_type": "stream",
     "text": [
      "/job:worker/task:0\n",
      "/job:worker/task:1\n"
     ]
    }
   ],
   "source": [
    "batch_size = 1000\n",
    "\n",
    "graph = tf.Graph()\n",
    "with graph.as_default():\n",
    "    all_reduce = []\n",
    "\n",
    "    initializer = tf.truncated_normal_initializer(mean=0.0, stddev=1.0, seed=None, dtype=tf.float32)\n",
    "    \n",
    "    with tf.device(tf.train.replica_device_setter(cluster=clusterSpec)): \n",
    "        input_array = tf.placeholder(tf.int32, shape=[None])\n",
    "        final_result = tf.Variable(0)\n",
    "        \n",
    "    # divide the input across the cluster:\n",
    "    splitted = tf.split(0, len(workers), input_array)\n",
    "    for idx, (portion, worker) in enumerate(zip(splitted,workers)):\n",
    "        with tf.device(worker):\n",
    "           print(worker)\n",
    "           local_reduce = tf.reduce_sum(portion)\n",
    "           local_reduce = tf.Print(portion, [local_reduce], message=\"portion is\")\n",
    "           all_reduce.append(local_reduce)\n",
    "    \n",
    "    final_result = tf.reduce_sum(tf.pack(all_reduce))"
   ]
  },
  {
   "cell_type": "code",
   "execution_count": 18,
   "metadata": {
    "collapsed": true
   },
   "outputs": [],
   "source": [
    "sess_config = tf.ConfigProto(\n",
    "    allow_soft_placement=True,\n",
    "    log_device_placement=True)"
   ]
  },
  {
   "cell_type": "markdown",
   "metadata": {
    "collapsed": true
   },
   "source": [
    "We can now run the graph "
   ]
  },
  {
   "cell_type": "code",
   "execution_count": null,
   "metadata": {
    "collapsed": false,
    "scrolled": true
   },
   "outputs": [],
   "source": [
    "import numpy as np\n",
    "run_options = tf.RunOptions(trace_level=tf.RunOptions.FULL_TRACE)\n",
    "\n",
    "#, config=sess_config\n",
    "with tf.Session(\"grpc://clustered-tensorflow-worker0:2222\", graph=graph) as session:\n",
    "    result = session.run(final_result, feed_dict={ input_array: np.ones([1000]) }, options=run_options)\n",
    "    print(result)"
   ]
  },
  {
   "cell_type": "markdown",
   "metadata": {
    "collapsed": true
   },
   "source": [
    "We can also inspect any remote variable:"
   ]
  },
  {
   "cell_type": "code",
   "execution_count": null,
   "metadata": {
    "collapsed": false
   },
   "outputs": [],
   "source": [
    "final_result.device"
   ]
  },
  {
   "cell_type": "code",
   "execution_count": null,
   "metadata": {
    "collapsed": true
   },
   "outputs": [],
   "source": []
  }
 ],
 "metadata": {
  "anaconda-cloud": {},
  "kernelspec": {
   "display_name": "Python [default]",
   "language": "python",
   "name": "python3"
  },
  "language_info": {
   "codemirror_mode": {
    "name": "ipython",
    "version": 3
   },
   "file_extension": ".py",
   "mimetype": "text/x-python",
   "name": "python",
   "nbconvert_exporter": "python",
   "pygments_lexer": "ipython3",
   "version": "3.5.2"
  }
 },
 "nbformat": 4,
 "nbformat_minor": 0
}
