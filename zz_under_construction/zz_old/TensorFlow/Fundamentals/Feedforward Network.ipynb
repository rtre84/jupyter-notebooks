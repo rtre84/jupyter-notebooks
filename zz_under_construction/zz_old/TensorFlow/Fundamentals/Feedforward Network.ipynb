{
 "cells": [
  {
   "cell_type": "code",
   "execution_count": 1,
   "metadata": {
    "collapsed": true
   },
   "outputs": [],
   "source": [
    "# TensorBoard Helper Functions and Constants\n",
    "\n",
    "# Directory to export TensorBoard summary statistics, graph data, etc.\n",
    "TB_DIR = '/tmp/tensorboard/tf_feedforward'\n",
    "\n",
    "def clean_tb_dir():\n",
    "    !rm -rf /tmp/tensorboard/tf_feedforward\n",
    "\n",
    "def _start_tb(d):\n",
    "    \"\"\"\n",
    "    Private function that calls `tensorboard` shell command\n",
    "    \n",
    "    args:\n",
    "      d: The desired directory to launch in TensorBoard\n",
    "    \"\"\"\n",
    "    !tensorboard --port=6006 --logdir=$d\n",
    "\n",
    "def start_tensorboard(d=TB_DIR):\n",
    "    \"\"\"\n",
    "    Starts TensorBoard from the notebook in a separate thread.\n",
    "    Prevents Jupyter Notebook from halting while TensorBoard runs.\n",
    "    \"\"\"\n",
    "    import threading\n",
    "    threading.Thread(target=_start_tb, args=(TB_DIR,)).start()\n",
    "    del threading\n",
    "\n",
    "def stop_tensorboard():\n",
    "    \"\"\"\n",
    "    Kills all TensorBoard processes\n",
    "    \"\"\"\n",
    "    !ps -aef | grep \"tensorboard\" | tr -s ' ' | cut -d ' ' -f2 | xargs kill -KILL\n",
    "    \n",
    "def reset_tensorboard():\n",
    "    stop_tensorboard()\n",
    "    start_tensorboard()"
   ]
  },
  {
   "cell_type": "code",
   "execution_count": 2,
   "metadata": {
    "collapsed": true
   },
   "outputs": [],
   "source": [
    "# Import core TensorFlow modules\n",
    "import tensorflow as tf\n",
    "import numpy as np"
   ]
  },
  {
   "cell_type": "code",
   "execution_count": 3,
   "metadata": {
    "collapsed": true
   },
   "outputs": [],
   "source": [
    "# Modules required for file download and extraction\n",
    "import os\n",
    "import sys\n",
    "import tarfile\n",
    "from six.moves.urllib.request import urlretrieve\n",
    "from scipy import ndimage"
   ]
  },
  {
   "cell_type": "code",
   "execution_count": 4,
   "metadata": {
    "collapsed": true
   },
   "outputs": [],
   "source": [
    "# Directory to download dataset\n",
    "DATASET_DIR = '/tmp/pipeline/datasets/notmnist/'\n",
    "\n",
    "# Create the directory\n",
    "!mkdir -p {DATASET_DIR}"
   ]
  },
  {
   "cell_type": "code",
   "execution_count": 5,
   "metadata": {
    "collapsed": true
   },
   "outputs": [],
   "source": [
    "def maybe_download(filename, url, force=False):\n",
    "  \"\"\"Download a file if not present.\"\"\"\n",
    "  if force or not os.path.exists(DATASET_DIR + filename):\n",
    "    filename, _ = urlretrieve(url + filename, DATASET_DIR + filename)\n",
    "    print('\\nDownload complete for {}'.format(filename))\n",
    "    return filename\n",
    "  else:\n",
    "    print('File {} already present.'.format(filename))\n",
    "  return DATASET_DIR + filename\n",
    "\n",
    "def maybe_extract(filename, force=False):\n",
    "  root = os.path.splitext(os.path.splitext(filename)[0])[0]  # remove .tar.gz\n",
    "  if os.path.isdir(root) and not force:\n",
    "    # You may override by setting force=True.\n",
    "    print('{} already present - don\\'t need to extract {}.'.format(root, filename))\n",
    "  else:\n",
    "    print('Extracting data for {}. This may take a while. Please wait.'.format(root))\n",
    "    tar = tarfile.open(filename)\n",
    "    sys.stdout.flush()\n",
    "    tar.extractall(root[0:root.rfind('/') + 1])\n",
    "    tar.close()\n",
    "  data_folders = [\n",
    "    os.path.join(root, d) for d in sorted(os.listdir(root))\n",
    "    if os.path.isdir(os.path.join(root, d))]\n",
    "  print(data_folders)\n",
    "  return data_folders"
   ]
  },
  {
   "cell_type": "code",
   "execution_count": 6,
   "metadata": {
    "collapsed": true
   },
   "outputs": [],
   "source": [
    "# Locations to download data:\n",
    "url = 'http://yaroslavvb.com/upload/notMNIST/'"
   ]
  },
  {
   "cell_type": "code",
   "execution_count": 7,
   "metadata": {
    "collapsed": false
   },
   "outputs": [
    {
     "name": "stdout",
     "output_type": "stream",
     "text": [
      "\n",
      "Download complete for /tmp/pipeline/datasets/notmnist/notMNIST_small.tar.gz\n"
     ]
    }
   ],
   "source": [
    "# Download two datasets\n",
    "train_zip_path = maybe_download('notMNIST_small.tar.gz', url)"
   ]
  },
  {
   "cell_type": "code",
   "execution_count": 8,
   "metadata": {
    "collapsed": false
   },
   "outputs": [
    {
     "name": "stdout",
     "output_type": "stream",
     "text": [
      "Extracting data for /tmp/pipeline/datasets/notmnist/notMNIST_small. This may take a while. Please wait.\n",
      "['/tmp/pipeline/datasets/notmnist/notMNIST_small/A', '/tmp/pipeline/datasets/notmnist/notMNIST_small/B', '/tmp/pipeline/datasets/notmnist/notMNIST_small/C', '/tmp/pipeline/datasets/notmnist/notMNIST_small/D', '/tmp/pipeline/datasets/notmnist/notMNIST_small/E', '/tmp/pipeline/datasets/notmnist/notMNIST_small/F', '/tmp/pipeline/datasets/notmnist/notMNIST_small/G', '/tmp/pipeline/datasets/notmnist/notMNIST_small/H', '/tmp/pipeline/datasets/notmnist/notMNIST_small/I', '/tmp/pipeline/datasets/notmnist/notMNIST_small/J']\n"
     ]
    }
   ],
   "source": [
    "# Extract datasets\n",
    "train_folders = maybe_extract(train_zip_path)"
   ]
  },
  {
   "cell_type": "code",
   "execution_count": 9,
   "metadata": {
    "collapsed": false
   },
   "outputs": [
    {
     "data": {
      "text/plain": [
       "10"
      ]
     },
     "execution_count": 9,
     "metadata": {},
     "output_type": "execute_result"
    }
   ],
   "source": [
    "len(train_folders)"
   ]
  },
  {
   "cell_type": "code",
   "execution_count": 10,
   "metadata": {
    "collapsed": true
   },
   "outputs": [],
   "source": [
    "image_height = 28  # Pixel height of images\n",
    "image_width = 28  # Pixel width of images\n",
    "pixel_depth = 255.0  # Number of levels per pixel\n",
    "expected_img_shape = (image_height, image_width)  # Black and white image, no 3rd dimension\n",
    "num_labels = len(train_folders)\n",
    "\n",
    "def load_image_folder(folder):\n",
    "  \"\"\"Load the data for a single image label.\"\"\"\n",
    "  \n",
    "  # Create a list of image paths inside the folder  \n",
    "  image_files = os.listdir(folder)\n",
    "  # Create empty numpy array to hold data\n",
    "  dataset = np.ndarray(shape=(len(image_files), image_height, image_width),\n",
    "                         dtype=np.float32)\n",
    "  num_images = 0  # Counter for number of successful images loaded\n",
    "  for image in image_files:\n",
    "    image_file = os.path.join(folder, image)\n",
    "    try:\n",
    "      # Read in image pixel data as floating point values\n",
    "      image_data = ndimage.imread(image_file).astype(float)\n",
    "      # Scale values: [0.0, 255.0] => [-1.0, 1.0] \n",
    "      image_data = (image_data - pixel_depth / 2) / (pixel_depth / 2)\n",
    "      if image_data.shape != expected_img_shape:\n",
    "        print('File {} has unexpected dimensions: '.format(str(image_data.shape)))\n",
    "        continue\n",
    "      # Add image to the numpy array dataset\n",
    "      dataset[num_images, :, :] = image_data\n",
    "      num_images = num_images + 1\n",
    "    except IOError as e:\n",
    "      print('Could not read:', image_file, ':', e, '- skipping this file and moving on.')\n",
    "  \n",
    "  # Trim dataset to remove unused space\n",
    "  dataset = dataset[0:num_images, :, :]\n",
    "  return dataset"
   ]
  },
  {
   "cell_type": "code",
   "execution_count": 11,
   "metadata": {
    "collapsed": false
   },
   "outputs": [],
   "source": [
    "def make_data_label_arrays(num_rows, image_height, image_width):\n",
    "  \"\"\"\n",
    "  Creates and returns empty numpy arrays for input data and labels\n",
    "  \"\"\"\n",
    "  if num_rows:\n",
    "    dataset = np.ndarray((num_rows, image_height, image_width), dtype=np.float32)\n",
    "    labels = np.ndarray(num_rows, dtype=np.int32)\n",
    "  else:\n",
    "    dataset, labels = None, None\n",
    "  return dataset, labels\n",
    "\n",
    "def collect_datasets(data_folders):\n",
    "  datasets = []\n",
    "  total_images = 0\n",
    "  for label, data_folder in enumerate(data_folders):\n",
    "    # Bring all test folder images in as numpy arrays\n",
    "    dataset = load_image_folder(data_folder)\n",
    "    num_images = len(dataset)\n",
    "    total_images += num_images\n",
    "    datasets.append((dataset, label, num_images))\n",
    "  return datasets, total_images\n",
    "\n",
    "def merge_train_test_datasets(datasets, total_images, percent_test):\n",
    "    num_train = total_images * (1.0 - percent_test)\n",
    "    num_test = total_images * percent_test\n",
    "    train_dataset, train_labels = make_data_label_arrays(num_train, image_height, image_width)\n",
    "    test_dataset, test_labels = make_data_label_arrays(num_test, image_height, image_width)\n",
    "    \n",
    "    train_counter = 0\n",
    "    test_counter = 0\n",
    "    dataset_counter = 1\n",
    "    for dataset, label, num_images in datasets:\n",
    "      np.random.shuffle(dataset)\n",
    "      if dataset_counter != len(datasets):\n",
    "        n_v = num_images // (1.0 / percent_test)\n",
    "        n_t = num_images - n_v\n",
    "      else:\n",
    "        # Last label, make sure dataset sizes match up to what we created\n",
    "        n_v = len(test_dataset) - test_counter\n",
    "        n_t = len(train_dataset) - train_counter\n",
    "      train_dataset[train_counter: train_counter + n_t] = dataset[:n_t]\n",
    "      train_labels[train_counter: train_counter + n_t] = label\n",
    "      test_dataset[test_counter: test_counter + n_v] = dataset[n_t: n_t + n_v]\n",
    "      test_labels[test_counter: test_counter + n_v] = label\n",
    "      train_counter += n_t\n",
    "      test_counter += n_v\n",
    "      dataset_counter += 1\n",
    "    return train_dataset, train_labels, test_dataset, test_labels"
   ]
  },
  {
   "cell_type": "code",
   "execution_count": 12,
   "metadata": {
    "collapsed": false
   },
   "outputs": [
    {
     "name": "stdout",
     "output_type": "stream",
     "text": [
      "('Could not read:', '/tmp/pipeline/datasets/notmnist/notMNIST_small/A/RGVtb2NyYXRpY2FCb2xkT2xkc3R5bGUgQm9sZC50dGY=.png', ':', IOError('cannot identify image file',), '- skipping this file and moving on.')\n",
      "('Could not read:', '/tmp/pipeline/datasets/notmnist/notMNIST_small/F/Q3Jvc3NvdmVyIEJvbGRPYmxpcXVlLnR0Zg==.png', ':', IOError('cannot identify image file',), '- skipping this file and moving on.')\n"
     ]
    }
   ],
   "source": [
    "train_test_datasets, train_test_total_images = collect_datasets(train_folders)"
   ]
  },
  {
   "cell_type": "code",
   "execution_count": 13,
   "metadata": {
    "collapsed": false
   },
   "outputs": [
    {
     "name": "stderr",
     "output_type": "stream",
     "text": [
      "/usr/local/lib/python2.7/dist-packages/ipykernel/__main__.py:6: VisibleDeprecationWarning: using a non-integer number instead of an integer will result in an error in the future\n",
      "/usr/local/lib/python2.7/dist-packages/ipykernel/__main__.py:7: VisibleDeprecationWarning: using a non-integer number instead of an integer will result in an error in the future\n",
      "/usr/local/lib/python2.7/dist-packages/ipykernel/__main__.py:41: VisibleDeprecationWarning: using a non-integer number instead of an integer will result in an error in the future\n",
      "/usr/local/lib/python2.7/dist-packages/ipykernel/__main__.py:42: VisibleDeprecationWarning: using a non-integer number instead of an integer will result in an error in the future\n",
      "/usr/local/lib/python2.7/dist-packages/ipykernel/__main__.py:43: VisibleDeprecationWarning: using a non-integer number instead of an integer will result in an error in the future\n",
      "/usr/local/lib/python2.7/dist-packages/ipykernel/__main__.py:44: VisibleDeprecationWarning: using a non-integer number instead of an integer will result in an error in the future\n"
     ]
    }
   ],
   "source": [
    "train_dataset, train_labels, test_dataset, test_labels = \\\n",
    "  merge_train_test_datasets(train_test_datasets, train_test_total_images, 0.1)"
   ]
  },
  {
   "cell_type": "code",
   "execution_count": 14,
   "metadata": {
    "collapsed": false
   },
   "outputs": [
    {
     "data": {
      "text/plain": [
       "16851"
      ]
     },
     "execution_count": 14,
     "metadata": {},
     "output_type": "execute_result"
    }
   ],
   "source": [
    "len(train_dataset)"
   ]
  },
  {
   "cell_type": "code",
   "execution_count": 15,
   "metadata": {
    "collapsed": true
   },
   "outputs": [],
   "source": [
    "# Convert data examples flattened vectors\n",
    "# Convert labels to one-hot encoding\n",
    "num_channels = 1  # grayscale\n",
    "def reformat(dataset, labels):\n",
    "  dataset = dataset.reshape( (-1, image_height * image_width)).astype(np.float32)\n",
    "  labels = (np.arange(num_labels) == labels[:,None]).astype(np.float32)\n",
    "  return dataset, labels"
   ]
  },
  {
   "cell_type": "code",
   "execution_count": 16,
   "metadata": {
    "collapsed": true
   },
   "outputs": [],
   "source": [
    "train_dataset, train_labels = reformat(train_dataset, train_labels)\n",
    "test_dataset, test_labels = reformat(test_dataset, test_labels)"
   ]
  },
  {
   "cell_type": "code",
   "execution_count": 17,
   "metadata": {
    "collapsed": false
   },
   "outputs": [
    {
     "name": "stdout",
     "output_type": "stream",
     "text": [
      "('Training set', (16851, 784), (16851, 10))\n",
      "('Test set', (1872, 784), (1872, 10))\n"
     ]
    }
   ],
   "source": [
    "print('Training set', train_dataset.shape, train_labels.shape)\n",
    "print('Test set', test_dataset.shape, test_labels.shape)"
   ]
  },
  {
   "cell_type": "code",
   "execution_count": 18,
   "metadata": {
    "collapsed": true
   },
   "outputs": [],
   "source": [
    "def shuffle_data_with_labels(dataset, labels):\n",
    "    indices = range(len(dataset))\n",
    "    np.random.shuffle(indices)\n",
    "    new_data = np.ndarray(dataset.shape, dataset.dtype)\n",
    "    new_labels = np.ndarray(labels.shape, dataset.dtype)\n",
    "    n = 0\n",
    "    for i in indices:\n",
    "        new_data[n] = dataset[i]\n",
    "        new_labels[n] = labels[i]\n",
    "        n += 1\n",
    "    return new_data, new_labels"
   ]
  },
  {
   "cell_type": "code",
   "execution_count": 19,
   "metadata": {
    "collapsed": false
   },
   "outputs": [],
   "source": [
    "train_dataset, train_labels = shuffle_data_with_labels(train_dataset, train_labels)"
   ]
  },
  {
   "cell_type": "code",
   "execution_count": 20,
   "metadata": {
    "collapsed": false
   },
   "outputs": [],
   "source": [
    "batch_size = 64\n",
    "\n",
    "num_hidden_1 = 300\n",
    "num_hidden_2 = 150\n",
    "num_hidden_3 = 50\n",
    "\n",
    "# Input data.\n",
    "input_data = tf.placeholder(tf.float32, shape=(None, image_height * image_width), name=\"input_data\")\n",
    "input_labels = tf.placeholder(tf.float32, shape=(None, num_labels), name=\"input_labels\")\n",
    "  \n",
    "with tf.name_scope('hidden1'):\n",
    "  weights = tf.Variable(tf.truncated_normal([image_height * image_width, num_hidden_1]), name='weights')\n",
    "  biases = tf.Variable(tf.zeros([num_hidden_1]), name='biases')\n",
    "  hidden1 = tf.nn.sigmoid(tf.matmul(input_data, weights) + biases)\n",
    "\n",
    "with tf.name_scope('hidden2'):\n",
    "  weights = tf.Variable(tf.truncated_normal([num_hidden_1, num_hidden_2]), name='weights')\n",
    "  biases = tf.Variable(tf.zeros([num_hidden_2]), name='biases')\n",
    "  hidden2 = tf.nn.sigmoid(tf.matmul(hidden1, weights) + biases)\n",
    "\n",
    "with tf.name_scope('hidden3'):\n",
    "  weights = tf.Variable(tf.truncated_normal([num_hidden_2, num_hidden_3]), name='weights')\n",
    "  biases = tf.Variable(tf.zeros([num_hidden_3]), name='biases')\n",
    "  hidden3 = tf.nn.sigmoid(tf.matmul(hidden2, weights) + biases)\n",
    "\n",
    "with tf.name_scope('output_layer'):\n",
    "  weights = tf.Variable(tf.truncated_normal([num_hidden_3, num_labels]), name='weights')\n",
    "  biases = tf.Variable(tf.zeros([num_labels]), name='biases')\n",
    "  logits = tf.matmul(hidden3, weights) + biases\n",
    "\n",
    "loss = tf.reduce_mean(tf.nn.softmax_cross_entropy_with_logits(logits, input_labels))\n",
    "    \n",
    "# Optimizer.\n",
    "optimizer = tf.train.GradientDescentOptimizer(0.05).minimize(loss)\n",
    "  \n",
    "# Predictions for the training and test data.\n",
    "model_prediction = tf.nn.softmax(logits, name=\"prediction\")\n",
    "label_prediction = tf.argmax(model_prediction, 1, name=\"predicted_label\")\n",
    "   \n",
    "with tf.name_scope('summaries'):\n",
    "  tf.scalar_summary('loss', loss)\n",
    "  with tf.name_scope('accuracy'):\n",
    "    correct_prediction = tf.equal(label_prediction, tf.argmax(input_labels, 1))\n",
    "    model_accuracy = tf.reduce_mean(tf.cast(correct_prediction, tf.float32))\n",
    "    tf.scalar_summary('accuracy', model_accuracy)\n",
    "    \n",
    "merged_summaries = tf.merge_all_summaries()"
   ]
  },
  {
   "cell_type": "code",
   "execution_count": 21,
   "metadata": {
    "collapsed": true
   },
   "outputs": [],
   "source": [
    "clean_tb_dir()"
   ]
  },
  {
   "cell_type": "code",
   "execution_count": 22,
   "metadata": {
    "collapsed": true
   },
   "outputs": [],
   "source": [
    "session = tf.Session()\n",
    "writer = tf.train.SummaryWriter(TB_DIR, graph=session.graph)"
   ]
  },
  {
   "cell_type": "code",
   "execution_count": 24,
   "metadata": {
    "collapsed": false
   },
   "outputs": [
    {
     "name": "stdout",
     "output_type": "stream",
     "text": [
      "Initialized\n",
      "Minibatch loss at step 0: 5.242322\n",
      "Minibatch accuracy: 0.046875\n",
      "Minibatch loss at step 50: 2.605259\n",
      "Minibatch accuracy: 0.171875\n",
      "Minibatch loss at step 100: 2.109148\n",
      "Minibatch accuracy: 0.25\n",
      "Minibatch loss at step 150: 1.940583\n",
      "Minibatch accuracy: 0.3125\n",
      "Minibatch loss at step 200: 1.954812\n",
      "Minibatch accuracy: 0.3125\n",
      "Minibatch loss at step 250: 1.641718\n",
      "Minibatch accuracy: 0.390625\n",
      "Minibatch loss at step 300: 1.802675\n",
      "Minibatch accuracy: 0.390625\n",
      "Minibatch loss at step 350: 1.655632\n",
      "Minibatch accuracy: 0.390625\n",
      "Minibatch loss at step 400: 1.346952\n",
      "Minibatch accuracy: 0.578125\n",
      "Minibatch loss at step 450: 1.279902\n",
      "Minibatch accuracy: 0.546875\n",
      "Minibatch loss at step 500: 1.386974\n",
      "Minibatch accuracy: 0.5\n",
      "Minibatch loss at step 550: 1.156456\n",
      "Minibatch accuracy: 0.6875\n",
      "Minibatch loss at step 600: 1.210849\n",
      "Minibatch accuracy: 0.609375\n",
      "Minibatch loss at step 650: 1.254033\n",
      "Minibatch accuracy: 0.640625\n",
      "Minibatch loss at step 700: 1.268145\n",
      "Minibatch accuracy: 0.5625\n",
      "Minibatch loss at step 750: 1.154119\n",
      "Minibatch accuracy: 0.609375\n",
      "Minibatch loss at step 800: 1.166272\n",
      "Minibatch accuracy: 0.609375\n",
      "Minibatch loss at step 850: 0.914112\n",
      "Minibatch accuracy: 0.703125\n",
      "Minibatch loss at step 900: 1.176358\n",
      "Minibatch accuracy: 0.625\n",
      "Minibatch loss at step 950: 1.122845\n",
      "Minibatch accuracy: 0.5625\n",
      "Minibatch loss at step 1000: 0.955626\n",
      "Minibatch accuracy: 0.703125\n",
      "Test accuracy: 0.671474337578\n"
     ]
    }
   ],
   "source": [
    "num_steps = 1001\n",
    "\n",
    "session.run(tf.initialize_all_variables())\n",
    "print('Initialized')\n",
    "for step in range(num_steps):\n",
    "  offset = (step * batch_size) % (train_labels.shape[0] - batch_size)\n",
    "  batch_data = train_dataset[offset:(offset + batch_size), :]\n",
    "  batch_labels = train_labels[offset:(offset + batch_size), :]\n",
    "  feed_dict = {input_data : batch_data, input_labels : batch_labels}\n",
    "  _, l, predictions, accuracy, summaries = session.run(\n",
    "    [optimizer, loss, model_prediction, model_accuracy, merged_summaries], feed_dict=feed_dict)\n",
    "  if (step % 50 == 0):\n",
    "    writer.add_summary(summaries, step)\n",
    "    print('Minibatch loss at step %d: %f' % (step, l))\n",
    "    print('Minibatch accuracy: {}'.format(accuracy))\n",
    "test_dict = {input_data : test_dataset, input_labels : test_labels}\n",
    "test_accuracy = session.run(model_accuracy, feed_dict=test_dict)\n",
    "print('Test accuracy: {}'.format(test_accuracy))\n",
    "writer.flush()"
   ]
  },
  {
   "cell_type": "code",
   "execution_count": 25,
   "metadata": {
    "collapsed": true
   },
   "outputs": [],
   "source": [
    "writer.close()"
   ]
  },
  {
   "cell_type": "code",
   "execution_count": 26,
   "metadata": {
    "collapsed": false
   },
   "outputs": [
    {
     "name": "stdout",
     "output_type": "stream",
     "text": [
      "WARNING:tensorflow:IOError [Errno 2] No such file or directory: '/usr/local/lib/python2.7/dist-packages/tensorflow/tensorboard/TAG' on path /usr/local/lib/python2.7/dist-packages/tensorflow/tensorboard/TAG\n",
      "WARNING:tensorflow:Unable to read TensorBoard tag\n",
      "Starting TensorBoard  on port 6006\n",
      "(You can navigate to http://0.0.0.0:6006)\n",
      "166.170.38.222 - - [07/Aug/2016 00:34:10] \"GET / HTTP/1.1\" 200 -\n",
      "166.170.38.222 - - [07/Aug/2016 00:34:11] \"GET /external/plottable/plottable.css HTTP/1.1\" 200 -\n",
      "166.170.38.222 - - [07/Aug/2016 00:34:11] \"GET /lib/css/global.css HTTP/1.1\" 200 -\n",
      "166.170.38.222 - - [07/Aug/2016 00:34:11] \"GET /external/d3/d3.min.js HTTP/1.1\" 200 -\n",
      "166.170.38.222 - - [07/Aug/2016 00:34:11] \"GET /external/lodash/lodash.min.js HTTP/1.1\" 200 -\n",
      "166.170.38.222 - - [07/Aug/2016 00:34:11] \"GET /external/plottable/plottable.min.js HTTP/1.1\" 200 -\n",
      "166.170.38.222 - - [07/Aug/2016 00:34:11] \"GET /external/graphlib/dist/graphlib.core.min.js HTTP/1.1\" 200 -\n",
      "166.170.38.222 - - [07/Aug/2016 00:34:11] \"GET /external/dagre/dist/dagre.core.min.js HTTP/1.1\" 200 -\n",
      "166.170.38.222 - - [07/Aug/2016 00:34:11] \"GET /external/webcomponentsjs/webcomponents-lite.min.js HTTP/1.1\" 200 -\n",
      "166.170.38.222 - - [07/Aug/2016 00:34:11] \"GET /external/polymer/polymer.html HTTP/1.1\" 200 -\n",
      "166.170.38.222 - - [07/Aug/2016 00:34:11] \"GET /external/iron-ajax/iron-ajax.html HTTP/1.1\" 200 -\n",
      "166.170.38.222 - - [07/Aug/2016 00:34:11] \"GET /external/iron-list/iron-list.html HTTP/1.1\" 200 -\n",
      "166.170.38.222 - - [07/Aug/2016 00:34:11] \"GET /external/iron-collapse/iron-collapse.html HTTP/1.1\" 200 -\n",
      "166.170.38.222 - - [07/Aug/2016 00:34:11] \"GET /external/paper-button/paper-button.html HTTP/1.1\" 200 -\n",
      "166.170.38.222 - - [07/Aug/2016 00:34:11] \"GET /external/paper-checkbox/paper-checkbox.html HTTP/1.1\" 200 -\n",
      "166.170.38.222 - - [07/Aug/2016 00:34:11] \"GET /external/paper-dialog/paper-dialog.html HTTP/1.1\" 200 -\n",
      "166.170.38.222 - - [07/Aug/2016 00:34:11] \"GET /external/paper-dropdown-menu/paper-dropdown-menu.html HTTP/1.1\" 200 -\n",
      "166.170.38.222 - - [07/Aug/2016 00:34:11] \"GET /external/paper-input/paper-input.html HTTP/1.1\" 200 -\n",
      "166.170.38.222 - - [07/Aug/2016 00:34:11] \"GET /external/paper-icon-button/paper-icon-button.html HTTP/1.1\" 200 -\n",
      "166.170.38.222 - - [07/Aug/2016 00:34:11] \"GET /external/paper-header-panel/paper-header-panel.html HTTP/1.1\" 200 -\n",
      "166.170.38.222 - - [07/Aug/2016 00:34:11] \"GET /external/paper-item/paper-item.html HTTP/1.1\" 200 -\n",
      "166.170.38.222 - - [07/Aug/2016 00:34:12] \"GET /external/paper-menu/paper-menu.html HTTP/1.1\" 200 -\n",
      "166.170.38.222 - - [07/Aug/2016 00:34:12] \"GET /external/paper-progress/paper-progress.html HTTP/1.1\" 200 -\n",
      "166.170.38.222 - - [07/Aug/2016 00:34:12] \"GET /external/paper-radio-button/paper-radio-button.html HTTP/1.1\" 200 -\n",
      "166.170.38.222 - - [07/Aug/2016 00:34:12] \"GET /external/paper-radio-group/paper-radio-group.html HTTP/1.1\" 200 -\n",
      "166.170.38.222 - - [07/Aug/2016 00:34:12] \"GET /external/paper-slider/paper-slider.html HTTP/1.1\" 200 -\n",
      "166.170.38.222 - - [07/Aug/2016 00:34:12] \"GET /external/paper-styles/paper-styles.html HTTP/1.1\" 200 -\n",
      "166.170.38.222 - - [07/Aug/2016 00:34:12] \"GET /external/paper-toggle-button/paper-toggle-button.html HTTP/1.1\" 200 -\n",
      "166.170.38.222 - - [07/Aug/2016 00:34:12] \"GET /external/paper-toolbar/paper-toolbar.html HTTP/1.1\" 200 -\n",
      "166.170.38.222 - - [07/Aug/2016 00:34:12] \"GET /external/paper-tabs/paper-tabs.html HTTP/1.1\" 200 -\n",
      "166.170.38.222 - - [07/Aug/2016 00:34:12] \"GET /dist/tf-tensorboard.html HTTP/1.1\" 200 -\n",
      "166.170.38.222 - - [07/Aug/2016 00:34:12] \"GET /external/polymer/polymer-mini.html HTTP/1.1\" 200 -\n",
      "166.170.38.222 - - [07/Aug/2016 00:34:12] \"GET /external/polymer/polymer-micro.html HTTP/1.1\" 200 -\n",
      "166.170.38.222 - - [07/Aug/2016 00:34:12] \"GET /external/iron-ajax/iron-request.html HTTP/1.1\" 200 -\n",
      "166.170.38.222 - - [07/Aug/2016 00:34:12] \"GET /external/neon-animation/neon-animation-runner-behavior.html HTTP/1.1\" 200 -\n",
      "166.170.38.222 - - [07/Aug/2016 00:34:12] \"GET /external/paper-dialog-behavior/paper-dialog-behavior.html HTTP/1.1\" 200 -\n",
      "166.170.38.222 - - [07/Aug/2016 00:34:12] \"GET /external/iron-a11y-keys-behavior/iron-a11y-keys-behavior.html HTTP/1.1\" 200 -\n",
      "166.170.38.222 - - [07/Aug/2016 00:34:12] \"GET /external/paper-dialog-behavior/paper-dialog-shared-styles.html HTTP/1.1\" 200 -\n",
      "166.170.38.222 - - [07/Aug/2016 00:34:12] \"GET /external/iron-selector/iron-selectable.html HTTP/1.1\" 200 -\n",
      "166.170.38.222 - - [07/Aug/2016 00:34:12] \"GET /external/iron-flex-layout/iron-flex-layout.html HTTP/1.1\" 200 -\n",
      "166.170.38.222 - - [07/Aug/2016 00:34:12] \"GET /external/paper-styles/typography.html HTTP/1.1\" 200 -\n",
      "166.170.38.222 - - [07/Aug/2016 00:34:12] \"GET /external/paper-styles/default-theme.html HTTP/1.1\" 200 -\n",
      "166.170.38.222 - - [07/Aug/2016 00:34:12] \"GET /external/iron-form-element-behavior/iron-form-element-behavior.html HTTP/1.1\" 200 -\n",
      "166.170.38.222 - - [07/Aug/2016 00:34:12] \"GET /external/iron-range-behavior/iron-range-behavior.html HTTP/1.1\" 200 -\n",
      "166.170.38.222 - - [07/Aug/2016 00:34:12] \"GET /external/paper-menu-button/paper-menu-button.html HTTP/1.1\" 200 -\n",
      "166.170.38.222 - - [07/Aug/2016 00:34:12] \"GET /external/paper-styles/color.html HTTP/1.1\" 200 -\n",
      "166.170.38.222 - - [07/Aug/2016 00:34:12] \"GET /external/paper-behaviors/paper-inky-focus-behavior.html HTTP/1.1\" 200 -\n",
      "166.170.38.222 - - [07/Aug/2016 00:34:12] \"GET /external/paper-ripple/paper-ripple.html HTTP/1.1\" 200 -\n",
      "166.170.38.222 - - [07/Aug/2016 00:34:13] \"GET /external/iron-behaviors/iron-button-state.html HTTP/1.1\" 200 -\n",
      "166.170.38.222 - - [07/Aug/2016 00:34:13] \"GET /external/iron-behaviors/iron-control-state.html HTTP/1.1\" 200 -\n",
      "166.170.38.222 - - [07/Aug/2016 00:34:13] \"GET /external/iron-icon/iron-icon.html HTTP/1.1\" 200 -\n",
      "166.170.38.222 - - [07/Aug/2016 00:34:13] \"GET /external/iron-icons/iron-icons.html HTTP/1.1\" 200 -\n",
      "166.170.38.222 - - [07/Aug/2016 00:34:13] \"GET /external/iron-validatable-behavior/iron-validatable-behavior.html HTTP/1.1\" 200 -\n",
      "166.170.38.222 - - [07/Aug/2016 00:34:13] \"GET /external/iron-menu-behavior/iron-menu-behavior.html HTTP/1.1\" 200 -\n",
      "166.170.38.222 - - [07/Aug/2016 00:34:13] \"GET /external/paper-behaviors/paper-button-behavior.html HTTP/1.1\" 200 -\n",
      "166.170.38.222 - - [07/Aug/2016 00:34:13] \"GET /external/paper-material/paper-material.html HTTP/1.1\" 200 -\n",
      "166.170.38.222 - - [07/Aug/2016 00:34:13] \"GET /external/paper-menu/paper-menu-shared-styles.html HTTP/1.1\" 200 -\n",
      "166.170.38.222 - - [07/Aug/2016 00:34:13] \"GET /external/iron-input/iron-input.html HTTP/1.1\" 200 -\n",
      "166.170.38.222 - - [07/Aug/2016 00:34:13] \"GET /external/paper-behaviors/paper-checked-element-behavior.html HTTP/1.1\" 200 -\n",
      "166.170.38.222 - - [07/Aug/2016 00:34:13] \"GET /external/paper-input/paper-input-behavior.html HTTP/1.1\" 200 -\n",
      "166.170.38.222 - - [07/Aug/2016 00:34:13] \"GET /external/paper-input/paper-input-char-counter.html HTTP/1.1\" 200 -\n",
      "166.170.38.222 - - [07/Aug/2016 00:34:13] \"GET /external/paper-input/paper-input-container.html HTTP/1.1\" 200 -\n",
      "166.170.38.222 - - [07/Aug/2016 00:34:13] \"GET /external/paper-input/paper-input-error.html HTTP/1.1\" 200 -\n",
      "166.170.38.222 - - [07/Aug/2016 00:34:13] \"GET /external/iron-menu-behavior/iron-menubar-behavior.html HTTP/1.1\" 200 -\n",
      "166.170.38.222 - - [07/Aug/2016 00:34:13] \"GET /external/iron-resizable-behavior/iron-resizable-behavior.html HTTP/1.1\" 200 -\n",
      "166.170.38.222 - - [07/Aug/2016 00:34:13] \"GET /external/paper-tabs/paper-tabs-icons.html HTTP/1.1\" 200 -\n",
      "166.170.38.222 - - [07/Aug/2016 00:34:13] \"GET /external/paper-item/paper-item-behavior.html HTTP/1.1\" 200 -\n",
      "166.170.38.222 - - [07/Aug/2016 00:34:13] \"GET /external/paper-tabs/paper-tab.html HTTP/1.1\" 200 -\n",
      "166.170.38.222 - - [07/Aug/2016 00:34:13] \"GET /external/iron-flex-layout/classes/iron-flex-layout.html HTTP/1.1\" 200 -\n",
      "166.170.38.222 - - [07/Aug/2016 00:34:13] \"GET /external/paper-styles/shadow.html HTTP/1.1\" 200 -\n",
      "166.170.38.222 - - [07/Aug/2016 00:34:13] \"GET /external/promise-polyfill/promise-polyfill-lite.html HTTP/1.1\" 200 -\n",
      "166.170.38.222 - - [07/Aug/2016 00:34:13] \"GET /external/iron-meta/iron-meta.html HTTP/1.1\" 200 -\n",
      "166.170.38.222 - - [07/Aug/2016 00:34:13] \"GET /external/iron-overlay-behavior/iron-overlay-behavior.html HTTP/1.1\" 200 -\n",
      "166.170.38.222 - - [07/Aug/2016 00:34:13] \"GET /external/neon-animation/neon-animatable-behavior.html HTTP/1.1\" 200 -\n",
      "166.170.38.222 - - [07/Aug/2016 00:34:13] \"GET /external/iron-selector/iron-selection.html HTTP/1.1\" 200 -\n",
      "166.170.38.222 - - [07/Aug/2016 00:34:13] \"GET /external/font-roboto/roboto.html HTTP/1.1\" 200 -\n",
      "166.170.38.222 - - [07/Aug/2016 00:34:13] \"GET /external/paper-item/paper-item-shared-styles.html HTTP/1.1\" 200 -\n",
      "166.170.38.222 - - [07/Aug/2016 00:34:14] \"GET /external/iron-dropdown/iron-dropdown.html HTTP/1.1\" 200 -\n",
      "166.170.38.222 - - [07/Aug/2016 00:34:14] \"GET /external/neon-animation/animations/fade-in-animation.html HTTP/1.1\" 200 -\n",
      "166.170.38.222 - - [07/Aug/2016 00:34:14] \"GET /external/neon-animation/animations/fade-out-animation.html HTTP/1.1\" 200 -\n",
      "166.170.38.222 - - [07/Aug/2016 00:34:14] \"GET /external/paper-menu-button/paper-menu-button-animations.html HTTP/1.1\" 200 -\n",
      "166.170.38.222 - - [07/Aug/2016 00:34:14] \"GET /external/paper-behaviors/paper-ripple-behavior.html HTTP/1.1\" 200 -\n",
      "166.170.38.222 - - [07/Aug/2016 00:34:14] \"GET /external/iron-iconset-svg/iron-iconset-svg.html HTTP/1.1\" 200 -\n",
      "166.170.38.222 - - [07/Aug/2016 00:34:14] \"GET /external/iron-selector/iron-multi-selectable.html HTTP/1.1\" 200 -\n",
      "166.170.38.222 - - [07/Aug/2016 00:34:14] \"GET /external/iron-a11y-announcer/iron-a11y-announcer.html HTTP/1.1\" 200 -\n",
      "166.170.38.222 - - [07/Aug/2016 00:34:14] \"GET /external/paper-material/paper-material-shared-styles.html HTTP/1.1\" 200 -\n",
      "166.170.38.222 - - [07/Aug/2016 00:34:14] \"GET /external/iron-checked-element-behavior/iron-checked-element-behavior.html HTTP/1.1\" 200 -\n",
      "166.170.38.222 - - [07/Aug/2016 00:34:14] \"GET /external/paper-input/paper-input-addon-behavior.html HTTP/1.1\" 200 -\n",
      "166.170.38.222 - - [07/Aug/2016 00:34:14] \"GET /external/iron-flex-layout/classes/iron-shadow-flex-layout.html HTTP/1.1\" 200 -\n",
      "166.170.38.222 - - [07/Aug/2016 00:34:14] \"GET /external/promise-polyfill/Promise.js HTTP/1.1\" 200 -\n",
      "166.170.38.222 - - [07/Aug/2016 00:34:14] \"GET /external/iron-dropdown/iron-dropdown-scroll-manager.html HTTP/1.1\" 200 -\n",
      "166.170.38.222 - - [07/Aug/2016 00:34:14] \"GET /external/iron-fit-behavior/iron-fit-behavior.html HTTP/1.1\" 200 -\n",
      "166.170.38.222 - - [07/Aug/2016 00:34:14] \"GET /external/neon-animation/animations/opaque-animation.html HTTP/1.1\" 200 -\n",
      "166.170.38.222 - - [07/Aug/2016 00:34:14] \"GET /external/iron-overlay-behavior/iron-overlay-manager.html HTTP/1.1\" 200 -\n",
      "166.170.38.222 - - [07/Aug/2016 00:34:14] \"GET /external/neon-animation/neon-animation-behavior.html HTTP/1.1\" 200 -\n",
      "166.170.38.222 - - [07/Aug/2016 00:34:14] \"GET /external/neon-animation/web-animations.html HTTP/1.1\" 200 -\n",
      "166.170.38.222 - - [07/Aug/2016 00:34:14] \"GET /external/iron-overlay-behavior/iron-overlay-backdrop.html HTTP/1.1\" 200 -\n",
      "166.170.38.222 - - [07/Aug/2016 00:34:14] \"GET /external/web-animations-js/web-animations-next-lite.min.js HTTP/1.1\" 200 -\n",
      "166.170.38.222 - - [07/Aug/2016 00:34:15] \"GET /data/runs HTTP/1.1\" 200 -\n",
      "166.170.38.222 - - [07/Aug/2016 00:34:15] \"GET /data/runs HTTP/1.1\" 200 -\n",
      "166.170.38.222 - - [07/Aug/2016 00:34:17] \"GET /data/scalars?run=.&tag=accuracy HTTP/1.1\" 200 -\n",
      "166.170.38.222 - - [07/Aug/2016 00:34:18] \"GET /data/scalars?run=.&tag=loss HTTP/1.1\" 200 -\n",
      "166.170.38.222 - - [07/Aug/2016 00:34:28] \"GET /data/runs HTTP/1.1\" 200 -\n",
      "166.170.38.222 - - [07/Aug/2016 00:34:28] \"GET /data/runs HTTP/1.1\" 200 -\n",
      "166.170.38.222 - - [07/Aug/2016 00:34:28] \"GET /data/graph?run=.&limit_attr_size=1024&large_attrs_key=_too_large_attrs HTTP/1.1\" 200 -\n"
     ]
    }
   ],
   "source": [
    "start_tensorboard()"
   ]
  },
  {
   "cell_type": "code",
   "execution_count": 27,
   "metadata": {
    "collapsed": true
   },
   "outputs": [],
   "source": [
    "stop_tensorboard()"
   ]
  },
  {
   "cell_type": "code",
   "execution_count": 28,
   "metadata": {
    "collapsed": false
   },
   "outputs": [],
   "source": [
    "clean_tb_dir()"
   ]
  },
  {
   "cell_type": "code",
   "execution_count": 33,
   "metadata": {
    "collapsed": false
   },
   "outputs": [
    {
     "name": "stdout",
     "output_type": "stream",
     "text": [
      "Predicted character: G\n",
      "Actual label: G\n"
     ]
    },
    {
     "data": {
      "image/png": "[encoded data removed]",
      "text/plain": [
       "<matplotlib.figure.Figure at 0x7fa07d7e9290>"
      ]
     },
     "metadata": {},
     "output_type": "display_data"
    }
   ],
   "source": [
    "# Visualize data:\n",
    "import matplotlib.pyplot as plt\n",
    "%matplotlib inline\n",
    "\n",
    "i = np.random.randint(len(test_dataset))\n",
    "data = test_dataset[i,:]\n",
    "pixels = np.reshape(data, (image_height, image_width))\n",
    "plt.imshow(pixels)\n",
    "\n",
    "feed_me = np.ndarray((1, image_height * image_width), np.float32)\n",
    "feed_me[0] = data\n",
    "feed_dict = {input_data: feed_me}\n",
    "prediction = session.run(label_prediction, feed_dict=feed_dict)\n",
    "print(\"Predicted character: \" + chr(prediction + ord('A')))\n",
    "print(\"Actual label: \" + chr(np.argmax(test_labels[i]) + ord('A')))"
   ]
  },
  {
   "cell_type": "code",
   "execution_count": null,
   "metadata": {
    "collapsed": false
   },
   "outputs": [],
   "source": [
    "test_labels[3]"
   ]
  },
  {
   "cell_type": "code",
   "execution_count": null,
   "metadata": {
    "collapsed": false
   },
   "outputs": [],
   "source": []
  },
  {
   "cell_type": "code",
   "execution_count": null,
   "metadata": {
    "collapsed": true
   },
   "outputs": [],
   "source": []
  }
 ],
 "metadata": {
  "kernelspec": {
   "display_name": "Python 2",
   "language": "python",
   "name": "python2"
  },
  "language_info": {
   "codemirror_mode": {
    "name": "ipython",
    "version": 2
   },
   "file_extension": ".py",
   "mimetype": "text/x-python",
   "name": "python",
   "nbconvert_exporter": "python",
   "pygments_lexer": "ipython2",
   "version": "2.7.6"
  }
 },
 "nbformat": 4,
 "nbformat_minor": 0
}
