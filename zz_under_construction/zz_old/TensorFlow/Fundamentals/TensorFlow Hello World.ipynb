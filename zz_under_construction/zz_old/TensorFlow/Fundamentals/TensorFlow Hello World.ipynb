{
 "cells": [
  {
   "cell_type": "code",
   "execution_count": 1,
   "metadata": {
    "collapsed": true
   },
   "outputs": [],
   "source": [
    "# TensorBoard Helper Functions and Constants\n",
    "\n",
    "# Directory to export TensorBoard summary statistics, graph data, etc.\n",
    "TB_DIR = '/tmp/tensorboard/helloworld'\n",
    "\n",
    "\n",
    "def _start_tb(d):\n",
    "    \"\"\"\n",
    "    Private function that calls `tensorboard` shell command\n",
    "    \n",
    "    args:\n",
    "      d: The desired directory to launch in TensorBoard\n",
    "    \"\"\"\n",
    "    !tensorboard --port=6006 --logdir=$d\n",
    "\n",
    "def start_tensorboard():\n",
    "    \"\"\"\n",
    "    Starts TensorBoard from the notebook in a separate thread.\n",
    "    Prevents Jupyter Notebook from halting while TensorBoard runs.\n",
    "    \"\"\"\n",
    "    import threading\n",
    "    threading.Thread(target=_start_tb, args=(TB_DIR,)).start()\n",
    "    del threading\n",
    "\n",
    "def stop_tensorboard():\n",
    "    \"\"\"\n",
    "    Kills all TensorBoard processes\n",
    "    \"\"\"\n",
    "    !ps -aef | grep \"tensorboard\" | tr -s ' ' | cut -d ' ' -f2 | xargs kill -KILL\n",
    "    \n",
    "def reset_tensorboard():\n",
    "    stop_tensorboard()\n",
    "    start_tensorboard()"
   ]
  },
  {
   "cell_type": "code",
   "execution_count": 2,
   "metadata": {
    "collapsed": true
   },
   "outputs": [],
   "source": [
    "import tensorflow as tf"
   ]
  },
  {
   "cell_type": "code",
   "execution_count": 3,
   "metadata": {
    "collapsed": true
   },
   "outputs": [],
   "source": [
    "helloworld = tf.constant('Hello, Spark Experts!')"
   ]
  },
  {
   "cell_type": "code",
   "execution_count": 4,
   "metadata": {
    "collapsed": true
   },
   "outputs": [],
   "source": [
    "sess = tf.Session()"
   ]
  },
  {
   "cell_type": "code",
   "execution_count": 5,
   "metadata": {
    "collapsed": false
   },
   "outputs": [
    {
     "data": {
      "text/plain": [
       "<tensorflow.python.training.summary_io.SummaryWriter at 0x7fb9791e7fd0>"
      ]
     },
     "execution_count": 5,
     "metadata": {},
     "output_type": "execute_result"
    }
   ],
   "source": [
    "tf.train.SummaryWriter('/tmp/tensorboard/helloworld', sess.graph)"
   ]
  },
  {
   "cell_type": "code",
   "execution_count": 6,
   "metadata": {
    "collapsed": false
   },
   "outputs": [
    {
     "name": "stdout",
     "output_type": "stream",
     "text": [
      "Hello, Spark Experts!\n"
     ]
    }
   ],
   "source": [
    "print sess.run(helloworld)"
   ]
  },
  {
   "cell_type": "code",
   "execution_count": 2,
   "metadata": {
    "collapsed": false
   },
   "outputs": [
    {
     "name": "stdout",
     "output_type": "stream",
     "text": [
      "WARNING:tensorflow:Found more than one graph event per run. Overwriting the graph with the newest event.\n",
      "WARNING:tensorflow:Found more than one graph event per run. Overwriting the graph with the newest event.\n",
      "WARNING:tensorflow:Found more than one graph event per run. Overwriting the graph with the newest event.\n",
      "Starting TensorBoard 16 on port 6006\n",
      "(You can navigate to http://0.0.0.0:6006)\n",
      "^C\n",
      "Traceback (most recent call last):\n",
      "  File \"/usr/local/bin/tensorboard\", line 11, in <module>\n",
      "    sys.exit(main())\n",
      "  File \"/usr/local/lib/python2.7/dist-packages/tensorflow/tensorboard/tensorboard.py\", line 108, in main\n",
      "    tb_server.serve_forever()\n",
      "  File \"/usr/lib/python2.7/SocketServer.py\", line 236, in serve_forever\n",
      "    poll_interval)\n",
      "  File \"/usr/lib/python2.7/SocketServer.py\", line 155, in _eintr_retry\n",
      "    return func(*args)\n",
      "KeyboardInterrupt\n"
     ]
    }
   ],
   "source": [
    "!tensorboard --port=6006 --logdir=/tmp/tensorboard/helloworld"
   ]
  },
  {
   "cell_type": "markdown",
   "metadata": {},
   "source": [
    "### Navigate to [your-ip]:6006 to see TensorBoard in action\n",
    "* Ignore \"No scalar data was found\" error for now \n",
    "* We're simply testing connectivity"
   ]
  },
  {
   "cell_type": "markdown",
   "metadata": {},
   "source": [
    "### Stop TensorBoard for now"
   ]
  },
  {
   "cell_type": "code",
   "execution_count": 3,
   "metadata": {
    "collapsed": true
   },
   "outputs": [],
   "source": [
    "!ps -aef | grep \"tensorboard\" | tr -s ' ' | cut -d ' ' -f2 | xargs kill -KILL"
   ]
  },
  {
   "cell_type": "code",
   "execution_count": null,
   "metadata": {
    "collapsed": true
   },
   "outputs": [],
   "source": []
  }
 ],
 "metadata": {
  "kernelspec": {
   "display_name": "Python 2",
   "language": "python",
   "name": "python2"
  },
  "language_info": {
   "codemirror_mode": {
    "name": "ipython",
    "version": 2
   },
   "file_extension": ".py",
   "mimetype": "text/x-python",
   "name": "python",
   "nbconvert_exporter": "python",
   "pygments_lexer": "ipython2",
   "version": "2.7.6"
  }
 },
 "nbformat": 4,
 "nbformat_minor": 0
}
