{
 "cells": [
  {
   "cell_type": "markdown",
   "metadata": {},
   "source": [
    "Uncomment lines from this notebook to learn more."
   ]
  },
  {
   "cell_type": "code",
   "execution_count": null,
   "metadata": {
    "collapsed": true
   },
   "outputs": [],
   "source": [
    "# 1.1 Import tensorflow and other libraries.\n",
    "import tensorflow as tf\n",
    "import numpy as np\n",
    "\n",
    "%matplotlib inline\n",
    "import pylab"
   ]
  },
  {
   "cell_type": "code",
   "execution_count": null,
   "metadata": {
    "collapsed": false
   },
   "outputs": [],
   "source": [
    "# 1.2 Create input data using NumPy. y = x * 0.1 + 0.3 + noise\n",
    "x_train = np.random.rand(100).astype(np.float32)\n",
    "noise = np.random.normal(scale=0.01, size=len(x_train))\n",
    "y_train = x_train * 0.1 + 0.3 + noise\n",
    "\n",
    "# Uncomment the following line to plot our input data.\n",
    "pylab.plot(x_train, y_train, '.')"
   ]
  },
  {
   "cell_type": "code",
   "execution_count": null,
   "metadata": {
    "collapsed": true
   },
   "outputs": [],
   "source": [
    "# Create some fake evaluation data\n",
    "x_eval = np.random.rand(len(x_train)).astype(np.float32)\n",
    "noise = np.random.normal(scale=0.01, size=len(x_train))\n",
    "y_eval = x_eval * 0.1 + 0.3 + noise"
   ]
  },
  {
   "cell_type": "code",
   "execution_count": null,
   "metadata": {
    "collapsed": false
   },
   "outputs": [],
   "source": [
    "# 1.3 Buld inference graph.\n",
    "# Create Variables W and b that compute y_data = W * x_data + b\n",
    "W = tf.get_variable(shape=[], name='weights')\n",
    "b = tf.get_variable(shape=[], name='bias')\n",
    "\n",
    "# Uncomment the following lines to see W and b are.\n",
    "# print(W)\n",
    "# print(b)\n",
    "\n",
    "# Create a placeholder we'll use later to feed x's into the graph for training and eval.\n",
    "# shape=[None] means we can put in any number of examples. \n",
    "# This is used for minibatch training, and to evaluate a lot of examples at once.\n",
    "x = tf.placeholder(shape=[None], dtype=tf.float32, name='x')\n",
    "\n",
    "# Uncomment this line to see what x is\n",
    "# print(x)\n",
    "\n",
    "# This is the same as tf.add(tf.mul(W, x), b), but looks nicer\n",
    "y = W * x + b"
   ]
  },
  {
   "cell_type": "code",
   "execution_count": null,
   "metadata": {
    "collapsed": true
   },
   "outputs": [],
   "source": [
    "# Write the graph so we can look at it in TensorBoard\n",
    "# Now is a good time to try that\n",
    "sw = tf.train.SummaryWriter('.', graph=tf.get_default_graph())"
   ]
  },
  {
   "cell_type": "code",
   "execution_count": null,
   "metadata": {
    "collapsed": false
   },
   "outputs": [],
   "source": [
    "# Create a placeholder we'll use later to feed the correct y value into the graph\n",
    "y_label = tf.placeholder(shape=[None], dtype=tf.float32, name='y_label')\n",
    "# print (y_label)"
   ]
  },
  {
   "cell_type": "code",
   "execution_count": null,
   "metadata": {
    "collapsed": false
   },
   "outputs": [],
   "source": [
    "# 1.4 Build training graph.\n",
    "loss = tf.reduce_mean(tf.square(y - y_label))  # Create an operation that calculates loss.\n",
    "optimizer = tf.train.GradientDescentOptimizer(0.5)  # Create an optimizer.\n",
    "train = optimizer.minimize(loss)  # Create an operation that minimizes loss.\n",
    "\n",
    "# Uncomment the following 3 lines to see what 'loss', 'optimizer' and 'train' are.\n",
    "# print(\"loss:\", loss)\n",
    "# print(\"optimizer:\", optimizer)\n",
    "# print(\"train:\", train)"
   ]
  },
  {
   "cell_type": "code",
   "execution_count": null,
   "metadata": {
    "collapsed": false
   },
   "outputs": [],
   "source": [
    "# Create an operation to initialize all the variables.\n",
    "init = tf.initialize_all_variables()\n",
    "# print(init)"
   ]
  },
  {
   "cell_type": "code",
   "execution_count": null,
   "metadata": {
    "collapsed": false
   },
   "outputs": [],
   "source": [
    "# 1.6 Create a session and launch the graph.\n",
    "sess = tf.Session()\n",
    "sess.run(init)\n",
    "\n",
    "# Uncomment the following line to see the initial W and b values.\n",
    "# print(sess.run([W, b]))"
   ]
  },
  {
   "cell_type": "code",
   "execution_count": null,
   "metadata": {
    "collapsed": false
   },
   "outputs": [],
   "source": [
    "# Uncomment these lines to test that we can compute a y from an x (without having trained anything). \n",
    "# x must be a vector, hence [3] not just 3.\n",
    "# x_in = [3]\n",
    "# sess.run(y, feed_dict={x: x_in})"
   ]
  },
  {
   "cell_type": "code",
   "execution_count": null,
   "metadata": {
    "collapsed": false
   },
   "outputs": [],
   "source": [
    "# Calculate accuracy on the evaluation data before training\n",
    "def eval():\n",
    "    return sess.run(loss, feed_dict={x: x_eval, y_label: y_eval})\n",
    "eval()"
   ]
  },
  {
   "cell_type": "code",
   "execution_count": null,
   "metadata": {
    "collapsed": true
   },
   "outputs": [],
   "source": [
    "# Add a summary so we can visualize the loss in TensorBoard\n",
    "tf.scalar_summary('loss', loss)\n",
    "summary_op = tf.merge_all_summaries()"
   ]
  },
  {
   "cell_type": "code",
   "execution_count": null,
   "metadata": {
    "collapsed": false
   },
   "outputs": [],
   "source": [
    "# 1.7 Perform training.\n",
    "for step in range(201):\n",
    "    # Run the training op; feed the training data into the graph\n",
    "    summary_str, _ = sess.run([summary_op, train], feed_dict={x: x_train, y_label: y_train})\n",
    "    sw.add_summary(summary_str, step)\n",
    "    # Uncomment the following two lines to watch training happen real time.\n",
    "    #if step % 20 == 0:\n",
    "        #print(step, sess.run([W, b]))"
   ]
  },
  {
   "cell_type": "code",
   "execution_count": null,
   "metadata": {
    "collapsed": false
   },
   "outputs": [],
   "source": [
    "# 1.8 Uncomment the following lines to plot the predicted values\n",
    "# pylab.plot(x_train, y_train, '.', label=\"target\")\n",
    "# pylab.plot(x_train, sess.run(y, feed_dict={x: x_train, y_label: y_train}), \".\", label=\"predicted\")\n",
    "# pylab.legend()\n",
    "# pylab.ylim(0, 1.0)"
   ]
  },
  {
   "cell_type": "code",
   "execution_count": null,
   "metadata": {
    "collapsed": false
   },
   "outputs": [],
   "source": [
    "# Check accuracy on eval data after training\n",
    "eval()"
   ]
  },
  {
   "cell_type": "markdown",
   "metadata": {},
   "source": [
    "Demonstrate saving and restoring a model"
   ]
  },
  {
   "cell_type": "code",
   "execution_count": null,
   "metadata": {
    "collapsed": true
   },
   "outputs": [],
   "source": [
    "def predict(x_in): return sess.run(y, feed_dict={x: [x_in]})"
   ]
  },
  {
   "cell_type": "code",
   "execution_count": null,
   "metadata": {
    "collapsed": false
   },
   "outputs": [],
   "source": [
    "# Save the model\n",
    "saver = tf.train.Saver()\n",
    "saver.save(sess, 'my_checkpoint.ckpt')"
   ]
  },
  {
   "cell_type": "code",
   "execution_count": null,
   "metadata": {
    "collapsed": false
   },
   "outputs": [],
   "source": [
    "# Current prediction\n",
    "predict(3)"
   ]
  },
  {
   "cell_type": "code",
   "execution_count": null,
   "metadata": {
    "collapsed": true
   },
   "outputs": [],
   "source": [
    "# Reset the model by running the init op again\n",
    "sess.run(init) "
   ]
  },
  {
   "cell_type": "code",
   "execution_count": null,
   "metadata": {
    "collapsed": false
   },
   "outputs": [],
   "source": [
    "# Prediction after variables reinitialized\n",
    "predict(3)"
   ]
  },
  {
   "cell_type": "code",
   "execution_count": null,
   "metadata": {
    "collapsed": true
   },
   "outputs": [],
   "source": [
    "saver.restore(sess, 'my_checkpoint.ckpt')"
   ]
  },
  {
   "cell_type": "code",
   "execution_count": null,
   "metadata": {
    "collapsed": false
   },
   "outputs": [],
   "source": [
    "# Predictions after variables restored\n",
    "predict(3)"
   ]
  }
 ],
 "metadata": {
  "kernelspec": {
   "display_name": "Python 2",
   "language": "python",
   "name": "python2"
  },
  "language_info": {
   "codemirror_mode": {
    "name": "ipython",
    "version": 2
   },
   "file_extension": ".py",
   "mimetype": "text/x-python",
   "name": "python",
   "nbconvert_exporter": "python",
   "pygments_lexer": "ipython2",
   "version": "2.7.10"
  }
 },
 "nbformat": 4,
 "nbformat_minor": 0
}
