{
 "cells": [
  {
   "cell_type": "code",
   "execution_count": 1,
   "metadata": {
    "collapsed": false
   },
   "outputs": [
    {
     "name": "stdout",
     "output_type": "stream",
     "text": [
      "[[ 1.]\n",
      " [ 1.]]\n",
      "[[ 1.]\n",
      " [ 2.]]\n",
      "[[ 2.]\n",
      " [ 3.]]\n",
      "[[ 3.]\n",
      " [ 5.]]\n",
      "[[ 5.]\n",
      " [ 8.]]\n",
      "[[  8.]\n",
      " [ 13.]]\n",
      "[[ 13.]\n",
      " [ 21.]]\n",
      "[[ 21.]\n",
      " [ 34.]]\n",
      "[[ 34.]\n",
      " [ 55.]]\n",
      "[[ 55.]\n",
      " [ 89.]]\n"
     ]
    }
   ],
   "source": [
    "import tensorflow as tf\n",
    "\n",
    "with tf.Graph().as_default() as g:\n",
    "\n",
    "    # Add code that will calculate and output the Fibonacci sequence\n",
    "    # using TF. You will need to make use of tf.matmul() and\n",
    "    # tf.assign() to perform the multiplications and assign the result\n",
    "    # back to the variable fib_seq.\n",
    "\n",
    "    fib_matrix = tf.constant([[0.0, 1.0],\n",
    "                              [1.0, 1.0]])\n",
    "\n",
    "    ### SOLUTION START ###\n",
    "    # Put your solution code here.\n",
    "\n",
    "    # Change this line to initialize fib_seq to a 2x1 TensorFlow\n",
    "    # tensor *Variable* with the initial values of 0.0 and 1.0. Hint:\n",
    "    # You'll need to make sure you specify a 2D tensor of shape 2x1,\n",
    "    # not a 1D tensor. See fib_matrix above (a 2x2 2D tensor) to guide\n",
    "    # you.\n",
    "    fib_sequence = tf.Variable([[0.0], [1.0]])\n",
    "    \n",
    "    # Change this line to multiply fib_matrix and fib_sequence using tf.matmul()\n",
    "    next_fib = tf.matmul(fib_matrix, fib_sequence)\n",
    "    \n",
    "    # And assign the result back to fig_sequence using tf.assign()\n",
    "    assign_op = tf.assign(fib_sequence, next_fib)\n",
    "    \n",
    "    ### SOLUTION END ###\n",
    "    \n",
    "    init = tf.initialize_all_variables()\n",
    "    with tf.Session() as sess:\n",
    "        sess.run(init)\n",
    "        for step in range(10):\n",
    "            sess.run(assign_op)\n",
    "            print(sess.run(fib_sequence))"
   ]
  },
  {
   "cell_type": "code",
   "execution_count": null,
   "metadata": {
    "collapsed": true
   },
   "outputs": [],
   "source": []
  }
 ],
 "metadata": {
  "kernelspec": {
   "display_name": "Python 2",
   "language": "python",
   "name": "python2"
  },
  "language_info": {
   "codemirror_mode": {
    "name": "ipython",
    "version": 2
   },
   "file_extension": ".py",
   "mimetype": "text/x-python",
   "name": "python",
   "nbconvert_exporter": "python",
   "pygments_lexer": "ipython2",
   "version": "2.7.10"
  }
 },
 "nbformat": 4,
 "nbformat_minor": 0
}
