{
 "cells": [
  {
   "cell_type": "markdown",
   "metadata": {},
   "source": [
    "TF.Learn simplifies training a model."
   ]
  },
  {
   "cell_type": "markdown",
   "metadata": {},
   "source": [
    "# Predict the tip for a taxi ride\n",
    "\n",
    "NYC provides quite a lot of data from taxi trips at http://www.nyc.gov/html/tlc/html/about/trip_record_data.shtml. It's a good exercise to think about how this data can be used to improve the city. You can find more details about the features here: https://data.cityofnewyork.us/view/6phq-6kwz\n",
    "\n",
    "For this workshop, I thought we could work on a simple problem: predicting the tip for a given ride. To keep the download small, I prepared a subset of the data for us to use from Jan '09. It includes 100,000 rows for training and 10,000 rows for evaluation, with five features. Much richer data is available in the original files. Here's the format the subset.\n",
    "\n",
    "| passenger_count | trip_distance | RatecodeID | payment_type | fare_amount | tip_amount |\n",
    "|-----------------|---------------|------------|--------------|-------------|------------|\n",
    "| 1               | 2.72          | 1          | 1            | 10.5        | 3.39       |\n",
    "| 5               | 3.21          | 1          | 1            | 12.5        | 2          |\n",
    "| 1               | .80           | 1          | 1            | 5.5         | 1          | \n",
    "\n",
    "and so on.\n",
    "\n",
    "For reference, here are the commands I used to extract this data from https://s3.amazonaws.com/nyc-tlc/trip+data/yellow_tripdata_2009-01.csv\n",
    "\n",
    "This command was used to skip the header, select the columns we want, and shuffle the file (since it's sorted by date/time):\n",
    "\n",
    "* $ tail -n +2 yellow_tripdata_2016-01.csv | cut -d',' -f4,5,8,12,13,16 | gshuf > cab.csv\n",
    "\n",
    "These commands were used to select rows for train and test:\n",
    "\n",
    "* $ head -n 100000 cab.csv > cab_train.csv \n",
    "\n",
    "* $ tail -n 10000 cab.csv > cab_test.csv "
   ]
  },
  {
   "cell_type": "code",
   "execution_count": null,
   "metadata": {
    "collapsed": false
   },
   "outputs": [],
   "source": [
    "import tensorflow as tf\n",
    "import numpy as np\n",
    "\n",
    "tf.logging.set_verbosity(tf.logging.ERROR)"
   ]
  },
  {
   "cell_type": "code",
   "execution_count": null,
   "metadata": {
    "collapsed": true
   },
   "outputs": [],
   "source": [
    "# use numpy to read the CSVs\n",
    "train_data = np.loadtxt(open(\"cab_train.csv\"), delimiter=\",\", skiprows=1)\n",
    "x_data = train_data[:,0:5] # first five columns are features\n",
    "y_data = train_data[:,5] # last column is the tip amount\n",
    "\n",
    "test_data = np.loadtxt(open(\"cab_test.csv\"), delimiter=\",\")\n",
    "x_test = test_data[:,0:5] # first five columns are features\n",
    "y_test = test_data[:,5] # last column is the tip amount\n",
    "\n",
    "# used to inform the classifier about our features\n",
    "# here they're all real-valued\n",
    "feature_columns=[tf.contrib.layers.real_valued_column('', dimension=5)]"
   ]
  },
  {
   "cell_type": "code",
   "execution_count": null,
   "metadata": {
    "collapsed": false
   },
   "outputs": [],
   "source": [
    "# train and evaluate a linear regression model\n",
    "R = tf.contrib.learn.LinearRegressor(feature_columns)\n",
    "R.fit(x_data, y_data, batch_size=100, max_steps=1000)\n",
    "R.evaluate(x_test, y_test)"
   ]
  },
  {
   "cell_type": "code",
   "execution_count": null,
   "metadata": {
    "collapsed": false
   },
   "outputs": [],
   "source": [
    "# train and evaluate a fully connected deep neural net\n",
    "# note: the parameters I'm using are silly\n",
    "# still, the loss should decrease vs. the linear model\n",
    "D = tf.contrib.learn.DNNRegressor(feature_columns=feature_columns,\n",
    "                                  hidden_units=[10,20,10])\n",
    "D.fit(x_data, y_data, batch_size=100, max_steps=1000)\n",
    "D.evaluate(x_test, y_test)"
   ]
  },
  {
   "cell_type": "code",
   "execution_count": null,
   "metadata": {
    "collapsed": false
   },
   "outputs": [],
   "source": [
    "# predict the tip for a single ride (the actual tip was $11.67)\n",
    "D.predict(np.asarray([1,14.85,2,1,52]))"
   ]
  },
  {
   "cell_type": "code",
   "execution_count": null,
   "metadata": {
    "collapsed": true
   },
   "outputs": [],
   "source": []
  }
 ],
 "metadata": {
  "kernelspec": {
   "display_name": "Python 2",
   "language": "python",
   "name": "python2"
  },
  "language_info": {
   "codemirror_mode": {
    "name": "ipython",
    "version": 2
   },
   "file_extension": ".py",
   "mimetype": "text/x-python",
   "name": "python",
   "nbconvert_exporter": "python",
   "pygments_lexer": "ipython2",
   "version": "2.7.10"
  }
 },
 "nbformat": 4,
 "nbformat_minor": 0
}
