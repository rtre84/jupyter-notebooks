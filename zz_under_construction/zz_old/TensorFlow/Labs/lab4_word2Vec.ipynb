{
 "cells": [
  {
   "cell_type": "markdown",
   "metadata": {},
   "source": [
    "## Import TensforFlow and Numpy, make sure the package is there"
   ]
  },
  {
   "cell_type": "code",
   "execution_count": 1,
   "metadata": {
    "collapsed": true
   },
   "outputs": [],
   "source": [
    "import numpy as np\n",
    "import tensorflow as tf"
   ]
  },
  {
   "cell_type": "markdown",
   "metadata": {},
   "source": [
    "# Read the text into a list of strings, using tensorflow"
   ]
  },
  {
   "cell_type": "code",
   "execution_count": 3,
   "metadata": {
    "collapsed": false
   },
   "outputs": [
    {
     "name": "stdout",
     "output_type": "stream",
     "text": [
      "Data size:  17005207\n"
     ]
    }
   ],
   "source": [
    "import zipfile as zf\n",
    "\n",
    "#This function return a list of words\n",
    "def read_data(filename):\n",
    "  with zf.ZipFile(filename) as f:\n",
    "    raw=f.read(f.namelist()[0])\n",
    "    data = tf.compat.as_str(raw).split()    \n",
    "        #tf.compat is not in online document\n",
    "  return data\n",
    "\n",
    "word_list = read_data('data/text/text8.zip')\n",
    "#data size is the total number of words in the file\n",
    "print 'Data size: ', len(word_list)"
   ]
  },
  {
   "cell_type": "markdown",
   "metadata": {
    "collapsed": false
   },
   "source": [
    "# Build dataset"
   ]
  },
  {
   "cell_type": "code",
   "execution_count": 4,
   "metadata": {
    "collapsed": false,
    "scrolled": true
   },
   "outputs": [
    {
     "name": "stdout",
     "output_type": "stream",
     "text": [
      "unique words:  253854\n",
      "('top 10 common words (+UNK)', [['UNK', 418391], ('the', 1061396), ('of', 593677), ('and', 416629), ('one', 411764), ('in', 372201), ('a', 325873), ('to', 316376), ('zero', 264975), ('nine', 250430)])\n",
      "('data= ', [5239, 3084, 12, 6, 195, 2, 3137, 46, 59, 156])\n",
      "('Sample data', ['anarchism', 'originated', 'as', 'a', 'term', 'of', 'abuse', 'first', 'used', 'against'])\n"
     ]
    }
   ],
   "source": [
    "import collections\n",
    "\n",
    "#This is our universe, we don't study any word outside this vocabulary \n",
    "vocabulary_size = 50000  \n",
    "\n",
    "#Replace every word by its index, this is our dataset; replace rare words with token \"UNK\"\n",
    "def build_dataset(words):\n",
    "  #initialize an array with word and its count, with the first word as 'UNK'\n",
    "  word_Count = [['UNK', -1]]   \n",
    "  #Find common words, and add them to our vocabulary array\n",
    "  unique_words=collections.Counter(word_list)\n",
    "  print \"unique words: \", len(unique_words)\n",
    "  # We are using a function from \"Collection\", most_common  \n",
    "  common_words=unique_words.most_common(vocabulary_size-1)  \n",
    "          #make sure this is \"vocabulary_size-1\" as we already have 1 word in \n",
    "  word_Count.extend(common_words)\n",
    "  \"\"\"After the above operation, word_Count is a 2-d array with 50,001 words and their count\"\"\"\n",
    "\n",
    "  #Initialize an empty hashtable\n",
    "  dictionary = dict()\n",
    "  for word, _ in word_Count:\n",
    "    dictionary[word] = len(dictionary)  #current size, thus it is an index\n",
    "  \"\"\"After the above operation, dictionary is a hashtable with 50,001 words and their index, ordered by Count\"\"\"\n",
    "\n",
    "  #Create our dataset, where every word is replaced by its index\n",
    "  data = list()\n",
    "  unk_count = 0\n",
    "  for word in word_list:\n",
    "    if word in dictionary:\n",
    "      index = dictionary[word]\n",
    "    else:\n",
    "      index = 0  # dictionary['UNK']\n",
    "      unk_count += 1\n",
    "    data.append(index)\n",
    "    \n",
    "  #Update the count for UNK, any word that is not common is considered as UNK\n",
    "  word_Count[0][1] = unk_count  #this is a side-product\n",
    "\n",
    "  reverse_dictionary = dict(zip(dictionary.values(), dictionary.keys())) #zip just make the hashtable more compact\n",
    "    \n",
    "  return data, word_Count, dictionary, reverse_dictionary\n",
    "\n",
    "#It takes about 4 seconds to finish\n",
    "data, word_Count, dictionary, reverse_dictionary = build_dataset(word_list)\n",
    "del word_list  # to reduce memory.\n",
    "\n",
    "print('top 10 common words (+UNK)', word_Count[:10])   #the top 10 common words\n",
    "print ('data= ', data[:10])\n",
    "print('Sample data',  [reverse_dictionary[i] for i in data[:10]])"
   ]
  },
  {
   "cell_type": "markdown",
   "metadata": {},
   "source": [
    "# Generate a training batch for the skip-gram model.\n",
    "# Reference paper:"
   ]
  },
  {
   "cell_type": "code",
   "execution_count": 5,
   "metadata": {
    "collapsed": false
   },
   "outputs": [
    {
     "name": "stdout",
     "output_type": "stream",
     "text": [
      "[3084 3084   12   12    6    6  195  195    2    2]\n",
      "[[5239]\n",
      " [  12]\n",
      " [3084]\n",
      " [   6]\n",
      " [ 195]\n",
      " [  12]\n",
      " [   6]\n",
      " [   2]\n",
      " [3137]\n",
      " [ 195]]\n",
      "('originated', '->', 'anarchism')\n",
      "('originated', '->', 'as')\n",
      "('as', '->', 'originated')\n",
      "('as', '->', 'a')\n",
      "('a', '->', 'term')\n",
      "('a', '->', 'as')\n",
      "('term', '->', 'a')\n",
      "('term', '->', 'of')\n",
      "('of', '->', 'abuse')\n",
      "('of', '->', 'term')\n",
      "data index= 8\n"
     ]
    }
   ],
   "source": [
    "import random\n",
    "\n",
    "data_index = 0\n",
    "\n",
    "batch_size = 128  #the number of words we process each time \n",
    "embedding_size = 128  # Dimension of the embedding vector.\n",
    "num_skips = 2      # How many times to reuse an input to generate a label.\n",
    "skip_window = 1      # Number of words to consider left and right.\n",
    "\n",
    "#Given batch size, generate labeled data from original sequence\n",
    "#for every word, find its label, which is within the skip-window\n",
    "def generate_batch(batch_size, num_skips, skip_window):\n",
    "  global data_index\n",
    "\n",
    "  assert batch_size % num_skips == 0  #if this condition does not hold, the system will issue error\n",
    "  assert num_skips <= 2 * skip_window\n",
    "\n",
    "  batch = np.ndarray(shape=(batch_size), dtype=np.int32)\n",
    "  labels = np.ndarray(shape=(batch_size, 1), dtype=np.int32)\n",
    "\n",
    "  \"\"\"Read data if size span into buffer \"\"\" \n",
    "  ## Span is the total number of words, before + after+ current word\n",
    "  span = 2 * skip_window + 1   #span=3\n",
    "  buffer = collections.deque(maxlen=span)\n",
    "  for _ in range(span):\n",
    "    buffer.append(data[data_index])\n",
    "    data_index = data_index + 1\n",
    "  \n",
    "  \"\"\" The actual number of operation is batch_size // num_skips, where \"//\" is floor division, removing decimal numbers \"\"\" \n",
    "  for i in range(batch_size // num_skips):\n",
    "    # start with the center word, \n",
    "    target = skip_window  \n",
    "    \n",
    "    # this is a list that records what we have processed\n",
    "    targets_to_avoid = [ skip_window ]   \n",
    "    \n",
    "    for j in range(num_skips):\n",
    "      while target in targets_to_avoid:\n",
    "        target = random.randint(0, span - 1)\n",
    "      targets_to_avoid.append(target)\n",
    "      batch[i * num_skips + j] = buffer[skip_window]\n",
    "      labels[i * num_skips + j, 0] = buffer[target]\n",
    "    buffer.append(data[data_index])\n",
    "    data_index = data_index + 1\n",
    "    \n",
    "  return batch, labels\n",
    "\n",
    "#Some sample output\n",
    "batch, labels = generate_batch(batch_size=10, num_skips=2, skip_window=1)\n",
    "print batch\n",
    "print labels\n",
    "for i in range(len(batch)):\n",
    "  print(reverse_dictionary[batch[i]], '->', reverse_dictionary[labels[i, 0]])\n",
    "print \"data index=\",data_index"
   ]
  },
  {
   "cell_type": "markdown",
   "metadata": {},
   "source": [
    "# Build and train a skip-gram model."
   ]
  },
  {
   "cell_type": "code",
   "execution_count": 6,
   "metadata": {
    "collapsed": false
   },
   "outputs": [
    {
     "name": "stdout",
     "output_type": "stream",
     "text": [
      "[  156   156   128   128   742   742   477   477 10572 10572]\n",
      "[[  128]\n",
      " [   59]\n",
      " [  742]\n",
      " [  156]\n",
      " [  128]\n",
      " [  477]\n",
      " [10572]\n",
      " [  742]\n",
      " [  134]\n",
      " [  477]]\n",
      "('against', '->', 'early')\n",
      "('against', '->', 'used')\n",
      "('early', '->', 'working')\n",
      "('early', '->', 'against')\n",
      "('working', '->', 'early')\n",
      "('working', '->', 'class')\n",
      "('class', '->', 'radicals')\n",
      "('class', '->', 'working')\n",
      "('radicals', '->', 'including')\n",
      "('radicals', '->', 'class')\n",
      "data index= 16\n"
     ]
    }
   ],
   "source": [
    "#Some sample output\n",
    "batch, labels = generate_batch(batch_size=10, num_skips=2, skip_window=1)\n",
    "print batch\n",
    "print labels\n",
    "for i in range(len(batch)):\n",
    "  print(reverse_dictionary[batch[i]], '->', reverse_dictionary[labels[i, 0]])\n",
    "print \"data index=\",data_index"
   ]
  },
  {
   "cell_type": "code",
   "execution_count": 7,
   "metadata": {
    "collapsed": false
   },
   "outputs": [],
   "source": [
    "import math\n",
    "\n",
    "# We pick a random validation set to sample nearest neighbors. Here we limit the validation samples to frequent words .\n",
    "valid_size = 16     # Random set of words to evaluate similarity on.\n",
    "valid_window = 100  # Only pick dev samples in the head of the distribution.\n",
    "valid_examples = np.random.choice(valid_window, valid_size, replace=False)\n",
    "\n",
    "num_sampled = 64    # Number of negative examples to sample.\n",
    "\n",
    "graph = tf.Graph()\n",
    "with graph.as_default():\n",
    "  train_inputs = tf.placeholder(tf.int32, shape=[batch_size])\n",
    "     #a list if integers that are indexes for words\n",
    "  train_labels = tf.placeholder(tf.int32, shape=[batch_size, 1])\n",
    "     #a list if integers that are indexes for words\n",
    "  valid_dataset = tf.constant(valid_examples, dtype=tf.int32)\n",
    "\n",
    "  # Ops and variables pinned to the CPU because of missing GPU implementation\n",
    "  with tf.device('/cpu:0'):\n",
    "    #word vectors are all intialized as numbers between -1 and 1 \n",
    "    wordsE = tf.Variable(tf.random_uniform([vocabulary_size, embedding_size], -1.0, 1.0))\n",
    "    \n",
    "    #inputE is a smaller size list than all wordsE, \n",
    "    inputE = tf.nn.embedding_lookup(wordsE, train_inputs)\n",
    "    #The resulting dimension is [batch_size, embedding_size]\n",
    "    \n",
    "    # Construct the variables\n",
    "    #The weights is initialized from a normal distribution, with mean 0 and standard deviation 1/128^2, almost 0\n",
    "    initial_weights=tf.truncated_normal([vocabulary_size, embedding_size], stddev=1.0 / math.sqrt(embedding_size))\n",
    "    weights = tf.Variable(initial_weights)\n",
    "    biases = tf.Variable(tf.zeros([vocabulary_size]))\n",
    "\n",
    "  loss = tf.reduce_mean(\n",
    "              tf.nn.sampled_softmax_loss(weights, biases, inputE, train_labels, num_sampled, vocabulary_size))\n",
    "  # Construct the SGD optimizer using a learning rate of 1.0.\n",
    "  optimizer = tf.train.GradientDescentOptimizer(1.0).minimize(loss)\n",
    "\n",
    "  # Compute the cosine similarity between minibatch examples and all embeddings.\n",
    "  norm = tf.sqrt(tf.reduce_sum(tf.square(wordsE), 1, keep_dims=True))\n",
    "  normalized_wordsE = wordsE / norm\n",
    "    \n",
    "  #calculate pairwise similarity score for every word in valid set, and all the words in vocabulary\n",
    "  validE = tf.nn.embedding_lookup(normalized_wordsE, valid_dataset)\n",
    "  similarity = tf.matmul(validE, normalized_wordsE, transpose_b=True)\n",
    "\n",
    "  # Add variable initializer.\n",
    "  init = tf.initialize_all_variables()\n"
   ]
  },
  {
   "cell_type": "code",
   "execution_count": 8,
   "metadata": {
    "collapsed": false
   },
   "outputs": [
    {
     "name": "stdout",
     "output_type": "stream",
     "text": [
      "[[ 0.72809243 -0.58059263]\n",
      " [-0.51278496  0.12801981]\n",
      " [ 0.63370943  0.52823448]\n",
      " [ 0.83592129  0.17996573]\n",
      " [ 0.06860638  0.12861061]]\n",
      "[[-0.51278496  0.12801981]\n",
      " [ 0.83592129  0.17996573]\n",
      " [ 0.06860638  0.12861061]]\n"
     ]
    }
   ],
   "source": [
    "with tf.Session() as sess:\n",
    "    allwords =tf.Variable(tf.random_uniform([5, 2], -1.0, 1.0)) \n",
    "    #Variable has to initialized before running\n",
    "    #sess.run(allwords.initializer)\n",
    "    tf.initialize_all_variables().run() #this is more general\n",
    "    print allwords.eval()\n",
    "    batch=[1,3,4]\n",
    "    bwords=tf.nn.embedding_lookup(allwords, batch)\n",
    "    print bwords.eval()"
   ]
  },
  {
   "cell_type": "markdown",
   "metadata": {},
   "source": [
    "# Begin training."
   ]
  },
  {
   "cell_type": "code",
   "execution_count": 9,
   "metadata": {
    "collapsed": false
   },
   "outputs": [
    {
     "name": "stdout",
     "output_type": "stream",
     "text": [
      "Tensor(\"div:0\", shape=(50000, 128), dtype=float32)\n"
     ]
    }
   ],
   "source": [
    "print normalized_wordsE"
   ]
  },
  {
   "cell_type": "code",
   "execution_count": 10,
   "metadata": {
    "collapsed": false
   },
   "outputs": [
    {
     "name": "stdout",
     "output_type": "stream",
     "text": [
      "Initialized\n",
      "('Average loss at step ', 0, ': ', 7.840111255645752)\n",
      "Nearest to one: bertolt, mergers, kristallnacht, observatories, silvanus, ambedkar, selznick, electrically,\n",
      "Nearest to people: behavior, coronado, npd, pathos, soliciting, mauritian, applicant, decidedly,\n",
      "Nearest to that: prefrontal, gross, werth, enquiries, over, patriarchates, tortoise, rk,\n",
      "Nearest to new: chap, exarch, donegal, zealot, ptah, serine, updating, hillary,\n",
      "Nearest to state: archaeoastronomy, cheered, rigid, marlowe, boyd, qaeda, kilometers, psionic,\n",
      "('Average loss at step ', 2000, ': ', 4.8493102321624759)\n",
      "('Average loss at step ', 4000, ': ', 4.1473633738979698)\n",
      "('Average loss at step ', 6000, ': ', 4.04280930018425)\n",
      "('Average loss at step ', 8000, ': ', 3.8951156964600084)\n",
      "('Average loss at step ', 10000, ': ', 3.8154547293186187)\n",
      "Nearest to one: two, arnstadt, ambedkar, UNK, sur, the, manic, adler,\n",
      "Nearest to people: behavior, npd, mauritian, pathos, coronado, no, supplemental, soliciting,\n",
      "Nearest to that: over, gross, rk, enquiries, patriarchates, immortalized, mural, adjudication,\n",
      "Nearest to new: exarch, chap, serine, zealot, updating, globe, regicide, vci,\n",
      "Nearest to state: archaeoastronomy, rigid, boyd, psionic, marlowe, qaeda, hecate, envy,\n",
      "('Average loss at step ', 12000, ': ', 3.783337225973606)\n",
      "('Average loss at step ', 14000, ': ', 3.7343917431235312)\n",
      "('Average loss at step ', 16000, ': ', 3.5670206896141172)\n",
      "('Average loss at step ', 18000, ': ', 3.613119417488575)\n",
      "('Average loss at step ', 20000, ': ', 3.7087411341667176)\n",
      "Nearest to one: two, arnstadt, hypothalamus, the, selznick, eight, coaxial, enjoyed,\n",
      "Nearest to people: behavior, npd, mauritian, pathos, summer, coronado, allotropes, no,\n",
      "Nearest to that: over, gross, rk, also, which, colonized, immortalized, enquiries,\n",
      "Nearest to new: exarch, chap, regicide, zealot, bithynia, globe, serine, updating,\n",
      "Nearest to state: archaeoastronomy, rigid, psionic, boyd, cowes, qaeda, marlowe, envy,\n",
      "('Average loss at step ', 22000, ': ', 3.6612494437694552)\n",
      "('Average loss at step ', 24000, ': ', 3.6500439755916596)\n",
      "('Average loss at step ', 26000, ': ', 3.6331495666503906)\n",
      "('Average loss at step ', 28000, ': ', 3.6177412205338477)\n",
      "('Average loss at step ', 30000, ': ', 3.6551618610322474)\n",
      "Nearest to one: two, five, six, yukon, four, eight, seven, arnstadt,\n",
      "Nearest to people: behavior, mauritian, npd, coronado, summer, pathos, allotropes, trombonist,\n",
      "Nearest to that: which, gross, rk, over, colonized, this, immortalized, also,\n",
      "Nearest to new: exarch, few, globe, bithynia, regicide, ogg, chap, vci,\n",
      "Nearest to state: archaeoastronomy, rigid, psionic, boyd, cowes, news, envy, qaeda,\n",
      "('Average loss at step ', 32000, ': ', 3.6402791076302528)\n",
      "('Average loss at step ', 34000, ': ', 3.6379068987965586)\n",
      "('Average loss at step ', 36000, ': ', 3.6111606106758116)\n",
      "('Average loss at step ', 38000, ': ', 3.4778757376670839)\n",
      "('Average loss at step ', 40000, ': ', 3.574024521589279)\n",
      "Nearest to one: two, seven, eight, six, five, four, three, yukon,\n",
      "Nearest to people: behavior, npd, mauritian, summer, coronado, pathos, trombonist, allotropes,\n",
      "Nearest to that: which, this, rk, gross, but, adjudication, it, also,\n",
      "Nearest to new: exarch, bithynia, globe, few, wakshul, ogg, regicide, serine,\n",
      "Nearest to state: archaeoastronomy, rigid, cowes, psionic, news, qaeda, boyd, envy,\n",
      "('Average loss at step ', 42000, ': ', 3.5772215947508812)\n",
      "('Average loss at step ', 44000, ': ', 3.5912785984277726)\n",
      "('Average loss at step ', 46000, ': ', 3.5886272131204606)\n",
      "('Average loss at step ', 48000, ': ', 3.4945902621746061)\n",
      "('Average loss at step ', 50000, ': ', 3.5178597041368485)\n",
      "Nearest to one: two, six, four, three, eight, five, yukon, seven,\n",
      "Nearest to people: behavior, mauritian, npd, summer, coronado, alabaster, trombonist, otters,\n",
      "Nearest to that: which, gross, this, rk, colonized, coq, readability, but,\n",
      "Nearest to new: bithynia, ogg, few, wakshul, globe, vci, stakeholders, regicide,\n",
      "Nearest to state: archaeoastronomy, rigid, cowes, psionic, news, health, qaeda, envy,\n",
      "('Average loss at step ', 52000, ': ', 3.5720396546125412)\n",
      "('Average loss at step ', 54000, ': ', 3.558437523007393)\n",
      "('Average loss at step ', 56000, ': ', 3.5648739863634109)\n",
      "('Average loss at step ', 58000, ': ', 3.534092089921236)\n",
      "('Average loss at step ', 60000, ': ', 3.5366420957446096)\n",
      "Nearest to one: two, six, four, seven, three, five, eight, yukon,\n",
      "Nearest to people: behavior, npd, mauritian, summer, semicolon, together, allotropes, transfusions,\n",
      "Nearest to that: which, this, gross, rk, but, readability, it, colonized,\n",
      "Nearest to new: bithynia, ogg, few, wakshul, stakeholders, gottlob, globe, adjective,\n",
      "Nearest to state: archaeoastronomy, rigid, cowes, health, news, psionic, envy, boyd,\n",
      "('Average loss at step ', 62000, ': ', 3.4059490516185762)\n",
      "('Average loss at step ', 64000, ': ', 3.4126559369564058)\n",
      "('Average loss at step ', 66000, ': ', 3.5441884812116622)\n",
      "('Average loss at step ', 68000, ': ', 3.5298747569322586)\n",
      "('Average loss at step ', 70000, ': ', 3.4998598370552063)\n",
      "Nearest to one: two, six, seven, four, five, eight, three, yukon,\n",
      "Nearest to people: behavior, npd, mauritian, summer, otters, those, together, allotropes,\n",
      "Nearest to that: which, this, gross, rk, readability, colonized, however, coq,\n",
      "Nearest to new: bithynia, ogg, few, wakshul, stakeholders, grissom, glycolipids, adjective,\n",
      "Nearest to state: health, archaeoastronomy, rigid, cowes, news, psionic, waging, ris,\n",
      "('Average loss at step ', 72000, ': ', 3.5100320695638656)\n",
      "('Average loss at step ', 74000, ': ', 3.4818023799210787)\n",
      "('Average loss at step ', 76000, ': ', 3.4572956134378909)\n",
      "('Average loss at step ', 78000, ': ', 3.4941616464853285)\n",
      "('Average loss at step ', 80000, ': ', 3.5062460954785348)\n",
      "Nearest to one: two, six, seven, yukon, five, three, four, eight,\n",
      "Nearest to people: behavior, those, npd, mauritian, summer, together, allafrica, semicolon,\n",
      "Nearest to that: which, gross, rk, this, however, coq, moth, colonized,\n",
      "Nearest to new: bithynia, ogg, grissom, wakshul, gottlob, globe, chap, glycolipids,\n",
      "Nearest to state: health, archaeoastronomy, cowes, rigid, ris, psionic, boyd, waging,\n",
      "('Average loss at step ', 82000, ': ', 3.5285345591306685)\n",
      "('Average loss at step ', 84000, ': ', 3.529517646551132)\n",
      "('Average loss at step ', 86000, ': ', 3.5032348444163799)\n",
      "('Average loss at step ', 88000, ': ', 3.4849587701559068)\n",
      "('Average loss at step ', 90000, ': ', 3.4956770838499067)\n",
      "Nearest to one: two, seven, eight, six, four, yukon, three, five,\n",
      "Nearest to people: behavior, those, npd, mauritian, together, scientists, semicolon, summer,\n",
      "Nearest to that: which, rk, however, this, gross, coq, but, colonized,\n",
      "Nearest to new: bithynia, ogg, grissom, chap, glycolipids, gottlob, wakshul, globe,\n",
      "Nearest to state: archaeoastronomy, health, cowes, rigid, ris, waging, psionic, envy,\n",
      "('Average loss at step ', 92000, ': ', 3.5285493825674057)\n",
      "('Average loss at step ', 94000, ': ', 3.3962276338934898)\n",
      "('Average loss at step ', 96000, ': ', 3.4868866152167319)\n",
      "('Average loss at step ', 98000, ': ', 3.3854876936078071)\n",
      "('Average loss at step ', 100000, ': ', 3.482825307607651)\n",
      "Nearest to one: two, four, seven, yukon, six, three, selznick, undefeated,\n",
      "Nearest to people: behavior, those, mauritian, together, npd, scientists, slaves, semicolon,\n",
      "Nearest to that: which, however, this, rk, coq, but, gross, moth,\n",
      "Nearest to new: bithynia, ogg, grissom, glycolipids, globe, chap, snowmobile, bolger,\n",
      "Nearest to state: archaeoastronomy, health, cowes, rigid, envy, waging, kilometers, news,\n"
     ]
    }
   ],
   "source": [
    "from six.moves import xrange   \n",
    "\n",
    "num_steps = 100001\n",
    "\n",
    "with tf.Session(graph=graph) as session:\n",
    "  init.run()  #initialize the graph\n",
    "  print(\"Initialized\")\n",
    "  #print normalized_wordsE.eval()\n",
    "\n",
    "  data_index=0 #Reinitialize, important to do this\n",
    "  average_loss = 0\n",
    "  for step in xrange(num_steps):\n",
    "    binputs, blabels = generate_batch(batch_size, num_skips, skip_window)\n",
    "    # We perform one update step by evaluating the optimizer op (including it\n",
    "    # in the list of returned values for session.run()\n",
    "    assignment={train_inputs : binputs, train_labels : blabels}\n",
    "    _, loss_val = session.run([optimizer, loss], feed_dict = assignment )\n",
    "    average_loss += loss_val\n",
    "\n",
    "    if step % 2000 == 0:\n",
    "      # The average loss is an estimate of the loss over the last 2000 batches.\n",
    "      if step > 0:\n",
    "        average_loss /= 2000\n",
    "      print(\"Average loss at step \", step, \": \", average_loss)\n",
    "      average_loss = 0\n",
    "    \n",
    "    \"\"\"\n",
    "    if step == 2000:\n",
    "      print binputs  #a list of indexes\n",
    "      #print blabels\n",
    "      print wordsE.eval()  \n",
    "      print normalized_wordsE.eval()\n",
    "      print inputE\n",
    "      #print inputE.eval()\n",
    "    \"\"\"\n",
    "    \n",
    "    # Note that this is expensive, so only doing it every 10,000\n",
    "    if step % 10000 == 0:  \n",
    "      sim = similarity.eval()  #get pairwise similarity for every word\n",
    "      for i in range(5):\n",
    "        valid_word = reverse_dictionary[valid_examples[i]]\n",
    "        top_k = 8 # number of nearest neighbors\n",
    "        nearest = (-sim[i, :]).argsort()[1:top_k+1]\n",
    "        log_str = \"Nearest to %s:\" % valid_word\n",
    "        for k in xrange(top_k):\n",
    "          close_word = reverse_dictionary[nearest[k]]\n",
    "          log_str = \"%s %s,\" % (log_str, close_word)\n",
    "        print(log_str)\n",
    "        \n",
    "  final_wordsE = normalized_wordsE.eval()\n"
   ]
  },
  {
   "cell_type": "markdown",
   "metadata": {},
   "source": [
    " # Visualize the results"
   ]
  },
  {
   "cell_type": "code",
   "execution_count": 11,
   "metadata": {
    "collapsed": false
   },
   "outputs": [
    {
     "name": "stdout",
     "output_type": "stream",
     "text": [
      "[[ 0.15570146 -0.02764084 -0.12364119 ..., -0.00470359  0.03385558\n",
      "  -0.07861681]\n",
      " [-0.09491638 -0.0026548   0.04263811 ...,  0.12608501 -0.1125745\n",
      "   0.03814645]\n",
      " [ 0.07656676  0.0519236  -0.06673657 ...,  0.13449392  0.06271509\n",
      "   0.0453325 ]\n",
      " ..., \n",
      " [-0.11385152  0.14265771 -0.11250321 ..., -0.00592266  0.11185884\n",
      "  -0.02264865]\n",
      " [ 0.07109889 -0.1429483  -0.04755107 ...,  0.01965012  0.07681676\n",
      "   0.12406051]\n",
      " [ 0.04363951 -0.10965925  0.03900464 ..., -0.11496992 -0.14630555\n",
      "   0.09524262]]\n"
     ]
    }
   ],
   "source": [
    "print(final_wordsE)"
   ]
  },
  {
   "cell_type": "code",
   "execution_count": 12,
   "metadata": {
    "collapsed": false
   },
   "outputs": [
    {
     "ename": "ImportError",
     "evalue": "cannot import name TSNE",
     "output_type": "error",
     "traceback": [
      "\u001b[0;31m\u001b[0m",
      "\u001b[0;31mImportError\u001b[0mTraceback (most recent call last)",
      "\u001b[0;32m<ipython-input-12-dc90899588cd>\u001b[0m in \u001b[0;36m<module>\u001b[0;34m()\u001b[0m\n\u001b[1;32m      3\u001b[0m \u001b[0;34m\u001b[0m\u001b[0m\n\u001b[1;32m      4\u001b[0m \u001b[0;32mimport\u001b[0m \u001b[0msklearn\u001b[0m\u001b[0;34m\u001b[0m\u001b[0m\n\u001b[0;32m----> 5\u001b[0;31m \u001b[0;32mfrom\u001b[0m \u001b[0msklearn\u001b[0m\u001b[0;34m.\u001b[0m\u001b[0mmanifold\u001b[0m \u001b[0;32mimport\u001b[0m \u001b[0mTSNE\u001b[0m\u001b[0;34m\u001b[0m\u001b[0m\n\u001b[0m",
      "\u001b[0;31mImportError\u001b[0m: cannot import name TSNE"
     ]
    }
   ],
   "source": [
    "import matplotlib.pyplot as plt\n",
    "%matplotlib inline\n",
    "\n",
    "import sklearn\n",
    "from sklearn.manifold import TSNE"
   ]
  },
  {
   "cell_type": "code",
   "execution_count": null,
   "metadata": {
    "collapsed": false
   },
   "outputs": [],
   "source": [
    "def plot_with_labels(low_dim_embs, labels, filename='tsne.png'):\n",
    "  assert low_dim_embs.shape[0] >= len(labels), \"More labels than embeddings\"\n",
    "  plt.figure(figsize=(18, 18))  #in inches\n",
    "  for i, label in enumerate(labels):\n",
    "    x, y = low_dim_embs[i,:]\n",
    "    plt.scatter(x, y)\n",
    "    plt.annotate(label,\n",
    "                 xy=(x, y),\n",
    "                 xytext=(5, 2),\n",
    "                 textcoords='offset points',\n",
    "                 ha='right',\n",
    "                 va='bottom')\n",
    "  plt.savefig(filename)\n",
    "\n",
    "tsne = TSNE(perplexity=30, n_components=2, init='pca', n_iter=5000)\n",
    "plot_only = 500\n",
    "low_dim_embs = tsne.fit_transform(final_wordsE[:plot_only,:])\n",
    "labels = [reverse_dictionary[i] for i in xrange(plot_only)]\n",
    "plot_with_labels(low_dim_embs, labels)\n"
   ]
  },
  {
   "cell_type": "code",
   "execution_count": null,
   "metadata": {
    "collapsed": true
   },
   "outputs": [],
   "source": []
  },
  {
   "cell_type": "code",
   "execution_count": null,
   "metadata": {
    "collapsed": true
   },
   "outputs": [],
   "source": []
  },
  {
   "cell_type": "code",
   "execution_count": null,
   "metadata": {
    "collapsed": true
   },
   "outputs": [],
   "source": []
  }
 ],
 "metadata": {
  "kernelspec": {
   "display_name": "Python 2",
   "language": "python",
   "name": "python2"
  }
 },
 "nbformat": 4,
 "nbformat_minor": 0
}
