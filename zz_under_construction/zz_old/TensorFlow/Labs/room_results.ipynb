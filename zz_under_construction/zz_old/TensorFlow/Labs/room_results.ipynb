{
 "cells": [
  {
   "cell_type": "code",
   "execution_count": 1,
   "metadata": {
    "collapsed": true
   },
   "outputs": [],
   "source": [
    "import numpy as np  \n",
    "import tensorflow as tf"
   ]
  },
  {
   "cell_type": "code",
   "execution_count": 2,
   "metadata": {
    "collapsed": true
   },
   "outputs": [],
   "source": [
    "import csv\n",
    "\n",
    "def load_data(filename):\n",
    "    x=[]\n",
    "    target=[]\n",
    "    a=[]\n",
    "    with open(filename) as csv_file:\n",
    "        data_file = csv.reader(csv_file)\n",
    "        for row in data_file:\n",
    "            a.append(row)\n",
    "    print a[0]\n",
    "    np_a=np.array(a)\n",
    "    x=np_a[1:,:-1].astype(np.float32)  #read after first row\n",
    "    target=np_a[1:,-1].astype(np.float32)\n",
    "    return x, target"
   ]
  },
  {
   "cell_type": "code",
   "execution_count": 4,
   "metadata": {
    "collapsed": false
   },
   "outputs": [
    {
     "name": "stdout",
     "output_type": "stream",
     "text": [
      "['Temperature', 'Humidity', 'Light', 'CO2', 'HumidityRatio', 'Occupancy']\n"
     ]
    }
   ],
   "source": [
    "X, y=load_data('room/train.csv')"
   ]
  },
  {
   "cell_type": "code",
   "execution_count": 5,
   "metadata": {
    "collapsed": false
   },
   "outputs": [
    {
     "name": "stdout",
     "output_type": "stream",
     "text": [
      "8143\n",
      "8143\n"
     ]
    }
   ],
   "source": [
    "print len(X)\n",
    "print len(y)"
   ]
  },
  {
   "cell_type": "code",
   "execution_count": 6,
   "metadata": {
    "collapsed": false
   },
   "outputs": [
    {
     "name": "stdout",
     "output_type": "stream",
     "text": [
      "[  2.31800003e+01   2.72719994e+01   4.26000000e+02   7.21250000e+02\n",
      "   4.79298783e-03]\n"
     ]
    }
   ],
   "source": [
    "print X[0]"
   ]
  },
  {
   "cell_type": "code",
   "execution_count": 7,
   "metadata": {
    "collapsed": false
   },
   "outputs": [
    {
     "name": "stdout",
     "output_type": "stream",
     "text": [
      "8143\n",
      "5\n"
     ]
    }
   ],
   "source": [
    "#*** Inspect data\n",
    "n_samples=len(X)\n",
    "n_features = len(X[0])\n",
    "print n_samples\n",
    "print n_features"
   ]
  },
  {
   "cell_type": "code",
   "execution_count": 12,
   "metadata": {
    "collapsed": false
   },
   "outputs": [
    {
     "name": "stdout",
     "output_type": "stream",
     "text": [
      "[9.6451797, 5.5538592, 5.6349611, 4.9434986, 4.2920718, 6.3652496, 1.2269092, 0.58861834, 1.1666225, 5.3445373, 0.23696084, 0.25284705, 0.49302828, 1.9579509, 2.925565, 4.5533347, 0.33062381, 0.32181808, 0.31267282, 0.3048681, 0.29722393, 0.29046565, 0.28409836, 0.27929148, 0.27597418, 0.28044716, 0.30147675, 0.39860299, 0.79624313, 1.8351703, 1.7771947, 3.2095923, 0.55300552, 0.39299574, 0.3769815, 0.36684507, 0.35698965, 0.34737581, 0.33799917, 0.32887438, 0.32002047, 0.31145713, 0.30320495, 0.29528481, 0.2877171, 0.28052175, 0.27371672, 0.2673184, 0.26134023, 0.25579357]\n"
     ]
    }
   ],
   "source": [
    "losses = []\n",
    "training_steps = 50\n",
    "learning_rate = 0.0001\n",
    "\n",
    "with tf.Session() as sess:\n",
    "  input = tf.constant(X.astype(np.float32))\n",
    "  target = tf.constant(np.transpose([y]).astype(np.float32))\n",
    "  weights = tf.Variable(tf.random_normal([5, 1], 0, 0.1))\n",
    "  \n",
    "  tf.initialize_all_variables().run()\n",
    "                      \n",
    "  yhat = tf.matmul(input, weights)\n",
    "  yerror = tf.sub(yhat, target)   \n",
    "  loss = tf.nn.l2_loss(yerror)\n",
    "  #2. Use sigmoid\n",
    "  #yhat2=tf.sigmoid(yhat)\n",
    "  #yerror = tf.sub(yhat2, target)   \n",
    "  #loss = tf.nn.l2_loss(yerror)\n",
    "\n",
    "  loss = tf.reduce_mean(tf.nn.sigmoid_cross_entropy_with_logits(yhat, target))\n",
    "  \n",
    "  update_weights = tf.train.GradientDescentOptimizer(learning_rate).minimize(loss)\n",
    "  \n",
    "  count=1\n",
    "  for _ in range(training_steps):\n",
    "    update_weights.run()\n",
    "    losses.append(loss.eval())\n",
    "#    if (count<10):\n",
    "#        print yhat.eval()\n",
    "#        print yerror.eval()\n",
    "    count +=1\n",
    "    \n",
    "  print losses\n",
    "  # Training is done, get the final values for the graphs\n",
    "  betas = weights.eval()\n",
    "  yhat = yhat.eval()\n"
   ]
  },
  {
   "cell_type": "code",
   "execution_count": null,
   "metadata": {
    "collapsed": true
   },
   "outputs": [],
   "source": []
  }
 ],
 "metadata": {
  "kernelspec": {
   "display_name": "Python 2",
   "language": "python",
   "name": "python2"
  },
  "language_info": {
   "codemirror_mode": {
    "name": "ipython",
    "version": 2
   },
   "file_extension": ".py",
   "mimetype": "text/x-python",
   "name": "python",
   "nbconvert_exporter": "python",
   "pygments_lexer": "ipython2",
   "version": "2.7.6"
  }
 },
 "nbformat": 4,
 "nbformat_minor": 0
}
