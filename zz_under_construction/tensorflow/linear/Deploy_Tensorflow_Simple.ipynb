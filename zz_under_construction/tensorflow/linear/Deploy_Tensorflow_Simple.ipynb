{
 "cells": [
  {
   "cell_type": "markdown",
   "metadata": {},
   "source": [
    "# Demos!!"
   ]
  },
  {
   "cell_type": "markdown",
   "metadata": {},
   "source": [
    "## Train and Deploy Tensorflow AI Model (Simple Model, Immutable Deploy)"
   ]
  },
  {
   "cell_type": "markdown",
   "metadata": {},
   "source": [
    "### Train Tensorflow AI Model"
   ]
  },
  {
   "cell_type": "code",
   "execution_count": 1,
   "metadata": {
    "collapsed": false
   },
   "outputs": [
    {
     "data": {
      "text/html": [
       "<style>.container { width:100% !important; }</style>"
      ],
      "text/plain": [
       "<IPython.core.display.HTML object>"
      ]
     },
     "metadata": {},
     "output_type": "display_data"
    }
   ],
   "source": [
    "# make things wide\n",
    "from IPython.core.display import display, HTML\n",
    "display(HTML(\"<style>.container { width:100% !important; }</style>\"))\n",
    "\n",
    "from IPython.display import clear_output, Image, display, HTML\n",
    "\n",
    "def strip_consts(graph_def, max_const_size=32):\n",
    "    \"\"\"Strip large constant values from graph_def.\"\"\"\n",
    "    strip_def = tf.GraphDef()\n",
    "    for n0 in graph_def.node:\n",
    "        n = strip_def.node.add() \n",
    "        n.MergeFrom(n0)\n",
    "        if n.op == 'Const':\n",
    "            tensor = n.attr['value'].tensor\n",
    "            size = len(tensor.tensor_content)\n",
    "            if size > max_const_size:\n",
    "                tensor.tensor_content = \"<stripped %d bytes>\"%size\n",
    "    return strip_def\n",
    "\n",
    "def show_graph(graph_def=None, width=1200, height=800, max_const_size=32, ungroup_gradients=False):\n",
    "    if not graph_def:\n",
    "        graph_def = tf.get_default_graph().as_graph_def()\n",
    "        \n",
    "    \"\"\"Visualize TensorFlow graph.\"\"\"\n",
    "    if hasattr(graph_def, 'as_graph_def'):\n",
    "        graph_def = graph_def.as_graph_def()\n",
    "    strip_def = strip_consts(graph_def, max_const_size=max_const_size)\n",
    "    data = str(strip_def)\n",
    "    if ungroup_gradients:\n",
    "        data = data.replace('\"gradients/', '\"b_')\n",
    "        #print(data)\n",
    "    code = \"\"\"\n",
    "        <script>\n",
    "          function load() {{\n",
    "            document.getElementById(\"{id}\").pbtxt = {data};\n",
    "          }}\n",
    "        </script>\n",
    "        <link rel=\"import\" href=\"https://tensorboard.appspot.com/tf-graph-basic.build.html\" onload=load()>\n",
    "        <div style=\"height:600px\">\n",
    "          <tf-graph-basic id=\"{id}\"></tf-graph-basic>\n",
    "        </div>\n",
    "    \"\"\".format(data=repr(data), id='graph'+str(np.random.rand()))\n",
    "\n",
    "    iframe = \"\"\"\n",
    "        <iframe seamless style=\"width:{}px;height:{}px;border:0\" srcdoc=\"{}\"></iframe>\n",
    "    \"\"\".format(width, height, code.replace('\"', '&quot;'))\n",
    "    display(HTML(iframe))"
   ]
  },
  {
   "cell_type": "code",
   "execution_count": 2,
   "metadata": {
    "collapsed": true
   },
   "outputs": [],
   "source": [
    "import numpy as np\n",
    "import os\n",
    "import tensorflow as tf\n",
    "from tensorflow.contrib.session_bundle import exporter\n",
    "import time"
   ]
  },
  {
   "cell_type": "code",
   "execution_count": null,
   "metadata": {
    "collapsed": false
   },
   "outputs": [],
   "source": [
    "# If this errors out, increment the `export_version` variable, restart the Kernel, and re-run\n",
    "\n",
    "flags = tf.app.flags\n",
    "FLAGS = flags.FLAGS\n",
    "flags.DEFINE_integer(\"batch_size\", 10, \"The batch size to train\")\n",
    "flags.DEFINE_integer(\"epoch_number\", 10, \"Number of epochs to run trainer\")\n",
    "flags.DEFINE_integer(\"steps_to_validate\", 1,\n",
    "                     \"Steps to validate and print loss\")\n",
    "flags.DEFINE_string(\"checkpoint_dir\", \"./checkpoint/\",\n",
    "                    \"indicates the checkpoint dirctory\")\n",
    "#flags.DEFINE_string(\"model_path\", \"./model/\", \"The export path of the model\")\n",
    "flags.DEFINE_string(\"model_path\", \"/root/pipeline/prediction.ml/tensorflow/models/tensorflow_minimal/export/\", \"The export path of the model\")\n",
    "flags.DEFINE_integer(\"export_version\", 33, \"The version number of the model\")"
   ]
  },
  {
   "cell_type": "code",
   "execution_count": null,
   "metadata": {
    "collapsed": false
   },
   "outputs": [],
   "source": [
    "# If this errors out, increment the `export_version` variable, restart the Kernel, and re-run\n",
    "\n",
    "def main():\n",
    "  # Define training data\n",
    "  x = np.ones(FLAGS.batch_size)\n",
    "  y = np.ones(FLAGS.batch_size)\n",
    "\n",
    "  # Define the model\n",
    "  X = tf.placeholder(tf.float32, shape=[None], name=\"X\")\n",
    "  Y = tf.placeholder(tf.float32, shape=[None], name=\"yhat\")\n",
    "  w = tf.Variable(1.0, name=\"weight\")\n",
    "  b = tf.Variable(1.0, name=\"bias\")\n",
    "  loss = tf.square(Y - tf.mul(X, w) - b)\n",
    "  train_op = tf.train.GradientDescentOptimizer(0.01).minimize(loss)\n",
    "  predict_op  = tf.mul(X, w) + b\n",
    "\n",
    "  saver = tf.train.Saver()\n",
    "  checkpoint_dir = FLAGS.checkpoint_dir\n",
    "  checkpoint_file = checkpoint_dir + \"/checkpoint.ckpt\"\n",
    "  if not os.path.exists(checkpoint_dir):\n",
    "    os.makedirs(checkpoint_dir)\n",
    "    \n",
    "  # Start the session\n",
    "  with tf.Session() as sess:\n",
    "    sess.run(tf.initialize_all_variables())\n",
    "\n",
    "    ckpt = tf.train.get_checkpoint_state(checkpoint_dir)\n",
    "    if ckpt and ckpt.model_checkpoint_path:\n",
    "      print(\"Continue training from the model {}\".format(ckpt.model_checkpoint_path))\n",
    "      saver.restore(sess, ckpt.model_checkpoint_path)\n",
    "\n",
    "    saver_def = saver.as_saver_def()\n",
    "    print(saver_def.filename_tensor_name)\n",
    "    print(saver_def.restore_op_name)\n",
    "\n",
    "    # Start training\n",
    "    start_time = time.time()\n",
    "    for epoch in range(FLAGS.epoch_number):\n",
    "      sess.run(train_op, feed_dict={X: x, Y: y})\n",
    "\n",
    "      # Start validating\n",
    "      if epoch % FLAGS.steps_to_validate == 0:\n",
    "        end_time = time.time()\n",
    "        print(\"[{}] Epoch: {}\".format(end_time - start_time, epoch))\n",
    "\n",
    "        saver.save(sess, checkpoint_file)\n",
    "        tf.train.write_graph(sess.graph_def, checkpoint_dir, 'trained_model.pb', as_text=False)\n",
    "        tf.train.write_graph(sess.graph_def, checkpoint_dir, 'trained_model.txt', as_text=True)\n",
    "\n",
    "        start_time = end_time\n",
    "\n",
    "    # Print model variables\n",
    "    w_value, b_value = sess.run([w, b])\n",
    "    print(\"The model of w: {}, b: {}\".format(w_value, b_value))\n",
    "\n",
    "    # Export the model\n",
    "    print(\"Exporting trained model to {}\".format(FLAGS.model_path))\n",
    "    model_exporter = exporter.Exporter(saver)\n",
    "    model_exporter.init(\n",
    "      sess.graph.as_graph_def(),\n",
    "      named_graph_signatures={\n",
    "        'inputs': exporter.generic_signature({\"features\": X}),\n",
    "        'outputs': exporter.generic_signature({\"prediction\": predict_op})\n",
    "      })\n",
    "    model_exporter.export(FLAGS.model_path, tf.constant(FLAGS.export_version), sess)\n",
    "    print('Done exporting!')\n",
    "\n",
    "if __name__ == \"__main__\":\n",
    "  main()"
   ]
  },
  {
   "cell_type": "code",
   "execution_count": null,
   "metadata": {
    "collapsed": false
   },
   "outputs": [],
   "source": [
    "show_graph()"
   ]
  },
  {
   "cell_type": "markdown",
   "metadata": {},
   "source": [
    "### Deploy New Tensorflow AI Model"
   ]
  },
  {
   "cell_type": "code",
   "execution_count": null,
   "metadata": {
    "collapsed": false
   },
   "outputs": [],
   "source": [
    "!ls -l /root/pipeline/prediction.ml/tensorflow/models/tensorflow_minimal/export"
   ]
  },
  {
   "cell_type": "code",
   "execution_count": null,
   "metadata": {
    "collapsed": false
   },
   "outputs": [],
   "source": [
    "!ls -l /root/pipeline/prediction.ml/tensorflow/models/tensorflow_minimal/export/00000033"
   ]
  },
  {
   "cell_type": "markdown",
   "metadata": {},
   "source": [
    "### TODO:  Use Airflow Workflow to Deploy New Model"
   ]
  },
  {
   "cell_type": "markdown",
   "metadata": {},
   "source": [
    "## Optimizing Tensorflow Models for Serving\n",
    "### Python Scripts\n",
    "[optimize_graph_for_inference.py](https://github.com/tensorflow/tensorflow/blob/master/tensorflow/python/tools/optimize_for_inference.py)\n",
    "\n",
    "[Pete Warden's Blog](https://petewarden.com/2016/12/30/rewriting-tensorflow-graphs-with-the-gtt/)\n",
    "\n",
    "[Graph Transform Tool](https://github.com/tensorflow/tensorflow/blob/master/tensorflow/tools/graph_transforms/README.md)\n",
    "\n",
    "\n",
    "## Compile (Tensorflow 1.0+)\n",
    "### [XLA](https://www.tensorflow.org/versions/master/experimental/xla/) Compiler\n",
    "Compiles 3 graph operations (input, operation, output) into 1 operation\n",
    "\n",
    "Removes need for Tensorflow Runtime (20 MB is significant on tiny devices)\n",
    "\n",
    "Allows new backends for hardware-specific optimizations (better portability)\n",
    "\n",
    "### [tfcompile](https://github.com/tensorflow/tensorflow/tree/master/tensorflow/compiler/aot)\n",
    "Convert Graph into executable code\n",
    "\n",
    "### Compress/Distill Ensemble Models\n",
    "Convert ensembles or other complex models into smaller models\n",
    "\n",
    "Re-score training data with output of model being distilled \n",
    "\n",
    "Train smaller model to produce same output\n",
    "\n",
    "Output of smaller model learns more information than original label"
   ]
  },
  {
   "cell_type": "markdown",
   "metadata": {},
   "source": [
    "# Optimizing Serving Runtime Environment\n",
    "### Throughput\n",
    "**Option 1**:  Add more Tensorflow Serving servers behind **load balancer**\n",
    "\n",
    "**Option 2**:  Enable **request batching** in each Tensorflow Serving\n",
    "\n",
    "**Option Trade-offs**:  Higher Latency (bad) for Higher Throughput (good)\n",
    "\n",
    "```\n",
    "$TENSORFLOW_SERVING_HOME/bazel-bin/tensorflow_serving/model_servers/tensorflow_model_server \n",
    "--port=9000 \n",
    "--model_name=tensorflow_minimal \n",
    "--model_base_path=/root/models/tensorflow_minimal/export\n",
    "--enable_batching=true\n",
    "--max_batch_size=1000000\n",
    "--batch_timeout_micros=10000\n",
    "--max_enqueued_batches=1000000\n",
    "```\n",
    "![Request Batching](https://s3.amazonaws.com/fluxcapacitor.com/img/matrix-multiply-request-batching-handwritten.png)\n",
    "\n",
    "### Latency\n",
    "The deeper the model, the longer the latency\n",
    "\n",
    "Start inference in parallel where possible (ie. user inference in parallel with item inference)\n",
    "\n",
    "Pre-load common inputs from database (ie. user attributes, item attributes) \n",
    "\n",
    "Pre-compute/partial-compute common inputs (ie. popular word embeddings)\n",
    "\n",
    "### Memory\n",
    "Word embeddings are **huge**!\n",
    "\n",
    "Use **hashId** for each word\n",
    "\n",
    "Off-load embedding matrices to **parameter server** and share between serving servers"
   ]
  }
 ],
 "metadata": {
  "anaconda-cloud": {},
  "kernelspec": {
   "display_name": "Python [default]",
   "language": "python",
   "name": "python3"
  },
  "language_info": {
   "codemirror_mode": {
    "name": "ipython",
    "version": 3
   },
   "file_extension": ".py",
   "mimetype": "text/x-python",
   "name": "python",
   "nbconvert_exporter": "python",
   "pygments_lexer": "ipython3",
   "version": "3.5.3"
  },
  "nbpresent": {
   "slides": {
    "0e6bc8b6-3cc5-496c-a34b-11d192afa91e": {
     "id": "0e6bc8b6-3cc5-496c-a34b-11d192afa91e",
     "prev": "aca594eb-585a-4405-b367-08bbe36b7e46",
     "regions": {
      "42084308-8543-4a24-918b-e452e3cba2e8": {
       "attrs": {
        "height": 0.8,
        "width": 0.8,
        "x": 0.1,
        "y": 0.1
       },
       "content": {
        "cell": "4d6901a2-06fc-4cc2-9168-0b4dd20436c3",
        "part": "whole"
       },
       "id": "42084308-8543-4a24-918b-e452e3cba2e8"
      }
     }
    },
    "10e8bf08-9a8f-4615-824e-4c015cb48051": {
     "id": "10e8bf08-9a8f-4615-824e-4c015cb48051",
     "prev": "6495f7a9-692a-452e-8a08-d34afb46a92a",
     "regions": {
      "f8860415-d84f-453f-b095-5a68337325ac": {
       "attrs": {
        "height": 0.8,
        "width": 0.8,
        "x": 0.1,
        "y": 0.1
       },
       "content": {
        "cell": "de258cfb-7c21-40cf-b3ee-04228689eab0",
        "part": "whole"
       },
       "id": "f8860415-d84f-453f-b095-5a68337325ac"
      }
     }
    },
    "1ce58837-1471-4d9e-90bd-56c2482444bf": {
     "id": "1ce58837-1471-4d9e-90bd-56c2482444bf",
     "prev": "c121e0e8-a5cb-4e28-a578-f4246b9bc82e",
     "regions": {
      "53848919-ae68-4e10-b72b-40191b3af7bb": {
       "attrs": {
        "height": 0.8,
        "width": 0.8,
        "x": 0.1,
        "y": 0.1
       },
       "content": {
        "cell": "023050ea-c894-4ffe-869f-2f27f03e524a",
        "part": "whole"
       },
       "id": "53848919-ae68-4e10-b72b-40191b3af7bb"
      }
     }
    },
    "32b2322c-9925-4e38-a692-05f3544576c3": {
     "id": "32b2322c-9925-4e38-a692-05f3544576c3",
     "prev": "10e8bf08-9a8f-4615-824e-4c015cb48051",
     "regions": {
      "251138f3-82aa-49e6-8e01-621ca02eb8fe": {
       "attrs": {
        "height": 0.8,
        "width": 0.8,
        "x": 0.1,
        "y": 0.1
       },
       "content": {
        "cell": "b08fcd17-3ecd-4e73-a494-570728a3e129",
        "part": "whole"
       },
       "id": "251138f3-82aa-49e6-8e01-621ca02eb8fe"
      }
     }
    },
    "5e9dc412-fd7e-4a17-a5bd-1ac44cc9cdc6": {
     "id": "5e9dc412-fd7e-4a17-a5bd-1ac44cc9cdc6",
     "prev": "ae6895f7-9ad3-4ac7-a3a7-b23dddc95276",
     "regions": {
      "8a35ac4a-1620-48f4-90ec-3a9c5c577271": {
       "attrs": {
        "height": 0.8,
        "width": 0.8,
        "x": 0.1,
        "y": 0.1
       },
       "content": {
        "cell": "34e2d7fe-478c-4f42-aab6-0e17e4424576",
        "part": "whole"
       },
       "id": "8a35ac4a-1620-48f4-90ec-3a9c5c577271"
      }
     }
    },
    "6495f7a9-692a-452e-8a08-d34afb46a92a": {
     "id": "6495f7a9-692a-452e-8a08-d34afb46a92a",
     "prev": "5e9dc412-fd7e-4a17-a5bd-1ac44cc9cdc6",
     "regions": {
      "8c118309-a5f7-4970-8997-fa6d31be0cf9": {
       "attrs": {
        "height": 0.8,
        "width": 0.8,
        "x": 0.1,
        "y": 0.1
       },
       "content": {
        "cell": "a0dd485d-6cdf-4ccc-ba0c-60b2ed06bac7",
        "part": "whole"
       },
       "id": "8c118309-a5f7-4970-8997-fa6d31be0cf9"
      }
     }
    },
    "6a260c4b-6faa-456e-9680-dd7cbebe0933": {
     "id": "6a260c4b-6faa-456e-9680-dd7cbebe0933",
     "prev": "32b2322c-9925-4e38-a692-05f3544576c3",
     "regions": {
      "f65b7ebd-c02e-4088-95dc-8c90a5dffd09": {
       "attrs": {
        "height": 0.8,
        "width": 0.8,
        "x": 0.1,
        "y": 0.1
       },
       "content": {
        "cell": "f5525416-d535-4377-bdf8-b91463fce353",
        "part": "whole"
       },
       "id": "f65b7ebd-c02e-4088-95dc-8c90a5dffd09"
      }
     }
    },
    "9c2c1cd9-1811-417c-8a27-edfef797f18b": {
     "id": "9c2c1cd9-1811-417c-8a27-edfef797f18b",
     "prev": "ee9cdb3f-6fb6-4497-ba5d-0fcddf43b8fd",
     "regions": {
      "867affd3-66d0-4835-bf85-a7b0e596d78e": {
       "attrs": {
        "height": 0.8,
        "width": 0.8,
        "x": 0.1,
        "y": 0.1
       },
       "content": {
        "cell": "ca731c95-6e39-4db8-a51c-f467a315616d",
        "part": "whole"
       },
       "id": "867affd3-66d0-4835-bf85-a7b0e596d78e"
      }
     }
    },
    "aca594eb-585a-4405-b367-08bbe36b7e46": {
     "id": "aca594eb-585a-4405-b367-08bbe36b7e46",
     "prev": "9c2c1cd9-1811-417c-8a27-edfef797f18b",
     "regions": {
      "22168c7b-acfd-4487-b57e-97aa88e5f3e8": {
       "attrs": {
        "height": 0.8,
        "width": 0.8,
        "x": 0.1,
        "y": 0.1
       },
       "content": {
        "cell": "ca8cd2ab-3693-4b40-90c0-d4b6adf8c20e",
        "part": "whole"
       },
       "id": "22168c7b-acfd-4487-b57e-97aa88e5f3e8"
      }
     }
    },
    "ae6895f7-9ad3-4ac7-a3a7-b23dddc95276": {
     "id": "ae6895f7-9ad3-4ac7-a3a7-b23dddc95276",
     "prev": "0e6bc8b6-3cc5-496c-a34b-11d192afa91e",
     "regions": {
      "1bf1c48a-1011-4992-8eaf-ef8e89a3d9c9": {
       "attrs": {
        "height": 0.8,
        "width": 0.8,
        "x": 0.1,
        "y": 0.1
       },
       "content": {
        "cell": "bd5629b7-e48e-42b7-ae26-38ed501f0246",
        "part": "whole"
       },
       "id": "1bf1c48a-1011-4992-8eaf-ef8e89a3d9c9"
      }
     },
     "theme": null
    },
    "c121e0e8-a5cb-4e28-a578-f4246b9bc82e": {
     "id": "c121e0e8-a5cb-4e28-a578-f4246b9bc82e",
     "prev": null,
     "regions": {
      "bf22675f-7d52-4ded-b588-7ddc477b17d6": {
       "attrs": {
        "height": 0.8,
        "width": 0.8,
        "x": 0.1,
        "y": 0.1
       },
       "content": {
        "cell": "fcb54439-1c2c-46ce-9d92-e77df43393db",
        "part": "whole"
       },
       "id": "bf22675f-7d52-4ded-b588-7ddc477b17d6"
      }
     }
    },
    "ee9cdb3f-6fb6-4497-ba5d-0fcddf43b8fd": {
     "id": "ee9cdb3f-6fb6-4497-ba5d-0fcddf43b8fd",
     "prev": "ff384e75-fefa-4966-a506-a12d5c4c770f",
     "regions": {
      "8d7dad4a-1d39-4ea7-8e9d-938bb9e7c00f": {
       "attrs": {
        "height": 0.8,
        "width": 0.8,
        "x": 0.1,
        "y": 0.1
       },
       "content": {
        "cell": "e4189884-f8d1-4d9a-827d-5ffe9bf7b21b",
        "part": "whole"
       },
       "id": "8d7dad4a-1d39-4ea7-8e9d-938bb9e7c00f"
      }
     }
    },
    "ff384e75-fefa-4966-a506-a12d5c4c770f": {
     "id": "ff384e75-fefa-4966-a506-a12d5c4c770f",
     "prev": "1ce58837-1471-4d9e-90bd-56c2482444bf",
     "regions": {
      "dd92502b-768b-431a-a5c3-6601da433340": {
       "attrs": {
        "height": 0.8,
        "width": 0.8,
        "x": 0.1,
        "y": 0.1
       },
       "content": {
        "cell": "5dc02aa0-da66-4cce-b6f0-4e2253f8743c",
        "part": "whole"
       },
       "id": "dd92502b-768b-431a-a5c3-6601da433340"
      }
     }
    }
   },
   "themes": {}
  }
 },
 "nbformat": 4,
 "nbformat_minor": 2
}
