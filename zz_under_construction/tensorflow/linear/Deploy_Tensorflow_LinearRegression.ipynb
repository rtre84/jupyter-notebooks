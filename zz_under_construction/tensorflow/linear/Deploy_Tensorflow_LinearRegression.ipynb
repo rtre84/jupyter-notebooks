{
 "cells": [
  {
   "cell_type": "code",
   "execution_count": 1,
   "metadata": {
    "collapsed": true
   },
   "outputs": [],
   "source": [
    "# 1.1 Import tensorflow and other libraries.\n",
    "import tensorflow as tf\n",
    "import numpy as np\n",
    "\n",
    "%matplotlib inline\n",
    "import pylab"
   ]
  },
  {
   "cell_type": "code",
   "execution_count": 2,
   "metadata": {},
   "outputs": [
    {
     "data": {
      "text/plain": [
       "[<matplotlib.lines.Line2D at 0x7f94f00ae390>]"
      ]
     },
     "execution_count": 2,
     "metadata": {},
     "output_type": "execute_result"
    },
    {
     "data": {
      "image/png": "[encoded data removed]",
      "text/plain": [
       "<matplotlib.figure.Figure at 0x7f94f38433c8>"
      ]
     },
     "metadata": {},
     "output_type": "display_data"
    }
   ],
   "source": [
    "# 1.2 Create input data using NumPy. y = x * 0.1 + 0.3 + noise\n",
    "x_train = np.random.rand(100).astype(np.float32)\n",
    "noise = np.random.normal(scale=0.01, size=len(x_train))\n",
    "y_train = x_train * 0.1 + 0.3 + noise\n",
    "\n",
    "# Pplot our input data.\n",
    "pylab.plot(x_train, y_train, '.')"
   ]
  },
  {
   "cell_type": "code",
   "execution_count": 3,
   "metadata": {
    "collapsed": true
   },
   "outputs": [],
   "source": [
    "# Create some fake evaluation data\n",
    "x_eval = np.random.rand(len(x_train)).astype(np.float32)\n",
    "noise = np.random.normal(scale=0.01, size=len(x_train))\n",
    "y_eval = x_eval * 0.1 + 0.3 + noise"
   ]
  },
  {
   "cell_type": "code",
   "execution_count": 4,
   "metadata": {},
   "outputs": [
    {
     "name": "stdout",
     "output_type": "stream",
     "text": [
      "<tf.Variable 'weights:0' shape=() dtype=float32_ref>\n",
      "<tf.Variable 'bias:0' shape=() dtype=float32_ref>\n",
      "Tensor(\"x:0\", shape=(?,), dtype=float32)\n"
     ]
    }
   ],
   "source": [
    "# 1.3 Buld inference graph.\n",
    "# Create Variables W and b that compute y_data = W * x_data + b\n",
    "W = tf.get_variable(shape=[], name='weights')\n",
    "b = tf.get_variable(shape=[], name='bias')\n",
    "\n",
    "print(W)\n",
    "print(b)\n",
    "\n",
    "# Create a placeholder we'll use later to feed x's into the graph for training and eval.\n",
    "# shape=[None] means we can put in any number of examples. \n",
    "# This is used for minibatch training, and to evaluate a lot of examples at once.\n",
    "x = tf.placeholder(shape=[None], dtype=tf.float32, name='x')\n",
    "\n",
    "print(x)\n",
    "\n",
    "# This is the same as tf.add(tf.mul(W, x), b), but looks nicer\n",
    "y = W * x + b"
   ]
  },
  {
   "cell_type": "code",
   "execution_count": 5,
   "metadata": {},
   "outputs": [],
   "source": [
    "# Write the graph so we can look at it in TensorBoard\n",
    "# Now is a good time to try that\n",
    "sw = tf.summary.FileWriter('/root/tensorboard/linear', graph=tf.get_default_graph())"
   ]
  },
  {
   "cell_type": "code",
   "execution_count": 6,
   "metadata": {},
   "outputs": [
    {
     "name": "stdout",
     "output_type": "stream",
     "text": [
      "Tensor(\"y_label:0\", shape=(?,), dtype=float32)\n"
     ]
    }
   ],
   "source": [
    "# Create a placeholder we'll use later to feed the correct y value into the graph\n",
    "y_label = tf.placeholder(shape=[None], dtype=tf.float32, name='y_label')\n",
    "print(y_label)"
   ]
  },
  {
   "cell_type": "code",
   "execution_count": 7,
   "metadata": {},
   "outputs": [
    {
     "name": "stdout",
     "output_type": "stream",
     "text": [
      "loss: Tensor(\"Mean:0\", shape=(), dtype=float32)\n",
      "optimizer: <tensorflow.python.training.gradient_descent.GradientDescentOptimizer object at 0x7f94f0152710>\n",
      "train: name: \"GradientDescent\"\n",
      "op: \"NoOp\"\n",
      "input: \"^GradientDescent/update_weights/ApplyGradientDescent\"\n",
      "input: \"^GradientDescent/update_bias/ApplyGradientDescent\"\n",
      "\n"
     ]
    }
   ],
   "source": [
    "# 1.4 Build training graph.\n",
    "loss = tf.reduce_mean(tf.square(y - y_label))  # Create an operation that calculates loss.\n",
    "optimizer = tf.train.GradientDescentOptimizer(0.5)  # Create an optimizer.\n",
    "train = optimizer.minimize(loss)  # Create an operation that minimizes loss.\n",
    "\n",
    "# 'loss', 'optimizer' and 'train' are.\n",
    "print(\"loss:\", loss)\n",
    "print(\"optimizer:\", optimizer)\n",
    "print(\"train:\", train)"
   ]
  },
  {
   "cell_type": "code",
   "execution_count": 8,
   "metadata": {},
   "outputs": [
    {
     "name": "stdout",
     "output_type": "stream",
     "text": [
      "name: \"init\"\n",
      "op: \"NoOp\"\n",
      "input: \"^weights/Assign\"\n",
      "input: \"^bias/Assign\"\n",
      "\n"
     ]
    }
   ],
   "source": [
    "# Create an operation to initialize all the variables.\n",
    "init = tf.global_variables_initializer()\n",
    "print(init)"
   ]
  },
  {
   "cell_type": "code",
   "execution_count": 9,
   "metadata": {},
   "outputs": [
    {
     "name": "stdout",
     "output_type": "stream",
     "text": [
      "[1.0445656, -0.15355742]\n"
     ]
    }
   ],
   "source": [
    "# 1.6 Create a session and launch the graph.\n",
    "sess = tf.InteractiveSession()\n",
    "sess.run(init)\n",
    "\n",
    "# Initial W and b values.\n",
    "print(sess.run([W, b]))"
   ]
  },
  {
   "cell_type": "code",
   "execution_count": 10,
   "metadata": {},
   "outputs": [
    {
     "data": {
      "text/plain": [
       "array([ 2.98013926], dtype=float32)"
      ]
     },
     "execution_count": 10,
     "metadata": {},
     "output_type": "execute_result"
    }
   ],
   "source": [
    "# test that we can compute a y from an x (without having trained anything). \n",
    "# x must be a vector, hence [3] not just 3.\n",
    "x_in = [3]\n",
    "sess.run(y, feed_dict={x: x_in})"
   ]
  },
  {
   "cell_type": "code",
   "execution_count": 11,
   "metadata": {},
   "outputs": [
    {
     "data": {
      "text/plain": [
       "0.075485334"
      ]
     },
     "execution_count": 11,
     "metadata": {},
     "output_type": "execute_result"
    }
   ],
   "source": [
    "# Calculate accuracy on the evaluation data before training\n",
    "def eval():\n",
    "    return sess.run(loss, feed_dict={x: x_eval, y_label: y_eval})\n",
    "eval()"
   ]
  },
  {
   "cell_type": "code",
   "execution_count": 12,
   "metadata": {},
   "outputs": [],
   "source": [
    "# Add a Summary Operation so we can visualize the loss in TensorBoard\n",
    "scalar_summary = tf.summary.scalar('loss', loss)\n",
    "summary_op = tf.summary.merge([scalar_summary])"
   ]
  },
  {
   "cell_type": "code",
   "execution_count": 13,
   "metadata": {
    "collapsed": true
   },
   "outputs": [],
   "source": [
    "# Write the graph so we can look at it in TensorBoard\n",
    "# Now is a good time to try that\n",
    "sw = tf.summary.FileWriter('/root/tensorboard/linear', graph=sess.graph)"
   ]
  },
  {
   "cell_type": "code",
   "execution_count": 14,
   "metadata": {},
   "outputs": [
    {
     "name": "stdout",
     "output_type": "stream",
     "text": [
      "0 [0.94427317, -0.22481674]\n",
      "20 [0.41579974, 0.11437155]\n",
      "40 [0.21586943, 0.23073885]\n",
      "60 [0.14214869, 0.27364719]\n",
      "80 [0.11496547, 0.28946891]\n",
      "100 [0.10494213, 0.29530287]\n",
      "120 [0.10124623, 0.29745403]\n",
      "140 [0.099883407, 0.29824725]\n",
      "160 [0.099380903, 0.29853973]\n",
      "180 [0.099195607, 0.29864758]\n",
      "200 [0.09912727, 0.29868737]\n"
     ]
    }
   ],
   "source": [
    "# 1.7 Perform training.\n",
    "for step in range(201):\n",
    "  # Run the training op; feed the training data into the graph\n",
    "  summary_str, _ = sess.run([summary_op, train], feed_dict={x: x_train, y_label: y_train})\n",
    "  sw.add_summary(summary_str, step)\n",
    "  # Watch training happen real time.\n",
    "  if step % 20 == 0:\n",
    "    print(step, sess.run([W, b]))"
   ]
  },
  {
   "cell_type": "code",
   "execution_count": 15,
   "metadata": {
    "collapsed": true
   },
   "outputs": [],
   "source": [
    "# Write the graph so we can look at it in TensorBoard\n",
    "# Now is a good time to try that\n",
    "sw = tf.summary.FileWriter('/root/tensorboard/linear', graph=sess.graph)"
   ]
  },
  {
   "cell_type": "code",
   "execution_count": 16,
   "metadata": {},
   "outputs": [
    {
     "data": {
      "text/plain": [
       "(0, 1.0)"
      ]
     },
     "execution_count": 16,
     "metadata": {},
     "output_type": "execute_result"
    },
    {
     "data": {
      "image/png": "[encoded data removed]",
      "text/plain": [
       "<matplotlib.figure.Figure at 0x7f94e9577eb8>"
      ]
     },
     "metadata": {},
     "output_type": "display_data"
    }
   ],
   "source": [
    "# 1.8 Plot the predicted values\n",
    "pylab.plot(x_train, y_train, '.', label=\"target\")\n",
    "pylab.plot(x_train, sess.run(y, feed_dict={x: x_train, y_label: y_train}), \".\", label=\"predicted\")\n",
    "pylab.legend()\n",
    "pylab.ylim(0, 1.0)"
   ]
  },
  {
   "cell_type": "code",
   "execution_count": 17,
   "metadata": {},
   "outputs": [
    {
     "data": {
      "text/plain": [
       "0.00011576223"
      ]
     },
     "execution_count": 17,
     "metadata": {},
     "output_type": "execute_result"
    }
   ],
   "source": [
    "# Check accuracy on eval data after training\n",
    "eval()"
   ]
  },
  {
   "cell_type": "markdown",
   "metadata": {},
   "source": [
    "# Save and Restore a Model with SavedModelBundle"
   ]
  },
  {
   "cell_type": "code",
   "execution_count": 18,
   "metadata": {
    "collapsed": true
   },
   "outputs": [],
   "source": [
    "def predict(x_in): return sess.run(y, feed_dict={x: [x_in]})"
   ]
  },
  {
   "cell_type": "code",
   "execution_count": 19,
   "metadata": {},
   "outputs": [
    {
     "data": {
      "text/plain": [
       "'./my_checkpoint.ckpt'"
      ]
     },
     "execution_count": 19,
     "metadata": {},
     "output_type": "execute_result"
    }
   ],
   "source": [
    "# Save the model\n",
    "saver = tf.train.Saver()\n",
    "saver.save(sess, './my_checkpoint.ckpt')"
   ]
  },
  {
   "cell_type": "code",
   "execution_count": 20,
   "metadata": {},
   "outputs": [
    {
     "data": {
      "text/plain": [
       "array([ 0.59606922], dtype=float32)"
      ]
     },
     "execution_count": 20,
     "metadata": {},
     "output_type": "execute_result"
    }
   ],
   "source": [
    "# Current prediction\n",
    "predict(3)"
   ]
  },
  {
   "cell_type": "code",
   "execution_count": 21,
   "metadata": {
    "collapsed": true
   },
   "outputs": [],
   "source": [
    "# Reset the model by running the init op again\n",
    "sess.run(init) "
   ]
  },
  {
   "cell_type": "code",
   "execution_count": 22,
   "metadata": {},
   "outputs": [
    {
     "data": {
      "text/plain": [
       "array([-2.42000198], dtype=float32)"
      ]
     },
     "execution_count": 22,
     "metadata": {},
     "output_type": "execute_result"
    }
   ],
   "source": [
    "# Prediction after variables reinitialized\n",
    "predict(3)"
   ]
  },
  {
   "cell_type": "code",
   "execution_count": 23,
   "metadata": {},
   "outputs": [
    {
     "name": "stdout",
     "output_type": "stream",
     "text": [
      "INFO:tensorflow:Restoring parameters from ./my_checkpoint.ckpt\n"
     ]
    }
   ],
   "source": [
    "saver.restore(sess, './my_checkpoint.ckpt')"
   ]
  },
  {
   "cell_type": "code",
   "execution_count": 24,
   "metadata": {},
   "outputs": [
    {
     "data": {
      "text/plain": [
       "array([ 0.59606922], dtype=float32)"
      ]
     },
     "execution_count": 24,
     "metadata": {},
     "output_type": "execute_result"
    }
   ],
   "source": [
    "# Predictions after variables restored\n",
    "predict(3)"
   ]
  },
  {
   "cell_type": "code",
   "execution_count": null,
   "metadata": {
    "collapsed": true
   },
   "outputs": [],
   "source": []
  }
 ],
 "metadata": {
  "anaconda-cloud": {},
  "kernelspec": {
   "display_name": "Python [default]",
   "language": "python",
   "name": "python3"
  },
  "language_info": {
   "codemirror_mode": {
    "name": "ipython",
    "version": 3
   },
   "file_extension": ".py",
   "mimetype": "text/x-python",
   "name": "python",
   "nbconvert_exporter": "python",
   "pygments_lexer": "ipython3",
   "version": "3.5.3"
  }
 },
 "nbformat": 4,
 "nbformat_minor": 2
}
