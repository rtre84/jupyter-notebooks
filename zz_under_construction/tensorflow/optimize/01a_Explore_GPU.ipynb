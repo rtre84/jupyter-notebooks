{
 "cells": [
  {
   "cell_type": "markdown",
   "metadata": {},
   "source": [
    "# Explore GPU"
   ]
  },
  {
   "cell_type": "markdown",
   "metadata": {},
   "source": [
    "## Sanity Check #1:\n",
    "### Run Standard `nvidia-smi` Tool"
   ]
  },
  {
   "cell_type": "code",
   "execution_count": null,
   "metadata": {},
   "outputs": [],
   "source": [
    "%%bash \n",
    "\n",
    "nvidia-smi"
   ]
  },
  {
   "cell_type": "markdown",
   "metadata": {},
   "source": [
    "## Sanity Check #2: \n",
    "### Run Accelerated Linear Algebra (XLA) Tests"
   ]
  },
  {
   "cell_type": "code",
   "execution_count": null,
   "metadata": {},
   "outputs": [],
   "source": [
    "%%bash \n",
    "\n",
    "xla_device_test &> xla_device_test.log\n",
    "\n",
    "tail -3 xla_device_test.log"
   ]
  },
  {
   "cell_type": "markdown",
   "metadata": {},
   "source": [
    "## Run Some CUDA Code!"
   ]
  },
  {
   "cell_type": "markdown",
   "metadata": {},
   "source": [
    "### Show CUDA Code"
   ]
  },
  {
   "cell_type": "code",
   "execution_count": null,
   "metadata": {},
   "outputs": [],
   "source": [
    "%%bash \n",
    "\n",
    "cat /root/src/main/cuda/SumArrays.cu"
   ]
  },
  {
   "cell_type": "markdown",
   "metadata": {},
   "source": [
    "### Run CUDA Code and Verify Expected Output\n",
    "```\n",
    "### EXPECTED OUTPUT ###\n",
    "...\n",
    "*** Awesome!  The GPU summed the arrays!! ***\n",
    "...\n",
    "```\n",
    "_Note the execution time._"
   ]
  },
  {
   "cell_type": "code",
   "execution_count": null,
   "metadata": {},
   "outputs": [],
   "source": [
    "%%bash \n",
    "\n",
    "sum_arrays"
   ]
  },
  {
   "cell_type": "markdown",
   "metadata": {},
   "source": [
    "## Open a Terminal through Jupyter Notebook \n",
    "### (Menu Bar -> Terminal -> New Terminal)\n",
    "![Jupyter Terminal](https://s3.amazonaws.com/fluxcapacitor.com/img/jupyter-terminal.png)"
   ]
  },
  {
   "cell_type": "markdown",
   "metadata": {},
   "source": [
    "### Run this Command to Watch GPU Every Second:\n",
    "```\n",
    "watch -n 1 nvidia-smi\n",
    "```"
   ]
  },
  {
   "cell_type": "markdown",
   "metadata": {},
   "source": [
    "## Run Code In Loop, Watch GPU\n",
    "_Note:  Don't go higher than 10!_\n",
    "\n",
    "Otherwise the following may happen:\n",
    "* this cell will take a long time to finish\n",
    "* you may kill your instance!!"
   ]
  },
  {
   "cell_type": "code",
   "execution_count": null,
   "metadata": {},
   "outputs": [],
   "source": [
    "%%bash\n",
    "\n",
    "# Don't go above 10!!\n",
    "for _ in {1..10}\n",
    "do\n",
    "  sum_arrays > /dev/null 2>&1\n",
    "done\n",
    "\n",
    "echo \"...Done!\""
   ]
  },
  {
   "cell_type": "markdown",
   "metadata": {},
   "source": [
    "## Run Some Advanced CUDA Code!\n",
    "We lower overall execution time using async, stream-based memcpy"
   ]
  },
  {
   "cell_type": "markdown",
   "metadata": {},
   "source": [
    "### Show Advanced CUDA Code, Find `Stream`"
   ]
  },
  {
   "cell_type": "code",
   "execution_count": null,
   "metadata": {},
   "outputs": [],
   "source": [
    "%%bash \n",
    "\n",
    "cat /root/src/main/cuda/SumArraysAsyncMemcpy.cu"
   ]
  },
  {
   "cell_type": "markdown",
   "metadata": {},
   "source": [
    "### Run CUDA Code and Verify Expected Output\n",
    "```\n",
    "### EXPECTED OUTPUT ###\n",
    "...\n",
    "*** Awesome!  The GPU summed the arrays!! ***\n",
    "...\n",
    "```\n",
    "_Also, note the lower execution time due to async memcpy._"
   ]
  },
  {
   "cell_type": "code",
   "execution_count": null,
   "metadata": {},
   "outputs": [],
   "source": [
    "%%bash \n",
    "\n",
    "sum_arrays_async_memcpy"
   ]
  },
  {
   "cell_type": "code",
   "execution_count": null,
   "metadata": {},
   "outputs": [],
   "source": [
    "%%bash\n",
    "\n",
    "# Don't go above 10!!\n",
    "for _ in {1..10}\n",
    "do\n",
    "  sum_arrays_async_memcpy > /dev/null 2>&1\n",
    "done\n",
    "\n",
    "echo \"...Done!\""
   ]
  }
 ],
 "metadata": {
  "kernelspec": {
   "display_name": "Python [default]",
   "language": "python",
   "name": "python3"
  },
  "language_info": {
   "codemirror_mode": {
    "name": "ipython",
    "version": 3
   },
   "file_extension": ".py",
   "mimetype": "text/x-python",
   "name": "python",
   "nbconvert_exporter": "python",
   "pygments_lexer": "ipython3",
   "version": "3.5.3"
  }
 },
 "nbformat": 4,
 "nbformat_minor": 2
}
