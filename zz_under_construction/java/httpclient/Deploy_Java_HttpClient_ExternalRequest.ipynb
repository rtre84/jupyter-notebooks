{
 "cells": [
  {
   "cell_type": "code",
   "execution_count": null,
   "metadata": {
    "collapsed": true
   },
   "outputs": [],
   "source": [
    "from urllib import request\n",
    "\n",
    "sourceBytes = '                                                         \\n\\\n",
    "  public Map<String, Object> data = new HashMap<String, Object>();      \\n\\\n",
    "                                                                        \\n\\\n",
    "  public void initialize(Map<String, Object> args) {                    \\n\\\n",
    "    data.put(\"url\", \"http://demo.pipeline.io:9040/prediction/\");        \\n\\\n",
    "  }                                                                     \\n\\\n",
    "                                                                        \\n\\\n",
    "  public Object predict(Map<String, Object> inputs) {                   \\n\\\n",
    "    try {                                                               \\n\\\n",
    "      String userId = (String)inputs.get(\"userId\");                     \\n\\\n",
    "      String itemId = (String)inputs.get(\"itemId\");                     \\n\\\n",
    "      String url = data.get(\"url\") + \"/\" + userId + \"/\" + itemId;       \\n\\\n",
    "                                                                        \\n\\\n",
    "      return org.apache.http.client.fluent.Request                      \\n\\\n",
    "        .Get(url)                                                       \\n\\\n",
    "        .execute()                                                      \\n\\\n",
    "        .returnContent();                                               \\n\\\n",
    "                                                                        \\n\\\n",
    "    } catch(Exception exc) {                                            \\n\\\n",
    "      System.out.println(exc);                                          \\n\\\n",
    "      throw exc;                                                        \\n\\\n",
    "    }                                                                   \\n\\\n",
    "  }                                                                     \\n\\\n",
    "'.encode('utf-8')"
   ]
  },
  {
   "cell_type": "code",
   "execution_count": null,
   "metadata": {
    "collapsed": false,
    "scrolled": false
   },
   "outputs": [],
   "source": [
    "from urllib import request\n",
    "\n",
    "name = 'codegen_httpclient'\n",
    "# Note:  Must have trailing '/'\n",
    "update_url = 'http://<your-ip>:39041/update-codegen/%s/' % name\n",
    "\n",
    "update_headers = {}\n",
    "update_headers['Content-type'] = 'text/plain'\n",
    "\n",
    "req = request.Request(\"%s\" % update_url, headers=update_headers, data=sourceBytes)\n",
    "resp = request.urlopen(req)\n",
    "\n",
    "generated_code = resp.read()\n",
    "print(generated_code.decode('utf-8'))"
   ]
  },
  {
   "cell_type": "code",
   "execution_count": null,
   "metadata": {
    "collapsed": false
   },
   "outputs": [],
   "source": [
    "from urllib import request\n",
    "\n",
    "name = 'codegen_httpclient'\n",
    "# Note:  Must have trailing '/'\n",
    "update_url = 'http://<your-ip>:39041/update-codegen/%s/' % name\n",
    "\n",
    "update_headers = {}\n",
    "update_headers['Content-type'] = 'text/plain'\n",
    "\n",
    "req = request.Request(\"%s\" % update_url, headers=update_headers, data=sourceBytes)\n",
    "resp = request.urlopen(req)\n",
    "\n",
    "generated_code = resp.read()\n",
    "print(generated_code.decode('utf-8'))"
   ]
  },
  {
   "cell_type": "code",
   "execution_count": null,
   "metadata": {
    "collapsed": false
   },
   "outputs": [],
   "source": [
    "from urllib import request\n",
    "\n",
    "name = 'codegen_httpclient'\n",
    "evaluate_url = 'http://<your-ip>:39041/evaluate-codegen/%s' % name\n",
    "\n",
    "evaluate_headers = {}\n",
    "evaluate_headers['Content-type'] = 'application/json'\n",
    "input_params = '{\"userId\":\"21619\", \"itemId\":\"10006\"}' \n",
    "encoded_input_params = input_params.encode('utf-8')\n",
    "\n",
    "req = request.Request(evaluate_url, headers=evaluate_headers, data=encoded_input_params)\n",
    "resp = request.urlopen(req)\n",
    "\n",
    "print(resp.read()) # Should return float"
   ]
  },
  {
   "cell_type": "code",
   "execution_count": null,
   "metadata": {
    "collapsed": false
   },
   "outputs": [],
   "source": [
    "from urllib import request\n",
    "\n",
    "name = 'codegen_httpclient'\n",
    "evaluate_url = 'http://<your-ip>:39041/evaluate-codegen/%s' % name\n",
    "\n",
    "evaluate_headers = {}\n",
    "evaluate_headers['Content-type'] = 'application/json'\n",
    "input_params = '{\"userId\":\"21619\", \"itemId\":\"10006\"}' \n",
    "encoded_input_params = input_params.encode('utf-8')\n",
    "\n",
    "req = request.Request(evaluate_url, headers=evaluate_headers, data=encoded_input_params)\n",
    "resp = request.urlopen(req)\n",
    "\n",
    "print(resp.read()) # Should return float"
   ]
  }
 ],
 "metadata": {
  "anaconda-cloud": {},
  "kernelspec": {
   "display_name": "Python 3",
   "language": "python",
   "name": "python3"
  },
  "language_info": {
   "codemirror_mode": {
    "name": "ipython",
    "version": 3
   },
   "file_extension": ".py",
   "mimetype": "text/x-python",
   "name": "python",
   "nbconvert_exporter": "python",
   "pygments_lexer": "ipython3",
   "version": "3.5.3"
  }
 },
 "nbformat": 4,
 "nbformat_minor": 1
}
