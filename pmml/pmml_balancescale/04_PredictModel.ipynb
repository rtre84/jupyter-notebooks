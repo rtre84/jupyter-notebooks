{
 "cells": [
  {
   "cell_type": "markdown",
   "metadata": {},
   "source": [
    "# Predict with Model"
   ]
  },
  {
   "cell_type": "markdown",
   "metadata": {},
   "source": [
    "## Init Model"
   ]
  },
  {
   "cell_type": "code",
   "execution_count": null,
   "metadata": {},
   "outputs": [],
   "source": [
    "%%bash \n",
    "\n",
    "pio init-model \\\n",
    "  --model-server-url http://prediction-pmml.community.pipeline.io/ \\\n",
    "  --model-type pmml \\\n",
    "  --model-namespace default \\\n",
    "  --model-name pmml_balancescale \\\n",
    "  --model-version v1 \\\n",
    "  --model-path ."
   ]
  },
  {
   "cell_type": "markdown",
   "metadata": {},
   "source": [
    "## Predict with Model (CLI)"
   ]
  },
  {
   "cell_type": "code",
   "execution_count": null,
   "metadata": {},
   "outputs": [],
   "source": [
    "%%bash\n",
    "\n",
    "pio predict \\\n",
    "  --model-test-request-path ./data/test_request.json"
   ]
  },
  {
   "cell_type": "markdown",
   "metadata": {},
   "source": [
    "## Predict Many\n",
    "This is a mini load test to provide instant feedback on relative performance. "
   ]
  },
  {
   "cell_type": "code",
   "execution_count": null,
   "metadata": {},
   "outputs": [],
   "source": [
    "%%bash\n",
    "\n",
    "pio predict_many \\\n",
    "  --model-test-request-path ./data/test_request.json \\\n",
    "  --num-iterations 5"
   ]
  },
  {
   "cell_type": "markdown",
   "metadata": {},
   "source": [
    "### Predict with Model (REST)\n"
   ]
  },
  {
   "cell_type": "code",
   "execution_count": null,
   "metadata": {
    "collapsed": true
   },
   "outputs": [],
   "source": [
    "import requests\n",
    "\n",
    "model_type = 'scikit'\n",
    "model_namespace = 'default'\n",
    "model_name = 'scikit_decisiontree'\n",
    "model_version = 'v1'\n",
    "\n",
    "deploy_url = 'http://prediction-%s.community.pipeline.io/api/v1/model/predict/%s/%s/%s/%s' % (model_type, model_type, model_namespace, model_name, model_version)\n",
    "\n",
    "\n",
    "with open('./data/test_request.json', 'rb') as fh:\n",
    "    model_input_binary = fh.read()\n",
    "\n",
    "response = requests.post(url=deploy_url,\n",
    "                         data=model_input_binary,\n",
    "                         timeout=30)\n",
    "        \n",
    "print(\"Success! %s\" % response.text)"
   ]
  }
 ],
 "metadata": {
  "anaconda-cloud": {},
  "kernelspec": {
   "display_name": "Python [default]",
   "language": "python",
   "name": "python3"
  },
  "language_info": {
   "codemirror_mode": {
    "name": "ipython",
    "version": 3
   },
   "file_extension": ".py",
   "mimetype": "text/x-python",
   "name": "python",
   "nbconvert_exporter": "python",
   "pygments_lexer": "ipython3",
   "version": "3.5.3"
  }
 },
 "nbformat": 4,
 "nbformat_minor": 2
}
