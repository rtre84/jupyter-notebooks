{
 "cells": [
  {
   "cell_type": "markdown",
   "metadata": {},
   "source": [
    "## Train the Model"
   ]
  },
  {
   "cell_type": "code",
   "execution_count": null,
   "metadata": {
    "collapsed": true
   },
   "outputs": [],
   "source": [
    "cat_mean = 0.1\n",
    "cat_stdv = 0.20\n",
    "dog_mean = 0.3\n",
    "dog_stdv = 0.40\n",
    "\n",
    "model = {'cat_mean':cat_mean,\n",
    "         'cat_stdv':cat_stdv,\n",
    "         'dog_mean':dog_mean,\n",
    "         'dog_stdv':dog_stdv}"
   ]
  },
  {
   "cell_type": "code",
   "execution_count": null,
   "metadata": {
    "collapsed": true
   },
   "outputs": [],
   "source": [
    "class PioBundle(object):\n",
    "\n",
    "    def __init__(self,\n",
    "                 model):\n",
    "        self.model = model\n",
    "\n",
    "        \n",
    "    def predict(self,\n",
    "                request):\n",
    "\n",
    "        cat_affinity_score = sum([ d['weight'] * d['user_score'] for d in request if 'cat' in d['tags'] ])\n",
    "        dog_affinity_score = sum([ d['weight'] * d['user_score'] for d in request if 'dog' in d['tags'] ])\n",
    "\n",
    "        # create normalized z score for compare/classify\n",
    "        cat_zscore = (cat_affinity_score - self.model['cat_mean'])/self.model['cat_stdv']\n",
    "        dog_zscore = (dog_affinity_score - self.model['dog_mean'])/self.model['dog_stdv']\n",
    "\n",
    "        # classify\n",
    "        if abs(cat_zscore) > abs(dog_zscore):\n",
    "            if cat_zscore >= 0:\n",
    "                category = \"cat_lover\"\n",
    "            else:\n",
    "                category = \"cat_hater\"\n",
    "        else:\n",
    "            if dog_zscore >= 0:\n",
    "                category = \"dog_lover\"\n",
    "            else:\n",
    "                category = \"dog_hater\"\n",
    "\n",
    "        response = {\n",
    "            'category': category,\n",
    "            'cat_affinity_score': cat_affinity_score,\n",
    "            'dog_affinity_score': dog_affinity_score,\n",
    "            'cat_zscore': cat_zscore,\n",
    "            'cat_zscore': dog_zscore\n",
    "        }\n",
    "\n",
    "        return response\n",
    "\n",
    "\n",
    "    def transform_request(self,\n",
    "                          request):\n",
    "        import json        \n",
    "        request_str = request.decode('utf-8')\n",
    "        request_str = request_str.strip().replace('\\n', ',')\n",
    "        request_dict = json.loads(request_str)\n",
    "        return request_dict\n",
    "    \n",
    "    def transform_response(self,\n",
    "                           response):\n",
    "        import json\n",
    "        response_json = json.dumps(response)\n",
    "        return response_json"
   ]
  },
  {
   "cell_type": "markdown",
   "metadata": {},
   "source": [
    "## Save/Pickle Model as `pio_model.pkl`"
   ]
  },
  {
   "cell_type": "code",
   "execution_count": null,
   "metadata": {
    "collapsed": true
   },
   "outputs": [],
   "source": [
    "import dill as pickle\n",
    "\n",
    "pio_bundle = PioBundle(model)\n",
    "\n",
    "pio_bundle_pkl_path = 'pio_bundle.pkl'\n",
    "\n",
    "with open(pio_bundle_pkl_path, 'wb') as fh:\n",
    "    pickle.dump(pio_bundle, fh)"
   ]
  },
  {
   "cell_type": "code",
   "execution_count": null,
   "metadata": {},
   "outputs": [],
   "source": [
    "%%bash\n",
    "\n",
    "ls -l pio_bundle.pkl"
   ]
  },
  {
   "cell_type": "code",
   "execution_count": null,
   "metadata": {
    "collapsed": true
   },
   "outputs": [],
   "source": []
  }
 ],
 "metadata": {
  "anaconda-cloud": {},
  "kernelspec": {
   "display_name": "Python [default]",
   "language": "python",
   "name": "python3"
  },
  "language_info": {
   "codemirror_mode": {
    "name": "ipython",
    "version": 3
   },
   "file_extension": ".py",
   "mimetype": "text/x-python",
   "name": "python",
   "nbconvert_exporter": "python",
   "pygments_lexer": "ipython3",
   "version": "3.5.3"
  }
 },
 "nbformat": 4,
 "nbformat_minor": 2
}
