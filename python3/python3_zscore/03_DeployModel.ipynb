{
 "cells": [
  {
   "cell_type": "markdown",
   "metadata": {},
   "source": [
    "# Deploy Model"
   ]
  },
  {
   "cell_type": "markdown",
   "metadata": {},
   "source": [
    "## Initialize CLI "
   ]
  },
  {
   "cell_type": "code",
   "execution_count": null,
   "metadata": {},
   "outputs": [],
   "source": [
    "%%bash \n",
    "\n",
    "pio init-model \\\n",
    "  --model-server-url http://prediction-python3.community.pipeline.io \\\n",
    "  --model-type python3 \\\n",
    "  --model-namespace default \\\n",
    "  --model-name python3_zscore \\\n",
    "  --model-version v1 \\\n",
    "  --model-path ."
   ]
  },
  {
   "cell_type": "markdown",
   "metadata": {},
   "source": [
    "## Deploy Model (CLI)"
   ]
  },
  {
   "cell_type": "code",
   "execution_count": null,
   "metadata": {},
   "outputs": [],
   "source": [
    "%%bash\n",
    "\n",
    "pio deploy"
   ]
  },
  {
   "cell_type": "markdown",
   "metadata": {},
   "source": [
    "## TODO: Deploy Model (REST)"
   ]
  },
  {
   "cell_type": "code",
   "execution_count": null,
   "metadata": {
    "collapsed": true
   },
   "outputs": [],
   "source": [
    "# import requests\n",
    "\n",
    "# model_type = 'python3'\n",
    "# model_namespace = 'default'\n",
    "# model_name = 'python3_zscore'\n",
    "# model_version = 'v1'\n",
    "# model_path = '.'\n",
    "\n",
    "# deploy_url = 'http://prediction-%s.community.pipeline.io/api/v1/model/deploy/%s/%s/%s/%s' % (model_type, model_type, model_namespace, model_name, model_version)\n",
    "# print(deploy_url)\n",
    "\n",
    "# compressed_model_bundle_filename = 'bundle-%s-%s-%s-%s.tar.gz' % (model_type, model_namespace, model_name, model_version)\n",
    "\n",
    "# import tarfile\n",
    "# with tarfile.open(compressed_model_bundle_filename, 'w:gz') as tar:\n",
    "#     tar.add(model_path, arcname='.')\n",
    "\n",
    "# model_file = compressed_model_bundle_filename\n",
    "# upload_key = 'file'\n",
    "# upload_value = compressed_model_bundle_filename\n",
    "\n",
    "# #with open('./data/test_request.json', 'rb') as fh:\n",
    "# #    model_input_binary = fh.read()\n",
    "\n",
    "# #response = requests.post(url=deploy_url,\n",
    "# #                         data=model_input_binary,\n",
    "# #                         timeout=30)\n",
    "\n",
    "# with open(model_file, 'rb') as fh:\n",
    "#     files = [(upload_key, (upload_value, fh))]\n",
    "#     print(\"\")\n",
    "#     print(\"Deploying model '%s' to '%s'.\" % (model_file, deploy_url))\n",
    "#     print(\"\")\n",
    "#     headers = {'Accept': 'application/json'}\n",
    "#     try:\n",
    "#         response = requests.post(url=deploy_url,\n",
    "#                                  headers=headers,\n",
    "#                                  files=files,\n",
    "#                                  timeout=600)\n",
    "#         print(\"\")\n",
    "#         print(response)\n",
    "#         print(\"\")\n",
    "#         if response.text:\n",
    "#             print(response.text)\n",
    "#             print(\"\")\n",
    "#             print(\"Success!\")\n",
    "#             print(\"\")\n",
    "#             print(\"Predict with 'pio predict' or POST to '%s'\" % deploy_url.replace('/deploy/','/predict/'))\n",
    "#             print(\"\")\n",
    "#     except IOError as e:\n",
    "#         print(\"Error while deploying model.\\nError: '%s'\" % str(e))\n",
    "#         print(\"\")\n",
    "\n",
    "# if (os.path.isdir(model_path)):\n",
    "#     print(\"\")\n",
    "#     print(\"Cleaning up compressed model bundle '%s'...\" % model_file)\n",
    "#     print(\"\")\n",
    "#     os.remove(model_file)\n",
    "\n",
    "# print(\"Success!\\n\\n%s\" % response.text)"
   ]
  },
  {
   "cell_type": "code",
   "execution_count": null,
   "metadata": {
    "collapsed": true
   },
   "outputs": [],
   "source": []
  }
 ],
 "metadata": {
  "anaconda-cloud": {},
  "kernelspec": {
   "display_name": "Python 3",
   "language": "python",
   "name": "python3"
  },
  "language_info": {
   "codemirror_mode": {
    "name": "ipython",
    "version": 3
   },
   "file_extension": ".py",
   "mimetype": "text/x-python",
   "name": "python",
   "nbconvert_exporter": "python",
   "pygments_lexer": "ipython3",
   "version": "3.5.4"
  }
 },
 "nbformat": 4,
 "nbformat_minor": 2
}
